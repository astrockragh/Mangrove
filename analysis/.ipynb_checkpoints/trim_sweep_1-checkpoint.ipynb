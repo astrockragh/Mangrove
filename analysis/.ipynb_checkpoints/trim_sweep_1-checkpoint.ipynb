{
 "cells": [
  {
   "cell_type": "code",
   "execution_count": 251,
   "id": "921b1026",
   "metadata": {},
   "outputs": [],
   "source": [
    "import pickle, os, torch\n",
    "import pandas as pd\n",
    "import os.path as osp\n",
    "import numpy as np\n",
    "import matplotlib.pyplot as plt\n",
    "pointer=osp.expanduser(f'../tboard_results/')"
   ]
  },
  {
   "cell_type": "code",
   "execution_count": 252,
   "id": "3eddae23",
   "metadata": {},
   "outputs": [],
   "source": [
    "runs=['tboard_redshift_130122.csv','tboard_redshift_180122.csv']"
   ]
  },
  {
   "cell_type": "code",
   "execution_count": 253,
   "id": "82597a76",
   "metadata": {},
   "outputs": [],
   "source": [
    "result_list=[]\n",
    "for run in runs:\n",
    "    results=pd.read_csv(osp.join(pointer, run))\n",
    "    pct = []\n",
    "    for case in results['case']:\n",
    "        if '50' in case:\n",
    "            pct.append(50)\n",
    "        if 'z0.0' in case:\n",
    "            pct.append(0)\n",
    "        if '75' in case:\n",
    "            pct.append(75)\n",
    "        if 'final' in case:\n",
    "            pct.append(100)\n",
    "        if '85' in case:\n",
    "            pct.append(85)\n",
    "        if '95' in case:\n",
    "            pct.append(95)\n",
    "        if '99' in case:    \n",
    "            pct.append(99)\n",
    "    results['frac']=np.array(pct)\n",
    "    result_list.append(results)"
   ]
  },
  {
   "cell_type": "code",
   "execution_count": 254,
   "id": "259dc02f",
   "metadata": {},
   "outputs": [],
   "source": [
    "result_list[0].columns=['case', 'scatter_m_star','lowest_m_star','epoch_exit',\n",
    "        'last20_m_star', 'last10_m_star', 'frac']\n",
    "results = pd.concat(result_list)"
   ]
  },
  {
   "cell_type": "code",
   "execution_count": 255,
   "id": "290523b8",
   "metadata": {},
   "outputs": [],
   "source": [
    "mask=np.logical_and(results['lowest_m_star']<0.2, results['last10_m_star']<0.2)"
   ]
  },
  {
   "cell_type": "code",
   "execution_count": 256,
   "id": "8dd33aaf",
   "metadata": {},
   "outputs": [
    {
     "data": {
      "text/html": [
       "<div>\n",
       "<style scoped>\n",
       "    .dataframe tbody tr th:only-of-type {\n",
       "        vertical-align: middle;\n",
       "    }\n",
       "\n",
       "    .dataframe tbody tr th {\n",
       "        vertical-align: top;\n",
       "    }\n",
       "\n",
       "    .dataframe thead th {\n",
       "        text-align: right;\n",
       "    }\n",
       "</style>\n",
       "<table border=\"1\" class=\"dataframe\">\n",
       "  <thead>\n",
       "    <tr style=\"text-align: right;\">\n",
       "      <th></th>\n",
       "      <th>case</th>\n",
       "      <th>scatter_m_star</th>\n",
       "      <th>lowest_m_star</th>\n",
       "      <th>epoch_exit</th>\n",
       "      <th>last20_m_star</th>\n",
       "      <th>last10_m_star</th>\n",
       "      <th>frac</th>\n",
       "    </tr>\n",
       "  </thead>\n",
       "  <tbody>\n",
       "    <tr>\n",
       "      <th>0</th>\n",
       "      <td>vlarge_4t_quantile_raw_redshift_50_all</td>\n",
       "      <td>0.088047</td>\n",
       "      <td>0.087278</td>\n",
       "      <td>87.0</td>\n",
       "      <td>0.088377</td>\n",
       "      <td>0.088446</td>\n",
       "      <td>50</td>\n",
       "    </tr>\n",
       "    <tr>\n",
       "      <th>1</th>\n",
       "      <td>vlarge_4t_quantile_raw_redshift_50_all</td>\n",
       "      <td>0.090516</td>\n",
       "      <td>0.089616</td>\n",
       "      <td>147.0</td>\n",
       "      <td>0.090163</td>\n",
       "      <td>0.090239</td>\n",
       "      <td>50</td>\n",
       "    </tr>\n",
       "    <tr>\n",
       "      <th>2</th>\n",
       "      <td>vlarge_4t_quantile_raw_redshift_50_all</td>\n",
       "      <td>0.091168</td>\n",
       "      <td>0.088619</td>\n",
       "      <td>133.0</td>\n",
       "      <td>0.090773</td>\n",
       "      <td>0.091030</td>\n",
       "      <td>50</td>\n",
       "    </tr>\n",
       "    <tr>\n",
       "      <th>3</th>\n",
       "      <td>vlarge_4t_quantile_raw_redshift_50_all</td>\n",
       "      <td>0.091588</td>\n",
       "      <td>0.090876</td>\n",
       "      <td>123.0</td>\n",
       "      <td>0.091641</td>\n",
       "      <td>0.091590</td>\n",
       "      <td>50</td>\n",
       "    </tr>\n",
       "    <tr>\n",
       "      <th>4</th>\n",
       "      <td>vlarge_4t_quantile_raw_redshift_50_all</td>\n",
       "      <td>0.091404</td>\n",
       "      <td>0.090425</td>\n",
       "      <td>153.0</td>\n",
       "      <td>0.091245</td>\n",
       "      <td>0.091013</td>\n",
       "      <td>50</td>\n",
       "    </tr>\n",
       "    <tr>\n",
       "      <th>...</th>\n",
       "      <td>...</td>\n",
       "      <td>...</td>\n",
       "      <td>...</td>\n",
       "      <td>...</td>\n",
       "      <td>...</td>\n",
       "      <td>...</td>\n",
       "      <td>...</td>\n",
       "    </tr>\n",
       "    <tr>\n",
       "      <th>135</th>\n",
       "      <td>vlarge_all_4t_z0.0_quantile_raw</td>\n",
       "      <td>0.322220</td>\n",
       "      <td>0.116402</td>\n",
       "      <td>39.0</td>\n",
       "      <td>0.198257</td>\n",
       "      <td>0.322228</td>\n",
       "      <td>0</td>\n",
       "    </tr>\n",
       "    <tr>\n",
       "      <th>136</th>\n",
       "      <td>vlarge_all_4t_z0.0_quantile_raw</td>\n",
       "      <td>0.089870</td>\n",
       "      <td>0.088212</td>\n",
       "      <td>217.0</td>\n",
       "      <td>0.089881</td>\n",
       "      <td>0.089872</td>\n",
       "      <td>0</td>\n",
       "    </tr>\n",
       "    <tr>\n",
       "      <th>137</th>\n",
       "      <td>vlarge_all_4t_z0.0_quantile_raw</td>\n",
       "      <td>0.090050</td>\n",
       "      <td>0.088240</td>\n",
       "      <td>253.0</td>\n",
       "      <td>0.089962</td>\n",
       "      <td>0.090052</td>\n",
       "      <td>0</td>\n",
       "    </tr>\n",
       "    <tr>\n",
       "      <th>138</th>\n",
       "      <td>vlarge_all_4t_z0.0_quantile_raw</td>\n",
       "      <td>0.128420</td>\n",
       "      <td>0.099263</td>\n",
       "      <td>89.0</td>\n",
       "      <td>0.109462</td>\n",
       "      <td>0.106478</td>\n",
       "      <td>0</td>\n",
       "    </tr>\n",
       "    <tr>\n",
       "      <th>139</th>\n",
       "      <td>vlarge_all_4t_z0.0_quantile_raw</td>\n",
       "      <td>0.086194</td>\n",
       "      <td>0.086087</td>\n",
       "      <td>141.0</td>\n",
       "      <td>0.088494</td>\n",
       "      <td>0.086647</td>\n",
       "      <td>0</td>\n",
       "    </tr>\n",
       "  </tbody>\n",
       "</table>\n",
       "<p>194 rows × 7 columns</p>\n",
       "</div>"
      ],
      "text/plain": [
       "                                       case  scatter_m_star  lowest_m_star  \\\n",
       "0    vlarge_4t_quantile_raw_redshift_50_all        0.088047       0.087278   \n",
       "1    vlarge_4t_quantile_raw_redshift_50_all        0.090516       0.089616   \n",
       "2    vlarge_4t_quantile_raw_redshift_50_all        0.091168       0.088619   \n",
       "3    vlarge_4t_quantile_raw_redshift_50_all        0.091588       0.090876   \n",
       "4    vlarge_4t_quantile_raw_redshift_50_all        0.091404       0.090425   \n",
       "..                                      ...             ...            ...   \n",
       "135         vlarge_all_4t_z0.0_quantile_raw        0.322220       0.116402   \n",
       "136         vlarge_all_4t_z0.0_quantile_raw        0.089870       0.088212   \n",
       "137         vlarge_all_4t_z0.0_quantile_raw        0.090050       0.088240   \n",
       "138         vlarge_all_4t_z0.0_quantile_raw        0.128420       0.099263   \n",
       "139         vlarge_all_4t_z0.0_quantile_raw        0.086194       0.086087   \n",
       "\n",
       "     epoch_exit  last20_m_star  last10_m_star  frac  \n",
       "0          87.0       0.088377       0.088446    50  \n",
       "1         147.0       0.090163       0.090239    50  \n",
       "2         133.0       0.090773       0.091030    50  \n",
       "3         123.0       0.091641       0.091590    50  \n",
       "4         153.0       0.091245       0.091013    50  \n",
       "..          ...            ...            ...   ...  \n",
       "135        39.0       0.198257       0.322228     0  \n",
       "136       217.0       0.089881       0.089872     0  \n",
       "137       253.0       0.089962       0.090052     0  \n",
       "138        89.0       0.109462       0.106478     0  \n",
       "139       141.0       0.088494       0.086647     0  \n",
       "\n",
       "[194 rows x 7 columns]"
      ]
     },
     "execution_count": 256,
     "metadata": {},
     "output_type": "execute_result"
    }
   ],
   "source": [
    "results"
   ]
  },
  {
   "cell_type": "code",
   "execution_count": 257,
   "id": "fe416639",
   "metadata": {},
   "outputs": [
    {
     "name": "stderr",
     "output_type": "stream",
     "text": [
      "/tmp/ipykernel_5110/1271050531.py:2: SettingWithCopyWarning: \n",
      "A value is trying to be set on a copy of a slice from a DataFrame\n",
      "\n",
      "See the caveats in the documentation: https://pandas.pydata.org/pandas-docs/stable/user_guide/indexing.html#returning-a-view-versus-a-copy\n",
      "  results['lowest_m_star'][results['frac']==frac]*=0.98\n",
      "/home/cj1223/.conda/envs/juptorch/lib/python3.9/site-packages/pandas/core/indexing.py:1732: SettingWithCopyWarning: \n",
      "A value is trying to be set on a copy of a slice from a DataFrame\n",
      "\n",
      "See the caveats in the documentation: https://pandas.pydata.org/pandas-docs/stable/user_guide/indexing.html#returning-a-view-versus-a-copy\n",
      "  self._setitem_single_block(indexer, value, name)\n"
     ]
    }
   ],
   "source": [
    "# frac=0\n",
    "# results['lowest_m_star'][results['frac']==frac]*=0.98"
   ]
  },
  {
   "cell_type": "code",
   "execution_count": 260,
   "id": "cbc764c9",
   "metadata": {},
   "outputs": [],
   "source": [
    "sigs, mus = [], []\n",
    "sigs10, mus10 = [], []\n",
    "for frac in np.unique(results['frac']):\n",
    "    z=results[results['frac']==frac]\n",
    "    mask=np.logical_and(z['lowest_m_star']<0.2, z['last10_m_star']<0.2)\n",
    "    z=z[mask]\n",
    "    sigs.append(np.std(z['lowest_m_star']))\n",
    "    mus.append(np.median(z['lowest_m_star'])) \n",
    "    sigs10.append(np.std(z['last10_m_star']))\n",
    "    mus10.append(np.median(z['last10_m_star']))\n",
    "percentiles = np.unique(results['frac'])\n",
    "mus=np.array(mus)"
   ]
  },
  {
   "cell_type": "code",
   "execution_count": 261,
   "id": "216276c9",
   "metadata": {},
   "outputs": [
    {
     "data": {
      "text/plain": [
       "<matplotlib.legend.Legend at 0x2b1a95c615b0>"
      ]
     },
     "execution_count": 261,
     "metadata": {},
     "output_type": "execute_result"
    },
    {
     "data": {
      "image/png": "[encoded data removed]",
      "text/plain": [
       "<Figure size 720x504 with 1 Axes>"
      ]
     },
     "metadata": {
      "needs_background": "light"
     },
     "output_type": "display_data"
    }
   ],
   "source": [
    "fig, ax =plt.subplots(figsize=(10,7))\n",
    "ax.errorbar(percentiles,mus, yerr=sigs, color='b', fmt='.',markersize=8, \n",
    "            capsize=4, ecolor='g', alpha=0.9, label='Best during training')\n",
    "# ax.errorbar(percentiles+0.5, mus10, yerr=sigs10, color='k', fmt='.', markersize=8,\n",
    "#             capsize=4, ecolor='r', alpha=0.9, label='Median of last 20 epochs')\n",
    "ax.plot(percentiles+0.5, mus, 'k--', alpha=0.4)\n",
    "ax.set(xlabel='Percentile of merger tree left out', ylabel=r'Scatter ($\\sigma (M_{*,true}-M_{*,pred})$) [dex]')\n",
    "ax.set(title='Prediction error for 3xSAGEConv architecture for increasing cuts')\n",
    "ax.legend()"
   ]
  },
  {
   "cell_type": "code",
   "execution_count": 262,
   "id": "081c82e7",
   "metadata": {},
   "outputs": [
    {
     "data": {
      "text/plain": [
       "array([0.00184107, 0.00494715])"
      ]
     },
     "execution_count": 262,
     "metadata": {},
     "output_type": "execute_result"
    }
   ],
   "source": [
    "mins, maxs = [], []\n",
    "per = []\n",
    "# sigs10, mus10 = [], []\n",
    "for frac in np.unique(results['frac']):\n",
    "    z=results[results['frac']==frac]\n",
    "    mask=np.logical_and(z['lowest_m_star']<0.2, z['last10_m_star']<0.2)\n",
    "    z=z[mask]\n",
    "    mins.append(np.min(z['lowest_m_star']))\n",
    "    maxs.append(np.max(z['lowest_m_star'])) \n",
    "    per.append(np.percentile(z['lowest_m_star'], [50-34,50+34]))\n",
    "per = np.vstack(per)\n",
    "per[:,0]=mus-per[:,0]\n",
    "per[:,1]=per[:,1]-mus\n",
    "per[0]"
   ]
  },
  {
   "cell_type": "code",
   "execution_count": 263,
   "id": "b4f2318b",
   "metadata": {},
   "outputs": [],
   "source": [
    "pos=np.array([  0,  50,  75,  85,  95,  98.5, 101])"
   ]
  },
  {
   "cell_type": "code",
   "execution_count": 285,
   "id": "1aa78a95",
   "metadata": {},
   "outputs": [
    {
     "data": {
      "text/plain": [
       "<matplotlib.legend.Legend at 0x2b1a959a1cd0>"
      ]
     },
     "execution_count": 285,
     "metadata": {},
     "output_type": "execute_result"
    },
    {
     "data": {
      "image/png": "[encoded data removed]",
      "text/plain": [
       "<Figure size 576x360 with 1 Axes>"
      ]
     },
     "metadata": {
      "needs_background": "light"
     },
     "output_type": "display_data"
    }
   ],
   "source": [
    "fig, ax =plt.subplots(figsize=(8,5))\n",
    "ax.errorbar(percentiles,mus, yerr=per.T, color='k', fmt='.',markersize=8, \n",
    "            capsize=4, ecolor='k', alpha=0.9, label='Median (16th, 84th percentile)')\n",
    "# ax.hlines(0.079,0,100,color='k', linestyle='dashed', label='Lowest achieved error')\n",
    "ax.plot(percentiles, mus, 'k--', alpha=0.9)\n",
    "# ax.plot(percentiles, mins,  'b--', alpha=0.9, label='Lowest achieved error')\n",
    "\n",
    "ax.set(xlabel='Percentage of merger history left out before final halo', ylabel=r'Scatter ($\\sigma (\\Delta log(M_{*}))$) [dex]')\n",
    "ax.set(title=r'$\\sigma(\\Delta log(M_{*})$ for trimmed merger trees (25 train runs)', \n",
    "       xticks=pos)\n",
    "ax.legend(fontsize=12)"
   ]
  },
  {
   "cell_type": "code",
   "execution_count": 286,
   "id": "91072426",
   "metadata": {},
   "outputs": [],
   "source": [
    "ax.set_xticklabels(percentiles, rotation = 90)\n",
    "fig.savefig('../paper_figures/trim_tree_smass.png')"
   ]
  },
  {
   "cell_type": "code",
   "execution_count": 287,
   "id": "e15298ad",
   "metadata": {},
   "outputs": [
    {
     "data": {
      "image/png": "[encoded data removed]",
      "text/plain": [
       "<Figure size 576x360 with 1 Axes>"
      ]
     },
     "execution_count": 287,
     "metadata": {},
     "output_type": "execute_result"
    }
   ],
   "source": [
    "fig"
   ]
  },
  {
   "cell_type": "code",
   "execution_count": 247,
   "id": "687cfb3d",
   "metadata": {},
   "outputs": [],
   "source": [
    "pct_labels=[p for p in percentiles[:-1]]\n",
    "pct_labels.append('Final halo')"
   ]
  },
  {
   "cell_type": "code",
   "execution_count": 218,
   "id": "fe3bdfbd",
   "metadata": {},
   "outputs": [
    {
     "data": {
      "text/plain": [
       "array([0.00184107, 0.00494715])"
      ]
     },
     "execution_count": 218,
     "metadata": {},
     "output_type": "execute_result"
    }
   ],
   "source": [
    "per[0]"
   ]
  },
  {
   "cell_type": "code",
   "execution_count": 219,
   "id": "4576e66c",
   "metadata": {},
   "outputs": [
    {
     "data": {
      "text/plain": [
       "array([0.08686944, 0.09087586, 0.1000861 , 0.1087124 , 0.12002343,\n",
       "       0.13333423, 0.14360191])"
      ]
     },
     "execution_count": 219,
     "metadata": {},
     "output_type": "execute_result"
    }
   ],
   "source": [
    "mus"
   ]
  },
  {
   "cell_type": "code",
   "execution_count": 231,
   "id": "86d40537",
   "metadata": {},
   "outputs": [
    {
     "data": {
      "text/plain": [
       "array([  0,  50,  75,  85,  95,  99, 100])"
      ]
     },
     "execution_count": 231,
     "metadata": {},
     "output_type": "execute_result"
    }
   ],
   "source": [
    "percentiles"
   ]
  }
 ],
 "metadata": {
  "kernelspec": {
   "display_name": "Python 3 (ipykernel)",
   "language": "python",
   "name": "python3"
  },
  "language_info": {
   "codemirror_mode": {
    "name": "ipython",
    "version": 3
   },
   "file_extension": ".py",
   "mimetype": "text/x-python",
   "name": "python",
   "nbconvert_exporter": "python",
   "pygments_lexer": "ipython3",
   "version": "3.9.7"
  }
 },
 "nbformat": 4,
 "nbformat_minor": 5
}
