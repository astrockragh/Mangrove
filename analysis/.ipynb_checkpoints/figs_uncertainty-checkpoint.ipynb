{
 "cells": [
  {
   "cell_type": "code",
   "execution_count": null,
   "id": "9288f6aa",
   "metadata": {},
   "outputs": [],
   "source": [
    "import pickle, os, torch\n",
    "import os.path as osp\n",
    "import numpy as np\n",
    "import matplotlib.pyplot as plt\n",
    "import matplotlib as mpl\n",
    "from sklearn.metrics import r2_score\n",
    "from mpl_toolkits.axes_grid1 import make_axes_locatable\n",
    "\n",
    "tcols=[r\"$M_{*}$\", r\"$M_{cold}$\", r\"$Z_{gas}$\", r\"$SFR$\",\n",
    "            r\"$SFR_{100}$\", r\"$M_{BH}$\"]\n",
    "\n",
    "tcols2=[\"M_{*}\", \"M_{cold}\", \"Z_{gas}\", \"SFR\",\n",
    "            \"SFR_{100}\", \"M_{BH}\"]"
   ]
  },
  {
   "cell_type": "code",
   "execution_count": null,
   "id": "f8261af0",
   "metadata": {},
   "outputs": [],
   "source": [
    "from matplotlib.ticker import NullFormatter\n",
    "from scipy import stats\n",
    "from matplotlib.ticker import NullFormatter\n",
    "from scipy import stats\n",
    "\n",
    "def multi_plot(yss, preds, ud = 'up'):\n",
    "    ticks=[[7,8,9,10], [-4,-3,-2,-1,0], [-8,-6,-4,-2,0], [-8,-6,-4,-2,0], [5,6,7,8,9]]\n",
    "    if ud=='up':\n",
    "        j=0\n",
    "        N=2\n",
    "        a, b = 22, 8.5\n",
    "    else:\n",
    "        j=2\n",
    "        N=5\n",
    "        a, b = 22, 5.5\n",
    "    fig, ax = plt.subplots(1, N-j, figsize=(a, b))\n",
    "    ax = ax.flatten()\n",
    "#     target=r\"log($SFR/M_{\\odot}/yr$)\"\n",
    "    targets=[ r\"log($M_{cold}/M_{\\odot}$)\", r\"log($SFR/M_{\\odot}/yr$)\"]\n",
    "    targets=[ r\"log($M_{cold}/M_{\\odot}$)\", r\"$log(Z_{gas})$\", r\"log($SFR/M_{\\odot}/yr$)\",\n",
    "            r\"log($SFR_{100}/M_{\\odot}/yr$)\", r\"log($M_{BH}/M_{\\odot}$)\"]\n",
    "    targets=[ r\"$M_{cold}$\", r\"$Z_{gas}$\", r\"$SFR$\",\n",
    "            r\"$SFR_{100}$\", r\"$M_{BH}$\"]\n",
    "    # target=r\"$v_{disk}$\"\n",
    "    for i in range(j, N):\n",
    "        target=targets[i]\n",
    "        tick = ticks[i]\n",
    "        ys = yss[:,i]\n",
    "        pred = preds[:,i]\n",
    "        nullfmt = NullFormatter()         # no labels\n",
    "        # definitions for the axes\n",
    "        left, width = 0.15, 0.67\n",
    "        bottom, height = 0.0, 0.75\n",
    "        bottom_h = bottom +height\n",
    "        left_h = left + width\n",
    "        # rect_Cbar = [0, bottom, 0.1, height]\n",
    "        rect_scatter = [left, bottom, width, height]\n",
    "        rect_histx = [left, bottom_h, width, 0.15]\n",
    "        rect_histy = [left_h, bottom, 0.15+0.05, height]\n",
    "#             rect_cbar = [left_h+0.15+0.06, bottom, 0.05, height]\n",
    "\n",
    "        # start with a rectangular Figure\n",
    "        ax[i-j].set_axis_off()\n",
    "        # axCbar = plt.axes(rect_Cbar)\n",
    "        axHist = ax[i-j].inset_axes(rect_scatter)\n",
    "        axHistx = ax[i-j].inset_axes(rect_histx)\n",
    "        axHisty = ax[i-j].inset_axes(rect_histy)\n",
    "#             axCbar = ax[i][j].inset_axes(rect_cbar)\n",
    "\n",
    "        # no labels\n",
    "        axHistx.xaxis.set_major_formatter(nullfmt)\n",
    "        axHisty.yaxis.set_major_formatter(nullfmt)\n",
    "        axHistx.yaxis.set_major_formatter(nullfmt)\n",
    "        axHisty.xaxis.set_major_formatter(nullfmt)\n",
    "\n",
    "        bins=50\n",
    "        l=0.0\n",
    "        n_contour=4\n",
    "        # the scatter plot:\n",
    "        vals, x, y, hist =axHist.hist2d( ys, pred,bins=bins, range=[np.percentile(np.hstack([ys,pred]), [0+l,100-l]),\n",
    "                                    np.percentile(np.hstack([ys,pred]), [0+l,100-l])], norm=mpl.colors.LogNorm(), cmap=mpl.cm.viridis)\n",
    "        X, Y = np.meshgrid((x[1:]+x[:-1])/2, (y[1:]+y[:-1])/2)\n",
    "        axHist.contour(X,Y, np.log(vals.T+1), levels=n_contour, colors='white')\n",
    "        axHist.plot([min(ys),max(ys)],[min(ys),max(ys)], 'k--', label='Perfect correspondance')\n",
    "        axHist.set(xlabel=f'SAM {target}',ylabel=f'GNN {target}')\n",
    "        axHist.xaxis.label.set_fontsize(24-j*2)\n",
    "        axHist.yaxis.label.set_fontsize(24-j*2)\n",
    "        \n",
    "        if i==0:\n",
    "            axHist.legend(fontsize=15, loc='upper left')\n",
    "\n",
    "        X, Y = X[0], Y.T[0]\n",
    "        axHist.set_xlim((min(X), max(X)))\n",
    "        axHist.set_ylim((min(Y), max(Y)))\n",
    "        yhat=r'$\\hat{y}$'\n",
    "\n",
    "        #calculate metrics\n",
    "        pct=np.sum(np.abs(ys-pred)<0.2)/len(ys-pred)    \n",
    "        r2=r2_score(ys,pred)\n",
    "        rho = np.corrcoef(ys,pred)[0,1]\n",
    "        print('bias', np.mean(ys-pred))\n",
    "        print('std', np.std(ys-pred))\n",
    "        print('rho', rho)\n",
    "        print('r2', r2)\n",
    "        print('pct',pct)\n",
    "        \n",
    "        xt=0.45\n",
    "        yt=0.2\n",
    "        dy=0.07\n",
    "        font = {'weight': 'normal',\n",
    "            'size': 20 - j*2}\n",
    "        if i==4:\n",
    "            xt=0.1\n",
    "            yt=0.9\n",
    "        axHist.text(xt,yt, f'Bias : {np.mean(ys-pred):.3f} dex', fontdict=font, transform=axHist.transAxes)\n",
    "        axHist.text(xt,yt-dy, r'$\\sigma$ : '+f'{np.std(ys-pred):.3f} dex', fontdict=font, transform=axHist.transAxes)\n",
    "        axHist.text(xt,yt-2*dy, r'Pearson:  '+f'{rho:.3f}', fontdict=font, transform=axHist.transAxes)\n",
    "#             axHist.text(xt,yt-3*dy, r'$R^2$:  '+f'{r2:.3f}', fontdict=font, transform=axHist.transAxes)\n",
    "\n",
    "#             axHist.text(xt,yt-4*dy, '% < 0.2 dex:  '+f'{pct*100:.1f}', fontdict=font, transform=axHist.transAxes)\n",
    "\n",
    "\n",
    "        # axHistx.hist(ys[:,n], bins=bins, histtype='step', density=1)\n",
    "        # axy=axHisty.hist(pred[:,n], bins=bins, histtype='step', density=1, orientation='horizontal')\n",
    "        ys_kde = stats.gaussian_kde(ys, 0.1)\n",
    "        pred_kde = stats.gaussian_kde(pred, 0.1)\n",
    "        axHistx.plot(X, ys_kde(X), 'k--', label=f'SAM')\n",
    "        axHisty.plot(pred_kde(Y), Y, \"k-.\", label=f'GNN')\n",
    "        axHistx.legend(fontsize=15)\n",
    "        axHisty.legend(loc='upper left', bbox_to_anchor=(0.,1.15), fontsize=15)\n",
    "\n",
    "        font = {'family' : 'Serif',\n",
    "                'weight' : 'normal',\n",
    "                'size'   : 20-j}\n",
    "\n",
    "        matplotlib.rc('font', **font)\n",
    "\n",
    "        axHistx.set(title=f'SAM-GNN {target}', )\n",
    "\n",
    "        axHistx.set_xlim(axHist.get_xlim())\n",
    "        axHisty.set_ylim(axHist.get_ylim())\n",
    "        \n",
    "        axHist.set(xticks=tick, yticks=tick)\n",
    "\n",
    "        divider = make_axes_locatable(axHisty)\n",
    "        cax = divider.append_axes(\"right\", size=\"15%\", pad=0.18)\n",
    "        divider = make_axes_locatable(axHist)\n",
    "#             cax = divider.append_axes(\"left\", size=\"15%\", pad=0.18)\n",
    "\n",
    "        # Plot vertical colorbar\n",
    "        plt.colorbar(hist, cax=cax)\n",
    "#             plt.show()\n",
    "#             plt.colorbar(hist, ax=axCbar)\n",
    "\n",
    "#             plt.show()\n",
    "#     fig.tight_layout()\n",
    "#     plt.subplots_adjust(left=None, bottom=None, right=None, top=None, wspace=0.1, hspace=None)\n",
    "    return fig"
   ]
  },
  {
   "cell_type": "code",
   "execution_count": null,
   "id": "2deb0836",
   "metadata": {},
   "outputs": [],
   "source": [
    "# this is the full tree run\n",
    "# folder = 'results_final_Z_270322'\n",
    "# run = 'Sage_vlarge_all_allt_z0.0_quantile_raw_rm_msdgfh_1_2'\n",
    "\n",
    "folder = 'results_final_Z_300322'\n",
    "run = 'Sage_vlarge_all_allt_z0.0_quantile_raw_rm_mllteo'\n",
    "pointer=osp.expanduser(f'~/../../scratch/gpfs/cj1223/GraphResults/{folder}/{run}')    \n",
    "results=pickle.load(open(osp.join(pointer,'result_dict.pkl'), 'rb'))\n",
    "config=pickle.load(open(osp.join(pointer,'construct_dict.pkl'), 'rb'))\n",
    "ys, pred = results['low_ys'], results['low_pred']\n",
    "mstar_ys, mstar_pred = ys[:,0]+9, pred[:,0]+9\n",
    "# mcold_ys, mcold_pred = ys[:,2]+9, pred[:,2]+9\n",
    "\n",
    "Zy, Zpred = ys[:,2]+9, pred[:,2]+9\n",
    "Coldy, Coldpred = ys[:,1]+9, pred[:,1]+9\n",
    "sfr_ys, sfr_pred = ys[:,3], pred[:,3]\n",
    "sfr100_ys, sfr100_pred = ys[:,4], pred[:,4]\n",
    "Mbh_ys, Mbh_pred = ys[:,5]+9, pred[:,5]+9"
   ]
  },
  {
   "cell_type": "code",
   "execution_count": null,
   "id": "49b615a3",
   "metadata": {},
   "outputs": [],
   "source": [
    "Zy-=Coldy\n",
    "Zpred-=Coldpred\n",
    "ys = np.vstack([Coldy, Zy, sfr_ys, sfr100_ys, Mbh_ys]).T\n",
    "pred = np.vstack([ Coldpred, Zpred, sfr_pred, sfr100_pred, Mbh_pred]).T"
   ]
  },
  {
   "cell_type": "code",
   "execution_count": null,
   "id": "8b7e95ce",
   "metadata": {},
   "outputs": [],
   "source": [
    "results=pickle.load(open(osp.join(pointer,'result_dict.pkl'), 'rb'))\n",
    "\n",
    "var = results['vars'].cpu().detach().numpy()\n",
    "\n",
    "var[:,2] = np.sqrt(var[:,2]**2+var[:,1]**2)/2\n",
    "pred = results['pred']\n",
    "pred[:,[0,1,2,5]]+=9\n",
    "pred[:,2]-=pred[:,1]\n",
    "\n",
    "ys = results['ys']\n",
    "ys[:,[0,1,2,5]]+=9\n",
    "ys[:,2]-=ys[:,1]\n",
    "\n",
    "pred"
   ]
  },
  {
   "cell_type": "code",
   "execution_count": null,
   "id": "d378fc42",
   "metadata": {},
   "outputs": [],
   "source": [
    "from scipy.stats import skew, norm\n",
    "l=0.5\n",
    "res = pred-ys\n",
    "for k in range(6):\n",
    "    plt.figure()\n",
    "#     plt.hist((pred[:,k] - np.mean(pred[:,k]))/np.sqrt(var[:,k]), bins=50, range=[-24,24]);\n",
    "\n",
    "    z = (res[:,k] - np.mean(res[:,k]))/np.hypot(var[:,k],0.01)\n",
    "    \n",
    "#     z -=np.mean(z)\n",
    "#     z /=np.std(z)\n",
    "    \n",
    "#     z = (pred[:,k] - np.mean(pred[:,k]))/np.hypot(np.sqrt(var[:,k]),0.005)\n",
    "    r = np.percentile(z, [0+l, 100-l])\n",
    "    r = [-np.sum(abs(r))/2, np.sum(abs(r))/2]\n",
    "    x = np.linspace(r[0], r[1], 100)\n",
    "    plt.plot(x, norm.pdf(x, 0, 1), color='gray', linestyle='dashed', alpha = 0.8)\n",
    "    plt.hist(z, bins=100, histtype='step', range = r, density = 1)\n",
    "\n",
    "    \n",
    "    plt.title(f'{tcols[k]}, {np.mean(z):.2f}, {np.std(z):.2f}, {skew(z):.2f}')"
   ]
  },
  {
   "cell_type": "code",
   "execution_count": null,
   "id": "0ee0a984",
   "metadata": {},
   "outputs": [],
   "source": [
    "from scipy.stats import skew, norm\n",
    "l=0.05\n",
    "for k in range(6):\n",
    "    plt.figure()\n",
    "    \n",
    "    vark = np.log10(var[:,k])\n",
    "    \n",
    "    r = np.percentile(vark, [0+l, 100-l])\n",
    "    r2 = np.percentile(pred[:,k], [0+l, 100-l])\n",
    "    \n",
    "    plt.hist2d(pred[:,k], vark, bins=100, range = [r2, r],norm=mpl.colors.LogNorm())\n",
    "    \n",
    "    plt.title(f'{tcols[k]}, {np.mean(z):.2f}, {np.std(z):.2f}, {skew(z):.2f}')\n",
    "    print(np.corrcoef(pred[:,k], vark)[0,1])"
   ]
  },
  {
   "cell_type": "code",
   "execution_count": null,
   "id": "e7c8d9c5",
   "metadata": {},
   "outputs": [],
   "source": [
    "from scipy.stats import skew, norm, normaltest\n",
    "l = 0.2\n",
    "f = np.sqrt(2)\n",
    "f=1\n",
    "fig, ax = plt.subplots(nrows = 6, ncols = 4, figsize = (16,16))\n",
    "for k in range(6):\n",
    "    \n",
    "    vark = np.log10(var[:,k]*f)\n",
    "    \n",
    "    ax[k][0].hist(vark, bins = 100, histtype = 'step', density = 1)\n",
    "    \n",
    "    \n",
    "    z = (res[:,k] - np.mean(res[:,k]))/np.hypot(var[:,k]*f,0.005)\n",
    "    z = (res[:,k] - np.mean(res[:,k]))/(var[:,k]*f)\n",
    "    \n",
    "    \n",
    "    r0 = np.percentile(z, [0+l, 100-l])\n",
    "    r = [-np.sum(abs(r0))/2, np.sum(abs(r0))/2]\n",
    "    x = np.linspace(r[0], r[1], 100)\n",
    "    ax[k][1].plot(x, norm.pdf(x, 0, 1), color='gray', linestyle='dashed', alpha = 0.8)\n",
    "    ax[k][1].hist(z, bins=100, histtype='step', range = r, density = 1)\n",
    "    \n",
    "    r = np.percentile(vark, [0+l/5, 100-l/5])\n",
    "    r2 = np.percentile(pred[:,k], [0+l/5, 100-l/5])\n",
    "    \n",
    "    ax[k][2].hist2d(pred[:,k], vark, bins=100, range = [r2, r],norm=mpl.colors.LogNorm())\n",
    "    \n",
    "    r2 = np.percentile(res[:,k], [0+l/5, 100-l/5])\n",
    "    ax[k][3].hist2d(res[:,k], vark, bins=100, range = [r2, r],norm=mpl.colors.LogNorm())\n",
    "    \n",
    "    \n",
    "    ax[k][0].set_yticks([])\n",
    "    ax[k][1].set_yticks([])\n",
    "    ax[k][2].set_yticks([])\n",
    "    \n",
    "    ax[k][3].yaxis.tick_right()\n",
    "    \n",
    "    ylim = ax[k][2].get_ylim()\n",
    "    \n",
    "    ax[k][2].set(xlabel = tcols[k], ylim = [ylim[0], ylim[1]+0.35])\n",
    "    ax[k][2].text(0.1, 0.9, r'$\\rho_{Pearson}$: ' + f'{np.corrcoef(pred[:,k], var[:,k])[0][1]:.2f}',\\\n",
    "                  transform = ax[k][2].transAxes, fontsize=14)\n",
    "    \n",
    "    ax[k][3].set(xlabel = tcols[k]+' residual', ylabel = fr'$log10(\\sigma,{tcols2[k]})$')\n",
    "    ax[k][0].set_xlabel(fr'$log10(\\sigma,{tcols2[k]})$')\n",
    "    ax[k][1].set_xlabel(f'{tcols[k]} z-score')\n",
    "    \n",
    "    ax[k][3].yaxis.set_label_position(\"right\")\n",
    "    \n",
    "    mask = np.logical_and(z>r0[0], z<r0[1])\n",
    "    \n",
    "    ax[k][0].text(0.1, 0.75, tcols[k], transform = ax[k][0].transAxes, fontsize=15)\n",
    "    \n",
    "    ax[k][1].text(0.1, 0.75, fr'$\\mu:$ {np.mean(z):.2f}', transform = ax[k][1].transAxes, fontsize=12)\n",
    "#     ax[k][1].text(0.1, 0.65, fr'$\\sigma:$ {np.std(z):.2f}', transform = ax[k][1].transAxes, fontsize=12)\n",
    "    ax[k][1].text(0.1, 0.65, fr'$\\sigma:$ {(np.percentile(z, 84)-np.percentile(z, 16))/2:.2f}', transform = ax[k][1].transAxes, fontsize=12)\n",
    "    ax[k][1].text(0.1, 0.55, fr'$\\chi^2_N:$ {np.sum(z**2)/len(res):.2f}', transform = ax[k][1].transAxes, fontsize=12)\n",
    "    ax[k][1].text(0.1, 0.45, fr'$\\chi^2_N:$ {np.sum(z[mask]**2)/len(res):.2f}', transform = ax[k][1].transAxes, fontsize=12)\n",
    "\n",
    "# #     print(np.sum(res[:,k][mask]**2/(f*var[:,k][mask])**2)/np.sum(mask))\n",
    "# #     print(np.sum(res[:,k]**2/(f*var[:,k])**2)/len(vark))\n",
    "#     print(np.sum(res[:,k]**2/np.hypot(var[:,k], 0.2)**2)/len(vark))\n",
    "#     print(np.sum(z[mask]**2)/np.sum(mask))\n",
    "\n",
    "    print(np.sum(z**2)/len(res))\n",
    "    \n",
    "#     print(np.corrcoef(pred[:,k], vark)[0,1])\n",
    "ax[0][0].set_title('Uncertainty Distribution')\n",
    "ax[0][1].set_title('Pull plot')\n",
    "ax[0][2].set_title(r'Prediction - $log_{10}(\\sigma_{pred})$ relation')\n",
    "ax[0][3].set_title(r'Residual - $log_{10}(\\sigma_{pred})$ relation')\n",
    "\n",
    "fig.tight_layout()\n",
    "\n",
    "fig.savefig('../paper_figures/uncertainty.png', dpi=500)"
   ]
  },
  {
   "cell_type": "code",
   "execution_count": 76,
   "id": "110bae08",
   "metadata": {},
   "outputs": [],
   "source": [
    "zall = (res - np.mean(res, axis=0))/np.hypot(var,0.005)"
   ]
  },
  {
   "cell_type": "code",
   "execution_count": 40,
   "id": "d99b6ffd",
   "metadata": {},
   "outputs": [
    {
     "data": {
      "image/png": "[encoded data removed]",
      "text/plain": [
       "<Figure size 432x288 with 1 Axes>"
      ]
     },
     "metadata": {
      "needs_background": "light"
     },
     "output_type": "display_data"
    }
   ],
   "source": [
    "k = 5\n",
    "plt.plot(zall[:,k]**2/np.sum(zall[:,k]**2), 'ro', markersize = 1);"
   ]
  },
  {
   "cell_type": "code",
   "execution_count": 77,
   "id": "887d5067",
   "metadata": {},
   "outputs": [
    {
     "data": {
      "text/plain": [
       "array([1.0095192, 2.2372937, 2.2333925, 3.0110304, 3.5401213, 1.6345844],\n",
       "      dtype=float32)"
      ]
     },
     "execution_count": 77,
     "metadata": {},
     "output_type": "execute_result"
    }
   ],
   "source": [
    "np.sum(res**2/np.hypot(var, 0.0345)**2, axis=0)/len(res)"
   ]
  },
  {
   "cell_type": "code",
   "execution_count": 79,
   "id": "08ba19ba",
   "metadata": {},
   "outputs": [
    {
     "data": {
      "text/plain": [
       "array([0.2710138 , 0.92348313, 0.7746678 , 1.6146286 , 1.6984941 ,\n",
       "       0.6603908 ], dtype=float32)"
      ]
     },
     "execution_count": 79,
     "metadata": {},
     "output_type": "execute_result"
    }
   ],
   "source": []
  },
  {
   "cell_type": "code",
   "execution_count": 80,
   "id": "6cb4e83e",
   "metadata": {},
   "outputs": [
    {
     "data": {
      "text/plain": [
       "(0.002364874, 4.58967)"
      ]
     },
     "execution_count": 80,
     "metadata": {},
     "output_type": "execute_result"
    },
    {
     "data": {
      "image/png": "[encoded data removed]",
      "text/plain": [
       "<Figure size 432x288 with 1 Axes>"
      ]
     },
     "metadata": {
      "needs_background": "light"
     },
     "output_type": "display_data"
    }
   ],
   "source": [
    "k = 5\n",
    "plt.hist(var[:,k], bins=100);\n",
    "min(var[:,k]),max(var[:,k]) "
   ]
  }
 ],
 "metadata": {
  "kernelspec": {
   "display_name": "Python 3 (ipykernel)",
   "language": "python",
   "name": "python3"
  },
  "language_info": {
   "codemirror_mode": {
    "name": "ipython",
    "version": 3
   },
   "file_extension": ".py",
   "mimetype": "text/x-python",
   "name": "python",
   "nbconvert_exporter": "python",
   "pygments_lexer": "ipython3",
   "version": "3.9.7"
  }
 },
 "nbformat": 4,
 "nbformat_minor": 5
}
