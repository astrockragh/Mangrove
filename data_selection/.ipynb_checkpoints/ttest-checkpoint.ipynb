{
 "cells": [
  {
   "cell_type": "code",
   "execution_count": 1,
   "id": "0541e4ac",
   "metadata": {},
   "outputs": [],
   "source": [
    "import pickle, os, torch\n",
    "import os.path as osp\n",
    "import numpy as np\n",
    "import matplotlib.pyplot as plt\n",
    "import matplotlib as mpl\n",
    "from sklearn.metrics import r2_score\n",
    "import scipy.interpolate as sci\n",
    "from mpl_toolkits.axes_grid1 import make_axes_locatable"
   ]
  },
  {
   "cell_type": "code",
   "execution_count": 18,
   "id": "67d5a70a",
   "metadata": {},
   "outputs": [],
   "source": [
    "folder = 'results_sweep_multi_220122'\n",
    "run='Sage_vlarge_all_4t_z0.0_quantile_raw_xlcqsz'\n",
    "pointer=osp.expanduser(f'~/../../scratch/gpfs/cj1223/GraphResults/{folder}/{run}')    \n",
    "results=pickle.load(open(osp.join(pointer,'result_dict.pkl'), 'rb'))\n",
    "config=pickle.load(open(osp.join(pointer,'construct_dict.pkl'), 'rb'))\n",
    "ys, pred = results['low_ys'], results['low_pred']\n",
    "mstar_ys, mstar_pred = ys[:,0], pred[:,0]\n",
    "mcold_ys, mcold_pred = ys[:,1], pred[:,1]"
   ]
  },
  {
   "cell_type": "code",
   "execution_count": 4,
   "id": "ea1e0275",
   "metadata": {
    "scrolled": true
   },
   "outputs": [
    {
     "data": {
      "text/plain": [
       "['vlarge_all_4t_z1.0_standard_quant',\n",
       " 'vlarge_all_4t_z0.3_quantile_raw',\n",
       " 'vlarge_4t_quantile_raw_redshift_75_all',\n",
       " 'vlarge_all_4t_z1.0_quantile_raw',\n",
       " 'vlarge_all_4t_z0.3_None',\n",
       " 'vlarge_all_4t_z3.0_quantile_raw',\n",
       " 'vlarge_all_4t_z2.0_standard_quant',\n",
       " 'vlarge_all_4t_z0.8_quantile_raw',\n",
       " 'vlarge_all_4t_z2.0_None',\n",
       " 'redshift_scan_0',\n",
       " 'testid_all_4t_z2.0_None',\n",
       " 'vlarge_all_4t_z0.0_quantile_stand',\n",
       " 'vlarge_all_multi_try1',\n",
       " 'vlarge_4t_quantile_raw_redshift_99_all',\n",
       " 'vlarge_all_4t_z2.0_quantile_raw',\n",
       " 'vlarge_all_4t_z0.0_standard_quant',\n",
       " 'vlarge_all_4t_z0.5_quantile_quant',\n",
       " 'vlarge_4t_quantile_raw_redshift_50_all',\n",
       " 'vlarge_all_4t_z2.0_quantile_stand',\n",
       " 'vlarge_all_4t_z1.0_quantile_quant',\n",
       " 'transformers',\n",
       " 'vlarge_all_4t_z0.0_standard_raw',\n",
       " 'vlarge_all_4t_quantile_raw_final',\n",
       " 'vlarge_all_4t_z0.5_standard_stand',\n",
       " 'vlarge_all_4t_z1.8_quantile_raw',\n",
       " 'vlarge_all_4t_z0.5_standard_quant',\n",
       " 'vlarge_all_4t_zall_quantile_raw_trainandtest',\n",
       " 'vlarge_all_4t_z0.0_quantile_raw',\n",
       " 'old',\n",
       " 'vlarge_all_4t_z1.0_None',\n",
       " 'vlarge_all_4t_z1.5_quantile_raw',\n",
       " 'vlarge_all_4t_z1.0_standard_stand',\n",
       " 'vlarge_all_4t_z0.8_None',\n",
       " 'vlarge_all_4t_z1.8_None',\n",
       " 'vlarge_all_4t_z2.0_standard_raw',\n",
       " 'vlarge_4t_quantile_raw_redshift_95_all',\n",
       " 'testid_all_4t_z0.0_None',\n",
       " 'vlarge_all_4t_z3.0_None',\n",
       " 'vlarge_all_4t_z0.5_standard_raw',\n",
       " 'vlarge_all_4t_z1.5_None',\n",
       " 'vlarge_all_4t_z0.0_None',\n",
       " 'vlarge_4t_quantile_raw_redshift_85_all',\n",
       " 'vlarge_all_4t_z0.5_quantile_raw',\n",
       " 'vlarge_all_4t_z1.0_standard_raw',\n",
       " 'vlarge_all_4t_quantile_raw',\n",
       " 'testt_all_4t_z0.0_None',\n",
       " 'vlarge_all_smass',\n",
       " 'vlarge_all_4t_z0.0_quantile_quant',\n",
       " 'vlarge_all_4t_z0.5_quantile_stand',\n",
       " 'vlarge_all_4t_zall_quantile_raw',\n",
       " 'vlarge_all_4t_z0.0_standard_stand',\n",
       " 'vlarge_all_4t_z1.0_quantile_stand',\n",
       " 'vlarge_all_4t_z2.0_quantile_quant',\n",
       " 'vlarge_all_4t_z2.0_standard_stand',\n",
       " 'vlarge_all_4t_z0.5_None']"
      ]
     },
     "execution_count": 4,
     "metadata": {},
     "output_type": "execute_result"
    }
   ],
   "source": [
    "os.listdir(osp.expanduser('~/../../../scratch/gpfs/cj1223/GraphStorage/'))"
   ]
  },
  {
   "cell_type": "code",
   "execution_count": 5,
   "id": "fdb0430b",
   "metadata": {},
   "outputs": [],
   "source": [
    "case='vlarge_all_4t_z0.0_None'\n",
    "case='vlarge_4t_quantile_raw_redshift_95_all'\n",
    "\n",
    "data=pickle.load(open(f'../../../../../scratch/gpfs/cj1223/GraphStorage/{case}/data.pkl', 'rb'))"
   ]
  },
  {
   "cell_type": "code",
   "execution_count": 109,
   "id": "e8475043",
   "metadata": {},
   "outputs": [],
   "source": [
    "ys_tt = []\n",
    "for d in data:\n",
    "    ys_tt.append(d.y.numpy()[[0]])"
   ]
  },
  {
   "cell_type": "code",
   "execution_count": 110,
   "id": "2cc04244",
   "metadata": {},
   "outputs": [],
   "source": [
    "ys_tt = np.vstack(ys_tt)"
   ]
  },
  {
   "cell_type": "code",
   "execution_count": 111,
   "id": "d32cd487",
   "metadata": {},
   "outputs": [
    {
     "data": {
      "text/plain": [
       "21762"
      ]
     },
     "execution_count": 111,
     "metadata": {},
     "output_type": "execute_result"
    }
   ],
   "source": [
    "a=np.isin( ys_tt, mstar_ys, assume_unique=0).flatten()\n",
    "sum(a)-1430"
   ]
  },
  {
   "cell_type": "code",
   "execution_count": 112,
   "id": "4257ded4",
   "metadata": {},
   "outputs": [],
   "source": [
    "u, idx, counts = np.unique(ys_tt[a], return_counts=1, return_index=1)"
   ]
  },
  {
   "cell_type": "code",
   "execution_count": 113,
   "id": "9846be7f",
   "metadata": {},
   "outputs": [
    {
     "data": {
      "text/plain": [
       "array([7586,  251,   60, ..., 5808, 8374, 8484])"
      ]
     },
     "execution_count": 113,
     "metadata": {},
     "output_type": "execute_result"
    }
   ],
   "source": [
    "mask=counts>1\n",
    "idx[mask]"
   ]
  },
  {
   "cell_type": "code",
   "execution_count": 114,
   "id": "48692f3b",
   "metadata": {},
   "outputs": [],
   "source": [
    "testids = np.arange(len(ys_tt))[a][idx]"
   ]
  },
  {
   "cell_type": "code",
   "execution_count": 170,
   "id": "ec6ee9eb",
   "metadata": {},
   "outputs": [
    {
     "data": {
      "text/plain": [
       "0"
      ]
     },
     "execution_count": 170,
     "metadata": {},
     "output_type": "execute_result"
    }
   ],
   "source": [
    "b=np.isin(np.arange(len(ys_tt))[~a], idx)\n",
    "\n",
    "c=np.arange(len(ys_tt))[~a][b]\n",
    "np.random.shuffle(c)\n",
    "testids2 = c[:(len(mstar_ys) - len(testids))]\n",
    "sum(np.isin(testids, testids2))"
   ]
  },
  {
   "cell_type": "code",
   "execution_count": 171,
   "id": "abcc6628",
   "metadata": {},
   "outputs": [
    {
     "data": {
      "text/plain": [
       "array([70746, 66196, 58578, ..., 32099, 89138,     8])"
      ]
     },
     "execution_count": 171,
     "metadata": {},
     "output_type": "execute_result"
    }
   ],
   "source": [
    "testids"
   ]
  },
  {
   "cell_type": "code",
   "execution_count": 175,
   "id": "9a4a3d79",
   "metadata": {},
   "outputs": [],
   "source": [
    "testidx=np.hstack([testids2, testids])"
   ]
  },
  {
   "cell_type": "code",
   "execution_count": 182,
   "id": "321e87a6",
   "metadata": {},
   "outputs": [],
   "source": [
    "trainmask = np.isin(np.arange(len(ys_tt)), testidx)\n",
    "trainidx = np.arange(len(ys_tt))[~trainmask]"
   ]
  },
  {
   "cell_type": "code",
   "execution_count": 185,
   "id": "e22d91db",
   "metadata": {},
   "outputs": [
    {
     "data": {
      "text/plain": [
       "(array([2.0000e+00, 5.0000e+00, 3.0000e+00, 3.7000e+01, 4.4620e+03,\n",
       "        4.5273e+04, 2.3776e+04, 8.3570e+03, 3.7750e+03, 1.3560e+03]),\n",
       " array([-7.036896  , -6.077267  , -5.117638  , -4.158009  , -3.19838   ,\n",
       "        -2.238751  , -1.2791219 , -0.31949282,  0.64013624,  1.5997653 ,\n",
       "         2.5593944 ], dtype=float32),\n",
       " <BarContainer object of 10 artists>)"
      ]
     },
     "execution_count": 185,
     "metadata": {},
     "output_type": "execute_result"
    },
    {
     "data": {
      "image/png": "[encoded data removed]",
      "text/plain": [
       "<Figure size 432x288 with 1 Axes>"
      ]
     },
     "metadata": {
      "needs_background": "light"
     },
     "output_type": "display_data"
    }
   ],
   "source": [
    "plt.hist(ys_tt[trainidx])"
   ]
  },
  {
   "cell_type": "code",
   "execution_count": 187,
   "id": "8ce3e67d",
   "metadata": {},
   "outputs": [],
   "source": [
    "train_ys=ys_tt[trainidx]\n",
    "test_ys=ys_tt[testidx]"
   ]
  },
  {
   "cell_type": "code",
   "execution_count": 190,
   "id": "d2d27c29",
   "metadata": {},
   "outputs": [
    {
     "data": {
      "image/png": "[encoded data removed]",
      "text/plain": [
       "<Figure size 432x288 with 1 Axes>"
      ]
     },
     "metadata": {
      "needs_background": "light"
     },
     "output_type": "display_data"
    }
   ],
   "source": [
    "plt.hist(train_ys, density=1, bins=100, histtype='step')\n",
    "plt.hist(test_ys, density=1, bins=100, histtype='step');"
   ]
  },
  {
   "cell_type": "code",
   "execution_count": 192,
   "id": "947891af",
   "metadata": {},
   "outputs": [
    {
     "data": {
      "text/plain": [
       "(array([-7.036896], dtype=float32),\n",
       " array([-4.2268934], dtype=float32),\n",
       " array([2.5593944], dtype=float32),\n",
       " array([2.524758], dtype=float32))"
      ]
     },
     "execution_count": 192,
     "metadata": {},
     "output_type": "execute_result"
    }
   ],
   "source": [
    "min(train_ys), min(test_ys), max(train_ys), max(test_ys)"
   ]
  },
  {
   "cell_type": "code",
   "execution_count": 201,
   "id": "0d6fa9d3",
   "metadata": {},
   "outputs": [],
   "source": [
    "trainmask=np.isin(np.arange(len(ys_tt)), trainidx)"
   ]
  },
  {
   "cell_type": "code",
   "execution_count": 197,
   "id": "20090ca1",
   "metadata": {},
   "outputs": [
    {
     "data": {
      "text/plain": [
       "array([-2.81000280e+00,  7.02047348e-04,  2.91132927e-03,  2.06902027e-03,\n",
       "       -1.19400024e-03, -9.99569893e-04, -2.22299099e-03, -7.57001042e-03,\n",
       "       -2.06275582e-02, -4.68945190e-02,  3.46362591e-02])"
      ]
     },
     "execution_count": 197,
     "metadata": {},
     "output_type": "execute_result"
    }
   ],
   "source": [
    "np.percentile(train_ys, np.arange(0,110,10))-np.percentile(test_ys, np.arange(0,110,10))"
   ]
  },
  {
   "cell_type": "code",
   "execution_count": 208,
   "id": "4c39bc0b",
   "metadata": {},
   "outputs": [],
   "source": [
    "os.mkdir(osp.expanduser(f'~/../../scratch/gpfs/cj1223/GraphStorage/tvt_idx/'))\n",
    "\n",
    "with open(osp.expanduser(f'~/../../scratch/gpfs/cj1223/GraphStorage/tvt_idx/train_idx.pkl'), 'wb') as handle:\n",
    "    pickle.dump(trainidx, handle)\n",
    "with open(osp.expanduser(f'~/../../scratch/gpfs/cj1223/GraphStorage/tvt_idx/test_idx.pkl'), 'wb') as handle:\n",
    "    pickle.dump(testidx, handle)"
   ]
  },
  {
   "cell_type": "code",
   "execution_count": 210,
   "id": "60e6bd50",
   "metadata": {},
   "outputs": [
    {
     "data": {
      "text/plain": [
       "(21762, 87046)"
      ]
     },
     "execution_count": 210,
     "metadata": {},
     "output_type": "execute_result"
    }
   ],
   "source": [
    "len(testidx), len(trainidx)"
   ]
  },
  {
   "cell_type": "code",
   "execution_count": null,
   "id": "faff9d61",
   "metadata": {},
   "outputs": [],
   "source": [
    "pickle.load(open(f'../../../../../scratch/gpfs/cj1223/GraphStorage/{case}/data.pkl', 'rb'))"
   ]
  }
 ],
 "metadata": {
  "kernelspec": {
   "display_name": "Python 3 (ipykernel)",
   "language": "python",
   "name": "python3"
  },
  "language_info": {
   "codemirror_mode": {
    "name": "ipython",
    "version": 3
   },
   "file_extension": ".py",
   "mimetype": "text/x-python",
   "name": "python",
   "nbconvert_exporter": "python",
   "pygments_lexer": "ipython3",
   "version": "3.9.7"
  }
 },
 "nbformat": 4,
 "nbformat_minor": 5
}
