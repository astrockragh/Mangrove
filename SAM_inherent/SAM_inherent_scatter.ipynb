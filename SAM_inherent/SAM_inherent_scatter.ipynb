{
 "cells": [
  {
   "cell_type": "code",
   "execution_count": 38,
   "id": "62c1264d",
   "metadata": {},
   "outputs": [],
   "source": [
    "import torch, time, pickle,os\n",
    "import torch_geometric as tg\n",
    "from torch_geometric.data import Data\n",
    "import numpy as np\n",
    "import matplotlib.pyplot as plt\n",
    "import pandas as pd\n",
    "from tqdm import tqdm\n",
    "import os.path as osp\n",
    "import networkx as nx\n",
    "from sklearn.metrics import r2_score\n",
    "path=osp.expanduser('~/../../tigress/cj1223/SAM_runs')\n",
    "\n",
    "log = np.array([2, 5,  6,  7,  8,  9, 10, 11, 12, 13, 14, 15, 16, 17, 18, 19, 20, 21,\n",
    "       22, 23, 24, 25, 26, 27, 29])\n",
    "\n",
    "targets = np.array([8,15,20,21,23,27])"
   ]
  },
  {
   "cell_type": "code",
   "execution_count": 2,
   "id": "c55cd01b",
   "metadata": {},
   "outputs": [
    {
     "data": {
      "text/plain": [
       "['run_3',\n",
       " 'run_2',\n",
       " 'run_5',\n",
       " 'run_4',\n",
       " 'run_8',\n",
       " 'run_10',\n",
       " 'run_7',\n",
       " 'fiducial',\n",
       " 'run_6',\n",
       " 'run_1',\n",
       " 'run_9']"
      ]
     },
     "execution_count": 2,
     "metadata": {},
     "output_type": "execute_result"
    }
   ],
   "source": [
    "runs=os.listdir(path)\n",
    "runs"
   ]
  },
  {
   "cell_type": "code",
   "execution_count": 89,
   "id": "49d7590b",
   "metadata": {},
   "outputs": [
    {
     "name": "stderr",
     "output_type": "stream",
     "text": [
      "  0%|                                                                        | 0/11 [00:00<?, ?it/s]\n",
      "  0%|                                                                         | 0/5 [00:00<?, ?it/s]\u001b[A\n",
      " 20%|█████████████                                                    | 1/5 [00:02<00:11,  2.91s/it]\u001b[A\n",
      " 40%|██████████████████████████                                       | 2/5 [00:05<00:08,  2.67s/it]\u001b[A\n",
      " 60%|███████████████████████████████████████                          | 3/5 [00:07<00:05,  2.54s/it]\u001b[A\n",
      " 80%|████████████████████████████████████████████████████             | 4/5 [00:09<00:02,  2.26s/it]\u001b[A\n",
      "100%|█████████████████████████████████████████████████████████████████| 5/5 [00:11<00:00,  2.33s/it]\u001b[A\n",
      "/home/cj1223/.conda/envs/juptorch/lib/python3.9/site-packages/pandas/core/internals/blocks.py:402: RuntimeWarning: divide by zero encountered in log10\n",
      "  result = func(self.values, **kwargs)\n",
      "  9%|█████▊                                                          | 1/11 [00:11<01:58, 11.90s/it]\n",
      "  0%|                                                                         | 0/5 [00:00<?, ?it/s]\u001b[A\n",
      " 20%|█████████████                                                    | 1/5 [00:02<00:11,  2.87s/it]\u001b[A\n",
      " 40%|██████████████████████████                                       | 2/5 [00:05<00:07,  2.63s/it]\u001b[A\n",
      " 60%|███████████████████████████████████████                          | 3/5 [00:07<00:04,  2.31s/it]\u001b[A\n",
      " 80%|████████████████████████████████████████████████████             | 4/5 [00:09<00:02,  2.30s/it]\u001b[A\n",
      "100%|█████████████████████████████████████████████████████████████████| 5/5 [00:11<00:00,  2.39s/it]\u001b[A\n",
      "/home/cj1223/.conda/envs/juptorch/lib/python3.9/site-packages/pandas/core/internals/blocks.py:402: RuntimeWarning: divide by zero encountered in log10\n",
      "  result = func(self.values, **kwargs)\n",
      " 18%|███████████▋                                                    | 2/11 [00:24<01:48, 12.09s/it]\n",
      "  0%|                                                                         | 0/5 [00:00<?, ?it/s]\u001b[A\n",
      " 20%|█████████████                                                    | 1/5 [00:02<00:09,  2.40s/it]\u001b[A\n",
      " 40%|██████████████████████████                                       | 2/5 [00:04<00:07,  2.40s/it]\u001b[A\n",
      " 60%|███████████████████████████████████████                          | 3/5 [00:06<00:04,  2.18s/it]\u001b[A\n",
      " 80%|████████████████████████████████████████████████████             | 4/5 [00:08<00:02,  2.03s/it]\u001b[A\n",
      "100%|█████████████████████████████████████████████████████████████████| 5/5 [00:10<00:00,  2.09s/it]\u001b[A\n",
      "/home/cj1223/.conda/envs/juptorch/lib/python3.9/site-packages/pandas/core/internals/blocks.py:402: RuntimeWarning: divide by zero encountered in log10\n",
      "  result = func(self.values, **kwargs)\n",
      " 27%|█████████████████▍                                              | 3/11 [00:34<01:31, 11.46s/it]\n",
      "  0%|                                                                         | 0/5 [00:00<?, ?it/s]\u001b[A\n",
      " 20%|█████████████                                                    | 1/5 [00:02<00:09,  2.40s/it]\u001b[A\n",
      " 40%|██████████████████████████                                       | 2/5 [00:04<00:07,  2.44s/it]\u001b[A\n",
      " 60%|███████████████████████████████████████                          | 3/5 [00:06<00:04,  2.22s/it]\u001b[A\n",
      " 80%|████████████████████████████████████████████████████             | 4/5 [00:08<00:02,  2.07s/it]\u001b[A\n",
      "100%|█████████████████████████████████████████████████████████████████| 5/5 [00:11<00:00,  2.22s/it]\u001b[A\n",
      "/home/cj1223/.conda/envs/juptorch/lib/python3.9/site-packages/pandas/core/internals/blocks.py:402: RuntimeWarning: divide by zero encountered in log10\n",
      "  result = func(self.values, **kwargs)\n",
      " 36%|███████████████████████▎                                        | 4/11 [00:46<01:19, 11.41s/it]\n",
      "  0%|                                                                         | 0/5 [00:00<?, ?it/s]\u001b[A\n",
      " 20%|█████████████                                                    | 1/5 [00:02<00:09,  2.42s/it]\u001b[A\n",
      " 40%|██████████████████████████                                       | 2/5 [00:05<00:08,  2.69s/it]\u001b[A\n",
      " 60%|███████████████████████████████████████                          | 3/5 [00:07<00:05,  2.53s/it]\u001b[A\n",
      " 80%|████████████████████████████████████████████████████             | 4/5 [00:09<00:02,  2.26s/it]\u001b[A\n",
      "100%|█████████████████████████████████████████████████████████████████| 5/5 [00:11<00:00,  2.30s/it]\u001b[A\n",
      "/home/cj1223/.conda/envs/juptorch/lib/python3.9/site-packages/pandas/core/internals/blocks.py:402: RuntimeWarning: divide by zero encountered in log10\n",
      "  result = func(self.values, **kwargs)\n",
      " 45%|█████████████████████████████                                   | 5/11 [00:57<01:09, 11.55s/it]\n",
      "  0%|                                                                         | 0/5 [00:00<?, ?it/s]\u001b[A\n",
      " 20%|█████████████                                                    | 1/5 [00:03<00:14,  3.61s/it]\u001b[A\n",
      " 40%|██████████████████████████                                       | 2/5 [00:06<00:09,  3.19s/it]\u001b[A\n",
      " 60%|███████████████████████████████████████                          | 3/5 [00:08<00:05,  2.62s/it]\u001b[A\n",
      " 80%|████████████████████████████████████████████████████             | 4/5 [00:10<00:02,  2.30s/it]\u001b[A\n",
      "100%|█████████████████████████████████████████████████████████████████| 5/5 [00:12<00:00,  2.54s/it]\u001b[A\n",
      "/home/cj1223/.conda/envs/juptorch/lib/python3.9/site-packages/pandas/core/internals/blocks.py:402: RuntimeWarning: divide by zero encountered in log10\n",
      "  result = func(self.values, **kwargs)\n",
      " 55%|██████████████████████████████████▉                             | 6/11 [01:10<01:00, 12.04s/it]\n",
      "  0%|                                                                         | 0/5 [00:00<?, ?it/s]\u001b[A\n",
      " 20%|█████████████                                                    | 1/5 [00:02<00:11,  2.79s/it]\u001b[A\n",
      " 40%|██████████████████████████                                       | 2/5 [00:05<00:08,  2.68s/it]\u001b[A\n",
      " 60%|███████████████████████████████████████                          | 3/5 [00:07<00:04,  2.35s/it]\u001b[A\n",
      " 80%|████████████████████████████████████████████████████             | 4/5 [00:09<00:02,  2.13s/it]\u001b[A\n",
      "100%|█████████████████████████████████████████████████████████████████| 5/5 [00:11<00:00,  2.22s/it]\u001b[A\n",
      "/home/cj1223/.conda/envs/juptorch/lib/python3.9/site-packages/pandas/core/internals/blocks.py:402: RuntimeWarning: divide by zero encountered in log10\n",
      "  result = func(self.values, **kwargs)\n",
      " 64%|████████████████████████████████████████▋                       | 7/11 [01:22<00:47, 11.81s/it]\n",
      "  0%|                                                                         | 0/5 [00:00<?, ?it/s]\u001b[A\n",
      " 20%|█████████████                                                    | 1/5 [00:02<00:11,  2.82s/it]\u001b[A\n",
      " 40%|██████████████████████████                                       | 2/5 [00:05<00:07,  2.59s/it]\u001b[A\n",
      " 60%|███████████████████████████████████████                          | 3/5 [00:08<00:05,  2.70s/it]\u001b[A\n",
      " 80%|████████████████████████████████████████████████████             | 4/5 [00:10<00:02,  2.54s/it]\u001b[A\n",
      "100%|█████████████████████████████████████████████████████████████████| 5/5 [00:12<00:00,  2.46s/it]\u001b[A\n",
      "/home/cj1223/.conda/envs/juptorch/lib/python3.9/site-packages/pandas/core/internals/blocks.py:402: RuntimeWarning: divide by zero encountered in log10\n",
      "  result = func(self.values, **kwargs)\n",
      " 73%|██████████████████████████████████████████████▌                 | 8/11 [01:34<00:36, 12.06s/it]\n",
      "  0%|                                                                         | 0/5 [00:00<?, ?it/s]\u001b[A\n",
      " 20%|█████████████                                                    | 1/5 [00:03<00:12,  3.07s/it]\u001b[A\n",
      " 40%|██████████████████████████                                       | 2/5 [00:05<00:08,  2.70s/it]\u001b[A\n",
      " 60%|███████████████████████████████████████                          | 3/5 [00:07<00:04,  2.36s/it]\u001b[A\n",
      " 80%|████████████████████████████████████████████████████             | 4/5 [00:09<00:02,  2.14s/it]\u001b[A\n",
      "100%|█████████████████████████████████████████████████████████████████| 5/5 [00:11<00:00,  2.25s/it]\u001b[A\n",
      "/home/cj1223/.conda/envs/juptorch/lib/python3.9/site-packages/pandas/core/internals/blocks.py:402: RuntimeWarning: divide by zero encountered in log10\n",
      "  result = func(self.values, **kwargs)\n"
     ]
    },
    {
     "name": "stderr",
     "output_type": "stream",
     "text": [
      " 82%|████████████████████████████████████████████████████▎           | 9/11 [01:46<00:23, 11.89s/it]\n",
      "  0%|                                                                         | 0/5 [00:00<?, ?it/s]\u001b[A\n",
      " 20%|█████████████                                                    | 1/5 [00:02<00:09,  2.37s/it]\u001b[A\n",
      " 40%|██████████████████████████                                       | 2/5 [00:05<00:08,  2.94s/it]\u001b[A\n",
      " 60%|███████████████████████████████████████                          | 3/5 [00:07<00:04,  2.46s/it]\u001b[A\n",
      " 80%|████████████████████████████████████████████████████             | 4/5 [00:09<00:02,  2.20s/it]\u001b[A\n",
      "100%|█████████████████████████████████████████████████████████████████| 5/5 [00:11<00:00,  2.28s/it]\u001b[A\n",
      "/home/cj1223/.conda/envs/juptorch/lib/python3.9/site-packages/pandas/core/internals/blocks.py:402: RuntimeWarning: divide by zero encountered in log10\n",
      "  result = func(self.values, **kwargs)\n",
      " 91%|█████████████████████████████████████████████████████████▎     | 10/11 [01:58<00:11, 11.82s/it]\n",
      "  0%|                                                                         | 0/5 [00:00<?, ?it/s]\u001b[A\n",
      " 20%|█████████████                                                    | 1/5 [00:02<00:09,  2.41s/it]\u001b[A\n",
      " 40%|██████████████████████████                                       | 2/5 [00:04<00:07,  2.42s/it]\u001b[A\n",
      " 60%|███████████████████████████████████████                          | 3/5 [00:07<00:05,  2.57s/it]\u001b[A\n",
      " 80%|████████████████████████████████████████████████████             | 4/5 [00:09<00:02,  2.43s/it]\u001b[A\n",
      "100%|█████████████████████████████████████████████████████████████████| 5/5 [00:11<00:00,  2.35s/it]\u001b[A\n",
      "/home/cj1223/.conda/envs/juptorch/lib/python3.9/site-packages/pandas/core/internals/blocks.py:402: RuntimeWarning: divide by zero encountered in log10\n",
      "  result = func(self.values, **kwargs)\n",
      "100%|███████████████████████████████████████████████████████████████| 11/11 [02:10<00:00, 11.83s/it]\n"
     ]
    }
   ],
   "source": [
    "dfs = []\n",
    "# runs=['run_2', 'run_6', 'run_7']\n",
    "for run in tqdm(runs, total=len(runs)):\n",
    "# run=runs[0]\n",
    "    dat = []\n",
    "    for i in tqdm(range(5)):\n",
    "        for j in range(5):\n",
    "            for k in range(5):\n",
    "                ex = f'{i}_{j}_{k}/galprop_99-99.dat'\n",
    "                tpath = osp.join(path,run)\n",
    "                tpath = osp.join(tpath,ex)\n",
    "                pdc=pd.read_table(tpath, skiprows=0, delimiter=',', nrows=41, header=None)\n",
    "                newcols=pdc.iloc[:,0]\n",
    "                pds=pd.read_table(tpath, skiprows=41, delimiter='\\s+', header=None)\n",
    "                pds.columns=np.array(newcols)\n",
    "                mask = np.logical_and(pds[newcols[5]]>10**(10-9), pds[newcols[5]]<10**(13.5-9), pds[newcols[8]]>10**(5.46-9))\n",
    "                mask = np.logical_and(mask, pds[newcols[4]]==0, pds[newcols[15]]>6.92)\n",
    "                pdhalo=pds[mask]\n",
    "                dat.append(pdhalo)\n",
    "    df = pd.concat(dat)\n",
    "    df = np.log10(df[newcols[log]])\n",
    "    df.replace([np.inf, -np.inf], np.nan, inplace=True)\n",
    "    df = df.dropna(axis=0)\n",
    "#     dfdf[newcols[targets]]\n",
    "    dfs.append(df)"
   ]
  },
  {
   "cell_type": "code",
   "execution_count": 90,
   "id": "0514c5d4",
   "metadata": {},
   "outputs": [],
   "source": [
    "ids = np.hstack([10**d[newcols[2]] for d in dfs])\n",
    "vals, counts = np.unique(ids, return_counts = True)"
   ]
  },
  {
   "cell_type": "code",
   "execution_count": 91,
   "id": "b1ca62fb",
   "metadata": {},
   "outputs": [
    {
     "data": {
      "text/plain": [
       "(156279, 156279)"
      ]
     },
     "execution_count": 91,
     "metadata": {},
     "output_type": "execute_result"
    }
   ],
   "source": [
    "mask=counts==len(dfs)\n",
    "len(vals[mask]), sum(mask)"
   ]
  },
  {
   "cell_type": "code",
   "execution_count": 92,
   "id": "6bfc148f",
   "metadata": {},
   "outputs": [],
   "source": [
    "all_vals=vals[mask]\n",
    "DFs = []\n",
    "for df in dfs:\n",
    "    mask = np.isin(10**df[newcols[2]], all_vals)\n",
    "    d = df[mask].reset_index()\n",
    "    d[newcols[20]]-=d[newcols[15]]\n",
    "    DFs.append(d)"
   ]
  },
  {
   "cell_type": "code",
   "execution_count": 93,
   "id": "0c0bb2a8",
   "metadata": {
    "scrolled": false
   },
   "outputs": [
    {
     "name": "stdout",
     "output_type": "stream",
     "text": [
      "156279\n",
      "156279\n",
      "156279\n",
      "156279\n",
      "156279\n",
      "156279\n",
      "156279\n",
      "156279\n",
      "156279\n",
      "156279\n",
      "156279\n"
     ]
    }
   ],
   "source": [
    "for df in DFs:\n",
    "    print(len(df))"
   ]
  },
  {
   "cell_type": "code",
   "execution_count": 94,
   "id": "26e16b33",
   "metadata": {},
   "outputs": [
    {
     "data": {
      "text/html": [
       "<div>\n",
       "<style scoped>\n",
       "    .dataframe tbody tr th:only-of-type {\n",
       "        vertical-align: middle;\n",
       "    }\n",
       "\n",
       "    .dataframe tbody tr th {\n",
       "        vertical-align: top;\n",
       "    }\n",
       "\n",
       "    .dataframe thead th {\n",
       "        text-align: right;\n",
       "    }\n",
       "</style>\n",
       "<table border=\"1\" class=\"dataframe\">\n",
       "  <thead>\n",
       "    <tr style=\"text-align: right;\">\n",
       "      <th></th>\n",
       "      <th># 8 mstar stellar mass [1.0E09 Msun]</th>\n",
       "      <th># 15 mcold cold gas mass in disk [1.0E09 Msun]</th>\n",
       "      <th># 20 Metal_cold metal mass in cold gas [Zsun*Msun]</th>\n",
       "      <th># 21 sfr instantaneous SFR [Msun/yr]</th>\n",
       "      <th># 23 sfrave100myr SFR averaged over 100 Myr [Msun/yr]</th>\n",
       "      <th># 27 mBH black hole mass [1.0E09 Msun]</th>\n",
       "    </tr>\n",
       "  </thead>\n",
       "  <tbody>\n",
       "    <tr>\n",
       "      <th>0</th>\n",
       "      <td>-0.003588</td>\n",
       "      <td>0.002421</td>\n",
       "      <td>-0.005259</td>\n",
       "      <td>-0.001465</td>\n",
       "      <td>-0.002548</td>\n",
       "      <td>0.034686</td>\n",
       "    </tr>\n",
       "    <tr>\n",
       "      <th>1</th>\n",
       "      <td>0.001240</td>\n",
       "      <td>-0.003021</td>\n",
       "      <td>-0.000439</td>\n",
       "      <td>-0.006457</td>\n",
       "      <td>-0.006681</td>\n",
       "      <td>0.000039</td>\n",
       "    </tr>\n",
       "    <tr>\n",
       "      <th>2</th>\n",
       "      <td>-0.004178</td>\n",
       "      <td>0.001877</td>\n",
       "      <td>0.010881</td>\n",
       "      <td>-0.009047</td>\n",
       "      <td>-0.009593</td>\n",
       "      <td>-0.066785</td>\n",
       "    </tr>\n",
       "    <tr>\n",
       "      <th>3</th>\n",
       "      <td>0.001012</td>\n",
       "      <td>0.011145</td>\n",
       "      <td>-0.009012</td>\n",
       "      <td>0.017582</td>\n",
       "      <td>0.017713</td>\n",
       "      <td>0.342194</td>\n",
       "    </tr>\n",
       "    <tr>\n",
       "      <th>4</th>\n",
       "      <td>0.003068</td>\n",
       "      <td>-0.002029</td>\n",
       "      <td>0.003001</td>\n",
       "      <td>-0.000557</td>\n",
       "      <td>-0.000547</td>\n",
       "      <td>-0.066939</td>\n",
       "    </tr>\n",
       "    <tr>\n",
       "      <th>...</th>\n",
       "      <td>...</td>\n",
       "      <td>...</td>\n",
       "      <td>...</td>\n",
       "      <td>...</td>\n",
       "      <td>...</td>\n",
       "      <td>...</td>\n",
       "    </tr>\n",
       "    <tr>\n",
       "      <th>156274</th>\n",
       "      <td>0.000130</td>\n",
       "      <td>-0.000052</td>\n",
       "      <td>0.000021</td>\n",
       "      <td>-0.000073</td>\n",
       "      <td>-0.000070</td>\n",
       "      <td>0.000056</td>\n",
       "    </tr>\n",
       "    <tr>\n",
       "      <th>156275</th>\n",
       "      <td>0.000197</td>\n",
       "      <td>-0.000065</td>\n",
       "      <td>0.000659</td>\n",
       "      <td>0.000833</td>\n",
       "      <td>0.000837</td>\n",
       "      <td>-0.000035</td>\n",
       "    </tr>\n",
       "    <tr>\n",
       "      <th>156276</th>\n",
       "      <td>0.000955</td>\n",
       "      <td>0.005399</td>\n",
       "      <td>0.000014</td>\n",
       "      <td>0.012620</td>\n",
       "      <td>0.012683</td>\n",
       "      <td>-0.000013</td>\n",
       "    </tr>\n",
       "    <tr>\n",
       "      <th>156277</th>\n",
       "      <td>0.001692</td>\n",
       "      <td>-0.001586</td>\n",
       "      <td>0.001556</td>\n",
       "      <td>-0.000621</td>\n",
       "      <td>-0.000607</td>\n",
       "      <td>0.041387</td>\n",
       "    </tr>\n",
       "    <tr>\n",
       "      <th>156278</th>\n",
       "      <td>-0.000018</td>\n",
       "      <td>0.000037</td>\n",
       "      <td>-0.000048</td>\n",
       "      <td>-0.000007</td>\n",
       "      <td>-0.000008</td>\n",
       "      <td>0.000025</td>\n",
       "    </tr>\n",
       "  </tbody>\n",
       "</table>\n",
       "<p>156279 rows × 6 columns</p>\n",
       "</div>"
      ],
      "text/plain": [
       "        # 8 mstar stellar mass [1.0E09 Msun]  \\\n",
       "0                                  -0.003588   \n",
       "1                                   0.001240   \n",
       "2                                  -0.004178   \n",
       "3                                   0.001012   \n",
       "4                                   0.003068   \n",
       "...                                      ...   \n",
       "156274                              0.000130   \n",
       "156275                              0.000197   \n",
       "156276                              0.000955   \n",
       "156277                              0.001692   \n",
       "156278                             -0.000018   \n",
       "\n",
       "        # 15 mcold cold gas mass in disk [1.0E09 Msun]  \\\n",
       "0                                             0.002421   \n",
       "1                                            -0.003021   \n",
       "2                                             0.001877   \n",
       "3                                             0.011145   \n",
       "4                                            -0.002029   \n",
       "...                                                ...   \n",
       "156274                                       -0.000052   \n",
       "156275                                       -0.000065   \n",
       "156276                                        0.005399   \n",
       "156277                                       -0.001586   \n",
       "156278                                        0.000037   \n",
       "\n",
       "        # 20 Metal_cold metal mass in cold gas [Zsun*Msun]   \\\n",
       "0                                               -0.005259     \n",
       "1                                               -0.000439     \n",
       "2                                                0.010881     \n",
       "3                                               -0.009012     \n",
       "4                                                0.003001     \n",
       "...                                                   ...     \n",
       "156274                                           0.000021     \n",
       "156275                                           0.000659     \n",
       "156276                                           0.000014     \n",
       "156277                                           0.001556     \n",
       "156278                                          -0.000048     \n",
       "\n",
       "        # 21 sfr instantaneous SFR [Msun/yr]  \\\n",
       "0                                  -0.001465   \n",
       "1                                  -0.006457   \n",
       "2                                  -0.009047   \n",
       "3                                   0.017582   \n",
       "4                                  -0.000557   \n",
       "...                                      ...   \n",
       "156274                             -0.000073   \n",
       "156275                              0.000833   \n",
       "156276                              0.012620   \n",
       "156277                             -0.000621   \n",
       "156278                             -0.000007   \n",
       "\n",
       "        # 23 sfrave100myr SFR averaged over 100 Myr [Msun/yr]  \\\n",
       "0                                               -0.002548       \n",
       "1                                               -0.006681       \n",
       "2                                               -0.009593       \n",
       "3                                                0.017713       \n",
       "4                                               -0.000547       \n",
       "...                                                   ...       \n",
       "156274                                          -0.000070       \n",
       "156275                                           0.000837       \n",
       "156276                                           0.012683       \n",
       "156277                                          -0.000607       \n",
       "156278                                          -0.000008       \n",
       "\n",
       "        # 27 mBH black hole mass [1.0E09 Msun]  \n",
       "0                                     0.034686  \n",
       "1                                     0.000039  \n",
       "2                                    -0.066785  \n",
       "3                                     0.342194  \n",
       "4                                    -0.066939  \n",
       "...                                        ...  \n",
       "156274                                0.000056  \n",
       "156275                               -0.000035  \n",
       "156276                               -0.000013  \n",
       "156277                                0.041387  \n",
       "156278                                0.000025  \n",
       "\n",
       "[156279 rows x 6 columns]"
      ]
     },
     "execution_count": 94,
     "metadata": {},
     "output_type": "execute_result"
    }
   ],
   "source": [
    "DFs[1][newcols[targets]]-DFs[0][newcols[targets]]"
   ]
  },
  {
   "cell_type": "code",
   "execution_count": 95,
   "id": "996d4007",
   "metadata": {},
   "outputs": [],
   "source": [
    "stds = []\n",
    "mus = []\n",
    "rhos = []\n",
    "r2s = []\n",
    "for i in range(len(DFs)):\n",
    "    for j in range(i+1, len(DFs)):\n",
    "        y = DFs[i][newcols[targets]]\n",
    "        pred = DFs[j][newcols[targets]]\n",
    "        d = y-pred\n",
    "        a=d.describe()\n",
    "        stds.append(np.array(a.iloc[2]))\n",
    "        mus.append(np.abs(np.array(a.iloc[1])))\n",
    "        r2 = []\n",
    "        rho = []\n",
    "        for k in range(len(targets)):\n",
    "            r2.append(r2_score(DFs[i][newcols[targets[k]]],DFs[j][newcols[targets[k]]]))\n",
    "            rho.append(np.corrcoef(DFs[i][newcols[targets[k]]],DFs[j][newcols[targets[k]]])[0][1])\n",
    "        r2s.append(np.array(r2))\n",
    "        rhos.append(np.array(rho))    \n",
    "        "
   ]
  },
  {
   "cell_type": "code",
   "execution_count": 96,
   "id": "b38082c9",
   "metadata": {},
   "outputs": [],
   "source": [
    "std=np.vstack(stds)\n",
    "mean=np.vstack(mus)\n",
    "rho=np.vstack(rhos)\n",
    "r2=np.vstack(r2s)"
   ]
  },
  {
   "cell_type": "code",
   "execution_count": 97,
   "id": "2f9450e1",
   "metadata": {},
   "outputs": [
    {
     "data": {
      "text/plain": [
       "array([0.04304173, 0.09553843, 0.07443828, 0.23014471, 0.19967025,\n",
       "       0.12949061])"
      ]
     },
     "execution_count": 97,
     "metadata": {},
     "output_type": "execute_result"
    }
   ],
   "source": [
    "mu, mi, ma = np.mean(std, axis=0), np.min(std, axis=0), np.max(std, axis=0)\n",
    "mu"
   ]
  },
  {
   "cell_type": "code",
   "execution_count": 98,
   "id": "5893489a",
   "metadata": {},
   "outputs": [
    {
     "data": {
      "text/plain": [
       "array([0.09904881, 0.21692051, 0.10409552, 0.18309686, 0.25682389,\n",
       "       0.33807686])"
      ]
     },
     "execution_count": 98,
     "metadata": {},
     "output_type": "execute_result"
    }
   ],
   "source": [
    "mu, mi, ma = np.mean(mean, axis=0), np.min(mean, axis=0), np.max(mean, axis=0)\n",
    "mu*1e3"
   ]
  },
  {
   "cell_type": "code",
   "execution_count": 99,
   "id": "d4b0f24d",
   "metadata": {},
   "outputs": [
    {
     "data": {
      "text/plain": [
       "array([0.99896071, 0.98357248, 0.99029141, 0.97356969, 0.97991422,\n",
       "       0.96607248])"
      ]
     },
     "execution_count": 99,
     "metadata": {},
     "output_type": "execute_result"
    }
   ],
   "source": [
    "mu, mi, ma = np.mean(rho, axis=0), np.min(rho, axis=0), np.max(rho, axis=0)\n",
    "mu"
   ]
  },
  {
   "cell_type": "code",
   "execution_count": 100,
   "id": "58b3d83b",
   "metadata": {},
   "outputs": [
    {
     "data": {
      "text/plain": [
       "array([0.99792118, 0.96714283, 0.98058163, 0.94711777, 0.95981512,\n",
       "       0.93216395])"
      ]
     },
     "execution_count": 100,
     "metadata": {},
     "output_type": "execute_result"
    }
   ],
   "source": [
    "mu, mi, ma = np.mean(r2, axis=0), np.min(r2, axis=0), np.max(r2, axis=0)\n",
    "mu"
   ]
  },
  {
   "cell_type": "code",
   "execution_count": 101,
   "id": "7cd29ccd",
   "metadata": {},
   "outputs": [],
   "source": [
    "results = {}\n",
    "results['ys'] = np.array(DFs[0][newcols[targets]])\n",
    "results['pred'] = np.array(DFs[1][newcols[targets]])\n",
    "\n",
    "folder = 'results_SAM'\n",
    "run = 'SAM01'\n",
    "pointer=osp.expanduser(f'~/../../scratch/gpfs/cj1223/GraphResults/{folder}/{run}')   \n",
    "with open(osp.join(pointer, 'result_dict.pkl'), 'wb') as handle:\n",
    "    pickle.dump(results, handle)"
   ]
  }
 ],
 "metadata": {
  "kernelspec": {
   "display_name": "Python 3 (ipykernel)",
   "language": "python",
   "name": "python3"
  },
  "language_info": {
   "codemirror_mode": {
    "name": "ipython",
    "version": 3
   },
   "file_extension": ".py",
   "mimetype": "text/x-python",
   "name": "python",
   "nbconvert_exporter": "python",
   "pygments_lexer": "ipython3",
   "version": "3.9.7"
  }
 },
 "nbformat": 4,
 "nbformat_minor": 5
}
