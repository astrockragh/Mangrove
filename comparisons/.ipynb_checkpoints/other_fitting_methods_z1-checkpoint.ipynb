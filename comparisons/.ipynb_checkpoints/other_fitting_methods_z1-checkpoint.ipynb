{
 "cells": [
  {
   "cell_type": "code",
   "execution_count": 1,
   "id": "9af4b728",
   "metadata": {},
   "outputs": [],
   "source": [
    "import torch, pickle, time, os, random\n",
    "import numpy as np\n",
    "import matplotlib.pyplot as plt\n",
    "import scipy.interpolate as sci\n",
    "import matplotlib as mpl"
   ]
  },
  {
   "cell_type": "code",
   "execution_count": null,
   "id": "530d706b",
   "metadata": {},
   "outputs": [],
   "source": [
    "case='vlarge_all_4t_z1.0_None'\n",
    "\n",
    "data=pickle.load(open(f'../../../../../scratch/gpfs/cj1223/GraphStorage/{case}/data.pkl', 'rb'))"
   ]
  },
  {
   "cell_type": "code",
   "execution_count": null,
   "id": "afe40707",
   "metadata": {},
   "outputs": [],
   "source": [
    "Mhft=[]\n",
    "Mst=[]\n",
    "lst=[]\n",
    "for d in data[int(len(data)*0.8):]:\n",
    "    Mhft.append(d.x.numpy()[0,3])\n",
    "    Mst.append(d.y.numpy())\n",
    "    lst.append(len(d.x.numpy()))\n",
    "Mst=np.vstack(Mst)\n",
    "Mhft=np.array(Mhft)\n",
    "lst=np.log10(lst)\n",
    "Mst=np.vstack(Mst)[:,0]\n",
    "Mhf=[]\n",
    "Ms=[]\n",
    "ls=[]\n",
    "for d in data[:int(len(data)*0.8)]:\n",
    "    Mhf.append(d.x.numpy()[0,3])\n",
    "    Ms.append(d.y.numpy())\n",
    "    ls.append(len(d.x.numpy()))\n",
    "Ms=np.vstack(Ms)\n",
    "Mhf=np.array(Mhf)\n",
    "ls=np.log10(ls)\n",
    "Ms=Ms[:,0]"
   ]
  },
  {
   "cell_type": "code",
   "execution_count": null,
   "id": "4c78e555",
   "metadata": {},
   "outputs": [],
   "source": [
    "fig , ax = plt.subplots(3, figsize=(6,12))\n",
    "ax[0].plot(Mhf,Ms, 'ro',label =' M_halo-M_star', alpha=0.02)\n",
    "ax[1].plot(ls,Ms, 'bo',label = 'Tree length-M_star', alpha=0.01)\n",
    "ax[2].plot(ls,Mhf, 'ko',label = 'Tree length-M_halo', alpha=0.01)\n",
    "\n",
    "for a in ax:\n",
    "    a.legend()"
   ]
  },
  {
   "cell_type": "code",
   "execution_count": null,
   "id": "bc5571ac",
   "metadata": {},
   "outputs": [],
   "source": [
    "fig , ax = plt.subplots(3, figsize=(6,12))\n",
    "ax[0].hist2d(Mhf,Ms,label =' M_halo-M_star', bins=100, norm=mpl.colors.LogNorm(), cmap=mpl.cm.magma)\n",
    "ax[1].hist2d(ls,Ms,label = 'Tree length-M_star',bins=100, norm=mpl.colors.LogNorm(), cmap=mpl.cm.viridis)\n",
    "ax[2].hist2d(ls, Mhf, label = 'Tree length-M_halo',bins=100, norm=mpl.colors.LogNorm(), cmap=mpl.cm.plasma)\n",
    "\n",
    "for a in ax:\n",
    "    a.legend()"
   ]
  },
  {
   "cell_type": "markdown",
   "id": "c94d8832",
   "metadata": {},
   "source": [
    "## First, halo spline relationship"
   ]
  },
  {
   "cell_type": "code",
   "execution_count": null,
   "id": "229a12b4",
   "metadata": {},
   "outputs": [],
   "source": [
    "#trick to make splines work\n",
    "Mhf+=np.arange(len(Mhf))/1e6\n",
    "ls+=np.arange(len(Mhf))/1e6"
   ]
  },
  {
   "cell_type": "code",
   "execution_count": null,
   "id": "5018c2ca",
   "metadata": {},
   "outputs": [],
   "source": [
    "fig , ax = plt.subplots(2, figsize=(6,8))\n",
    "\n",
    "a=np.array([Mhf,Ms, ls])\n",
    "a = a[:,a[0,:].argsort()]\n",
    "Mhf, Ms, ls = a\n",
    "Mhf+=np.arange(len(Mhf))/1e6\n",
    "ls+=np.arange(len(Mhf))/1e6\n",
    "\n",
    "splineMhf=sci.UnivariateSpline(Mhf, Ms)\n",
    "# ax[0].plot(Mhft,Mst, 'ro',label =' M_halo-M_star data')\n",
    "ax[0].hist2d(Mhft,Mst,label =' M_halo-M_star', bins=100, norm=mpl.colors.LogNorm(), cmap=mpl.cm.magma)\n",
    "\n",
    "ax[0].plot(Mhft,splineMhf(Mhft), 'bo',label =' M_halo-M_star spline')\n",
    "ax[0].set(title=f'sigma ={np.round(np.std(splineMhf(Mhft)-Mst),2)} on test, sigma ={np.round(np.std(splineMhf(Mhf)-Ms),2)} on train', xlabel='Mh', ylabel='M_*')\n",
    "\n",
    "Mhf-=np.arange(len(Mhf))/1e6\n",
    "ls-=np.arange(len(Mhf))/1e6\n",
    "\n",
    "a=np.array([Mhf,Ms, ls])\n",
    "a = a[:,a[2,:].argsort()]\n",
    "Mhf, Ms, ls = a\n",
    "Mhf+=np.arange(len(Mhf))/1e6\n",
    "ls+=np.arange(len(Mhf))/1e6\n",
    "\n",
    "splinels=sci.UnivariateSpline(ls, Ms)\n",
    "ax[1].plot(lst,Mst, 'bo',label = 'Tree length-M_star data')\n",
    "ax[1].plot(lst,splinels(lst), 'ro',label = 'Tree length-M_star spline')\n",
    "ax[1].set(title=f'sigma ={np.round(np.std(splinels(ls)-Ms),2)}', xlabel='log Tree length', ylabel='M_*')\n",
    "\n",
    "for a in ax:\n",
    "    a.legend()\n",
    "fig.tight_layout()\n",
    "Mhf-=np.arange(len(Mhf))/1e6\n",
    "ls-=np.arange(len(Mhf))/1e6"
   ]
  },
  {
   "cell_type": "markdown",
   "id": "0596e290",
   "metadata": {},
   "source": [
    "## Abundance matching"
   ]
  },
  {
   "cell_type": "code",
   "execution_count": null,
   "id": "c72ad9eb",
   "metadata": {},
   "outputs": [],
   "source": [
    "a=np.array([Mhf,Ms, ls])\n",
    "a = a[:,a[0,:].argsort()]\n",
    "Mhf, Ms, ls = a"
   ]
  },
  {
   "cell_type": "code",
   "execution_count": null,
   "id": "541279dd",
   "metadata": {},
   "outputs": [],
   "source": [
    "Mhf_am,Ms_am=np.sort([Mhf,Ms], axis=1)\n",
    "# plt.plot()[0],np.sort([Mhf,Ms])[1])"
   ]
  },
  {
   "cell_type": "code",
   "execution_count": null,
   "id": "860ef1c5",
   "metadata": {},
   "outputs": [],
   "source": [
    "plt.plot(Mhf,Ms,'ro')\n",
    "plt.plot(Mhf_am,Ms_am,'bo')\n",
    "plt.title(f'Abundance matched relationship, sigma={np.std(Ms-Ms_am):.2f}')\n",
    "plt.xlabel('M_halo')\n",
    "plt.xlabel('M_*')"
   ]
  },
  {
   "cell_type": "markdown",
   "id": "a398d95d",
   "metadata": {},
   "source": [
    "## Analytic fitting relationship (which one should I use?)\n",
    "https://iopscience.iop.org/article/10.1088/0004-637X/710/2/903/pdf is an idea"
   ]
  },
  {
   "cell_type": "code",
   "execution_count": null,
   "id": "3c2f4731",
   "metadata": {},
   "outputs": [],
   "source": []
  }
 ],
 "metadata": {
  "kernelspec": {
   "display_name": "Python 3 (ipykernel)",
   "language": "python",
   "name": "python3"
  },
  "language_info": {
   "codemirror_mode": {
    "name": "ipython",
    "version": 3
   },
   "file_extension": ".py",
   "mimetype": "text/x-python",
   "name": "python",
   "nbconvert_exporter": "python",
   "pygments_lexer": "ipython3",
   "version": "3.9.7"
  }
 },
 "nbformat": 4,
 "nbformat_minor": 5
}
