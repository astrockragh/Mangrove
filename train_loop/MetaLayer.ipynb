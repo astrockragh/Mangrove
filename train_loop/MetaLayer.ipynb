{
 "cells": [
  {
   "cell_type": "code",
   "execution_count": 1,
   "source": [
    "####################################\n",
    "## Batch lengths are being weird ###\n",
    "####################################\n",
    "\n",
    "\n",
    "import torch, pickle, time, os, random\n",
    "import numpy as np\n",
    "import matplotlib.pyplot as plt\n",
    "import torch_geometric as tg\n",
    "from torch_geometric.loader import DataLoader\n",
    "# accelerate huggingface to GPU\n",
    "if torch.cuda.is_available():\n",
    "    from accelerate import Accelerator\n",
    "    accelerator = Accelerator()\n",
    "    device = accelerator.device\n",
    "\n",
    "torch.manual_seed(42)\n",
    "random.seed(42)"
   ],
   "outputs": [],
   "metadata": {}
  },
  {
   "cell_type": "code",
   "execution_count": 2,
   "source": [
    "os.listdir('../../../../scratch/gpfs/cj1223/GraphStorage/')"
   ],
   "outputs": [
    {
     "output_type": "execute_result",
     "data": {
      "text/plain": [
       "['vlarge_all_multit_z0.0_standard_stand',\n",
       " 'medium_beforeafter',\n",
       " 'medium_redshift_50_all',\n",
       " 'vlarge_all_multit_z0.5_power_quant',\n",
       " 'vlarge_all_multit_z0.0_None',\n",
       " 'vlarge_all_multit_z2.0_standard_quant',\n",
       " 'medium_smass_z1.0_standard',\n",
       " 'vlarge_all_multisimple_z0.0_quantile_quant',\n",
       " 'test_onlyhmass_smass',\n",
       " 'medium_redshift_80_all',\n",
       " 'vlarge_all_final',\n",
       " 'vlarge_all_multit_z1.0_standard_stand',\n",
       " 'vlarge_all_multit_z1.0_power_quant',\n",
       " 'medium_all_q_diffbeforeafter',\n",
       " 'vlarge_redshift_85_all',\n",
       " 'vlarge_all_multi_z0.5_quantile',\n",
       " 'medium_all_smass',\n",
       " 'medium_onlyhmass_smass',\n",
       " 'vlarge_all_multi_z1.0_power',\n",
       " 'vlarge_all_multit_z0.0_quantile_quant',\n",
       " 'vlarge_all_multit_z0.0_standard_quant',\n",
       " 'vlarge_all_multit_z0.5_quantile_quant',\n",
       " 'vlarge_all_multit_z0.0_quantile_raw',\n",
       " 'medium_scaleonly_smass',\n",
       " 'vlarge_all_multi_z0.5_None',\n",
       " 'vlarge_all_multit_z2.0_None',\n",
       " 'vlarge_all_multit_z1.0_standard_quant',\n",
       " 'vlarge_all_multit_z0.0_power_quant',\n",
       " 'vlarge_all_multi_z0.5_standard',\n",
       " 'vlarge_all_4t_z2.0_None',\n",
       " 'vlarge_redshift_50_all',\n",
       " 'vlarge_all_multit_z0.5_standard_quant',\n",
       " 'vlarge_all_multit_z1.0_power_stand',\n",
       " 'test_beforeafter',\n",
       " 'testid_z0.0_None',\n",
       " 'vlarge_all_multi_z2.0_power',\n",
       " 'vlarge_all_multit_z2.0_quantile_stand',\n",
       " 'vlarge_all_multit_z0.5_standard_stand',\n",
       " 'vlarge_all_multit_z1.0_quantile_stand',\n",
       " 'vlarge_all_multi_z0.0_standard',\n",
       " 'vlarge_all_smass_standard',\n",
       " 'vlarge_all_multi_z0.0_power',\n",
       " 'vlarge_all_multit_z2.0_quantile_pow',\n",
       " 'vlarge_all_multit_z0.5_quantile_pow',\n",
       " 'vlarge_all_multi_z1.0_None',\n",
       " 'test_all_smass',\n",
       " 'vlarge_all_multi_z2.0_None',\n",
       " 'vlarge_all_smass_power',\n",
       " 'vlarge_all_multi_z1.0_quantile',\n",
       " 'medium_redshift_15_all',\n",
       " 'testids',\n",
       " 'vlarge_all_multi_z2.0_quantile',\n",
       " 'transformers',\n",
       " 'vlarge_all_multit_z0.5_power_stand',\n",
       " 'medium_noinfonoedge_smass',\n",
       " 'medium_onlyedge_smass',\n",
       " 'medium_all_variance',\n",
       " 'medium_redshift_1_all',\n",
       " 'medium_all_q',\n",
       " 'medium_redshift_10_all',\n",
       " 'medium_smass_z0.0_quantile',\n",
       " 'vlarge_all_mul_z0.0_quantile_quant',\n",
       " 'medium_all_final',\n",
       " 'vlarge_redshift_95_all',\n",
       " 'test_variance',\n",
       " 'small_all_q_variancehalomass',\n",
       " 'medium_all_residual',\n",
       " 'medium_all',\n",
       " 'test_auto_multi_z0.0_None',\n",
       " 'test',\n",
       " 'vlarge_all_multi_z0.5_power',\n",
       " 'vlarge_all_robust_smass',\n",
       " 'vlarge_all_multit_z2.0_standard_stand',\n",
       " 'vlarge_all_multi_z0.0_quantile',\n",
       " 'vlarge_all_multi_z0.0_None',\n",
       " 'vlarge_all_multit_z0.5_quantile_stand',\n",
       " 'vlarge_all_multit_z1.0_None',\n",
       " 'vlarge_all_multi_z1.0_standard',\n",
       " 'vlarge_redshift_99_all',\n",
       " 'vlarge_redshift_99.99_all',\n",
       " 'vlarge_redshift_75_all',\n",
       " 'vlarge_all_multit_z1.0_quantile_quant',\n",
       " 'med_all_residual',\n",
       " 'testid_all_multit_z0.0_None',\n",
       " 'vlarge_all_smass_z0.0_quantile_quant',\n",
       " 'medium_redshift_25_all',\n",
       " 'big_all_final',\n",
       " 'vlarge_all_multit_z1.0_quantile_pow',\n",
       " 'medium_redshift_0.1_all',\n",
       " 'vlarge_all_multit_z2.0_power_stand',\n",
       " 'vlarge_all_mulsimple_z0.0_quantile_quant',\n",
       " 'vlarge_all_smass',\n",
       " 'vlarge_all_multit_z0.0_quantile_pow',\n",
       " 'vlarge_all_multit_z2.0_quantile_quant',\n",
       " 'one_all_q',\n",
       " 'test_redshift_scan',\n",
       " 'vlarge_all_multit_z2.0_power_quant',\n",
       " 'medium_all_finalhalo',\n",
       " '105lim_all_smass',\n",
       " 'medium_redshift_5_all',\n",
       " 'small_all_q',\n",
       " 'vlarge_all_multit_z0.0_power_stand',\n",
       " 'vlarge_redshift_0_all',\n",
       " 'vlarge_all_multi_z2.0_standard',\n",
       " 'vlarge_all_multisimple_z0.0_quantile_raw',\n",
       " 'testpy',\n",
       " 'vlarge_all_multit_z0.5_None',\n",
       " 'medium_noinfo_smass',\n",
       " 'vlarge_all_multit_z0.0_quantile_stand',\n",
       " 'medium_hmassonly_smass']"
      ]
     },
     "metadata": {},
     "execution_count": 2
    }
   ],
   "metadata": {}
  },
  {
   "cell_type": "code",
   "execution_count": 49,
   "source": [
    "# case='medium_hmassonly_smass'\n",
    "# case='medium_scaleonly_smass'\n",
    "### this didn't work as well as I initially thought, must have done something wrong, but still better than base\n",
    "# case='medium_onlyedge_smass' \n",
    "# case='medium_noinfo_smass' \n",
    "case='vlarge_all_smass'\n",
    "# case='vlarge_all_smass_standard'\n",
    "# case='vlarge_all_smass_power'\n",
    "# case='test_all_smass'\n",
    "\n",
    "\n",
    "\n",
    "data=pickle.load(open(f'../../../../scratch/gpfs/cj1223/GraphStorage/{case}/data.pkl', 'rb'))"
   ],
   "outputs": [],
   "metadata": {}
  },
  {
   "cell_type": "code",
   "execution_count": 110,
   "source": [
    "import torch\n",
    "from torch.functional import F\n",
    "from torch import nn\n",
    "from torch_scatter import scatter_mean, scatter_sum, scatter_max, scatter_min, scatter_mul\n",
    "from torch_geometric.nn import MetaLayer\n",
    "from torch.nn import Linear, BatchNorm1d, LayerNorm\n",
    "from torch_geometric.nn import SAGEConv, global_mean_pool, norm, global_max_pool, global_add_pool\n",
    "\n",
    "\n",
    "global_aggregations = [scatter_sum, scatter_max, scatter_min, scatter_mul]\n",
    "\n",
    "node_aggregation = scatter_sum  # scatter_mean\n",
    "global_aggregation = scatter_sum  # scatter_mean\n",
    "\n",
    "\n",
    "class MLP(nn.Module):\n",
    "    def __init__(self, n_in, n_out, hidden=64, nlayers=2, layer_norm=True):\n",
    "        super().__init__()\n",
    "        layers = [nn.Linear(n_in, hidden), nn.ReLU()]\n",
    "        for i in range(nlayers):\n",
    "            layers.append(nn.Linear(hidden, hidden))\n",
    "            layers.append(nn.ReLU()) \n",
    "        if layer_norm:\n",
    "            layers.append(nn.LayerNorm(hidden))\n",
    "        layers.append(nn.Linear(hidden, n_out))\n",
    "        self.mlp = nn.Sequential(*layers)\n",
    "\n",
    "    def forward(self, x):\n",
    "        return self.mlp(x)\n",
    "\n",
    "\n",
    "class EdgeModel(torch.nn.Module):\n",
    "    def __init__(self, hidden):\n",
    "        super(EdgeModel, self).__init__()\n",
    "        self.mlp = MLP(hidden * 4, hidden, layer_norm=True)\n",
    "\n",
    "    def forward(self, src, dest, edge_attr, u, batch):\n",
    "        # source, target: [E, F_x], where E is the number of edges.\n",
    "        # edge_attr: [E, F_e]\n",
    "        # u: [B, F_u], where B is the number of graphs. ##what is B??\n",
    "        # batch: [E] with max entry B - 1.\n",
    "        cur_state = torch.cat([src, dest, edge_attr, u[batch]], 1)\n",
    "        return edge_attr + self.mlp(cur_state)\n",
    "\n",
    "\n",
    "class NodeModel(torch.nn.Module):\n",
    "    def __init__(self, hidden):\n",
    "        super(NodeModel, self).__init__()\n",
    "        self.node_mlp_1 = MLP(hidden * 2, hidden, layer_norm=True)\n",
    "        self.node_mlp_2 = MLP(hidden * 3, hidden, layer_norm=True)\n",
    "\n",
    "    def forward(self, x, edge_index, edge_attr, u, batch):\n",
    "        # x: [N, F_x], where N is the number of nodes.\n",
    "        # edge_index: [2, E] with max entry N - 1.\n",
    "        # edge_attr: [E, F_e]\n",
    "        # u: [B, F_u]\n",
    "        # batch: [N] with max entry B - 1.\n",
    "        row, col = edge_index\n",
    "        out = torch.cat([x[row], edge_attr], dim=1)\n",
    "        out = self.node_mlp_1(out)\n",
    "        out = node_aggregation(out, col, dim=0, dim_size=x.size(0))\n",
    "        out = torch.cat([x, out, u[batch]], dim=1)\n",
    "        return x + self.node_mlp_2(out)\n",
    "\n",
    "\n",
    "class GlobalModel(torch.nn.Module):\n",
    "    def __init__(self, hidden):\n",
    "        super(GlobalModel, self).__init__()\n",
    "        self.global_mlp = MLP(hidden * 2, hidden, layer_norm=True)\n",
    "\n",
    "    def forward(self, x, edge_index, edge_attr, u, batch):\n",
    "        # x: [N, F_x], where N is the number of nodes.\n",
    "        # edge_index: [2, E] with max entry N - 1.\n",
    "        # edge_attr: [E, F_e]\n",
    "        # u: [B, F_u]\n",
    "        # batch: [N] with max entry B - 1.\n",
    "        out = torch.cat([u, global_aggregation(x, batch, dim=0)], dim=1)\n",
    "        return u + self.global_mlp(out) # do these just add on top of each other\n",
    "\n",
    "global_aggregations = [scatter_sum, scatter_max, scatter_min, scatter_mul]\n",
    "\n",
    "class GlobalModelMulti(torch.nn.Module):\n",
    "    def __init__(self, hidden):\n",
    "        super(GlobalModelMulti, self).__init__()\n",
    "        self.global_mlp = MLP(hidden * 5, hidden, layer_norm=True)\n",
    "\n",
    "    def forward(self, x, edge_index, edge_attr, u, batch):\n",
    "        # x: [N, F_x], where N is the number of nodes.\n",
    "        # edge_index: [2, E] with max entry N - 1.\n",
    "        # edge_attr: [E, F_e]\n",
    "        # u: [B, F_u]\n",
    "        # batch: [N] with max entry B - 1.\n",
    "        global s, me, std\n",
    "        global x0\n",
    "        x0=x\n",
    "        s=scatter_sum(x, batch, dim=0)\n",
    "        me=scatter_mean(x, batch, dim=0)\n",
    "        mi=scatter_min(x, batch, dim=0)[0]\n",
    "        ma=scatter_max(x, batch, dim=0)[0]\n",
    "        std=scatter_mean(torch.square(x), batch, dim=0)-torch.square(me)\n",
    "        concat = torch.cat([u, s, mi, ma, std], dim=1)\n",
    "        return u + self.global_mlp(concat)"
   ],
   "outputs": [],
   "metadata": {}
  },
  {
   "cell_type": "code",
   "execution_count": 223,
   "source": [
    "class GNN(torch.nn.Module):\n",
    "    def __init__(self, hidden, n_in=len(data[0].x[0]), n_edge=len(data[0].x[0]), n_out=1,blocks=4):\n",
    "        super(self.__class__, self).__init__()\n",
    "        self.node_enc = MLP(n_in, hidden, layer_norm=True)\n",
    "        self.edge_enc = MLP(n_edge, hidden, layer_norm=True)\n",
    "        self.decoder = MLP(2*hidden, n_out)\n",
    "#         self.ops = nn.ModuleList(\n",
    "#             [\n",
    "#                 MetaLayer(EdgeModel(hidden), NodeModel(hidden), GlobalModelMulti(hidden)) # GlobalModelMulti could be last\n",
    "#                 for _ in range(blocks)\n",
    "#             ]\n",
    "#         )\n",
    "        self.ops = nn.ModuleList(\n",
    "            [\n",
    "                MetaLayer(edge_model=None, node_model=NodeModel(hidden), global_model=None) # GlobalModelMulti could be last\n",
    "                for _ in range(blocks)\n",
    "            ]\n",
    "        )\n",
    "        self.hidden = hidden\n",
    "        self.norm_out=nn.LayerNorm(normalized_shape=2*self.hidden)\n",
    "    def forward(self, graph):\n",
    "        global batch\n",
    "        x = self.node_enc(graph.x)  # Take all feats\n",
    "        reduce = graph.x # differences\n",
    "        adj = graph.edge_index\n",
    "        e = self.edge_enc(reduce[adj[0]] - reduce[adj[1]]) #put in edge_attr\n",
    "        # Initialize global features as 0:\n",
    "        u = torch.zeros(\n",
    "            graph.batch[-1] + 1, self.hidden, device=x.device, dtype=torch.float32\n",
    "        )\n",
    "        batch = graph.batch\n",
    "        global xc, ec, uc\n",
    "        for op in self.ops:\n",
    "            x, e, u = op(x, adj, e, u, batch)\n",
    "        xc, ec, uc = x, e, u\n",
    "#         x = global_add_pool(x, batch)\n",
    "        x = torch.cat([global_max_pool(x, batch),global_add_pool(x, batch)], 1) \n",
    "        global x1\n",
    "        x1=x\n",
    "        \n",
    "        out = self.decoder(self.norm_out(x))\n",
    "\n",
    "        return out"
   ],
   "outputs": [],
   "metadata": {}
  },
  {
   "cell_type": "code",
   "execution_count": 224,
   "source": [
    "class NodeModel_simple(torch.nn.Module):\n",
    "    def __init__(self, hidden):\n",
    "        super(NodeModel, self).__init__()\n",
    "        self.node_mlp_1 = MLP(hidden * 2, hidden, layer_norm=True)\n",
    "        self.node_mlp_2 = MLP(hidden * 2, hidden, layer_norm=True)\n",
    "\n",
    "    def forward(self, x, edge_index, edge_attr, u, batch):\n",
    "        # x: [N, F_x], where N is the number of nodes.\n",
    "        # edge_index: [2, E] with max entry N - 1.\n",
    "        # edge_attr: [E, F_e]\n",
    "        # u: [B, F_u]\n",
    "        # batch: [N] with max entry B - 1.\n",
    "        row, col = edge_index\n",
    "        out = torch.cat([x[row], edge_attr], dim=1)\n",
    "        out = self.node_mlp_1(out)\n",
    "        out = node_aggregation(out, col, dim=0, dim_size=x.size(0))\n",
    "        out = torch.cat([x, out], dim=1)\n",
    "        return x + self.node_mlp_2(out)\n",
    "\n",
    "class GNN_simple(torch.nn.Module):\n",
    "    def __init__(self, hidden, n_in=len(data[0].x[0]), n_edge=len(data[0].x[0]), n_out=1,blocks=2):\n",
    "        super(self.__class__, self).__init__()\n",
    "        self.node_enc = MLP(n_in, hidden, layer_norm=True)\n",
    "        self.edge_enc = MLP(3, hidden, layer_norm=True)\n",
    "        self.decoder = MLP(hidden, n_out)\n",
    "        self.ops = nn.ModuleList(\n",
    "            [\n",
    "                MetaLayer(edge_model=EdgeModel(hidden), node_model=NodeModel(hidden), global_model=GlobalModelMulti(hidden)) # GlobalModelMulti could be last\n",
    "                for _ in range(blocks)\n",
    "            ]\n",
    "        )\n",
    "        self.hidden = hidden\n",
    "        self.norm_out=nn.LayerNorm(normalized_shape=self.hidden)\n",
    "    def forward(self, graph):\n",
    "        global batch, x, z, Mh, adj, e_encode, e_feat, ea\n",
    "        x = self.node_enc(graph.x)  # Take all feats\n",
    "        e_feat = graph.x[:,[0,3]] # scale factor and virial mass\n",
    "        adj = graph.edge_index\n",
    "#         e_encode=torch.cat([graph.edge_attr, z[adj[0]] - z[adj[1]], Mh[adj[0]]/Mh[adj[1]]], -1)\n",
    "        ea = graph.edge_attr\n",
    "        e_encode=torch.cat([graph.edge_attr.view(-1,1), e_feat[adj[0]] - e_feat[adj[1]]], -1)\n",
    "        \n",
    "        e = self.edge_enc(e_encode) #put in edge_attr\n",
    "        # Initialize global features as 0:\n",
    "        u = torch.zeros(\n",
    "            graph.batch[-1] + 1, self.hidden, device=x.device, dtype=torch.float32\n",
    "        )\n",
    "        batch = graph.batch\n",
    "        global xc, ec, uc\n",
    "        for op in self.ops:\n",
    "            x, e, u = op(x, adj, e, u, batch)\n",
    "        xc, ec, uc = x, e, u\n",
    "        x = global_add_pool(x, batch)\n",
    "        global x1\n",
    "        x1=x\n",
    "        \n",
    "        out = self.decoder(self.norm_out(x))\n",
    "\n",
    "        return out"
   ],
   "outputs": [],
   "metadata": {}
  },
  {
   "cell_type": "code",
   "execution_count": 225,
   "source": [
    "criterion = torch.nn.MSELoss()\n",
    "n_epochs=50\n",
    "n_trials=1\n",
    "batch_size=512\n",
    "split=0.8\n",
    "test_data=data[int(len(data)*split):]\n",
    "# train_data=data[:int(len(data)*split)]\n",
    "train_data=data[:int(len(data)*split/2)]\n",
    "l1_lambda = 0\n",
    "l2_lambda = 0"
   ],
   "outputs": [],
   "metadata": {}
  },
  {
   "cell_type": "code",
   "execution_count": 234,
   "source": [
    "trains, tests, scatter = [], [], []\n",
    "yss, preds=[],[]\n",
    "model = model=GNN_simple(32)\n",
    "train_loader=DataLoader(train_data, batch_size=batch_size, shuffle=1, num_workers=1)\n",
    "test_loader=DataLoader(test_data, batch_size=batch_size, shuffle=0,num_workers=1)    \n",
    "optimizer = torch.optim.Adam(model.parameters(), lr=0.003)\n",
    "_, _, test_loader = accelerator.prepare(model, optimizer, test_loader)\n",
    "model, optimizer, train_loader = accelerator.prepare(model, optimizer, train_loader)\n",
    "print('GPU ', next(model.parameters()).is_cuda)\n",
    "# Initialize our train function\n",
    "def train():\n",
    "    model.train()\n",
    "    global datac\n",
    "    for data in train_loader: \n",
    "        datac=data\n",
    "        pred = model(data)  \n",
    "        loss = criterion(pred, data.y.view(-1,1)) \n",
    "        l1_norm = sum(p.abs().sum() for p in model.parameters())\n",
    "        l2_norm = sum(p.pow(2.0).sum() for p in model.parameters())\n",
    "\n",
    "\n",
    "        loss = loss + l1_lambda * l1_norm + l2_lambda * l2_norm\n",
    "#             loss.backward()\n",
    "        accelerator.backward(loss)\n",
    "        optimizer.step() \n",
    "        optimizer.zero_grad() \n",
    "    print(loss, l1_norm*l1_lambda, l2_norm*l2_lambda)\n",
    " # test function\n",
    "\n",
    "def test(loader): ##### transform back missing\n",
    "    model.eval()\n",
    "    outs = []\n",
    "    ys = []\n",
    "    with torch.no_grad(): ##this solves it!!!\n",
    "        for dat in loader: \n",
    "            out = model(dat) \n",
    "            ys.append(dat.y.view(-1,1))\n",
    "            outs.append(out)\n",
    "    outss=torch.vstack(outs)\n",
    "    yss=torch.vstack(ys)\n",
    "    return torch.std(outss - yss, axis=0), outss, yss"
   ],
   "outputs": [
    {
     "output_type": "stream",
     "name": "stdout",
     "text": [
      "GPU  True\n"
     ]
    }
   ],
   "metadata": {}
  },
  {
   "cell_type": "code",
   "execution_count": 237,
   "source": [
    "#this uses about 1 GB of memory on the GPU\n",
    "\n",
    "start=time.time()\n",
    "# for epoch in range(n_epochs):\n",
    "for epoch in range(10):\n",
    "    train()\n",
    "\n",
    "    if (epoch+1)%2==0:\n",
    "        train_acc,_,_ = test(train_loader)\n",
    "        test_acc,_,_ = test(test_loader)\n",
    "#         tr_acc.append(train_acc)\n",
    "#         te_acc.append(test_acc)\n",
    "        print(f'Epoch: {epoch+1:03d}, Train scatter: {np.round(train_acc.cpu(),4)}, Test scatter: {np.round(test_acc.cpu(),4)}')\n",
    "stop=time.time()\n",
    "spent=stop-start\n",
    "print(f\"{spent:.2f} seconds spent training, {spent/n_epochs:.3f} seconds per epoch. Processed {len(data)*split*n_epochs/spent:.0f} trees per second\")"
   ],
   "outputs": [
    {
     "output_type": "stream",
     "name": "stdout",
     "text": [
      "tensor(0.0393, device='cuda:0', grad_fn=<AddBackward0>) tensor(0., device='cuda:0', grad_fn=<MulBackward0>) tensor(0., device='cuda:0', grad_fn=<MulBackward0>)\n",
      "tensor(0.0256, device='cuda:0', grad_fn=<AddBackward0>) tensor(0., device='cuda:0', grad_fn=<MulBackward0>) tensor(0., device='cuda:0', grad_fn=<MulBackward0>)\n",
      "Epoch: 002, Train scatter: tensor([0.1554]), Test scatter: tensor([0.1534])\n",
      "tensor(0.0257, device='cuda:0', grad_fn=<AddBackward0>) tensor(0., device='cuda:0', grad_fn=<MulBackward0>) tensor(0., device='cuda:0', grad_fn=<MulBackward0>)\n",
      "tensor(0.0210, device='cuda:0', grad_fn=<AddBackward0>) tensor(0., device='cuda:0', grad_fn=<MulBackward0>) tensor(0., device='cuda:0', grad_fn=<MulBackward0>)\n",
      "Epoch: 004, Train scatter: tensor([0.1445]), Test scatter: tensor([0.1423])\n",
      "tensor(0.0173, device='cuda:0', grad_fn=<AddBackward0>) tensor(0., device='cuda:0', grad_fn=<MulBackward0>) tensor(0., device='cuda:0', grad_fn=<MulBackward0>)\n",
      "tensor(0.0167, device='cuda:0', grad_fn=<AddBackward0>) tensor(0., device='cuda:0', grad_fn=<MulBackward0>) tensor(0., device='cuda:0', grad_fn=<MulBackward0>)\n",
      "Epoch: 006, Train scatter: tensor([0.1442]), Test scatter: tensor([0.1419])\n"
     ]
    },
    {
     "output_type": "error",
     "ename": "KeyboardInterrupt",
     "evalue": "",
     "traceback": [
      "\u001b[0;31m---------------------------------------------------------------------------\u001b[0m",
      "\u001b[0;31mKeyboardInterrupt\u001b[0m                         Traceback (most recent call last)",
      "\u001b[0;32m/tmp/ipykernel_12885/3956746396.py\u001b[0m in \u001b[0;36m<module>\u001b[0;34m\u001b[0m\n\u001b[1;32m      4\u001b[0m \u001b[0;31m# for epoch in range(n_epochs):\u001b[0m\u001b[0;34m\u001b[0m\u001b[0;34m\u001b[0m\u001b[0m\n\u001b[1;32m      5\u001b[0m \u001b[0;32mfor\u001b[0m \u001b[0mepoch\u001b[0m \u001b[0;32min\u001b[0m \u001b[0mrange\u001b[0m\u001b[0;34m(\u001b[0m\u001b[0;36m10\u001b[0m\u001b[0;34m)\u001b[0m\u001b[0;34m:\u001b[0m\u001b[0;34m\u001b[0m\u001b[0;34m\u001b[0m\u001b[0m\n\u001b[0;32m----> 6\u001b[0;31m     \u001b[0mtrain\u001b[0m\u001b[0;34m(\u001b[0m\u001b[0;34m)\u001b[0m\u001b[0;34m\u001b[0m\u001b[0;34m\u001b[0m\u001b[0m\n\u001b[0m\u001b[1;32m      7\u001b[0m \u001b[0;34m\u001b[0m\u001b[0m\n\u001b[1;32m      8\u001b[0m     \u001b[0;32mif\u001b[0m \u001b[0;34m(\u001b[0m\u001b[0mepoch\u001b[0m\u001b[0;34m+\u001b[0m\u001b[0;36m1\u001b[0m\u001b[0;34m)\u001b[0m\u001b[0;34m%\u001b[0m\u001b[0;36m2\u001b[0m\u001b[0;34m==\u001b[0m\u001b[0;36m0\u001b[0m\u001b[0;34m:\u001b[0m\u001b[0;34m\u001b[0m\u001b[0;34m\u001b[0m\u001b[0m\n",
      "\u001b[0;32m/tmp/ipykernel_12885/1778095259.py\u001b[0m in \u001b[0;36mtrain\u001b[0;34m()\u001b[0m\n\u001b[1;32m     23\u001b[0m \u001b[0;31m#             loss.backward()\u001b[0m\u001b[0;34m\u001b[0m\u001b[0;34m\u001b[0m\u001b[0m\n\u001b[1;32m     24\u001b[0m         \u001b[0maccelerator\u001b[0m\u001b[0;34m.\u001b[0m\u001b[0mbackward\u001b[0m\u001b[0;34m(\u001b[0m\u001b[0mloss\u001b[0m\u001b[0;34m)\u001b[0m\u001b[0;34m\u001b[0m\u001b[0;34m\u001b[0m\u001b[0m\n\u001b[0;32m---> 25\u001b[0;31m         \u001b[0moptimizer\u001b[0m\u001b[0;34m.\u001b[0m\u001b[0mstep\u001b[0m\u001b[0;34m(\u001b[0m\u001b[0;34m)\u001b[0m\u001b[0;34m\u001b[0m\u001b[0;34m\u001b[0m\u001b[0m\n\u001b[0m\u001b[1;32m     26\u001b[0m         \u001b[0moptimizer\u001b[0m\u001b[0;34m.\u001b[0m\u001b[0mzero_grad\u001b[0m\u001b[0;34m(\u001b[0m\u001b[0;34m)\u001b[0m\u001b[0;34m\u001b[0m\u001b[0;34m\u001b[0m\u001b[0m\n\u001b[1;32m     27\u001b[0m     \u001b[0mprint\u001b[0m\u001b[0;34m(\u001b[0m\u001b[0mloss\u001b[0m\u001b[0;34m,\u001b[0m \u001b[0ml1_norm\u001b[0m\u001b[0;34m*\u001b[0m\u001b[0ml1_lambda\u001b[0m\u001b[0;34m,\u001b[0m \u001b[0ml2_norm\u001b[0m\u001b[0;34m*\u001b[0m\u001b[0ml2_lambda\u001b[0m\u001b[0;34m)\u001b[0m\u001b[0;34m\u001b[0m\u001b[0;34m\u001b[0m\u001b[0m\n",
      "\u001b[0;32m~/.conda/envs/juptorch/lib/python3.9/site-packages/accelerate/optimizer.py\u001b[0m in \u001b[0;36mstep\u001b[0;34m(self, closure)\u001b[0m\n\u001b[1;32m    117\u001b[0m             \u001b[0mself\u001b[0m\u001b[0;34m.\u001b[0m\u001b[0m_is_overflow\u001b[0m \u001b[0;34m=\u001b[0m \u001b[0mscale_after\u001b[0m \u001b[0;34m<\u001b[0m \u001b[0mscale_before\u001b[0m\u001b[0;34m\u001b[0m\u001b[0;34m\u001b[0m\u001b[0m\n\u001b[1;32m    118\u001b[0m         \u001b[0;32melse\u001b[0m\u001b[0;34m:\u001b[0m\u001b[0;34m\u001b[0m\u001b[0;34m\u001b[0m\u001b[0m\n\u001b[0;32m--> 119\u001b[0;31m             \u001b[0mself\u001b[0m\u001b[0;34m.\u001b[0m\u001b[0moptimizer\u001b[0m\u001b[0;34m.\u001b[0m\u001b[0mstep\u001b[0m\u001b[0;34m(\u001b[0m\u001b[0mclosure\u001b[0m\u001b[0;34m)\u001b[0m\u001b[0;34m\u001b[0m\u001b[0;34m\u001b[0m\u001b[0m\n\u001b[0m\u001b[1;32m    120\u001b[0m \u001b[0;34m\u001b[0m\u001b[0m\n\u001b[1;32m    121\u001b[0m     \u001b[0;32mdef\u001b[0m \u001b[0m_switch_parameters\u001b[0m\u001b[0;34m(\u001b[0m\u001b[0mself\u001b[0m\u001b[0;34m,\u001b[0m \u001b[0mparameters_map\u001b[0m\u001b[0;34m)\u001b[0m\u001b[0;34m:\u001b[0m\u001b[0;34m\u001b[0m\u001b[0;34m\u001b[0m\u001b[0m\n",
      "\u001b[0;32m~/.conda/envs/juptorch/lib/python3.9/site-packages/torch/optim/optimizer.py\u001b[0m in \u001b[0;36mwrapper\u001b[0;34m(*args, **kwargs)\u001b[0m\n\u001b[1;32m     86\u001b[0m                 \u001b[0mprofile_name\u001b[0m \u001b[0;34m=\u001b[0m \u001b[0;34m\"Optimizer.step#{}.step\"\u001b[0m\u001b[0;34m.\u001b[0m\u001b[0mformat\u001b[0m\u001b[0;34m(\u001b[0m\u001b[0mobj\u001b[0m\u001b[0;34m.\u001b[0m\u001b[0m__class__\u001b[0m\u001b[0;34m.\u001b[0m\u001b[0m__name__\u001b[0m\u001b[0;34m)\u001b[0m\u001b[0;34m\u001b[0m\u001b[0;34m\u001b[0m\u001b[0m\n\u001b[1;32m     87\u001b[0m                 \u001b[0;32mwith\u001b[0m \u001b[0mtorch\u001b[0m\u001b[0;34m.\u001b[0m\u001b[0mautograd\u001b[0m\u001b[0;34m.\u001b[0m\u001b[0mprofiler\u001b[0m\u001b[0;34m.\u001b[0m\u001b[0mrecord_function\u001b[0m\u001b[0;34m(\u001b[0m\u001b[0mprofile_name\u001b[0m\u001b[0;34m)\u001b[0m\u001b[0;34m:\u001b[0m\u001b[0;34m\u001b[0m\u001b[0;34m\u001b[0m\u001b[0m\n\u001b[0;32m---> 88\u001b[0;31m                     \u001b[0;32mreturn\u001b[0m \u001b[0mfunc\u001b[0m\u001b[0;34m(\u001b[0m\u001b[0;34m*\u001b[0m\u001b[0margs\u001b[0m\u001b[0;34m,\u001b[0m \u001b[0;34m**\u001b[0m\u001b[0mkwargs\u001b[0m\u001b[0;34m)\u001b[0m\u001b[0;34m\u001b[0m\u001b[0;34m\u001b[0m\u001b[0m\n\u001b[0m\u001b[1;32m     89\u001b[0m             \u001b[0;32mreturn\u001b[0m \u001b[0mwrapper\u001b[0m\u001b[0;34m\u001b[0m\u001b[0;34m\u001b[0m\u001b[0m\n\u001b[1;32m     90\u001b[0m \u001b[0;34m\u001b[0m\u001b[0m\n",
      "\u001b[0;32m~/.conda/envs/juptorch/lib/python3.9/site-packages/torch/autograd/grad_mode.py\u001b[0m in \u001b[0;36mdecorate_context\u001b[0;34m(*args, **kwargs)\u001b[0m\n\u001b[1;32m     26\u001b[0m         \u001b[0;32mdef\u001b[0m \u001b[0mdecorate_context\u001b[0m\u001b[0;34m(\u001b[0m\u001b[0;34m*\u001b[0m\u001b[0margs\u001b[0m\u001b[0;34m,\u001b[0m \u001b[0;34m**\u001b[0m\u001b[0mkwargs\u001b[0m\u001b[0;34m)\u001b[0m\u001b[0;34m:\u001b[0m\u001b[0;34m\u001b[0m\u001b[0;34m\u001b[0m\u001b[0m\n\u001b[1;32m     27\u001b[0m             \u001b[0;32mwith\u001b[0m \u001b[0mself\u001b[0m\u001b[0;34m.\u001b[0m\u001b[0m__class__\u001b[0m\u001b[0;34m(\u001b[0m\u001b[0;34m)\u001b[0m\u001b[0;34m:\u001b[0m\u001b[0;34m\u001b[0m\u001b[0;34m\u001b[0m\u001b[0m\n\u001b[0;32m---> 28\u001b[0;31m                 \u001b[0;32mreturn\u001b[0m \u001b[0mfunc\u001b[0m\u001b[0;34m(\u001b[0m\u001b[0;34m*\u001b[0m\u001b[0margs\u001b[0m\u001b[0;34m,\u001b[0m \u001b[0;34m**\u001b[0m\u001b[0mkwargs\u001b[0m\u001b[0;34m)\u001b[0m\u001b[0;34m\u001b[0m\u001b[0;34m\u001b[0m\u001b[0m\n\u001b[0m\u001b[1;32m     29\u001b[0m         \u001b[0;32mreturn\u001b[0m \u001b[0mcast\u001b[0m\u001b[0;34m(\u001b[0m\u001b[0mF\u001b[0m\u001b[0;34m,\u001b[0m \u001b[0mdecorate_context\u001b[0m\u001b[0;34m)\u001b[0m\u001b[0;34m\u001b[0m\u001b[0;34m\u001b[0m\u001b[0m\n\u001b[1;32m     30\u001b[0m \u001b[0;34m\u001b[0m\u001b[0m\n",
      "\u001b[0;32m~/.conda/envs/juptorch/lib/python3.9/site-packages/torch/optim/adam.py\u001b[0m in \u001b[0;36mstep\u001b[0;34m(self, closure)\u001b[0m\n\u001b[1;32m    105\u001b[0m                     \u001b[0mstate_steps\u001b[0m\u001b[0;34m.\u001b[0m\u001b[0mappend\u001b[0m\u001b[0;34m(\u001b[0m\u001b[0mstate\u001b[0m\u001b[0;34m[\u001b[0m\u001b[0;34m'step'\u001b[0m\u001b[0;34m]\u001b[0m\u001b[0;34m)\u001b[0m\u001b[0;34m\u001b[0m\u001b[0;34m\u001b[0m\u001b[0m\n\u001b[1;32m    106\u001b[0m \u001b[0;34m\u001b[0m\u001b[0m\n\u001b[0;32m--> 107\u001b[0;31m             F.adam(params_with_grad,\n\u001b[0m\u001b[1;32m    108\u001b[0m                    \u001b[0mgrads\u001b[0m\u001b[0;34m,\u001b[0m\u001b[0;34m\u001b[0m\u001b[0;34m\u001b[0m\u001b[0m\n\u001b[1;32m    109\u001b[0m                    \u001b[0mexp_avgs\u001b[0m\u001b[0;34m,\u001b[0m\u001b[0;34m\u001b[0m\u001b[0;34m\u001b[0m\u001b[0m\n",
      "\u001b[0;32m~/.conda/envs/juptorch/lib/python3.9/site-packages/torch/optim/_functional.py\u001b[0m in \u001b[0;36madam\u001b[0;34m(params, grads, exp_avgs, exp_avg_sqs, max_exp_avg_sqs, state_steps, amsgrad, beta1, beta2, lr, weight_decay, eps)\u001b[0m\n\u001b[1;32m     92\u001b[0m             \u001b[0mdenom\u001b[0m \u001b[0;34m=\u001b[0m \u001b[0;34m(\u001b[0m\u001b[0mmax_exp_avg_sqs\u001b[0m\u001b[0;34m[\u001b[0m\u001b[0mi\u001b[0m\u001b[0;34m]\u001b[0m\u001b[0;34m.\u001b[0m\u001b[0msqrt\u001b[0m\u001b[0;34m(\u001b[0m\u001b[0;34m)\u001b[0m \u001b[0;34m/\u001b[0m \u001b[0mmath\u001b[0m\u001b[0;34m.\u001b[0m\u001b[0msqrt\u001b[0m\u001b[0;34m(\u001b[0m\u001b[0mbias_correction2\u001b[0m\u001b[0;34m)\u001b[0m\u001b[0;34m)\u001b[0m\u001b[0;34m.\u001b[0m\u001b[0madd_\u001b[0m\u001b[0;34m(\u001b[0m\u001b[0meps\u001b[0m\u001b[0;34m)\u001b[0m\u001b[0;34m\u001b[0m\u001b[0;34m\u001b[0m\u001b[0m\n\u001b[1;32m     93\u001b[0m         \u001b[0;32melse\u001b[0m\u001b[0;34m:\u001b[0m\u001b[0;34m\u001b[0m\u001b[0;34m\u001b[0m\u001b[0m\n\u001b[0;32m---> 94\u001b[0;31m             \u001b[0mdenom\u001b[0m \u001b[0;34m=\u001b[0m \u001b[0;34m(\u001b[0m\u001b[0mexp_avg_sq\u001b[0m\u001b[0;34m.\u001b[0m\u001b[0msqrt\u001b[0m\u001b[0;34m(\u001b[0m\u001b[0;34m)\u001b[0m \u001b[0;34m/\u001b[0m \u001b[0mmath\u001b[0m\u001b[0;34m.\u001b[0m\u001b[0msqrt\u001b[0m\u001b[0;34m(\u001b[0m\u001b[0mbias_correction2\u001b[0m\u001b[0;34m)\u001b[0m\u001b[0;34m)\u001b[0m\u001b[0;34m.\u001b[0m\u001b[0madd_\u001b[0m\u001b[0;34m(\u001b[0m\u001b[0meps\u001b[0m\u001b[0;34m)\u001b[0m\u001b[0;34m\u001b[0m\u001b[0;34m\u001b[0m\u001b[0m\n\u001b[0m\u001b[1;32m     95\u001b[0m \u001b[0;34m\u001b[0m\u001b[0m\n\u001b[1;32m     96\u001b[0m         \u001b[0mstep_size\u001b[0m \u001b[0;34m=\u001b[0m \u001b[0mlr\u001b[0m \u001b[0;34m/\u001b[0m \u001b[0mbias_correction1\u001b[0m\u001b[0;34m\u001b[0m\u001b[0;34m\u001b[0m\u001b[0m\n",
      "\u001b[0;31mKeyboardInterrupt\u001b[0m: "
     ]
    }
   ],
   "metadata": {}
  },
  {
   "cell_type": "code",
   "execution_count": 210,
   "source": [
    "def test1(loader, model):\n",
    "    '''returns targets and predictions'''\n",
    "    ys, pred,xs, Mh=[],[],[], []\n",
    "    model.eval()\n",
    "    with torch.no_grad():\n",
    "        for dat in loader: \n",
    "            out = model(dat) \n",
    "            pred.append(out.view(1,-1).cpu().detach().numpy())\n",
    "            ys.append(np.array(dat.y.cpu().numpy())) \n",
    "        \n",
    "    ys=np.hstack(ys)\n",
    "    pred=np.hstack(pred)[0]\n",
    "    return ys,pred"
   ],
   "outputs": [],
   "metadata": {}
  },
  {
   "cell_type": "code",
   "execution_count": 211,
   "source": [
    "yte, pte = test1(test_loader, model)\n",
    "# yte, pte = test1(train_loader, model)\n",
    "\n",
    "# ytr, ptr,xtr, Mhtr = test(train_loader, model)"
   ],
   "outputs": [],
   "metadata": {}
  },
  {
   "cell_type": "code",
   "execution_count": 212,
   "source": [
    "plt.plot(yte, pte, 'ro')\n",
    "plt.title([np.std(yte-pte), np.mean(yte-pte)])"
   ],
   "outputs": [
    {
     "output_type": "execute_result",
     "data": {
      "text/plain": [
       "Text(0.5, 1.0, '[0.13078757, 0.06441499]')"
      ]
     },
     "metadata": {},
     "execution_count": 212
    },
    {
     "output_type": "display_data",
     "data": {
      "text/plain": [
       "<Figure size 432x288 with 1 Axes>"
      ],
      "image/png": "[encoded data removed]"
     },
     "metadata": {
      "needs_background": "light"
     }
    }
   ],
   "metadata": {}
  },
  {
   "cell_type": "code",
   "execution_count": 217,
   "source": [
    "fig, ax= plt.subplots(2, figsize=(9,12))\n",
    "bins=50\n",
    "l=0.01\n",
    "pred=pte\n",
    "ax[0].hist(yte, bins=bins, range=(np.percentile(np.hstack([yte,pred]), [l,100-l])), label='true',  histtype='step')\n",
    "ax[0].hist(pred, bins=bins, range=(np.percentile(np.hstack([yte,pred]), [l,100-l])), label='pred', histtype='step')\n",
    "ax[1].hist((yte-pred), bins=bins,range=(np.percentile(yte-pred, [1,99])),  histtype='step', label='residuals');\n",
    "ax[0].legend()\n",
    "ax[1].legend()\n",
    "ax[0].set(title='Predicted/true stellar mass', xlabel='log10(M_stellar)', ylabel='N')\n",
    "ax[1].set(title=f'Residuals, scatter is {np.std(yte-pred):.3f}',xlabel='log10(M_stellar)_true-log10(M_stellar)_predicted', ylabel='N')"
   ],
   "outputs": [
    {
     "output_type": "execute_result",
     "data": {
      "text/plain": [
       "[Text(0.5, 1.0, 'Residuals, scatter is 0.131'),\n",
       " Text(0.5, 0, 'log10(M_stellar)_true-log10(M_stellar)_predicted'),\n",
       " Text(0, 0.5, 'N')]"
      ]
     },
     "metadata": {},
     "execution_count": 217
    },
    {
     "output_type": "display_data",
     "data": {
      "text/plain": [
       "<Figure size 648x864 with 2 Axes>"
      ],
      "image/png": "[encoded data removed]"
     },
     "metadata": {
      "needs_background": "light"
     }
    }
   ],
   "metadata": {}
  },
  {
   "cell_type": "code",
   "execution_count": 214,
   "source": [
    "fig, ax =plt.subplots(figsize=(12,9))\n",
    "ax.plot(yte,pred, 'ro')\n",
    "ax.plot([min(yte),max(yte)],[min(yte),max(yte)], 'k--', label='Perfect correspondance')\n",
    "ax.set(xlabel='true',ylabel='predicted', title='True/predicted corr')\n",
    "ax.legend()"
   ],
   "outputs": [
    {
     "output_type": "execute_result",
     "data": {
      "text/plain": [
       "<matplotlib.legend.Legend at 0x2b01b2864df0>"
      ]
     },
     "metadata": {},
     "execution_count": 214
    },
    {
     "output_type": "display_data",
     "data": {
      "text/plain": [
       "<Figure size 864x648 with 1 Axes>"
      ],
      "image/png": "[encoded data removed]"
     },
     "metadata": {
      "needs_background": "light"
     }
    }
   ],
   "metadata": {
    "scrolled": false
   }
  },
  {
   "cell_type": "code",
   "execution_count": 215,
   "source": [
    "import matplotlib as mpl\n",
    "l=0.5\n",
    "fig, ax =plt.subplots(figsize=(12,9))\n",
    "h = ax.hist2d(yte,pred, bins=50, range=[np.percentile(yte, [l,100-l]),np.percentile(pred, [l,100-l])],\\\n",
    "              norm=mpl.colors.LogNorm(), cmap=mpl.cm.magma)\n",
    "fig.colorbar(h[3], ax=ax)\n",
    "ax.plot([min(yte),max(yte)],[min(yte),max(yte)], 'k--', label='Perfect correspondance')\n",
    "ax.set(xlabel='true',ylabel='predicted', title='True/predicted corr')\n",
    "# ax.legend()"
   ],
   "outputs": [
    {
     "output_type": "execute_result",
     "data": {
      "text/plain": [
       "[Text(0.5, 0, 'true'),\n",
       " Text(0, 0.5, 'predicted'),\n",
       " Text(0.5, 1.0, 'True/predicted corr')]"
      ]
     },
     "metadata": {},
     "execution_count": 215
    },
    {
     "output_type": "display_data",
     "data": {
      "text/plain": [
       "<Figure size 864x648 with 2 Axes>"
      ],
      "image/png": "[encoded data removed]"
     },
     "metadata": {
      "needs_background": "light"
     }
    }
   ],
   "metadata": {}
  },
  {
   "cell_type": "code",
   "execution_count": 205,
   "source": [
    "xs,ys=[], []\n",
    "for d in data[int(len(data)*0.8):]:\n",
    "    xs.append(d.x[0,3].numpy())\n",
    "    ys.append(d.y.numpy())    "
   ],
   "outputs": [],
   "metadata": {}
  },
  {
   "cell_type": "code",
   "execution_count": 206,
   "source": [
    "Mh=[]\n",
    "for x in xes:\n",
    "    Mh.append(x[0,3])\n",
    "plt.plot(Mh, pred, 'o', markersize=1) "
   ],
   "outputs": [
    {
     "output_type": "error",
     "ename": "NameError",
     "evalue": "name 'xes' is not defined",
     "traceback": [
      "\u001b[0;31m---------------------------------------------------------------------------\u001b[0m",
      "\u001b[0;31mNameError\u001b[0m                                 Traceback (most recent call last)",
      "\u001b[0;32m/tmp/ipykernel_12885/157028899.py\u001b[0m in \u001b[0;36m<module>\u001b[0;34m\u001b[0m\n\u001b[1;32m      1\u001b[0m \u001b[0mMh\u001b[0m\u001b[0;34m=\u001b[0m\u001b[0;34m[\u001b[0m\u001b[0;34m]\u001b[0m\u001b[0;34m\u001b[0m\u001b[0;34m\u001b[0m\u001b[0m\n\u001b[0;32m----> 2\u001b[0;31m \u001b[0;32mfor\u001b[0m \u001b[0mx\u001b[0m \u001b[0;32min\u001b[0m \u001b[0mxes\u001b[0m\u001b[0;34m:\u001b[0m\u001b[0;34m\u001b[0m\u001b[0;34m\u001b[0m\u001b[0m\n\u001b[0m\u001b[1;32m      3\u001b[0m     \u001b[0mMh\u001b[0m\u001b[0;34m.\u001b[0m\u001b[0mappend\u001b[0m\u001b[0;34m(\u001b[0m\u001b[0mx\u001b[0m\u001b[0;34m[\u001b[0m\u001b[0;36m0\u001b[0m\u001b[0;34m,\u001b[0m\u001b[0;36m3\u001b[0m\u001b[0;34m]\u001b[0m\u001b[0;34m)\u001b[0m\u001b[0;34m\u001b[0m\u001b[0;34m\u001b[0m\u001b[0m\n\u001b[1;32m      4\u001b[0m \u001b[0mplt\u001b[0m\u001b[0;34m.\u001b[0m\u001b[0mplot\u001b[0m\u001b[0;34m(\u001b[0m\u001b[0mMh\u001b[0m\u001b[0;34m,\u001b[0m \u001b[0mpred\u001b[0m\u001b[0;34m,\u001b[0m \u001b[0;34m'o'\u001b[0m\u001b[0;34m,\u001b[0m \u001b[0mmarkersize\u001b[0m\u001b[0;34m=\u001b[0m\u001b[0;36m1\u001b[0m\u001b[0;34m)\u001b[0m\u001b[0;34m\u001b[0m\u001b[0;34m\u001b[0m\u001b[0m\n",
      "\u001b[0;31mNameError\u001b[0m: name 'xes' is not defined"
     ]
    }
   ],
   "metadata": {}
  },
  {
   "cell_type": "code",
   "execution_count": null,
   "source": [
    "plt.plot(x, y, 'o', markersize=1) "
   ],
   "outputs": [],
   "metadata": {}
  },
  {
   "cell_type": "code",
   "execution_count": null,
   "source": [
    "## remember to validate that test/val/train are actually comparable\n",
    "## create toy problem (predict variance of all halo masses eg, verifying that in takes into account edges)\n",
    "## same, predict average of the difference of post-merge halo and pre merger halos\n",
    "\n",
    "## try different pools"
   ],
   "outputs": [],
   "metadata": {}
  },
  {
   "cell_type": "code",
   "execution_count": null,
   "source": [
    "xte, yte, lte = [], [], []\n",
    "for d in test_data:\n",
    "    xte.append(d.x.numpy()[0,3])\n",
    "    yte.append(d.y.numpy())    \n",
    "    lte.append(np.log10(len(d.x.numpy()))   ) \n",
    "yte=np.vstack(yte)"
   ],
   "outputs": [],
   "metadata": {}
  },
  {
   "cell_type": "code",
   "execution_count": null,
   "source": [
    "xtr, ytr, ltr = [], [], []\n",
    "for d in train_data:\n",
    "    xtr.append(d.x.numpy()[0,3])\n",
    "    ytr.append(d.y.numpy())    \n",
    "    ltr.append(np.log10(len(d.x.numpy()))   ) \n",
    "ytr=np.vstack(ytr)"
   ],
   "outputs": [],
   "metadata": {}
  },
  {
   "cell_type": "code",
   "execution_count": null,
   "source": [
    "bins=20\n",
    "fig, ax = plt.subplots(3, figsize=(12,12))\n",
    "ax[0].hist(xtr, bins=bins, histtype='step', density=1, label='train')\n",
    "ax[0].hist(xte, bins=bins, histtype='step', density=1, label='test')\n",
    "ax[0].set(xlabel='Final halo mass')\n",
    "\n",
    "ax[1].hist(ytr, bins=bins, histtype='step', density=1, label='train')\n",
    "ax[1].hist(yte, bins=bins, histtype='step', density=1, label='test')\n",
    "ax[1].set(xlabel='Stellar mass')\n",
    "\n",
    "ax[2].hist(ltr, bins=bins, histtype='step', density=1, label='train')\n",
    "ax[2].hist(lte, bins=bins, histtype='step', density=1, label='test');\n",
    "ax[2].set(xlabel='log10(Tree length)')\n",
    "\n",
    "for a in ax:\n",
    "    a.set(yscale='log')\n",
    "    a.legend()"
   ],
   "outputs": [],
   "metadata": {}
  },
  {
   "cell_type": "code",
   "execution_count": 51,
   "source": [
    "import multiprocessing\n",
    "multiprocessing.cpu_count()"
   ],
   "outputs": [
    {
     "output_type": "execute_result",
     "data": {
      "text/plain": [
       "28"
      ]
     },
     "metadata": {},
     "execution_count": 51
    }
   ],
   "metadata": {}
  },
  {
   "cell_type": "code",
   "execution_count": 52,
   "source": [
    "os.cpu_count()"
   ],
   "outputs": [
    {
     "output_type": "execute_result",
     "data": {
      "text/plain": [
       "28"
      ]
     },
     "metadata": {},
     "execution_count": 52
    }
   ],
   "metadata": {}
  }
 ],
 "metadata": {
  "kernelspec": {
   "display_name": "Python 3 (ipykernel)",
   "language": "python",
   "name": "python3"
  },
  "language_info": {
   "codemirror_mode": {
    "name": "ipython",
    "version": 3
   },
   "file_extension": ".py",
   "mimetype": "text/x-python",
   "name": "python",
   "nbconvert_exporter": "python",
   "pygments_lexer": "ipython3",
   "version": "3.9.7"
  }
 },
 "nbformat": 4,
 "nbformat_minor": 5
}