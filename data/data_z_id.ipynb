{
 "cells": [
  {
   "cell_type": "code",
   "execution_count": 4,
   "id": "d0212831",
   "metadata": {},
   "outputs": [],
   "source": [
    "import torch, time, pickle, os, sys, argparse\n",
    "from torch_geometric.data import Data\n",
    "import numpy as np\n",
    "import matplotlib.pyplot as plt\n",
    "import pandas as pd\n",
    "from tqdm import tqdm\n",
    "import os.path as osp\n",
    "\n",
    "def convert(d,p):\n",
    "    dfin=[]\n",
    "    if len(p)!=len(np.unique(p)):\n",
    "        print('Wrong order of prog/desc')\n",
    "    else:\n",
    "        no=d[0]\n",
    "        for desc in d:\n",
    "            if desc==no:\n",
    "                dfin.append(0)\n",
    "            else:\n",
    "                dfin.append(p.index(desc)+1)\n",
    "    return dfin, np.arange(1, 1+len(p))"
   ]
  },
  {
   "cell_type": "code",
   "execution_count": 5,
   "id": "1d4a8f6c",
   "metadata": {},
   "outputs": [],
   "source": [
    "maxs=[1,1,1]\n",
    "case='testid'\n",
    "transform=None\n",
    "zcut=0\n",
    "all_cols=np.array([0,2,4,5,6,7,8,10,11,12,13,14,15,16,17,18,19,20,21,22,23,24,25,35]+list(range(37,60)))"
   ]
  },
  {
   "cell_type": "code",
   "execution_count": 6,
   "id": "047765cf",
   "metadata": {},
   "outputs": [
    {
     "name": "stdout",
     "output_type": "stream",
     "text": [
      "Loading isotree 0_0_0\n",
      "isotree 0_0_0 loaded, restructuring\n"
     ]
    },
    {
     "name": "stderr",
     "output_type": "stream",
     "text": [
      "/tmp/ipykernel_24219/3539380746.py:67: SettingWithCopyWarning: \n",
      "A value is trying to be set on a copy of a slice from a DataFrame\n",
      "\n",
      "See the caveats in the documentation: https://pandas.pydata.org/pandas-docs/stable/user_guide/indexing.html#returning-a-view-versus-a-copy\n",
      "  zhalos['desc_id(3)'][zhalos['#scale(0)']==acut_true]=-1\n"
     ]
    }
   ],
   "source": [
    "dat=[]\n",
    "target=8\n",
    "lim=10\n",
    "tcols=np.array(all_cols)\n",
    "raw_path=osp.expanduser('~/../../../tigress/cj1223/merger_trees/isotrees/')\n",
    "target_path=osp.expanduser('~/../../../tigress/cj1223/merger_trees/samout/')\n",
    "if transform:\n",
    "    transform_path=osp.expanduser(f\"~/../../../scratch/gpfs/cj1223/GraphStorage/transformers/{transform}_allfeat.pkl\")\n",
    "    scaler=pickle.load(open(transform_path, 'rb'))\n",
    "not_include=np.array([0,1,0,1,0,1,1,1,1,0,0,0,0,0,0,0,0,0,0,0,0,0,0,0,0,0,0,0,0,0,0,0,0,0,0,0,0,0,0,0,0,0,0,0,0,0,0,0,0,\\\n",
    "    0,0,0,0,0,0,0,0,0,0,0]) \n",
    "is_cat=[0,1,0,1,1,1,1,1,1,0,0,0,0,0,1,0,0,0,0,0,0,0,0,0,0,0,0,1,1,1,1,1,1,1,1,0,1,0,0,0,0,0,0,0,0,0,0,0,0,\\\n",
    "    0,0,0,0,0,0,0,0,0,0,0]\n",
    "is_cat=np.array([bool(i) for i in is_cat])\n",
    "icols=np.array([1,3])\n",
    "load_cols=np.sort(np.concatenate([tcols,icols]))\n",
    "not_include=not_include[load_cols]\n",
    "meta={'tcols':tcols,\n",
    "     'transform':transform,\n",
    "     'target': target,\n",
    "     'maxs':maxs}\n",
    "i,j,k = 0,0,0\n",
    "start=time.time()\n",
    "print(f'Loading isotree {i}_{j}_{k}')\n",
    "pd1=pd.read_table(raw_path+f'isotree_{i}_{j}_{k}.dat', skiprows=0, delimiter='\\s+', usecols=load_cols)\n",
    "print(f'isotree {i}_{j}_{k} loaded, restructuring')\n",
    "\n",
    "raw=pd1.drop(axis=0, index=np.arange(50)).reset_index()\n",
    "del pd1\n",
    "\n",
    "trees=raw[raw.isna()['desc_id(3)']] \n",
    "halos=raw[~raw.isna()['desc_id(3)']]\n",
    "del raw\n",
    "\n",
    "##########################################\n",
    "### End loading, begin dtype changing  ###\n",
    "##########################################\n",
    "\n",
    "mask=halos.dtypes.values[1:]=='O'\n",
    "\n",
    "f,it=\"float64\", \"int64\"\n",
    "map1=[]\n",
    "map2=[]\n",
    "q=0\n",
    "for l in load_cols:\n",
    "    q+=1\n",
    "    if l<25:\n",
    "        map1.append(l)\n",
    "        map2.append(q)\n",
    "map1=np.array(map1)\n",
    "map2=np.array(map2)\n",
    "\n",
    "castto=np.array([f,it,f,it,it,it,it,it,it,f,f,f,f,f,it,f,f,f,f,f,f,f,f,f,f])\n",
    "\n",
    "castto=castto[map1]\n",
    "dicts = {}\n",
    "keys = halos.columns[map2]\n",
    "for d, key in enumerate(keys):\n",
    "        dicts[key] = castto[d]\n",
    "\n",
    "halos=halos.astype(dicts)\n",
    "\n",
    "mask=(1/halos['#scale(0)']-1)>=zcut\n",
    "zhalos=halos[mask]\n",
    "acut_true=np.unique(zhalos['#scale(0)'])[-1]\n",
    "zcut_true=1/acut_true-1\n",
    "zhalos['desc_id(3)'][zhalos['#scale(0)']==acut_true]=-1\n",
    "meta['zcut']=[zcut,zcut_true]\n",
    "\n",
    "log=[10,38, 39, 40, 41, 42, 57, 58]\n",
    "#simple log for the rest\n",
    "def logt(x):\n",
    "    return np.log10(x+1)\n",
    "for l in log:\n",
    "    if l in tcols:\n",
    "        l1=np.where(load_cols==l)[0][0]+1\n",
    "        zhalos[zhalos.columns[l1]]=logt(zhalos[zhalos.columns[l1]])\n",
    "\n",
    "minmax=[23,24,25]\n",
    "#simple log for the rest\n",
    "def maxscale(x):\n",
    "    return x/max(x)\n",
    "for l in minmax:\n",
    "    if l in tcols:\n",
    "        l1=np.where(load_cols==l)[0][0]+1\n",
    "        zhalos[zhalos.columns[l1]]=maxscale(zhalos[zhalos.columns[l1]])"
   ]
  },
  {
   "cell_type": "code",
   "execution_count": 7,
   "id": "eef3b239",
   "metadata": {},
   "outputs": [
    {
     "data": {
      "text/plain": [
       "Index(['index', '#scale(0)', 'id(1)', 'desc_scale(2)', 'desc_id(3)',\n",
       "       'num_prog(4)', 'pid(5)', 'upid(6)', 'desc_pid(7)', 'phantom(8)',\n",
       "       'Mvir(10)', 'Rvir(11)', 'rs(12)', 'vrms(13)', 'mmp?(14)',\n",
       "       'scale_of_last_MM(15)', 'vmax(16)', 'x(17)', 'y(18)', 'z(19)', 'vx(20)',\n",
       "       'vy(21)', 'vz(22)', 'Jx(23)', 'Jy(24)', 'Jz(25)', 'Tidal_Force(35)',\n",
       "       'Rs_Klypin', 'Mvir_all', 'M200b', 'M200c', 'M500c', 'M2500c', 'Xoff',\n",
       "       'Voff', 'Spin_Bullock', 'b_to_a', 'c_to_a', 'A[x]', 'A[y]', 'A[z]',\n",
       "       'b_to_a(500c)', 'c_to_a(500c)', 'A[x](500c)', 'A[y](500c)',\n",
       "       'A[z](500c)', 'T/|U|', 'M_pe_Behroozi', 'M_pe_Diemer',\n",
       "       'Halfmass_Radius'],\n",
       "      dtype='object')"
      ]
     },
     "execution_count": 7,
     "metadata": {},
     "output_type": "execute_result"
    }
   ],
   "source": [
    "halos.columns"
   ]
  },
  {
   "cell_type": "code",
   "execution_count": 8,
   "id": "cd198c38",
   "metadata": {},
   "outputs": [
    {
     "data": {
      "text/plain": [
       "count    4.835849e+06\n",
       "mean     4.148064e-06\n",
       "std      1.589778e-03\n",
       "min     -1.004831e-01\n",
       "25%     -1.944928e-09\n",
       "50%      9.487923e-13\n",
       "75%      1.968599e-09\n",
       "max      1.000000e+00\n",
       "Name: Jy(24), dtype: float64"
      ]
     },
     "execution_count": 8,
     "metadata": {},
     "output_type": "execute_result"
    }
   ],
   "source": [
    "zhalos[halos.columns[24]].describe()"
   ]
  },
  {
   "cell_type": "code",
   "execution_count": 9,
   "id": "f9a9b0d2",
   "metadata": {},
   "outputs": [
    {
     "name": "stdout",
     "output_type": "stream",
     "text": [
      "Loading isotree 0_0_0\n",
      "isotree 0_0_0 loaded, restructuring\n"
     ]
    },
    {
     "name": "stderr",
     "output_type": "stream",
     "text": [
      "/tmp/ipykernel_24219/2608431374.py:73: SettingWithCopyWarning: \n",
      "A value is trying to be set on a copy of a slice from a DataFrame\n",
      "\n",
      "See the caveats in the documentation: https://pandas.pydata.org/pandas-docs/stable/user_guide/indexing.html#returning-a-view-versus-a-copy\n",
      "  zhalos['desc_id(3)'][zhalos['#scale(0)']==acut_true]=-1\n"
     ]
    },
    {
     "name": "stdout",
     "output_type": "stream",
     "text": [
      "Splitting to tree and scaling\n",
      "Split done\n",
      "Loading targets\n"
     ]
    }
   ],
   "source": [
    "dat=[]\n",
    "target=8\n",
    "lim=10\n",
    "tcols=np.array(all_cols)\n",
    "raw_path=osp.expanduser('~/../../../tigress/cj1223/merger_trees/isotrees/')\n",
    "target_path=osp.expanduser('~/../../../tigress/cj1223/merger_trees/samout/')\n",
    "if transform:\n",
    "    transform_path=osp.expanduser(f\"~/../../../scratch/gpfs/cj1223/GraphStorage/transformers/{transform}_allfeat.pkl\")\n",
    "    scaler=pickle.load(open(transform_path, 'rb'))\n",
    "not_include=np.array([0,1,0,1,0,1,1,1,1,0,0,0,0,0,0,0,0,0,0,0,0,0,0,0,0,0,0,0,0,0,0,0,0,0,0,0,0,0,0,0,0,0,0,0,0,0,0,0,0,\\\n",
    "    0,0,0,0,0,0,0,0,0,0,0]) \n",
    "is_cat=[0,1,0,1,1,1,1,1,1,0,0,0,0,0,1,0,0,0,0,0,0,0,0,0,0,0,0,1,1,1,1,1,1,1,1,0,1,0,0,0,0,0,0,0,0,0,0,0,0,\\\n",
    "    0,0,0,0,0,0,0,0,0,0,0]\n",
    "is_cat=np.array([bool(i) for i in is_cat])\n",
    "icols=np.array([1,3])\n",
    "load_cols=np.sort(np.concatenate([tcols,icols]))\n",
    "not_include=not_include[load_cols]\n",
    "meta={'tcols':tcols,\n",
    "     'transform':transform,\n",
    "     'target': target,\n",
    "     'maxs':maxs}\n",
    "i,j,k = 0,0,0\n",
    "start=time.time()\n",
    "print(f'Loading isotree {i}_{j}_{k}')\n",
    "pd1=pd.read_table(raw_path+f'isotree_{i}_{j}_{k}.dat', skiprows=0, delimiter='\\s+', usecols=load_cols)\n",
    "print(f'isotree {i}_{j}_{k} loaded, restructuring')\n",
    "\n",
    "raw=pd1.drop(axis=0, index=np.arange(50)).reset_index()\n",
    "del pd1\n",
    "\n",
    "trees=raw[raw.isna()['desc_id(3)']] \n",
    "halos=raw[~raw.isna()['desc_id(3)']]\n",
    "del raw\n",
    "\n",
    "##########################################\n",
    "### End loading, begin dtype changing  ###\n",
    "##########################################\n",
    "\n",
    "mask=halos.dtypes.values[1:]=='O'\n",
    "\n",
    "f,it=\"float64\", \"int64\"\n",
    "map1=[]\n",
    "map2=[]\n",
    "q=0\n",
    "for l in load_cols:\n",
    "    q+=1\n",
    "    if l<25:\n",
    "        map1.append(l)\n",
    "        map2.append(q)\n",
    "map1=np.array(map1)\n",
    "map2=np.array(map2)\n",
    "\n",
    "castto=np.array([f,it,f,it,it,it,it,it,it,f,f,f,f,f,it,f,f,f,f,f,f,f,f,f,f])\n",
    "\n",
    "castto=castto[map1]\n",
    "dicts = {}\n",
    "keys = halos.columns[map2]\n",
    "for d, key in enumerate(keys):\n",
    "        dicts[key] = castto[d]\n",
    "\n",
    "halos=halos.astype(dicts)\n",
    "\n",
    "###################################################\n",
    "### end dtype, z-selection                      ###\n",
    "###################################################\n",
    "\n",
    "\n",
    "\n",
    "mask=(1/halos['#scale(0)']-1)>=zcut\n",
    "zhalos=halos[mask]\n",
    "acut_true=np.unique(zhalos['#scale(0)'])[-1]\n",
    "zcut_true=1/acut_true-1\n",
    "zhalos['desc_id(3)'][zhalos['#scale(0)']==acut_true]=-1\n",
    "meta['zcut']=[zcut,zcut_true]\n",
    "\n",
    "del halos\n",
    "\n",
    "#########################################################\n",
    "### end z-selcetion, begin inital hardcoded scaling   ###\n",
    "#########################################################\n",
    "\n",
    "\n",
    "log=[10,38, 39, 40, 41, 42, 57, 58]\n",
    "#simple log for the rest\n",
    "def logt(x):\n",
    "    return np.log10(x+1)\n",
    "for l in log:\n",
    "    if l in tcols:\n",
    "        l1=np.where(load_cols==l)[0][0]+1\n",
    "        zhalos[zhalos.columns[l1]]=logt(zhalos[zhalos.columns[l1]])\n",
    "\n",
    "minmax=[23,24,25]\n",
    "#simple log for the rest\n",
    "def maxscale(x):\n",
    "    return x/max(x)\n",
    "for l in minmax:\n",
    "    if l in tcols:\n",
    "        l1=np.where(load_cols==l)[0][0]+1\n",
    "        zhalos[zhalos.columns[l1]]=maxscale(zhalos[zhalos.columns[l1]])\n",
    "\n",
    "scale_cols=np.array(tcols[~is_cat[tcols]])\n",
    "meta['scale_cols']=scale_cols\n",
    "#########################################################\n",
    "### end inital hardcoded scaling, begin split/scale   ###\n",
    "#########################################################\n",
    "\n",
    "indices = [i for i, x in enumerate(zhalos['desc_id(3)']) if x == -1]\n",
    "print(f'Splitting to tree and scaling')\n",
    "spli=np.split(np.array(zhalos)[:,1:], np.array(indices[1:]))\n",
    "# del zhalos, halos\n",
    "splits=[]\n",
    "for s in spli:\n",
    "    if s[0,np.where(load_cols==10)[0][0]]>lim:\n",
    "        splits.append(s)\n",
    "splits=np.array(splits, dtype=object)\n",
    "split=[]\n",
    "for tree in splits:\n",
    "    s=tree[np.logical_or(tree[:,3] == -1,tree[:,4]!=1)] #select roots, mergers and final\n",
    "    if transform:\n",
    "        for n in scale_cols:\n",
    "            n1=np.where(load_cols==n)[0][0]\n",
    "            s[:,n1]=scaler[n].transform(s[:,n1].reshape(-1,1)).reshape(np.shape(s[:,n1])) #this needs to change\n",
    "    split.append(s)\n",
    "split=np.array(split, dtype=object)\n",
    "print('Split done')\n",
    "\n",
    "#########################################################\n",
    "### end split, begin target loading                   ###\n",
    "#########################################################\n",
    "\n",
    "del zhalos\n",
    "\n",
    "print('Loading targets')\n",
    "ex=f'{i}_{j}_{k}/galprop_0-99.dat'\n",
    "pdc=pd.read_table(target_path+ex, skiprows=0, delimiter=',', nrows=41, header=None)\n",
    "newcols=pdc.iloc[:,0]\n",
    "pds=pd.read_table(target_path+ex, skiprows=41, delimiter='\\s+', header=None)\n",
    "pds.columns=np.array(newcols)\n",
    "\n",
    "#########################################################\n",
    "### end target loading, begin z-cut                   ###\n",
    "#########################################################\n",
    "\n",
    "zcut_SAM=np.unique(pds[pds.columns[3]])[np.isclose(np.unique(pds[pds.columns[3]]),zcut_true)][0]\n",
    "pdz=pds[pds[pds.columns[3]]==zcut_SAM] # redshift selection for selecting final halos\n",
    "pdcen=pdz[(pdz[pds.columns[4]]==0)] ##central haloes\n",
    "\n",
    "del pdz\n",
    "global hraw\n",
    "rhalid=np.array(pdcen[pds.columns[1]])\n",
    "halwgal=[] ##scaled\n",
    "ids=[]\n",
    "out=[]\n",
    "for idx, tree in enumerate(split): #split up into tree\n",
    "    if tree[0,1] in rhalid:\n",
    "        if len(tree)>20000: ### change back\n",
    "            print(len(tree))\n",
    "        else:\n",
    "            halwgal.append(tree) ##scaled\n",
    "            ids.append(idx)\n",
    "            index=np.where(rhalid==tree[0,1])\n",
    "            out.append(np.array(pdcen.iloc[index])[0][target]) ## target variable column\n",
    "\n",
    "\n",
    "hraw=np.array(splits[ids], dtype=object) ##unscaled\n"
   ]
  },
  {
   "cell_type": "code",
   "execution_count": 16,
   "id": "462001ba",
   "metadata": {},
   "outputs": [
    {
     "data": {
      "text/plain": [
       "<AxesSubplot:>"
      ]
     },
     "execution_count": 16,
     "metadata": {},
     "output_type": "execute_result"
    },
    {
     "data": {
      "image/png": "[encoded data removed]",
      "text/plain": [
       "<Figure size 432x288 with 1 Axes>"
      ]
     },
     "metadata": {
      "needs_background": "light"
     },
     "output_type": "display_data"
    }
   ],
   "source": [
    "pds[pds.columns[4]].hist()"
   ]
  },
  {
   "cell_type": "code",
   "execution_count": 10,
   "id": "e95a8e02",
   "metadata": {},
   "outputs": [
    {
     "name": "stdout",
     "output_type": "stream",
     "text": [
      "Making merger tree\n"
     ]
    },
    {
     "name": "stderr",
     "output_type": "stream",
     "text": [
      "  0%|                                                                         | 0/770 [00:00<?, ?it/s]/home/cj1223/.conda/envs/juptorch/lib/python3.9/site-packages/numpy/core/_asarray.py:171: VisibleDeprecationWarning: Creating an ndarray from ragged nested sequences (which is a list-or-tuple of lists-or-tuples-or ndarrays with different lengths or shapes) is deprecated. If you meant to do this, you must specify 'dtype=object' when creating the ndarray.\n",
      "  return array(a, dtype, copy=False, order=order, subok=True)\n",
      "  1%|▋                                                                | 8/770 [00:33<53:22,  4.20s/it]\n"
     ]
    },
    {
     "ename": "KeyboardInterrupt",
     "evalue": "",
     "output_type": "error",
     "traceback": [
      "\u001b[0;31m---------------------------------------------------------------------------\u001b[0m",
      "\u001b[0;31mKeyboardInterrupt\u001b[0m                         Traceback (most recent call last)",
      "\u001b[0;32m/tmp/ipykernel_24219/3187100829.py\u001b[0m in \u001b[0;36m<module>\u001b[0;34m\u001b[0m\n\u001b[1;32m     43\u001b[0m         \u001b[0;32mwhile\u001b[0m \u001b[0mdescid\u001b[0m \u001b[0;32mnot\u001b[0m \u001b[0;32min\u001b[0m \u001b[0mmergers\u001b[0m\u001b[0;34m[\u001b[0m\u001b[0;34m:\u001b[0m\u001b[0;34m,\u001b[0m\u001b[0;36m1\u001b[0m\u001b[0;34m]\u001b[0m \u001b[0;32mand\u001b[0m \u001b[0mdescid\u001b[0m\u001b[0;34m!=\u001b[0m\u001b[0;34m[\u001b[0m\u001b[0;34m-\u001b[0m\u001b[0;36m1\u001b[0m\u001b[0;34m]\u001b[0m\u001b[0;34m:\u001b[0m\u001b[0;34m\u001b[0m\u001b[0;34m\u001b[0m\u001b[0m\n\u001b[1;32m     44\u001b[0m             \u001b[0mproid\u001b[0m\u001b[0;34m=\u001b[0m\u001b[0mhraw\u001b[0m\u001b[0;34m[\u001b[0m\u001b[0mn\u001b[0m\u001b[0;34m]\u001b[0m\u001b[0;34m[\u001b[0m\u001b[0;34m:\u001b[0m\u001b[0;34m,\u001b[0m\u001b[0;36m1\u001b[0m\u001b[0;34m]\u001b[0m\u001b[0;34m[\u001b[0m\u001b[0mnp\u001b[0m\u001b[0;34m.\u001b[0m\u001b[0mwhere\u001b[0m\u001b[0;34m(\u001b[0m\u001b[0mdescid\u001b[0m\u001b[0;34m==\u001b[0m\u001b[0mhraw\u001b[0m\u001b[0;34m[\u001b[0m\u001b[0mn\u001b[0m\u001b[0;34m]\u001b[0m\u001b[0;34m[\u001b[0m\u001b[0;34m:\u001b[0m\u001b[0;34m,\u001b[0m\u001b[0;36m1\u001b[0m\u001b[0;34m]\u001b[0m\u001b[0;34m)\u001b[0m\u001b[0;34m]\u001b[0m\u001b[0;34m\u001b[0m\u001b[0;34m\u001b[0m\u001b[0m\n\u001b[0;32m---> 45\u001b[0;31m             \u001b[0mdescid\u001b[0m\u001b[0;34m=\u001b[0m\u001b[0mhraw\u001b[0m\u001b[0;34m[\u001b[0m\u001b[0mn\u001b[0m\u001b[0;34m]\u001b[0m\u001b[0;34m[\u001b[0m\u001b[0;34m:\u001b[0m\u001b[0;34m,\u001b[0m\u001b[0;36m3\u001b[0m\u001b[0;34m]\u001b[0m\u001b[0;34m[\u001b[0m\u001b[0mnp\u001b[0m\u001b[0;34m.\u001b[0m\u001b[0mwhere\u001b[0m\u001b[0;34m(\u001b[0m\u001b[0mdescid\u001b[0m\u001b[0;34m==\u001b[0m\u001b[0mhraw\u001b[0m\u001b[0;34m[\u001b[0m\u001b[0mn\u001b[0m\u001b[0;34m]\u001b[0m\u001b[0;34m[\u001b[0m\u001b[0;34m:\u001b[0m\u001b[0;34m,\u001b[0m\u001b[0;36m1\u001b[0m\u001b[0;34m]\u001b[0m\u001b[0;34m)\u001b[0m\u001b[0;34m]\u001b[0m\u001b[0;34m\u001b[0m\u001b[0;34m\u001b[0m\u001b[0m\n\u001b[0m\u001b[1;32m     46\u001b[0m             \u001b[0mk\u001b[0m\u001b[0;34m+=\u001b[0m\u001b[0;36m1\u001b[0m\u001b[0;34m\u001b[0m\u001b[0;34m\u001b[0m\u001b[0m\n\u001b[1;32m     47\u001b[0m \u001b[0;31m#         halmix.append(hraw[n][np.where(descid==hraw[n][:,1])])\u001b[0m\u001b[0;34m\u001b[0m\u001b[0;34m\u001b[0m\u001b[0m\n",
      "\u001b[0;32m<__array_function__ internals>\u001b[0m in \u001b[0;36mwhere\u001b[0;34m(*args, **kwargs)\u001b[0m\n",
      "\u001b[0;31mKeyboardInterrupt\u001b[0m: "
     ]
    }
   ],
   "source": [
    "hals=[]\n",
    "pr,de=[],[]\n",
    "discards=[]\n",
    "extras=[]\n",
    "print('Making merger tree')\n",
    "for n in tqdm(range(len(halwgal))):\n",
    "# for n in tqdm(range(8)):\n",
    "    halmix = []\n",
    "    h=halwgal[n]\n",
    "    roots=h[h[:,4]==0]\n",
    "    mergers=h[h[:,4]>1]\n",
    "    final=h[h[:,3]==-1]\n",
    "    pro, des=[],[]\n",
    "    discarded=[]\n",
    "    premerger_id=[]\n",
    "    finalid=final[0][1]\n",
    "    for q, mid in enumerate(mergers[:,1]):\n",
    "        halmix.append(mergers[q]) ## add progenitor\n",
    "        k=1\n",
    "        descid=hraw[n][:,3][np.where(mid==hraw[n][:,1])] ##descendant ID of raw where the id of the merger is\n",
    "        while descid not in mergers[:,1] and descid!=-1: \n",
    "            proid=hraw[n][:,1][np.where(descid==hraw[n][:,1])]\n",
    "            descid=hraw[n][:,3][np.where(descid==hraw[n][:,1])] ##new descendant id where current descendant id = halo id\n",
    "            k+=1\n",
    "        pro.append(mid)\n",
    "        if k>1 and proid!=finalid: #only if relevant\n",
    "            premerger_id.append(proid)\n",
    "            halmix.append(hraw[n][np.where(proid==hraw[n][:,1])]) ### add halo before merger\n",
    "            discarded.append(1)\n",
    "            des.append(proid)\n",
    "            pro.append(proid)\n",
    "        if descid!=-1:\n",
    "            des.append(descid[0])\n",
    "        else:\n",
    "            des.append(hraw[n][:,3][np.where(mid==hraw[n][:,1])][0])\n",
    "#             halmix.append(hraw[n][np.where(descid==hraw[n][:,1])])\n",
    "        discarded.append(1/k) \n",
    "    \n",
    "    for r in roots:\n",
    "        descid=hraw[n][:,3][np.where(r[1]==hraw[n][:,1])] \n",
    "        halmix.append(r)\n",
    "        k=1\n",
    "        while descid not in mergers[:,1] and descid!=[-1]: \n",
    "            proid=hraw[n][:,1][np.where(descid==hraw[n][:,1])] \n",
    "            descid=hraw[n][:,3][np.where(descid==hraw[n][:,1])]\n",
    "            k+=1\n",
    "#         halmix.append(hraw[n][np.where(descid==hraw[n][:,1])])\n",
    "            \n",
    "        pro.append(r[1]) \n",
    "        if k>1 and proid!=finalid: #only if relevant\n",
    "            premerger_id.append(proid)\n",
    "            halmix.append(hraw[n][np.where(proid==hraw[n][:,1])])\n",
    "            discarded.append(1)\n",
    "            des.append(proid)\n",
    "            pro.append(proid)\n",
    "        if descid!=-1:\n",
    "            des.append(descid[0])\n",
    "        else:\n",
    "            des.append(hraw[n][:,3][np.where(r[1]==hraw[n][:,1])][0])\n",
    "#             halmix.append(hraw[n][np.where(descid==hraw[n][:,1])])\n",
    "        discarded.append(1/k) \n",
    "    discards.append(np.array(discarded))\n",
    "    premerger=hraw[n][np.where(premerger_id==hraw[n][:,1])[1]] \n",
    "    des,pro=convert(des, pro)\n",
    "    hal2=np.vstack([final,np.vstack(halmix)])\n",
    "    \n",
    "    hal22=np.vstack([final,mergers,roots])\n",
    "    if n==0:\n",
    "        fcols=[i for i in range(len(hal2[0])) if not_include[i]==0] ##choose non-id cols to carry forward in data\n",
    "        idcols=[i for i in range(len(hal2[0])) if not_include[i]==1] ##choose id cols to carry forward in meta\n",
    "    extra=hal2[:,np.array(idcols)[np.array([0,1])]]\n",
    "    extras.append(extra)\n",
    "    hal2=hal2[:,fcols] ##take away id's\n",
    "    hals.append(hal2)\n",
    "    pr.append([int(p) for p in pro])\n",
    "    de.append([int(d) for d in des])\n",
    "meta['extra']=np.array(extras, dtype=object)\n",
    "hals=np.array(hals,dtype=object)\n",
    "out=np.array(out)\n",
    "outtrans=[]"
   ]
  },
  {
   "cell_type": "code",
   "execution_count": null,
   "id": "3c993db2",
   "metadata": {},
   "outputs": [],
   "source": [
    "try:\n",
    "    for w in range(len(out[0])):\n",
    "        pl=np.log10(out[:,w])\n",
    "        if min(pl) == -np.inf:\n",
    "            outtrans.append(np.log10(out[:,w]+1))\n",
    "        else:\n",
    "            outtrans.append(np.log10(out[:,w]))\n",
    "    out=np.array(outtrans).T\n",
    "except:\n",
    "    pl=np.log10(out)\n",
    "    if min(pl) == -np.inf:\n",
    "        out=np.log10(out+1)\n",
    "    else:\n",
    "        out=np.log10(out)\n",
    "for n in tqdm(range(len(out))):\n",
    "    edge_index = torch.tensor([pr[n],de[n]], dtype=torch.long)\n",
    "    x = torch.tensor(hals[n], dtype=torch.float)\n",
    "    y=torch.tensor(out[n], dtype=torch.float)\n",
    "    edge_attr=torch.tensor(discards[n], dtype=torch.float)\n",
    "    graph=Data(x=x, edge_index=edge_index, edge_attr=edge_attr, y=y)\n",
    "    dat.append(graph)"
   ]
  },
  {
   "cell_type": "code",
   "execution_count": 66,
   "id": "f729ad25",
   "metadata": {},
   "outputs": [
    {
     "name": "stdout",
     "output_type": "stream",
     "text": [
      "Saving dataset\n"
     ]
    }
   ],
   "source": [
    "case='testids'\n",
    "print(\"Saving dataset\")\n",
    "if not osp.exists(osp.expanduser(f'~/../../../scratch/gpfs/cj1223/GraphStorage/{case}')):\n",
    "    os.mkdir(osp.expanduser(f'~/../../../scratch/gpfs/cj1223/GraphStorage/{case}'))\n",
    "\n",
    "with open(osp.expanduser(f'~/../../../scratch/gpfs/cj1223/GraphStorage/{case}/data.pkl'), 'wb') as handle:\n",
    "    pickle.dump(dat, handle)\n",
    "with open(osp.expanduser(f'~/../../../scratch/gpfs/cj1223/GraphStorage/{case}/meta.pkl'), 'wb') as handle:\n",
    "    pickle.dump(meta, handle)"
   ]
  },
  {
   "cell_type": "code",
   "execution_count": 67,
   "id": "4c3495c8",
   "metadata": {},
   "outputs": [],
   "source": [
    "xs=[]\n",
    "for d in dat:\n",
    "    xs.append(d.x.numpy())"
   ]
  },
  {
   "cell_type": "code",
   "execution_count": 68,
   "id": "8663044a",
   "metadata": {},
   "outputs": [],
   "source": [
    "xs=np.vstack(xs)"
   ]
  },
  {
   "cell_type": "code",
   "execution_count": 69,
   "id": "24c273d7",
   "metadata": {},
   "outputs": [
    {
     "data": {
      "image/png": "[encoded data removed]",
      "text/plain": [
       "<Figure size 1080x1080 with 48 Axes>"
      ]
     },
     "metadata": {
      "needs_background": "light"
     },
     "output_type": "display_data"
    }
   ],
   "source": [
    "fig, ax = plt.subplots(nrows=6, ncols=8, figsize=(15,15))\n",
    "ax = ax.flatten()\n",
    "for i in range(len(xs[0])):\n",
    "    ax[i].hist(xs[:,i], bins=50, histtype='step')\n",
    "    ax[i].set(title=i, yticks=[])\n",
    "fig.tight_layout()"
   ]
  },
  {
   "cell_type": "code",
   "execution_count": 39,
   "id": "deebf7ea",
   "metadata": {},
   "outputs": [
    {
     "data": {
      "image/png": "[encoded data removed]",
      "text/plain": [
       "<Figure size 432x288 with 1 Axes>"
      ]
     },
     "metadata": {
      "needs_background": "light"
     },
     "output_type": "display_data"
    }
   ],
   "source": [
    "plt.hist(xs[:,16]/xs[:,16].max(), bins=100);\n",
    "plt.yscale('log')"
   ]
  },
  {
   "cell_type": "code",
   "execution_count": null,
   "id": "25ce942b",
   "metadata": {},
   "outputs": [],
   "source": []
  }
 ],
 "metadata": {
  "kernelspec": {
   "display_name": "Python 3 (ipykernel)",
   "language": "python",
   "name": "python3"
  },
  "language_info": {
   "codemirror_mode": {
    "name": "ipython",
    "version": 3
   },
   "file_extension": ".py",
   "mimetype": "text/x-python",
   "name": "python",
   "nbconvert_exporter": "python",
   "pygments_lexer": "ipython3",
   "version": "3.9.7"
  }
 },
 "nbformat": 4,
 "nbformat_minor": 5
}
