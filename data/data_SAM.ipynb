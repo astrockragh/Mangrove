{
 "cells": [
  {
   "cell_type": "code",
   "execution_count": 2,
   "id": "a556f73c",
   "metadata": {},
   "outputs": [],
   "source": [
    "import torch, time, pickle,os\n",
    "import torch_geometric as tg\n",
    "from torch_geometric.data import Data\n",
    "import numpy as np\n",
    "import matplotlib.pyplot as plt\n",
    "import pandas as pd\n",
    "from tqdm import tqdm\n",
    "import os.path as osp\n",
    "import networkx as nx"
   ]
  },
  {
   "cell_type": "code",
   "execution_count": 3,
   "id": "899a18ac",
   "metadata": {},
   "outputs": [],
   "source": [
    "def convert(d,p):\n",
    "    dfin=[]\n",
    "    if len(p)!=len(np.unique(p)):\n",
    "        print('Wrong order of prog/desc')\n",
    "    else:\n",
    "        no=d[0]\n",
    "        for desc in d:\n",
    "            if desc==no:\n",
    "                dfin.append(0)\n",
    "            else:\n",
    "                dfin.append(p.index(desc)+1)\n",
    "    return dfin, np.arange(1, 1+len(p))"
   ]
  },
  {
   "cell_type": "code",
   "execution_count": 4,
   "id": "6fac7f35",
   "metadata": {},
   "outputs": [],
   "source": [
    "def create_graphs(tcols=[0,2,4,5,6,7,8,10,28], target=8, lim=10.5, save=False, case='test', transform='quantile', maxs=[1,1,1]):\n",
    "    dat=[]\n",
    "    tcols=np.array(tcols)\n",
    "    raw_path='~/../../../tigress/mcranmer/merger_trees/isotrees/'\n",
    "    target_path='~/../../../tigress/mcranmer/merger_trees/samout/'\n",
    "    transform_path=f'../../../../../scratch/gpfs/cj1223/GraphStorage/transformers/{transform}_allfeat.pkl'\n",
    "    scaler=pickle.load(open(transform_path, 'rb'))\n",
    "    not_include=np.array([0,1,0,1,0,1,1,1,1,0,0,0,0,0,0,0,0,0,0,0,0,0,0,0,0,0,0,0,0,0,0,0,0,0,0,0,0,0,0,0,0,0,0,0,0,0,0,0,0,\\\n",
    "        0,0,0,0,0,0,0,0,0,0,0]) \n",
    "    is_cat=[0,1,0,1,1,1,1,1,1,0,0,0,0,0,1,0,0,0,0,0,0,0,0,0,0,0,0,1,1,1,1,1,1,1,1,0,1,0,0,0,0,0,0,0,0,0,0,0,0,\\\n",
    "        0,0,0,0,0,0,0,0,0,0,0]\n",
    "    is_cat=np.array([bool(i) for i in is_cat])\n",
    "    icols=np.array([1,3])\n",
    "    load_cols=np.sort(np.concatenate([tcols,icols]))\n",
    "    not_include=not_include[load_cols]\n",
    "    \n",
    "    for i in range(0, maxs[0]):\n",
    "        for j in range(0,maxs[1]):\n",
    "            for k in range(0, maxs[2]):\n",
    "                start=time.time()\n",
    "                print(f'Loading isotree {i}_{j}_{k}')\n",
    "                pd1=pd.read_table(raw_path+f'isotree_{i}_{j}_{k}.dat', skiprows=0, delimiter='\\s+', usecols=load_cols)\n",
    "                print(f'isotree {i}_{j}_{k} loaded, restructuring')\n",
    "                \n",
    "                raw=pd1.drop(axis=0, index=np.arange(50)).reset_index()\n",
    "                del pd1\n",
    "                \n",
    "                trees=raw[raw.isna()['desc_id(3)']] \n",
    "                halos=raw[~raw.isna()['desc_id(3)']]\n",
    "                del raw\n",
    "                \n",
    "                ##########################################\n",
    "                ### End loading, begin dtype changing  ###\n",
    "                ##########################################\n",
    "                \n",
    "                mask=halos.dtypes.values[1:]=='O'\n",
    "\n",
    "                f,it=\"float64\", \"int64\"\n",
    "                map1=[]\n",
    "                map2=[]\n",
    "                q=0\n",
    "                for l in load_cols:\n",
    "                    q+=1\n",
    "                    if l<25:\n",
    "                        map1.append(l)\n",
    "                        map2.append(q)\n",
    "                map1=np.array(map1)\n",
    "                map2=np.array(map2)\n",
    "\n",
    "                castto=np.array([f,it,f,it,it,it,it,it,it,f,f,f,f,f,it,f,f,f,f,f,f,f,f,f,f])\n",
    "\n",
    "                castto=castto[map1]\n",
    "                dicts = {}\n",
    "                keys = halos.columns[map2]\n",
    "                for d, key in enumerate(keys):\n",
    "                        dicts[key] = castto[d]\n",
    "\n",
    "                halos=halos.astype(dicts)\n",
    "                \n",
    "                ###################################################\n",
    "                ### end dtype, begin inital hardcoded scaling   ###\n",
    "                ###################################################\n",
    "                \n",
    "                ## initial scaling\n",
    "                hard=[0,2,15]\n",
    "                def logit(x):\n",
    "                    return np.log10((x+0.001)/(1.01-x))\n",
    "                ##logit transform the hards\n",
    "                for h in hard:\n",
    "                    if h in tcols:\n",
    "                        h1=np.where(load_cols==h)[0][0]+1\n",
    "                        halos[halos.columns[h1]]=logit(halos[halos.columns[h1]])\n",
    "\n",
    "                log=[10,38, 39, 40, 41, 42]\n",
    "                #simple log for the rest\n",
    "                def logt(x):\n",
    "                    return np.log10(x+1)\n",
    "                for l in log:\n",
    "                    if l in tcols:\n",
    "                        l1=np.where(load_cols==l)[0][0]+1\n",
    "                        halos[halos.columns[l1]]=logt(halos[halos.columns[l1]])\n",
    "\n",
    "                scale_cols=np.array(tcols[~is_cat[tcols]])\n",
    "\n",
    "                print(f'Splitting to tree and scaling')\n",
    "                spli=np.split(np.array(halos)[:,1:], np.array(trees.iloc[1:].index)-np.arange(1,len(trees.index)))\n",
    "                del halos\n",
    "                splits=[]\n",
    "                for s in spli:\n",
    "                    if s[0,np.where(load_cols==10)[0][0]]>lim:\n",
    "                        splits.append(s)\n",
    "                splits=np.array(splits, dtype=object)\n",
    "                split=[]\n",
    "                for tree in splits:\n",
    "                    s=tree[np.logical_or(tree[:,3] == -1,tree[:,4]!=1)]\n",
    "                    for n in scale_cols:\n",
    "                        n1=np.where(load_cols==n)[0][0]\n",
    "                        s[:,n1]=scaler[n].transform(s[:,n1].reshape(-1,1)).reshape(np.shape(s[:,n1]))\n",
    "                    split.append(s)\n",
    "                split=np.array(split, dtype=object)\n",
    "                print('Split done')\n",
    "                print('Loading targets')\n",
    "                ex=f'{i}_{j}_{k}/galprop_0-99.dat'\n",
    "                pdc=pd.read_table(target_path+ex, skiprows=0, delimiter=',', nrows=41, header=None)\n",
    "                newcols=pdc.iloc[:,0]\n",
    "                pds=pd.read_table(target_path+ex, skiprows=41, delimiter='\\s+', header=None)\n",
    "                pds.columns=np.array(newcols)\n",
    "                pd0=pds[pds[pds.columns[3]]==0.00] # subhaloes\n",
    "                pdcen=pd0[(pd0[pds.columns[1]]==pd0[pds.columns[2]])] ##central haloes\n",
    "\n",
    "                rhalid=np.array(pdcen[pds.columns[2]])\n",
    "                del pd0\n",
    "                del pds\n",
    "                halwgal=[]\n",
    "                ids=[]\n",
    "                out=[]\n",
    "                for idx, tree in enumerate(split): #split up into tree\n",
    "                    if tree[0,1] in rhalid:\n",
    "                        if len(tree)>20000:\n",
    "                            print(len(tree))\n",
    "                        else:\n",
    "                            halwgal.append(tree)\n",
    "                            ids.append(idx)\n",
    "                            index=np.where(rhalid==tree[0,1])\n",
    "                            out.append(np.array(pdcen.iloc[index])[0][target]) ## target variable\n",
    "                del pdcen\n",
    "\n",
    "                hraw=np.array(splits[ids], dtype=object)\n",
    "                hals=[]\n",
    "                pr,de=[],[]\n",
    "                discards=[]\n",
    "                print('Making merger tree')\n",
    "                for n in tqdm(range(len(halwgal))):\n",
    "                    h=halwgal[n]\n",
    "                    roots=h[h[:,4]==0]\n",
    "                    mergers=h[h[:,4]>1]\n",
    "                    final=h[h[:,3]==-1]\n",
    "                    pro, des=[],[]\n",
    "                    discarded=[]\n",
    "                    for mid in mergers[:,1]:\n",
    "                        k=1\n",
    "                        descid=hraw[n][:,3][np.where(mid==hraw[n][:,1])] ##descendant ID of raw where the id of the merger is\n",
    "                        while descid not in mergers[:,1] and descid!=-1: \n",
    "                            k+=1\n",
    "                            descid=hraw[n][:,3][np.where(descid==hraw[n][:,1])]\n",
    "                        pro.append(mid)\n",
    "                        if descid!=-1:\n",
    "                            des.append(descid[0])\n",
    "                        else:\n",
    "                            des.append(hraw[n][:,3][np.where(mid==hraw[n][:,1])][0])\n",
    "                        discarded.append(1/k) \n",
    "\n",
    "                    for r in roots:\n",
    "                        descid=hraw[n][:,3][np.where(r[1]==hraw[n][:,1])] \n",
    "                        k=1\n",
    "                        while descid not in mergers[:,1] and descid!=[-1]: ##could add 1/k\n",
    "                            k+=1\n",
    "                            descid=hraw[n][:,3][np.where(descid==hraw[n][:,1])]#consider adding the number of steps it went through\n",
    "                        pro.append(r[1])\n",
    "                        if descid!=-1:\n",
    "                            des.append(descid[0])\n",
    "                        else:\n",
    "                            des.append(hraw[n][:,3][np.where(r[1]==hraw[n][:,1])][0])\n",
    "                        discarded.append(1/k) \n",
    "\n",
    "                    discards.append(np.array(discarded))\n",
    "                    des,pro=convert(des, pro)\n",
    "                    hal2=np.vstack([final,mergers,roots])\n",
    "                    global mass_index\n",
    "                    if n==0:\n",
    "                        fcols=[i for i in range(len(hal2[0])) if not_include[i]==0] ##choose non-id cols to carry forward\n",
    "                        mask=np.array([bool(i) for i in not_include])\n",
    "                        idcols=load_cols[~mask] ##choose non-id cols to carry forward\n",
    "                        mass_id=np.where(np.array(idcols)==10)[0][0]\n",
    "                    hal2=hal2[:,fcols] ##take away id's\n",
    "                    hals.append(hal2)\n",
    "                    pr.append([int(p) for p in pro])\n",
    "                    de.append([int(d) for d in des])\n",
    "                hals=np.array(hals,dtype=object)\n",
    "                out=np.log10(out) #homemade scaling\n",
    "                for n in tqdm(range(len(out))):\n",
    "                    edge_index = torch.tensor([pr[n],de[n]], dtype=torch.long)\n",
    "                    x = torch.tensor(hals[n], dtype=torch.float)\n",
    "                    y=torch.tensor(out[n], dtype=torch.float)\n",
    "                    edge_attr=torch.tensor(discards[n], dtype=torch.float)\n",
    "                    graph=Data(x=x, edge_index=edge_index, edge_attr=edge_attr, y=y)\n",
    "                    dat.append(graph)\n",
    "                stop=time.time()\n",
    "                print(f'Done with tree. \\n Time elapsed {stop-start} s')\n",
    "    if save:\n",
    "        print(\"Saving dataset\")\n",
    "        if not osp.exists(f'../../../../../scratch/gpfs/cj1223/GraphStorage/{case}'):\n",
    "            os.mkdir(f'../../../../../scratch/gpfs/cj1223/GraphStorage/{case}')\n",
    "\n",
    "        with open(f'../../../../../scratch/gpfs/cj1223/GraphStorage/{case}/data.pkl', 'wb') as handle:\n",
    "            pickle.dump(dat, handle)\n",
    "    return dat"
   ]
  },
  {
   "cell_type": "code",
   "execution_count": 10,
   "id": "91edbb20",
   "metadata": {},
   "outputs": [
    {
     "name": "stdout",
     "output_type": "stream",
     "text": [
      "Loading isotree 0_0_0\n"
     ]
    },
    {
     "name": "stderr",
     "output_type": "stream",
     "text": [
      "/tmp/ipykernel_20716/1474294481.py:4: DtypeWarning: Columns (0,1,2,3,4,10) have mixed types.Specify dtype option on import or set low_memory=False.\n",
      "  dat=create_graphs(tcols=all_cols, maxs=[2,3,3], lim=10, save=1, case='medium_onlyhmass_smass')\n"
     ]
    },
    {
     "name": "stdout",
     "output_type": "stream",
     "text": [
      "isotree 0_0_0 loaded, restructuring\n",
      "Splitting to tree and scaling\n",
      "Split done\n",
      "Loading targets\n",
      "Making merger tree\n"
     ]
    },
    {
     "name": "stderr",
     "output_type": "stream",
     "text": [
      "100%|█████████████████████████████████████████████████████████████| 769/769 [01:39<00:00,  7.71it/s]\n",
      "100%|███████████████████████████████████████████████████████████| 769/769 [00:00<00:00, 9313.38it/s]\n"
     ]
    },
    {
     "name": "stdout",
     "output_type": "stream",
     "text": [
      "Done with tree. \n",
      " Time elapsed 164.10278820991516 s\n",
      "Loading isotree 0_0_1\n"
     ]
    },
    {
     "name": "stderr",
     "output_type": "stream",
     "text": [
      "/tmp/ipykernel_20716/1474294481.py:4: DtypeWarning: Columns (0,1,2,3,4,10) have mixed types.Specify dtype option on import or set low_memory=False.\n",
      "  dat=create_graphs(tcols=all_cols, maxs=[2,3,3], lim=10, save=1, case='medium_onlyhmass_smass')\n"
     ]
    },
    {
     "name": "stdout",
     "output_type": "stream",
     "text": [
      "isotree 0_0_1 loaded, restructuring\n",
      "Splitting to tree and scaling\n",
      "Split done\n",
      "Loading targets\n",
      "Making merger tree\n"
     ]
    },
    {
     "name": "stderr",
     "output_type": "stream",
     "text": [
      "100%|███████████████████████████████████████████████████████████| 1338/1338 [05:21<00:00,  4.17it/s]\n",
      "100%|████████████████████████████████████████████████████████| 1338/1338 [00:00<00:00, 10117.43it/s]\n"
     ]
    },
    {
     "name": "stdout",
     "output_type": "stream",
     "text": [
      "Done with tree. \n",
      " Time elapsed 449.0104978084564 s\n",
      "Loading isotree 0_0_2\n"
     ]
    },
    {
     "name": "stderr",
     "output_type": "stream",
     "text": [
      "/tmp/ipykernel_20716/1474294481.py:4: DtypeWarning: Columns (0,1,2,3,4,10) have mixed types.Specify dtype option on import or set low_memory=False.\n",
      "  dat=create_graphs(tcols=all_cols, maxs=[2,3,3], lim=10, save=1, case='medium_onlyhmass_smass')\n"
     ]
    },
    {
     "name": "stdout",
     "output_type": "stream",
     "text": [
      "isotree 0_0_2 loaded, restructuring\n",
      "Splitting to tree and scaling\n",
      "Split done\n",
      "Loading targets\n",
      "72404\n",
      "60368\n",
      "26084\n",
      "29167\n",
      "Making merger tree\n"
     ]
    },
    {
     "name": "stderr",
     "output_type": "stream",
     "text": [
      "100%|███████████████████████████████████████████████████████████| 1472/1472 [04:32<00:00,  5.40it/s]\n",
      "100%|████████████████████████████████████████████████████████| 1472/1472 [00:00<00:00, 10000.62it/s]\n"
     ]
    },
    {
     "name": "stdout",
     "output_type": "stream",
     "text": [
      "Done with tree. \n",
      " Time elapsed 429.5833225250244 s\n",
      "Loading isotree 0_1_0\n"
     ]
    },
    {
     "name": "stderr",
     "output_type": "stream",
     "text": [
      "/tmp/ipykernel_20716/1474294481.py:4: DtypeWarning: Columns (0,1,2,3,4,10) have mixed types.Specify dtype option on import or set low_memory=False.\n",
      "  dat=create_graphs(tcols=all_cols, maxs=[2,3,3], lim=10, save=1, case='medium_onlyhmass_smass')\n"
     ]
    },
    {
     "name": "stdout",
     "output_type": "stream",
     "text": [
      "isotree 0_1_0 loaded, restructuring\n",
      "Splitting to tree and scaling\n",
      "Split done\n",
      "Loading targets\n",
      "70472\n",
      "Making merger tree\n"
     ]
    },
    {
     "name": "stderr",
     "output_type": "stream",
     "text": [
      "100%|███████████████████████████████████████████████████████████| 1127/1127 [04:07<00:00,  4.56it/s]\n",
      "100%|████████████████████████████████████████████████████████| 1127/1127 [00:00<00:00, 10705.26it/s]\n"
     ]
    },
    {
     "name": "stdout",
     "output_type": "stream",
     "text": [
      "Done with tree. \n",
      " Time elapsed 353.97577834129333 s\n",
      "Loading isotree 0_1_1\n"
     ]
    },
    {
     "name": "stderr",
     "output_type": "stream",
     "text": [
      "/tmp/ipykernel_20716/1474294481.py:4: DtypeWarning: Columns (0,1,2,3,4,10) have mixed types.Specify dtype option on import or set low_memory=False.\n",
      "  dat=create_graphs(tcols=all_cols, maxs=[2,3,3], lim=10, save=1, case='medium_onlyhmass_smass')\n"
     ]
    },
    {
     "name": "stdout",
     "output_type": "stream",
     "text": [
      "isotree 0_1_1 loaded, restructuring\n",
      "Splitting to tree and scaling\n",
      "Split done\n",
      "Loading targets\n",
      "70115\n",
      "52207\n",
      "43321\n",
      "25280\n",
      "381538\n",
      "Making merger tree\n"
     ]
    },
    {
     "name": "stderr",
     "output_type": "stream",
     "text": [
      "100%|███████████████████████████████████████████████████████████| 1932/1932 [04:43<00:00,  6.82it/s]\n",
      "100%|█████████████████████████████████████████████████████████| 1932/1932 [00:00<00:00, 4404.28it/s]\n"
     ]
    },
    {
     "name": "stdout",
     "output_type": "stream",
     "text": [
      "Done with tree. \n",
      " Time elapsed 561.9882915019989 s\n",
      "Loading isotree 0_1_2\n"
     ]
    },
    {
     "name": "stderr",
     "output_type": "stream",
     "text": [
      "/tmp/ipykernel_20716/1474294481.py:4: DtypeWarning: Columns (0,1,2,3,4,10) have mixed types.Specify dtype option on import or set low_memory=False.\n",
      "  dat=create_graphs(tcols=all_cols, maxs=[2,3,3], lim=10, save=1, case='medium_onlyhmass_smass')\n"
     ]
    },
    {
     "name": "stdout",
     "output_type": "stream",
     "text": [
      "isotree 0_1_2 loaded, restructuring\n",
      "Splitting to tree and scaling\n",
      "Split done\n",
      "Loading targets\n",
      "Making merger tree\n"
     ]
    },
    {
     "name": "stderr",
     "output_type": "stream",
     "text": [
      "100%|█████████████████████████████████████████████████████████████| 605/605 [00:32<00:00, 18.85it/s]\n",
      "100%|███████████████████████████████████████████████████████████| 605/605 [00:00<00:00, 7958.76it/s]\n"
     ]
    },
    {
     "name": "stdout",
     "output_type": "stream",
     "text": [
      "Done with tree. \n",
      " Time elapsed 82.67065048217773 s\n",
      "Loading isotree 0_2_0\n"
     ]
    },
    {
     "name": "stderr",
     "output_type": "stream",
     "text": [
      "/tmp/ipykernel_20716/1474294481.py:4: DtypeWarning: Columns (0,1,2,3,4,10) have mixed types.Specify dtype option on import or set low_memory=False.\n",
      "  dat=create_graphs(tcols=all_cols, maxs=[2,3,3], lim=10, save=1, case='medium_onlyhmass_smass')\n"
     ]
    },
    {
     "name": "stdout",
     "output_type": "stream",
     "text": [
      "isotree 0_2_0 loaded, restructuring\n",
      "Splitting to tree and scaling\n",
      "Split done\n",
      "Loading targets\n",
      "Making merger tree\n"
     ]
    },
    {
     "name": "stderr",
     "output_type": "stream",
     "text": [
      "100%|███████████████████████████████████████████████████████████| 1176/1176 [04:47<00:00,  4.09it/s]\n",
      "100%|█████████████████████████████████████████████████████████| 1176/1176 [00:00<00:00, 8982.74it/s]\n"
     ]
    },
    {
     "name": "stdout",
     "output_type": "stream",
     "text": [
      "Done with tree. \n",
      " Time elapsed 397.4071958065033 s\n",
      "Loading isotree 0_2_1\n"
     ]
    },
    {
     "name": "stderr",
     "output_type": "stream",
     "text": [
      "/tmp/ipykernel_20716/1474294481.py:4: DtypeWarning: Columns (0,1,2,3,4,10) have mixed types.Specify dtype option on import or set low_memory=False.\n",
      "  dat=create_graphs(tcols=all_cols, maxs=[2,3,3], lim=10, save=1, case='medium_onlyhmass_smass')\n"
     ]
    },
    {
     "name": "stdout",
     "output_type": "stream",
     "text": [
      "isotree 0_2_1 loaded, restructuring\n",
      "Splitting to tree and scaling\n",
      "Split done\n",
      "Loading targets\n",
      "50415\n",
      "Making merger tree\n"
     ]
    },
    {
     "name": "stderr",
     "output_type": "stream",
     "text": [
      "100%|███████████████████████████████████████████████████████████| 1286/1286 [04:02<00:00,  5.29it/s]\n",
      "100%|█████████████████████████████████████████████████████████| 1286/1286 [00:00<00:00, 8966.06it/s]\n"
     ]
    },
    {
     "name": "stdout",
     "output_type": "stream",
     "text": [
      "Done with tree. \n",
      " Time elapsed 371.8733859062195 s\n",
      "Loading isotree 0_2_2\n"
     ]
    },
    {
     "name": "stderr",
     "output_type": "stream",
     "text": [
      "/tmp/ipykernel_20716/1474294481.py:4: DtypeWarning: Columns (0,1,2,3,4,10) have mixed types.Specify dtype option on import or set low_memory=False.\n",
      "  dat=create_graphs(tcols=all_cols, maxs=[2,3,3], lim=10, save=1, case='medium_onlyhmass_smass')\n"
     ]
    },
    {
     "name": "stdout",
     "output_type": "stream",
     "text": [
      "isotree 0_2_2 loaded, restructuring\n",
      "Splitting to tree and scaling\n",
      "Split done\n",
      "Loading targets\n",
      "43429\n",
      "Making merger tree\n"
     ]
    },
    {
     "name": "stderr",
     "output_type": "stream",
     "text": [
      "100%|█████████████████████████████████████████████████████████████| 805/805 [01:26<00:00,  9.33it/s]\n",
      "100%|██████████████████████████████████████████████████████████| 805/805 [00:00<00:00, 21925.48it/s]\n"
     ]
    },
    {
     "name": "stdout",
     "output_type": "stream",
     "text": [
      "Done with tree. \n",
      " Time elapsed 162.52765822410583 s\n",
      "Loading isotree 1_0_0\n"
     ]
    },
    {
     "name": "stderr",
     "output_type": "stream",
     "text": [
      "/tmp/ipykernel_20716/1474294481.py:4: DtypeWarning: Columns (0,1,2,3,4,10) have mixed types.Specify dtype option on import or set low_memory=False.\n",
      "  dat=create_graphs(tcols=all_cols, maxs=[2,3,3], lim=10, save=1, case='medium_onlyhmass_smass')\n"
     ]
    },
    {
     "name": "stdout",
     "output_type": "stream",
     "text": [
      "isotree 1_0_0 loaded, restructuring\n",
      "Splitting to tree and scaling\n",
      "Split done\n",
      "Loading targets\n",
      "148608\n",
      "24297\n",
      "20509\n",
      "Making merger tree\n"
     ]
    },
    {
     "name": "stderr",
     "output_type": "stream",
     "text": [
      "100%|███████████████████████████████████████████████████████████| 1810/1810 [06:36<00:00,  4.57it/s]\n",
      "100%|█████████████████████████████████████████████████████████| 1810/1810 [00:00<00:00, 6012.13it/s]\n"
     ]
    },
    {
     "name": "stdout",
     "output_type": "stream",
     "text": [
      "Done with tree. \n",
      " Time elapsed 594.5456500053406 s\n",
      "Loading isotree 1_0_1\n"
     ]
    },
    {
     "name": "stderr",
     "output_type": "stream",
     "text": [
      "/tmp/ipykernel_20716/1474294481.py:4: DtypeWarning: Columns (0,1,2,3,4,10) have mixed types.Specify dtype option on import or set low_memory=False.\n",
      "  dat=create_graphs(tcols=all_cols, maxs=[2,3,3], lim=10, save=1, case='medium_onlyhmass_smass')\n"
     ]
    },
    {
     "name": "stdout",
     "output_type": "stream",
     "text": [
      "isotree 1_0_1 loaded, restructuring\n",
      "Splitting to tree and scaling\n",
      "Split done\n",
      "Loading targets\n",
      "48501\n",
      "36387\n",
      "36580\n",
      "Making merger tree\n"
     ]
    },
    {
     "name": "stderr",
     "output_type": "stream",
     "text": [
      "100%|███████████████████████████████████████████████████████████| 1101/1101 [04:44<00:00,  3.88it/s]\n",
      "100%|█████████████████████████████████████████████████████████| 1101/1101 [00:00<00:00, 7264.76it/s]\n"
     ]
    },
    {
     "name": "stdout",
     "output_type": "stream",
     "text": [
      "Done with tree. \n",
      " Time elapsed 453.5369462966919 s\n",
      "Loading isotree 1_0_2\n"
     ]
    },
    {
     "name": "stderr",
     "output_type": "stream",
     "text": [
      "/tmp/ipykernel_20716/1474294481.py:4: DtypeWarning: Columns (0,1,2,3,4,10) have mixed types.Specify dtype option on import or set low_memory=False.\n",
      "  dat=create_graphs(tcols=all_cols, maxs=[2,3,3], lim=10, save=1, case='medium_onlyhmass_smass')\n"
     ]
    },
    {
     "name": "stdout",
     "output_type": "stream",
     "text": [
      "isotree 1_0_2 loaded, restructuring\n",
      "Splitting to tree and scaling\n",
      "Split done\n",
      "Loading targets\n",
      "Making merger tree\n"
     ]
    },
    {
     "name": "stderr",
     "output_type": "stream",
     "text": [
      "100%|█████████████████████████████████████████████████████████████| 666/666 [01:46<00:00,  6.25it/s]\n",
      "100%|███████████████████████████████████████████████████████████| 666/666 [00:00<00:00, 1186.07it/s]\n"
     ]
    },
    {
     "name": "stdout",
     "output_type": "stream",
     "text": [
      "Done with tree. \n",
      " Time elapsed 223.3229682445526 s\n",
      "Loading isotree 1_1_0\n"
     ]
    },
    {
     "name": "stderr",
     "output_type": "stream",
     "text": [
      "/tmp/ipykernel_20716/1474294481.py:4: DtypeWarning: Columns (0,1,2,3,4,10) have mixed types.Specify dtype option on import or set low_memory=False.\n",
      "  dat=create_graphs(tcols=all_cols, maxs=[2,3,3], lim=10, save=1, case='medium_onlyhmass_smass')\n"
     ]
    },
    {
     "name": "stdout",
     "output_type": "stream",
     "text": [
      "isotree 1_1_0 loaded, restructuring\n",
      "Splitting to tree and scaling\n",
      "Split done\n",
      "Loading targets\n",
      "Making merger tree\n"
     ]
    },
    {
     "name": "stderr",
     "output_type": "stream",
     "text": [
      "100%|█████████████████████████████████████████████████████████████| 899/899 [03:29<00:00,  4.28it/s]\n",
      "100%|███████████████████████████████████████████████████████████| 899/899 [00:00<00:00, 5674.39it/s]\n"
     ]
    },
    {
     "name": "stdout",
     "output_type": "stream",
     "text": [
      "Done with tree. \n",
      " Time elapsed 344.5639798641205 s\n",
      "Loading isotree 1_1_1\n"
     ]
    },
    {
     "name": "stderr",
     "output_type": "stream",
     "text": [
      "/tmp/ipykernel_20716/1474294481.py:4: DtypeWarning: Columns (0,1,2,3,4,10) have mixed types.Specify dtype option on import or set low_memory=False.\n",
      "  dat=create_graphs(tcols=all_cols, maxs=[2,3,3], lim=10, save=1, case='medium_onlyhmass_smass')\n"
     ]
    },
    {
     "name": "stdout",
     "output_type": "stream",
     "text": [
      "isotree 1_1_1 loaded, restructuring\n",
      "Splitting to tree and scaling\n",
      "Split done\n",
      "Loading targets\n",
      "Making merger tree\n"
     ]
    },
    {
     "name": "stderr",
     "output_type": "stream",
     "text": [
      "100%|███████████████████████████████████████████████████████████| 1033/1033 [04:34<00:00,  3.76it/s]\n",
      "100%|█████████████████████████████████████████████████████████| 1033/1033 [00:00<00:00, 6060.13it/s]\n"
     ]
    },
    {
     "name": "stdout",
     "output_type": "stream",
     "text": [
      "Done with tree. \n",
      " Time elapsed 459.1768443584442 s\n",
      "Loading isotree 1_1_2\n"
     ]
    },
    {
     "name": "stderr",
     "output_type": "stream",
     "text": [
      "/tmp/ipykernel_20716/1474294481.py:4: DtypeWarning: Columns (0,1,2,3,4,10) have mixed types.Specify dtype option on import or set low_memory=False.\n",
      "  dat=create_graphs(tcols=all_cols, maxs=[2,3,3], lim=10, save=1, case='medium_onlyhmass_smass')\n"
     ]
    },
    {
     "name": "stdout",
     "output_type": "stream",
     "text": [
      "isotree 1_1_2 loaded, restructuring\n",
      "Splitting to tree and scaling\n",
      "Split done\n",
      "Loading targets\n",
      "51944\n",
      "Making merger tree\n"
     ]
    },
    {
     "name": "stderr",
     "output_type": "stream",
     "text": [
      "100%|███████████████████████████████████████████████████████████| 1284/1284 [04:08<00:00,  5.17it/s]\n",
      "100%|█████████████████████████████████████████████████████████| 1284/1284 [00:00<00:00, 9243.96it/s]\n"
     ]
    },
    {
     "name": "stdout",
     "output_type": "stream",
     "text": [
      "Done with tree. \n",
      " Time elapsed 445.2438859939575 s\n",
      "Loading isotree 1_2_0\n"
     ]
    },
    {
     "name": "stderr",
     "output_type": "stream",
     "text": [
      "/tmp/ipykernel_20716/1474294481.py:4: DtypeWarning: Columns (0,1,2,3,4,10) have mixed types.Specify dtype option on import or set low_memory=False.\n",
      "  dat=create_graphs(tcols=all_cols, maxs=[2,3,3], lim=10, save=1, case='medium_onlyhmass_smass')\n"
     ]
    },
    {
     "name": "stdout",
     "output_type": "stream",
     "text": [
      "isotree 1_2_0 loaded, restructuring\n",
      "Splitting to tree and scaling\n",
      "Split done\n",
      "Loading targets\n",
      "Making merger tree\n"
     ]
    },
    {
     "name": "stderr",
     "output_type": "stream",
     "text": [
      "100%|█████████████████████████████████████████████████████████████| 663/663 [01:48<00:00,  6.11it/s]\n",
      "100%|███████████████████████████████████████████████████████████| 663/663 [00:00<00:00, 7538.74it/s]\n"
     ]
    },
    {
     "name": "stdout",
     "output_type": "stream",
     "text": [
      "Done with tree. \n",
      " Time elapsed 199.10660696029663 s\n",
      "Loading isotree 1_2_1\n"
     ]
    },
    {
     "name": "stderr",
     "output_type": "stream",
     "text": [
      "/tmp/ipykernel_20716/1474294481.py:4: DtypeWarning: Columns (0,1,2,3,4,10) have mixed types.Specify dtype option on import or set low_memory=False.\n",
      "  dat=create_graphs(tcols=all_cols, maxs=[2,3,3], lim=10, save=1, case='medium_onlyhmass_smass')\n"
     ]
    },
    {
     "name": "stdout",
     "output_type": "stream",
     "text": [
      "isotree 1_2_1 loaded, restructuring\n",
      "Splitting to tree and scaling\n",
      "Split done\n",
      "Loading targets\n",
      "Making merger tree\n"
     ]
    },
    {
     "name": "stderr",
     "output_type": "stream",
     "text": [
      "100%|█████████████████████████████████████████████████████████████| 509/509 [00:23<00:00, 21.34it/s]\n",
      "100%|██████████████████████████████████████████████████████████| 509/509 [00:00<00:00, 10691.72it/s]\n"
     ]
    },
    {
     "name": "stdout",
     "output_type": "stream",
     "text": [
      "Done with tree. \n",
      " Time elapsed 98.76652979850769 s\n",
      "Loading isotree 1_2_2\n"
     ]
    },
    {
     "name": "stderr",
     "output_type": "stream",
     "text": [
      "/tmp/ipykernel_20716/1474294481.py:4: DtypeWarning: Columns (0,1,2,3,4,10) have mixed types.Specify dtype option on import or set low_memory=False.\n",
      "  dat=create_graphs(tcols=all_cols, maxs=[2,3,3], lim=10, save=1, case='medium_onlyhmass_smass')\n"
     ]
    },
    {
     "name": "stdout",
     "output_type": "stream",
     "text": [
      "isotree 1_2_2 loaded, restructuring\n",
      "Splitting to tree and scaling\n",
      "Split done\n",
      "Loading targets\n",
      "33451\n",
      "225562\n",
      "133989\n",
      "Making merger tree\n"
     ]
    },
    {
     "name": "stderr",
     "output_type": "stream",
     "text": [
      "100%|███████████████████████████████████████████████████████████| 1816/1816 [01:08<00:00, 26.36it/s]\n",
      "100%|████████████████████████████████████████████████████████| 1816/1816 [00:00<00:00, 18563.30it/s]\n"
     ]
    },
    {
     "name": "stdout",
     "output_type": "stream",
     "text": [
      "Done with tree. \n",
      " Time elapsed 358.4219858646393 s\n",
      "Saving dataset\n"
     ]
    }
   ],
   "source": [
    "all_cols=np.array([0,2,4,5,6,7,8,10,11,12,13,14,15,16,17,18,19,20,21,22,23,24,25,35]+list(range(37,60)))\n",
    "# all_cols=np.array([0,2,4,6,7,8,10,11,12,13,14,15,16,17,18,19,22,23,25,35]+list(range(37,60)))\n",
    "all_cols=np.array([0,2,4,10])\n",
    "dat=create_graphs(tcols=all_cols, maxs=[2,3,3], lim=10, save=1, case='medium_onlyhmass_smass')"
   ]
  },
  {
   "cell_type": "code",
   "execution_count": 13,
   "id": "014e391f",
   "metadata": {},
   "outputs": [
    {
     "data": {
      "text/plain": [
       "tensor([[ 5.1993, -5.1993,  1.0000,  1.2592],\n",
       "        [ 2.5118,  5.1993,  2.0000,  1.2612],\n",
       "        [ 2.2900,  2.5755,  2.0000,  1.2838],\n",
       "        [ 1.7924,  1.8659,  2.0000,  1.3286],\n",
       "        [ 1.6897,  1.7561,  2.0000,  1.3382],\n",
       "        [ 1.5418,  1.5932,  2.0000,  1.3610],\n",
       "        [ 1.5215,  1.5713,  2.0000,  1.3581],\n",
       "        [ 1.4753,  1.5215,  2.0000,  1.3557],\n",
       "        [ 1.4533,  1.4980,  2.0000,  1.3532],\n",
       "        [ 1.4320,  1.4716,  2.0000,  1.3501],\n",
       "        [ 1.1844,  1.2206,  3.0000,  1.3125],\n",
       "        [ 1.1571,  1.1921,  2.0000,  1.3100],\n",
       "        [ 0.7748,  0.7988,  2.0000,  1.2469],\n",
       "        [ 0.7364,  0.7580,  2.0000,  1.2348],\n",
       "        [ 0.6943,  0.7152,  3.0000,  1.2232],\n",
       "        [ 0.3884,  0.4074,  2.0000,  1.1560],\n",
       "        [ 0.3243,  0.3428,  2.0000,  1.0867],\n",
       "        [ 0.2536,  0.2731,  2.0000,  1.0545],\n",
       "        [ 0.0464,  0.0653,  2.0000,  0.9653],\n",
       "        [-0.4445, -0.4266,  3.0000,  0.8904],\n",
       "        [-0.5643, -0.5467,  2.0000,  0.8600],\n",
       "        [-0.7547, -0.7348,  2.0000,  0.8011],\n",
       "        [-0.9775, -0.9495,  2.0000,  0.7335],\n",
       "        [-1.1047, -1.0752,  3.0000,  0.4973],\n",
       "        [ 0.1855,  0.2047,  2.0000,  0.3415],\n",
       "        [-0.1132, -0.0942,  2.0000,  0.5438],\n",
       "        [-1.5543, -1.5057,  0.0000,  0.3979],\n",
       "        [-1.3621, -1.3280,  0.0000,  0.4362],\n",
       "        [-1.8050, -1.7275,  0.0000,  0.3282],\n",
       "        [-2.1831, -2.0431,  0.0000, -0.5865],\n",
       "        [-1.5543, -1.5057,  0.0000, -0.7055],\n",
       "        [-1.1047, -1.0752,  0.0000, -0.9555],\n",
       "        [-0.8625, -0.8391,  0.0000, -0.1524],\n",
       "        [-1.1047, -1.0752,  0.0000, -0.8267],\n",
       "        [-0.5643, -0.5467,  0.0000, -0.3575],\n",
       "        [-1.1047, -1.0752,  0.0000, -1.0933],\n",
       "        [-0.1132, -0.0942,  0.0000, -1.2502],\n",
       "        [-0.5643, -0.5467,  0.0000, -1.0933],\n",
       "        [-1.5543, -1.5057,  0.0000, -0.0640],\n",
       "        [-0.6643, -0.6456,  0.0000, -0.4696],\n",
       "        [-0.0339, -0.0138,  0.0000, -0.8267],\n",
       "        [-0.8625, -0.8391,  0.0000, -1.4461],\n",
       "        [-0.4445, -0.4266,  0.0000, -1.4461],\n",
       "        [-0.5643, -0.5467,  0.0000, -5.1993],\n",
       "        [-0.5643, -0.5467,  0.0000,  0.0125],\n",
       "        [ 0.3243,  0.3428,  0.0000,  0.0125],\n",
       "        [ 0.4542,  0.4738,  0.0000, -0.0640],\n",
       "        [ 1.3310,  1.3717,  0.0000, -0.3575],\n",
       "        [-1.1047, -1.0752,  0.0000, -0.4696],\n",
       "        [-0.2770, -0.2588,  0.0000, -1.7164],\n",
       "        [ 1.4533,  1.4980,  0.0000,  0.0125],\n",
       "        [ 1.0685,  1.1001,  0.0000, -0.5865],\n",
       "        [ 1.5844,  1.6395,  0.0000, -0.2510],\n",
       "        [ 1.0685,  1.1001,  0.0000, -0.3575],\n",
       "        [ 2.1440,  2.3260,  0.0000, -0.3575],\n",
       "        [ 1.9264,  2.0233,  0.0000, -0.1524]])"
      ]
     },
     "execution_count": 13,
     "metadata": {},
     "output_type": "execute_result"
    }
   ],
   "source": [
    "dat[0].x"
   ]
  },
  {
   "cell_type": "code",
   "execution_count": 24,
   "id": "ae74d2e1",
   "metadata": {},
   "outputs": [],
   "source": [
    "xs=[]\n",
    "ls=[]\n",
    "ks=[]\n",
    "mh=[]\n",
    "for d in dat:\n",
    "    xs.append(d.x.numpy())\n",
    "    ls.append(len(d.x.numpy()))\n",
    "    ks.append(1/np.array(d.edge_attr))\n",
    "    mh.append(d.x.numpy()[0,3])\n",
    "xs=np.vstack(xs)\n",
    "ks=np.hstack(ks)"
   ]
  },
  {
   "cell_type": "code",
   "execution_count": 15,
   "id": "825c451f",
   "metadata": {},
   "outputs": [
    {
     "data": {
      "text/plain": [
       "array([ 3.        , 27.99999809])"
      ]
     },
     "execution_count": 15,
     "metadata": {},
     "output_type": "execute_result"
    },
    {
     "data": {
      "image/png": "[encoded data removed]",
      "text/plain": [
       "<Figure size 432x288 with 1 Axes>"
      ]
     },
     "metadata": {
      "needs_background": "light"
     },
     "output_type": "display_data"
    }
   ],
   "source": [
    "plt.hist(np.log10(ks))\n",
    "np.quantile(ks, [0.25,0.9])"
   ]
  },
  {
   "cell_type": "code",
   "execution_count": 26,
   "id": "52c47a9f",
   "metadata": {},
   "outputs": [
    {
     "data": {
      "image/png": "[encoded data removed]",
      "text/plain": [
       "<Figure size 432x288 with 1 Axes>"
      ]
     },
     "metadata": {
      "needs_background": "light"
     },
     "output_type": "display_data"
    }
   ],
   "source": [
    "plt.hist(mh);"
   ]
  },
  {
   "cell_type": "code",
   "execution_count": 15,
   "id": "f52aaecf",
   "metadata": {},
   "outputs": [
    {
     "data": {
      "image/png": "[encoded data removed]",
      "text/plain": [
       "<Figure size 2160x1656 with 42 Axes>"
      ]
     },
     "metadata": {
      "needs_background": "light"
     },
     "output_type": "display_data"
    }
   ],
   "source": [
    "fig,ax=plt.subplots(nrows=7,ncols=6, figsize=(30,23))\n",
    "ax=ax.flatten()\n",
    "for i in range(len(xs[0])):\n",
    "    ax[i].hist(xs[:,i], bins=50, density=1, histtype='step');\n",
    "#     ax[i].set(title=halos.columns[np.array(fcols)+1][i])\n",
    "# plt.hist(a[:,n], bins=100, density=1);\n",
    "fig.tight_layout()"
   ]
  },
  {
   "cell_type": "code",
   "execution_count": 80,
   "id": "81d17408",
   "metadata": {},
   "outputs": [
    {
     "data": {
      "text/plain": [
       "25"
      ]
     },
     "execution_count": 80,
     "metadata": {},
     "output_type": "execute_result"
    }
   ],
   "source": [
    "castto=np.array([f,it,f,it,it,it,it,it,it,f,f,f,f,f,it,f,f,f,f,f,f,f,f,f,f,f])\n",
    "castto=np.array([f,it,f,it,it,it,it,it,it,f,f,f,f,f,it,f,f,f,f,f,f,f,f,f,f])\n",
    "len(castto)"
   ]
  },
  {
   "cell_type": "code",
   "execution_count": 50,
   "id": "a89d23e5",
   "metadata": {},
   "outputs": [],
   "source": [
    "load_cols=np.array([0,1,2,3,4,5,6,7,8,10,11,12,13,14,15,16,17,18,19,20,21,22,23,24,25,35]+list(range(37,60)))\n",
    "f,it=\"float64\", \"int64\"\n",
    "maps=[]\n",
    "for m in load_cols:\n",
    "    if m<=26:\n",
    "        maps.append(m)\n",
    "maps=np.array(maps)\n",
    "castto=np.array([f,it,f,it,it,it,it,it,it,f,f,f,f,f,it,f,f,f,f,f,f,f,f,f,f,f])"
   ]
  },
  {
   "cell_type": "code",
   "execution_count": 24,
   "id": "d91c41d3",
   "metadata": {},
   "outputs": [
    {
     "data": {
      "text/plain": [
       "array([ 0,  1,  2,  3,  4,  5,  6,  7,  8, 10, 11, 12, 13, 14, 15, 16, 17,\n",
       "       18, 19, 20, 21, 22, 23, 24, 25, 35, 37, 38, 39, 40, 41, 42, 43, 44,\n",
       "       45, 46, 47, 48, 49, 50, 51, 52, 53, 54, 55, 56, 57, 58, 59])"
      ]
     },
     "execution_count": 24,
     "metadata": {},
     "output_type": "execute_result"
    }
   ],
   "source": [
    "load_cols"
   ]
  },
  {
   "cell_type": "code",
   "execution_count": 16,
   "id": "a8bdcdb5",
   "metadata": {},
   "outputs": [
    {
     "data": {
      "text/plain": [
       "(array([ 0,  1,  2,  3,  4,  5,  6,  7,  8, 10, 11, 12, 13, 14, 15, 16, 17,\n",
       "        18, 19, 20, 21, 22, 23, 24, 25]),\n",
       " 26,\n",
       " array(['float64', 'int64', 'float64', 'int64', 'int64', 'int64', 'int64',\n",
       "        'int64', 'int64', 'float64', 'float64', 'float64', 'float64',\n",
       "        'int64', 'float64', 'float64', 'float64', 'float64', 'float64',\n",
       "        'float64', 'float64', 'float64', 'float64', 'float64', 'float64'],\n",
       "       dtype='<U7'),\n",
       " array(['float64', 'int64', 'float64', 'int64', 'int64', 'int64', 'int64',\n",
       "        'int64', 'int64', 'float64', 'float64', 'float64', 'float64',\n",
       "        'float64', 'int64', 'float64', 'float64', 'float64', 'float64',\n",
       "        'float64', 'float64', 'float64', 'float64', 'float64', 'float64',\n",
       "        'float64'], dtype='<U7'))"
      ]
     },
     "execution_count": 16,
     "metadata": {},
     "output_type": "execute_result"
    }
   ],
   "source": [
    "maps, len(castto), castto[maps], castto"
   ]
  },
  {
   "cell_type": "code",
   "execution_count": 20,
   "id": "d0e7d753",
   "metadata": {},
   "outputs": [
    {
     "data": {
      "text/html": [
       "<div>\n",
       "<style scoped>\n",
       "    .dataframe tbody tr th:only-of-type {\n",
       "        vertical-align: middle;\n",
       "    }\n",
       "\n",
       "    .dataframe tbody tr th {\n",
       "        vertical-align: top;\n",
       "    }\n",
       "\n",
       "    .dataframe thead th {\n",
       "        text-align: right;\n",
       "    }\n",
       "</style>\n",
       "<table border=\"1\" class=\"dataframe\">\n",
       "  <thead>\n",
       "    <tr style=\"text-align: right;\">\n",
       "      <th></th>\n",
       "      <th>index</th>\n",
       "      <th>#scale(0)</th>\n",
       "      <th>id(1)</th>\n",
       "      <th>desc_scale(2)</th>\n",
       "      <th>desc_id(3)</th>\n",
       "      <th>num_prog(4)</th>\n",
       "      <th>pid(5)</th>\n",
       "      <th>upid(6)</th>\n",
       "      <th>desc_pid(7)</th>\n",
       "      <th>phantom(8)</th>\n",
       "      <th>...</th>\n",
       "      <th>A[z]</th>\n",
       "      <th>b_to_a(500c)</th>\n",
       "      <th>c_to_a(500c)</th>\n",
       "      <th>A[x](500c)</th>\n",
       "      <th>A[y](500c)</th>\n",
       "      <th>A[z](500c)</th>\n",
       "      <th>T/|U|</th>\n",
       "      <th>M_pe_Behroozi</th>\n",
       "      <th>M_pe_Diemer</th>\n",
       "      <th>Halfmass_Radius</th>\n",
       "    </tr>\n",
       "  </thead>\n",
       "  <tbody>\n",
       "    <tr>\n",
       "      <th>1</th>\n",
       "      <td>51</td>\n",
       "      <td>1.00000</td>\n",
       "      <td>1122969403</td>\n",
       "      <td>0.00000</td>\n",
       "      <td>-1</td>\n",
       "      <td>1</td>\n",
       "      <td>-1</td>\n",
       "      <td>-1</td>\n",
       "      <td>-1</td>\n",
       "      <td>0</td>\n",
       "      <td>...</td>\n",
       "      <td>-0.59764</td>\n",
       "      <td>0.73477</td>\n",
       "      <td>0.30184</td>\n",
       "      <td>1.11307</td>\n",
       "      <td>-1.04583</td>\n",
       "      <td>-0.49679</td>\n",
       "      <td>0.6532</td>\n",
       "      <td>187100000.0</td>\n",
       "      <td>42000000.0</td>\n",
       "      <td>2.103</td>\n",
       "    </tr>\n",
       "    <tr>\n",
       "      <th>2</th>\n",
       "      <td>52</td>\n",
       "      <td>0.99057</td>\n",
       "      <td>1113370505</td>\n",
       "      <td>1.00000</td>\n",
       "      <td>1122969403</td>\n",
       "      <td>1</td>\n",
       "      <td>-1</td>\n",
       "      <td>-1</td>\n",
       "      <td>-1</td>\n",
       "      <td>0</td>\n",
       "      <td>...</td>\n",
       "      <td>-0.80679</td>\n",
       "      <td>0.63215</td>\n",
       "      <td>0.15637</td>\n",
       "      <td>0.72804</td>\n",
       "      <td>-0.80641</td>\n",
       "      <td>-0.81522</td>\n",
       "      <td>0.8323</td>\n",
       "      <td>248100000.0</td>\n",
       "      <td>48000000.0</td>\n",
       "      <td>1.678</td>\n",
       "    </tr>\n",
       "    <tr>\n",
       "      <th>3</th>\n",
       "      <td>53</td>\n",
       "      <td>0.97659</td>\n",
       "      <td>1103578712</td>\n",
       "      <td>0.99057</td>\n",
       "      <td>1113370505</td>\n",
       "      <td>1</td>\n",
       "      <td>-1</td>\n",
       "      <td>-1</td>\n",
       "      <td>-1</td>\n",
       "      <td>0</td>\n",
       "      <td>...</td>\n",
       "      <td>0.82788</td>\n",
       "      <td>0.80679</td>\n",
       "      <td>0.18344</td>\n",
       "      <td>-0.68020</td>\n",
       "      <td>1.36609</td>\n",
       "      <td>1.06240</td>\n",
       "      <td>0.7812</td>\n",
       "      <td>166800000.0</td>\n",
       "      <td>30000000.0</td>\n",
       "      <td>2.681</td>\n",
       "    </tr>\n",
       "    <tr>\n",
       "      <th>4</th>\n",
       "      <td>54</td>\n",
       "      <td>0.96738</td>\n",
       "      <td>1093866277</td>\n",
       "      <td>0.97659</td>\n",
       "      <td>1103578712</td>\n",
       "      <td>1</td>\n",
       "      <td>-1</td>\n",
       "      <td>-1</td>\n",
       "      <td>-1</td>\n",
       "      <td>0</td>\n",
       "      <td>...</td>\n",
       "      <td>1.62453</td>\n",
       "      <td>0.19157</td>\n",
       "      <td>0.13979</td>\n",
       "      <td>-0.71347</td>\n",
       "      <td>0.31104</td>\n",
       "      <td>1.71859</td>\n",
       "      <td>0.9205</td>\n",
       "      <td>183100000.0</td>\n",
       "      <td>36000000.0</td>\n",
       "      <td>2.670</td>\n",
       "    </tr>\n",
       "    <tr>\n",
       "      <th>5</th>\n",
       "      <td>55</td>\n",
       "      <td>0.95372</td>\n",
       "      <td>1084166184</td>\n",
       "      <td>0.96738</td>\n",
       "      <td>1093866277</td>\n",
       "      <td>1</td>\n",
       "      <td>-1</td>\n",
       "      <td>-1</td>\n",
       "      <td>-1</td>\n",
       "      <td>0</td>\n",
       "      <td>...</td>\n",
       "      <td>1.72263</td>\n",
       "      <td>0.53219</td>\n",
       "      <td>0.33932</td>\n",
       "      <td>-0.44511</td>\n",
       "      <td>0.40864</td>\n",
       "      <td>1.70194</td>\n",
       "      <td>0.5444</td>\n",
       "      <td>186600000.0</td>\n",
       "      <td>30000000.0</td>\n",
       "      <td>2.603</td>\n",
       "    </tr>\n",
       "    <tr>\n",
       "      <th>...</th>\n",
       "      <td>...</td>\n",
       "      <td>...</td>\n",
       "      <td>...</td>\n",
       "      <td>...</td>\n",
       "      <td>...</td>\n",
       "      <td>...</td>\n",
       "      <td>...</td>\n",
       "      <td>...</td>\n",
       "      <td>...</td>\n",
       "      <td>...</td>\n",
       "      <td>...</td>\n",
       "      <td>...</td>\n",
       "      <td>...</td>\n",
       "      <td>...</td>\n",
       "      <td>...</td>\n",
       "      <td>...</td>\n",
       "      <td>...</td>\n",
       "      <td>...</td>\n",
       "      <td>...</td>\n",
       "      <td>...</td>\n",
       "      <td>...</td>\n",
       "    </tr>\n",
       "    <tr>\n",
       "      <th>4884349</th>\n",
       "      <td>4884399</td>\n",
       "      <td>0.62557</td>\n",
       "      <td>754249688</td>\n",
       "      <td>0.63453</td>\n",
       "      <td>765435978.0</td>\n",
       "      <td>1.0</td>\n",
       "      <td>-1.0</td>\n",
       "      <td>-1.0</td>\n",
       "      <td>-1.0</td>\n",
       "      <td>0.0</td>\n",
       "      <td>...</td>\n",
       "      <td>2.13641</td>\n",
       "      <td>0.75990</td>\n",
       "      <td>0.45814</td>\n",
       "      <td>0.80072</td>\n",
       "      <td>0.69614</td>\n",
       "      <td>2.14372</td>\n",
       "      <td>0.5525</td>\n",
       "      <td>154000000.0</td>\n",
       "      <td>6000000.0</td>\n",
       "      <td>3.489</td>\n",
       "    </tr>\n",
       "    <tr>\n",
       "      <th>4884350</th>\n",
       "      <td>4884400</td>\n",
       "      <td>0.61674</td>\n",
       "      <td>742999164</td>\n",
       "      <td>0.62557</td>\n",
       "      <td>754249688.0</td>\n",
       "      <td>1.0</td>\n",
       "      <td>-1.0</td>\n",
       "      <td>-1.0</td>\n",
       "      <td>-1.0</td>\n",
       "      <td>0.0</td>\n",
       "      <td>...</td>\n",
       "      <td>1.74596</td>\n",
       "      <td>0.55970</td>\n",
       "      <td>0.36708</td>\n",
       "      <td>1.11629</td>\n",
       "      <td>0.99403</td>\n",
       "      <td>1.74596</td>\n",
       "      <td>0.6376</td>\n",
       "      <td>177200000.0</td>\n",
       "      <td>30000000.0</td>\n",
       "      <td>2.730</td>\n",
       "    </tr>\n",
       "    <tr>\n",
       "      <th>4884351</th>\n",
       "      <td>4884401</td>\n",
       "      <td>0.60804</td>\n",
       "      <td>731685427</td>\n",
       "      <td>0.61674</td>\n",
       "      <td>742999164.0</td>\n",
       "      <td>1.0</td>\n",
       "      <td>-1.0</td>\n",
       "      <td>-1.0</td>\n",
       "      <td>-1.0</td>\n",
       "      <td>0.0</td>\n",
       "      <td>...</td>\n",
       "      <td>1.19227</td>\n",
       "      <td>0.47104</td>\n",
       "      <td>0.30776</td>\n",
       "      <td>1.14373</td>\n",
       "      <td>0.99976</td>\n",
       "      <td>1.19227</td>\n",
       "      <td>0.8559</td>\n",
       "      <td>201800000.0</td>\n",
       "      <td>48000000.0</td>\n",
       "      <td>1.864</td>\n",
       "    </tr>\n",
       "    <tr>\n",
       "      <th>4884352</th>\n",
       "      <td>4884402</td>\n",
       "      <td>0.59662</td>\n",
       "      <td>720303756</td>\n",
       "      <td>0.60804</td>\n",
       "      <td>731685427.0</td>\n",
       "      <td>1.0</td>\n",
       "      <td>-1.0</td>\n",
       "      <td>-1.0</td>\n",
       "      <td>-1.0</td>\n",
       "      <td>0.0</td>\n",
       "      <td>...</td>\n",
       "      <td>0.48832</td>\n",
       "      <td>0.58741</td>\n",
       "      <td>0.35526</td>\n",
       "      <td>0.65286</td>\n",
       "      <td>1.69596</td>\n",
       "      <td>0.35190</td>\n",
       "      <td>0.7588</td>\n",
       "      <td>205000000.0</td>\n",
       "      <td>42000000.0</td>\n",
       "      <td>2.343</td>\n",
       "    </tr>\n",
       "    <tr>\n",
       "      <th>4884353</th>\n",
       "      <td>4884403</td>\n",
       "      <td>0.58820</td>\n",
       "      <td>708820372</td>\n",
       "      <td>0.59662</td>\n",
       "      <td>720303756.0</td>\n",
       "      <td>0.0</td>\n",
       "      <td>-1.0</td>\n",
       "      <td>-1.0</td>\n",
       "      <td>-1.0</td>\n",
       "      <td>0.0</td>\n",
       "      <td>...</td>\n",
       "      <td>-0.29987</td>\n",
       "      <td>0.56892</td>\n",
       "      <td>0.20679</td>\n",
       "      <td>0.31871</td>\n",
       "      <td>1.91386</td>\n",
       "      <td>-0.15039</td>\n",
       "      <td>0.6768</td>\n",
       "      <td>168700000.0</td>\n",
       "      <td>30000000.0</td>\n",
       "      <td>2.532</td>\n",
       "    </tr>\n",
       "  </tbody>\n",
       "</table>\n",
       "<p>4835849 rows × 50 columns</p>\n",
       "</div>"
      ],
      "text/plain": [
       "           index #scale(0)       id(1) desc_scale(2)   desc_id(3) num_prog(4)  \\\n",
       "1             51   1.00000  1122969403       0.00000           -1           1   \n",
       "2             52   0.99057  1113370505       1.00000   1122969403           1   \n",
       "3             53   0.97659  1103578712       0.99057   1113370505           1   \n",
       "4             54   0.96738  1093866277       0.97659   1103578712           1   \n",
       "5             55   0.95372  1084166184       0.96738   1093866277           1   \n",
       "...          ...       ...         ...           ...          ...         ...   \n",
       "4884349  4884399   0.62557   754249688       0.63453  765435978.0         1.0   \n",
       "4884350  4884400   0.61674   742999164       0.62557  754249688.0         1.0   \n",
       "4884351  4884401   0.60804   731685427       0.61674  742999164.0         1.0   \n",
       "4884352  4884402   0.59662   720303756       0.60804  731685427.0         1.0   \n",
       "4884353  4884403   0.58820   708820372       0.59662  720303756.0         0.0   \n",
       "\n",
       "        pid(5) upid(6) desc_pid(7) phantom(8)  ...     A[z] b_to_a(500c)  \\\n",
       "1           -1      -1          -1          0  ... -0.59764      0.73477   \n",
       "2           -1      -1          -1          0  ... -0.80679      0.63215   \n",
       "3           -1      -1          -1          0  ...  0.82788      0.80679   \n",
       "4           -1      -1          -1          0  ...  1.62453      0.19157   \n",
       "5           -1      -1          -1          0  ...  1.72263      0.53219   \n",
       "...        ...     ...         ...        ...  ...      ...          ...   \n",
       "4884349   -1.0    -1.0        -1.0        0.0  ...  2.13641      0.75990   \n",
       "4884350   -1.0    -1.0        -1.0        0.0  ...  1.74596      0.55970   \n",
       "4884351   -1.0    -1.0        -1.0        0.0  ...  1.19227      0.47104   \n",
       "4884352   -1.0    -1.0        -1.0        0.0  ...  0.48832      0.58741   \n",
       "4884353   -1.0    -1.0        -1.0        0.0  ... -0.29987      0.56892   \n",
       "\n",
       "        c_to_a(500c) A[x](500c) A[y](500c) A[z](500c)   T/|U| M_pe_Behroozi  \\\n",
       "1            0.30184    1.11307   -1.04583   -0.49679  0.6532   187100000.0   \n",
       "2            0.15637    0.72804   -0.80641   -0.81522  0.8323   248100000.0   \n",
       "3            0.18344   -0.68020    1.36609    1.06240  0.7812   166800000.0   \n",
       "4            0.13979   -0.71347    0.31104    1.71859  0.9205   183100000.0   \n",
       "5            0.33932   -0.44511    0.40864    1.70194  0.5444   186600000.0   \n",
       "...              ...        ...        ...        ...     ...           ...   \n",
       "4884349      0.45814    0.80072    0.69614    2.14372  0.5525   154000000.0   \n",
       "4884350      0.36708    1.11629    0.99403    1.74596  0.6376   177200000.0   \n",
       "4884351      0.30776    1.14373    0.99976    1.19227  0.8559   201800000.0   \n",
       "4884352      0.35526    0.65286    1.69596    0.35190  0.7588   205000000.0   \n",
       "4884353      0.20679    0.31871    1.91386   -0.15039  0.6768   168700000.0   \n",
       "\n",
       "        M_pe_Diemer Halfmass_Radius  \n",
       "1        42000000.0           2.103  \n",
       "2        48000000.0           1.678  \n",
       "3        30000000.0           2.681  \n",
       "4        36000000.0           2.670  \n",
       "5        30000000.0           2.603  \n",
       "...             ...             ...  \n",
       "4884349   6000000.0           3.489  \n",
       "4884350  30000000.0           2.730  \n",
       "4884351  48000000.0           1.864  \n",
       "4884352  42000000.0           2.343  \n",
       "4884353  30000000.0           2.532  \n",
       "\n",
       "[4835849 rows x 50 columns]"
      ]
     },
     "execution_count": 20,
     "metadata": {},
     "output_type": "execute_result"
    }
   ],
   "source": [
    "halos"
   ]
  },
  {
   "cell_type": "code",
   "execution_count": 48,
   "id": "3c60c4a2",
   "metadata": {},
   "outputs": [
    {
     "name": "stdout",
     "output_type": "stream",
     "text": [
      "25\n",
      "#scale(0) float64\n",
      "id(1) int64\n",
      "desc_scale(2) float64\n",
      "desc_id(3) int64\n",
      "num_prog(4) int64\n",
      "pid(5) int64\n",
      "upid(6) int64\n",
      "desc_pid(7) int64\n",
      "phantom(8) int64\n",
      "Mvir(10) float64\n",
      "Rvir(11) float64\n",
      "rs(12) float64\n",
      "vrms(13) float64\n",
      "mmp?(14) int64\n",
      "scale_of_last_MM(15) float64\n",
      "vmax(16) float64\n",
      "x(17) float64\n",
      "y(18) float64\n",
      "z(19) float64\n",
      "vx(20) float64\n",
      "vy(21) float64\n",
      "vz(22) float64\n",
      "Jx(23) float64\n",
      "Jy(24) float64\n"
     ]
    }
   ],
   "source": [
    "mask=halos.dtypes.values[1:]=='O'\n",
    "top=max(np.array(load_cols)[mask])+1\n",
    "print(top)\n",
    "f,it=\"float64\", \"int64\"\n",
    "maps=[]\n",
    "for l in load_cols:\n",
    "    if l<=25:\n",
    "        maps.append(l)\n",
    "maps=np.array(maps)\n",
    "castto1=np.array([f,it,f,it,it,it,it,it,it,f,f,f,f,f,it,f,f,f,f,f,f,f,f,f,f,f])\n",
    "castto=castto1[maps]\n",
    "dicts = {}\n",
    "keys = halos.columns[1:top]\n",
    "for d, key in enumerate(keys):\n",
    "            print(key, castto[d])\n",
    "#         dicts[key] = castto[d]\n",
    "# halos=halos.astype(dicts)"
   ]
  },
  {
   "cell_type": "code",
   "execution_count": 99,
   "id": "04b4f72f",
   "metadata": {},
   "outputs": [
    {
     "name": "stdout",
     "output_type": "stream",
     "text": [
      "Loading isotree 0_0_0\n",
      "isotree 0_0_0 loaded, restructuring\n"
     ]
    }
   ],
   "source": [
    "all_cols=np.array([0,2,4,5,6,7,8,10,11,12,13,14,15,16,17,18,19,20,21,22,23,24,25,35]+list(range(37,60)))\n",
    "all_cols=np.array([0,2,4,6,7,8,10,11,12,13,14,15,16,17,18,19,22,23,24,25,35]+list(range(37,60)))\n",
    "\n",
    "target=8\n",
    "lim=11\n",
    "case='test'\n",
    "transform='quantile'\n",
    "maxs=[1,1,1]\n",
    "dat=[]\n",
    "tcols=np.array(all_cols)\n",
    "raw_path='../../../../tigress/mcranmer/merger_trees/isotrees/'\n",
    "target_path='~/../../../tigress/mcranmer/merger_trees/samout/'\n",
    "transform_path=f'../../../../scratch/gpfs/cj1223/GraphStorage/transformers/{transform}_allfeat.pkl'\n",
    "scaler=pickle.load(open(transform_path, 'rb'))\n",
    "not_include=np.array([0,1,0,1,1,1,1,1,1,0,0,0,0,0,0,0,0,0,0,0,0,0,0,0,0,0,0,0,0,0,0,0,0,0,0,0,0,0,0,0,0,0,0,0,0,0,0,0,0,\\\n",
    "    0,0,0,0,0,0,0,0,0,0,0]) \n",
    "is_cat=[0,1,0,1,1,1,1,1,1,0,0,0,0,0,1,0,0,0,0,0,0,0,0,0,0,0,0,1,1,1,1,1,1,1,1,0,1,0,0,0,0,0,0,0,0,0,0,0,0,\\\n",
    "    0,0,0,0,0,0,0,0,0,0,0]\n",
    "is_cat=np.array([bool(i) for i in is_cat])\n",
    "icols=np.array([1,3])\n",
    "load_cols=np.sort(np.concatenate([tcols,icols]))\n",
    "not_include=not_include[load_cols]\n",
    "start=time.time()\n",
    "for i in range(0, maxs[0]):\n",
    "    for j in range(0,maxs[1]):\n",
    "        for k in range(0, maxs[2]):\n",
    "            print(f'Loading isotree {i}_{j}_{k}')\n",
    "            pd1=pd.read_table(raw_path+f'isotree_{i}_{j}_{k}.dat', skiprows=0, delimiter='\\s+', usecols=load_cols)\n",
    "            print(f'isotree {i}_{j}_{k} loaded, restructuring')\n",
    "\n",
    "            raw=pd1.drop(axis=0, index=np.arange(50)).reset_index()\n",
    "            del pd1\n",
    "\n",
    "            trees=raw[raw.isna()['desc_id(3)']] \n",
    "            halos=raw[~raw.isna()['desc_id(3)']]\n",
    "            del raw\n",
    " \n",
    "\n"
   ]
  },
  {
   "cell_type": "code",
   "execution_count": 104,
   "id": "5eac0789",
   "metadata": {},
   "outputs": [
    {
     "name": "stdout",
     "output_type": "stream",
     "text": [
      "25 [ 0  1  2  3  4  6  7  8 10 11 12 13 14 15 16 17 18 19 22 23 24] 21\n"
     ]
    },
    {
     "data": {
      "text/plain": [
       "{'#scale(0)': 'float64',\n",
       " 'id(1)': 'int64',\n",
       " 'desc_scale(2)': 'float64',\n",
       " 'desc_id(3)': 'int64',\n",
       " 'num_prog(4)': 'int64',\n",
       " 'upid(6)': 'int64',\n",
       " 'desc_pid(7)': 'int64',\n",
       " 'phantom(8)': 'int64',\n",
       " 'Mvir(10)': 'float64',\n",
       " 'Rvir(11)': 'float64',\n",
       " 'rs(12)': 'float64',\n",
       " 'vrms(13)': 'float64',\n",
       " 'mmp?(14)': 'int64',\n",
       " 'scale_of_last_MM(15)': 'float64',\n",
       " 'vmax(16)': 'float64',\n",
       " 'x(17)': 'float64',\n",
       " 'y(18)': 'float64',\n",
       " 'z(19)': 'float64',\n",
       " 'vz(22)': 'float64',\n",
       " 'Jx(23)': 'float64',\n",
       " 'Jy(24)': 'float64'}"
      ]
     },
     "execution_count": 104,
     "metadata": {},
     "output_type": "execute_result"
    }
   ],
   "source": [
    "mask=halos.dtypes.values[1:]=='O'\n",
    "\n",
    "f,it=\"float64\", \"int64\"\n",
    "map1=[]\n",
    "map2=[]\n",
    "k=0\n",
    "for l in load_cols:\n",
    "    k+=1\n",
    "    if l<25:\n",
    "        map1.append(l)\n",
    "        map2.append(k)\n",
    "map1=np.array(map1)\n",
    "map2=np.array(map2)\n",
    "\n",
    "castto=np.array([f,it,f,it,it,it,it,it,it,f,f,f,f,f,it,f,f,f,f,f,f,f,f,f,f])\n",
    "\n",
    "castto=castto[map1]\n",
    "dicts = {}\n",
    "keys = halos.columns[map2]\n",
    "for d, key in enumerate(keys):\n",
    "        dicts[key] = castto[d]\n",
    "\n",
    "halos=halos.astype(dicts)"
   ]
  },
  {
   "cell_type": "code",
   "execution_count": 87,
   "id": "a159edce",
   "metadata": {},
   "outputs": [
    {
     "name": "stdout",
     "output_type": "stream",
     "text": [
      "Loading isotree 1_1_2\n"
     ]
    },
    {
     "name": "stderr",
     "output_type": "stream",
     "text": [
      "/home/cj1223/.conda/envs/juptorch/lib/python3.9/site-packages/IPython/core/interactiveshell.py:3441: DtypeWarning: Columns (0,1,2,3,4,5,6,7,8,10) have mixed types.Specify dtype option on import or set low_memory=False.\n",
      "  exec(code_obj, self.user_global_ns, self.user_ns)\n"
     ]
    },
    {
     "name": "stdout",
     "output_type": "stream",
     "text": [
      "isotree 1_1_2 loaded, restructuring\n",
      "Splitting to tree and scaling\n",
      "Split done\n",
      "Loading targets\n",
      "51944\n",
      "Making merger tree\n"
     ]
    },
    {
     "name": "stderr",
     "output_type": "stream",
     "text": [
      "100%|███████████████████████████████████████████████████████████| 1284/1284 [02:21<00:00,  9.05it/s]\n",
      "100%|████████████████████████████████████████████████████████| 1284/1284 [00:00<00:00, 12151.34it/s]"
     ]
    },
    {
     "name": "stdout",
     "output_type": "stream",
     "text": [
      "Done with tree. \n",
      " Time elapsed 230.82173538208008 s\n"
     ]
    },
    {
     "name": "stderr",
     "output_type": "stream",
     "text": [
      "\n"
     ]
    }
   ],
   "source": [
    "tcols=[0,2,4,5,6,7,8,10,41]\n",
    "target=8\n",
    "lim=10\n",
    "save=0\n",
    "case='test'\n",
    "transform='quantile'\n",
    "maxs=[1,1,1]\n",
    "i,j,k=1,1,2\n",
    "dat=[]\n",
    "tcols=np.array(tcols)\n",
    "raw_path='~/../../../tigress/mcranmer/merger_trees/isotrees/'\n",
    "target_path='~/../../../tigress/mcranmer/merger_trees/samout/'\n",
    "transform_path=f'../../../../../scratch/gpfs/cj1223/GraphStorage/transformers/{transform}_allfeat.pkl'\n",
    "scaler=pickle.load(open(transform_path, 'rb'))\n",
    "not_include=np.array([0,1,0,1,0,1,1,1,1,0,0,0,0,0,0,0,0,0,0,0,0,0,0,0,0,0,0,0,0,0,0,0,0,0,0,0,0,0,0,0,0,0,0,0,0,0,0,0,0,\\\n",
    "    0,0,0,0,0,0,0,0,0,0,0]) \n",
    "is_cat=[0,1,0,1,1,1,1,1,1,0,0,0,0,0,1,0,0,0,0,0,0,0,0,0,0,0,0,1,1,1,1,1,1,1,1,0,1,0,0,0,0,0,0,0,0,0,0,0,0,\\\n",
    "    0,0,0,0,0,0,0,0,0,0,0]\n",
    "is_cat=np.array([bool(i) for i in is_cat])\n",
    "icols=np.array([1,3])\n",
    "load_cols=np.sort(np.concatenate([tcols,icols]))\n",
    "not_include=not_include[load_cols]\n",
    "\n",
    "\n",
    "start=time.time()\n",
    "print(f'Loading isotree {i}_{j}_{k}')\n",
    "pd1=pd.read_table(raw_path+f'isotree_{i}_{j}_{k}.dat', skiprows=0, delimiter='\\s+', usecols=load_cols)\n",
    "print(f'isotree {i}_{j}_{k} loaded, restructuring')\n",
    "\n",
    "raw=pd1.drop(axis=0, index=np.arange(50)).reset_index()\n",
    "del pd1\n",
    "\n",
    "trees=raw[raw.isna()['desc_id(3)']] \n",
    "halos=raw[~raw.isna()['desc_id(3)']]\n",
    "del raw\n",
    "\n",
    "##########################################\n",
    "### End loading, begin dtype changing  ###\n",
    "##########################################\n",
    "\n",
    "mask=halos.dtypes.values[1:]=='O'\n",
    "\n",
    "f,it=\"float64\", \"int64\"\n",
    "map1=[]\n",
    "map2=[]\n",
    "q=0\n",
    "for l in load_cols:\n",
    "    q+=1\n",
    "    if l<25:\n",
    "        map1.append(l)\n",
    "        map2.append(q)\n",
    "map1=np.array(map1)\n",
    "map2=np.array(map2)\n",
    "\n",
    "castto=np.array([f,it,f,it,it,it,it,it,it,f,f,f,f,f,it,f,f,f,f,f,f,f,f,f,f])\n",
    "\n",
    "castto=castto[map1]\n",
    "dicts = {}\n",
    "keys = halos.columns[map2]\n",
    "for d, key in enumerate(keys):\n",
    "        dicts[key] = castto[d]\n",
    "\n",
    "halos=halos.astype(dicts)\n",
    "\n",
    "###################################################\n",
    "### end dtype, begin inital hardcoded scaling   ###\n",
    "###################################################\n",
    "\n",
    "## initial scaling\n",
    "hard=[0,2,15]\n",
    "def logit(x):\n",
    "    return np.log10((x+0.001)/(1.01-x))\n",
    "##logit transform the hards\n",
    "for h in hard:\n",
    "    if h in tcols:\n",
    "        h1=np.where(load_cols==h)[0][0]+1\n",
    "        halos[halos.columns[h1]]=logit(halos[halos.columns[h1]])\n",
    "\n",
    "log=[10,38, 39, 40, 41, 42]\n",
    "#simple log for the rest\n",
    "def logt(x):\n",
    "    return np.log10(x+1)\n",
    "for l in log:\n",
    "    if l in tcols:\n",
    "        l1=np.where(load_cols==l)[0][0]+1\n",
    "        halos[halos.columns[l1]]=logt(halos[halos.columns[l1]])\n",
    "\n",
    "scale_cols=np.array(tcols[~is_cat[tcols]])\n",
    "\n",
    "print(f'Splitting to tree and scaling')\n",
    "spli=np.split(np.array(halos)[:,1:], np.array(trees.iloc[1:].index)-np.arange(1,len(trees.index)))\n",
    "del halos\n",
    "splits=[]\n",
    "for s in spli:\n",
    "    if s[0,np.where(load_cols==10)[0][0]]>lim:\n",
    "        splits.append(s)\n",
    "splits=np.array(splits, dtype=object)\n",
    "split=[]\n",
    "for tree in splits:\n",
    "    s=tree[np.logical_or(tree[:,3] == -1,tree[:,4]!=1)]\n",
    "    for n in scale_cols:\n",
    "        n1=np.where(load_cols==n)[0][0]\n",
    "        s[:,n1]=scaler[n].transform(s[:,n1].reshape(-1,1)).reshape(np.shape(s[:,n1]))\n",
    "    split.append(s)\n",
    "split=np.array(split, dtype=object)\n",
    "print('Split done')\n",
    "print('Loading targets')\n",
    "ex=f'{i}_{j}_{k}/galprop_0-99.dat'\n",
    "pdc=pd.read_table(target_path+ex, skiprows=0, delimiter=',', nrows=41, header=None)\n",
    "newcols=pdc.iloc[:,0]\n",
    "pds=pd.read_table(target_path+ex, skiprows=41, delimiter='\\s+', header=None)\n",
    "pds.columns=np.array(newcols)\n",
    "pd0=pds[pds[pds.columns[3]]==0.00] # subhaloes\n",
    "pdcen=pd0[(pd0[pds.columns[1]]==pd0[pds.columns[2]])] ##central haloes\n",
    "\n",
    "rhalid=np.array(pdcen[pds.columns[2]])\n",
    "del pd0\n",
    "del pds\n",
    "halwgal=[]\n",
    "ids=[]\n",
    "out=[]\n",
    "for idx, tree in enumerate(split): #split up into tree\n",
    "    if tree[0,1] in rhalid:\n",
    "        if len(tree)>20000:\n",
    "            print(len(tree))\n",
    "        else:\n",
    "            halwgal.append(tree)\n",
    "            ids.append(idx)\n",
    "            index=np.where(rhalid==tree[0,1])\n",
    "            out.append(np.array(pdcen.iloc[index])[0][target]) ## target variable\n",
    "del pdcen\n",
    "\n",
    "hraw=np.array(splits[ids], dtype=object)\n",
    "hals=[]\n",
    "pr,de=[],[]\n",
    "discards=[]\n",
    "print('Making merger tree')\n",
    "for n in tqdm(range(len(halwgal))):\n",
    "    h=halwgal[n]\n",
    "    roots=h[h[:,4]==0]\n",
    "    mergers=h[h[:,4]>1]\n",
    "    final=h[h[:,3]==-1]\n",
    "    pro, des=[],[]\n",
    "    discarded=[]\n",
    "    for mid in mergers[:,1]:\n",
    "        k=1\n",
    "        descid=hraw[n][:,3][np.where(mid==hraw[n][:,1])] ##descendant ID of raw where the id of the merger is\n",
    "        while descid not in mergers[:,1] and descid!=-1: \n",
    "            k+=1\n",
    "    \n",
    "            descid=hraw[n][:,3][np.where(descid==hraw[n][:,1])]\n",
    "        pro.append(mid)\n",
    "        if descid!=-1:\n",
    "            des.append(descid[0])\n",
    "        else:\n",
    "            des.append(hraw[n][:,3][np.where(mid==hraw[n][:,1])][0])\n",
    "        discarded.append(1/k) \n",
    "\n",
    "    for r in roots:\n",
    "        descid=hraw[n][:,3][np.where(r[1]==hraw[n][:,1])] \n",
    "        k=1\n",
    "        while descid not in mergers[:,1] and descid!=[-1]: ##could add 1/k\n",
    "            k+=1\n",
    "            descid=hraw[n][:,3][np.where(descid==hraw[n][:,1])]#consider adding the number of steps it went through\n",
    "        pro.append(r[1])\n",
    "        if descid!=-1:\n",
    "            des.append(descid[0])\n",
    "        else:\n",
    "            des.append(hraw[n][:,3][np.where(r[1]==hraw[n][:,1])][0])\n",
    "        discarded.append(1/k) \n",
    "\n",
    "    discards.append(np.array(discarded))\n",
    "    des,pro=convert(des, pro)\n",
    "    hal2=np.vstack([final,mergers,roots])\n",
    "    global mass_index\n",
    "    if n==0:\n",
    "        fcols=[i for i in range(len(hal2[0])) if not_include[i]==0] ##choose non-id cols to carry forward\n",
    "        mask=np.array([bool(i) for i in not_include])\n",
    "        idcols=load_cols[~mask] ##choose non-id cols to carry forward\n",
    "        mass_id=np.where(np.array(idcols)==10)[0][0]\n",
    "    hal2=hal2[:,fcols] ##take away id's\n",
    "    hals.append(hal2)\n",
    "    pr.append([int(p) for p in pro])\n",
    "    de.append([int(d) for d in des])\n",
    "hals=np.array(hals,dtype=object)\n",
    "out=np.log10(out) #homemade scaling\n",
    "for n in tqdm(range(len(out))):\n",
    "    edge_index = torch.tensor([pr[n],de[n]], dtype=torch.long)\n",
    "    x = torch.tensor(hals[n], dtype=torch.float)\n",
    "    y=torch.tensor(out[n], dtype=torch.float)\n",
    "    edge_attr=torch.tensor(discards[n], dtype=torch.float)\n",
    "    graph=Data(x=x, edge_index=edge_index, edge_attr=edge_attr, y=y)\n",
    "    dat.append(graph)\n",
    "stop=time.time()\n",
    "print(f'Done with tree. \\n Time elapsed {stop-start} s')\n",
    "if save:\n",
    "    print(\"Saving dataset\")\n",
    "    if not osp.exists(f'../../../../../scratch/gpfs/cj1223/GraphStorage/{case}'):\n",
    "        os.mkdir(f'../../../../../scratch/gpfs/cj1223/GraphStorage/{case}')\n",
    "\n",
    "    with open(f'../../../../../scratch/gpfs/cj1223/GraphStorage/{case}/data.pkl', 'wb') as handle:\n",
    "        pickle.dump(dat, handle)"
   ]
  },
  {
   "cell_type": "code",
   "execution_count": 93,
   "id": "48b987cb",
   "metadata": {},
   "outputs": [],
   "source": [
    "ls=[]\n",
    "for d in dat:\n",
    "    ls.append(len(d.x))"
   ]
  },
  {
   "cell_type": "code",
   "execution_count": 8,
   "id": "45a12b22",
   "metadata": {},
   "outputs": [
    {
     "ename": "AttributeError",
     "evalue": "'GlobalStorage' object has no attribute 'num_nodes'",
     "output_type": "error",
     "traceback": [
      "\u001b[0;31m---------------------------------------------------------------------------\u001b[0m",
      "\u001b[0;31mKeyError\u001b[0m                                  Traceback (most recent call last)",
      "\u001b[0;32m~/.conda/envs/juptorch/lib/python3.9/site-packages/torch_geometric/data/storage.py\u001b[0m in \u001b[0;36m__getattr__\u001b[0;34m(self, key)\u001b[0m\n\u001b[1;32m     47\u001b[0m         \u001b[0;32mtry\u001b[0m\u001b[0;34m:\u001b[0m\u001b[0;34m\u001b[0m\u001b[0;34m\u001b[0m\u001b[0m\n\u001b[0;32m---> 48\u001b[0;31m             \u001b[0;32mreturn\u001b[0m \u001b[0mself\u001b[0m\u001b[0;34m[\u001b[0m\u001b[0mkey\u001b[0m\u001b[0;34m]\u001b[0m\u001b[0;34m\u001b[0m\u001b[0;34m\u001b[0m\u001b[0m\n\u001b[0m\u001b[1;32m     49\u001b[0m         \u001b[0;32mexcept\u001b[0m \u001b[0mKeyError\u001b[0m\u001b[0;34m:\u001b[0m\u001b[0;34m\u001b[0m\u001b[0;34m\u001b[0m\u001b[0m\n",
      "\u001b[0;32m~/.conda/envs/juptorch/lib/python3.9/site-packages/torch_geometric/data/storage.py\u001b[0m in \u001b[0;36m__getitem__\u001b[0;34m(self, key)\u001b[0m\n\u001b[1;32m     67\u001b[0m     \u001b[0;32mdef\u001b[0m \u001b[0m__getitem__\u001b[0m\u001b[0;34m(\u001b[0m\u001b[0mself\u001b[0m\u001b[0;34m,\u001b[0m \u001b[0mkey\u001b[0m\u001b[0;34m:\u001b[0m \u001b[0mstr\u001b[0m\u001b[0;34m)\u001b[0m \u001b[0;34m->\u001b[0m \u001b[0mAny\u001b[0m\u001b[0;34m:\u001b[0m\u001b[0;34m\u001b[0m\u001b[0;34m\u001b[0m\u001b[0m\n\u001b[0;32m---> 68\u001b[0;31m         \u001b[0;32mreturn\u001b[0m \u001b[0mself\u001b[0m\u001b[0;34m.\u001b[0m\u001b[0m_mapping\u001b[0m\u001b[0;34m[\u001b[0m\u001b[0mkey\u001b[0m\u001b[0;34m]\u001b[0m\u001b[0;34m\u001b[0m\u001b[0;34m\u001b[0m\u001b[0m\n\u001b[0m\u001b[1;32m     69\u001b[0m \u001b[0;34m\u001b[0m\u001b[0m\n",
      "\u001b[0;31mKeyError\u001b[0m: 'num_nodes'",
      "\nDuring handling of the above exception, another exception occurred:\n",
      "\u001b[0;31mAttributeError\u001b[0m                            Traceback (most recent call last)",
      "\u001b[0;32m/tmp/ipykernel_20716/3447564401.py\u001b[0m in \u001b[0;36m<module>\u001b[0;34m\u001b[0m\n\u001b[1;32m      5\u001b[0m \u001b[0mcmap\u001b[0m\u001b[0;34m=\u001b[0m\u001b[0mcm\u001b[0m\u001b[0;34m.\u001b[0m\u001b[0mget_cmap\u001b[0m\u001b[0;34m(\u001b[0m\u001b[0mname\u001b[0m\u001b[0;34m=\u001b[0m\u001b[0;34m'magma'\u001b[0m\u001b[0;34m)\u001b[0m\u001b[0;34m\u001b[0m\u001b[0;34m\u001b[0m\u001b[0m\n\u001b[1;32m      6\u001b[0m \u001b[0mfig\u001b[0m\u001b[0;34m,\u001b[0m\u001b[0max\u001b[0m\u001b[0;34m=\u001b[0m\u001b[0mplt\u001b[0m\u001b[0;34m.\u001b[0m\u001b[0msubplots\u001b[0m\u001b[0;34m(\u001b[0m\u001b[0mfigsize\u001b[0m\u001b[0;34m=\u001b[0m\u001b[0;34m(\u001b[0m\u001b[0;36m15\u001b[0m\u001b[0;34m,\u001b[0m\u001b[0;36m8\u001b[0m\u001b[0;34m)\u001b[0m\u001b[0;34m)\u001b[0m\u001b[0;34m\u001b[0m\u001b[0;34m\u001b[0m\u001b[0m\n\u001b[0;32m----> 7\u001b[0;31m \u001b[0mG\u001b[0m\u001b[0;34m=\u001b[0m\u001b[0mtg\u001b[0m\u001b[0;34m.\u001b[0m\u001b[0mutils\u001b[0m\u001b[0;34m.\u001b[0m\u001b[0mto_networkx\u001b[0m\u001b[0;34m(\u001b[0m\u001b[0mdat\u001b[0m\u001b[0;34m[\u001b[0m\u001b[0mj\u001b[0m\u001b[0;34m]\u001b[0m\u001b[0;34m)\u001b[0m\u001b[0;34m\u001b[0m\u001b[0;34m\u001b[0m\u001b[0m\n\u001b[0m\u001b[1;32m      8\u001b[0m \u001b[0mdi\u001b[0m\u001b[0;34m=\u001b[0m\u001b[0mnx\u001b[0m\u001b[0;34m.\u001b[0m\u001b[0mbetweenness_centrality\u001b[0m\u001b[0;34m(\u001b[0m\u001b[0mG\u001b[0m\u001b[0;34m)\u001b[0m\u001b[0;34m\u001b[0m\u001b[0;34m\u001b[0m\u001b[0m\n\u001b[1;32m      9\u001b[0m \u001b[0;32mfor\u001b[0m \u001b[0mq\u001b[0m\u001b[0;34m,\u001b[0m\u001b[0mkey\u001b[0m \u001b[0;32min\u001b[0m \u001b[0menumerate\u001b[0m\u001b[0;34m(\u001b[0m\u001b[0mdi\u001b[0m\u001b[0;34m.\u001b[0m\u001b[0mkeys\u001b[0m\u001b[0;34m(\u001b[0m\u001b[0;34m)\u001b[0m\u001b[0;34m)\u001b[0m\u001b[0;34m:\u001b[0m\u001b[0;34m\u001b[0m\u001b[0;34m\u001b[0m\u001b[0m\n",
      "\u001b[0;32m~/.conda/envs/juptorch/lib/python3.9/site-packages/torch_geometric/utils/convert.py\u001b[0m in \u001b[0;36mto_networkx\u001b[0;34m(data, node_attrs, edge_attrs, to_undirected, remove_self_loops)\u001b[0m\n\u001b[1;32m     78\u001b[0m         \u001b[0mG\u001b[0m \u001b[0;34m=\u001b[0m \u001b[0mnx\u001b[0m\u001b[0;34m.\u001b[0m\u001b[0mDiGraph\u001b[0m\u001b[0;34m(\u001b[0m\u001b[0;34m)\u001b[0m\u001b[0;34m\u001b[0m\u001b[0;34m\u001b[0m\u001b[0m\n\u001b[1;32m     79\u001b[0m \u001b[0;34m\u001b[0m\u001b[0m\n\u001b[0;32m---> 80\u001b[0;31m     \u001b[0mG\u001b[0m\u001b[0;34m.\u001b[0m\u001b[0madd_nodes_from\u001b[0m\u001b[0;34m(\u001b[0m\u001b[0mrange\u001b[0m\u001b[0;34m(\u001b[0m\u001b[0mdata\u001b[0m\u001b[0;34m.\u001b[0m\u001b[0mnum_nodes\u001b[0m\u001b[0;34m)\u001b[0m\u001b[0;34m)\u001b[0m\u001b[0;34m\u001b[0m\u001b[0;34m\u001b[0m\u001b[0m\n\u001b[0m\u001b[1;32m     81\u001b[0m \u001b[0;34m\u001b[0m\u001b[0m\n\u001b[1;32m     82\u001b[0m     \u001b[0mnode_attrs\u001b[0m\u001b[0;34m,\u001b[0m \u001b[0medge_attrs\u001b[0m \u001b[0;34m=\u001b[0m \u001b[0mnode_attrs\u001b[0m \u001b[0;32mor\u001b[0m \u001b[0;34m[\u001b[0m\u001b[0;34m]\u001b[0m\u001b[0;34m,\u001b[0m \u001b[0medge_attrs\u001b[0m \u001b[0;32mor\u001b[0m \u001b[0;34m[\u001b[0m\u001b[0;34m]\u001b[0m\u001b[0;34m\u001b[0m\u001b[0;34m\u001b[0m\u001b[0m\n",
      "\u001b[0;32m~/.conda/envs/juptorch/lib/python3.9/site-packages/torch_geometric/data/data.py\u001b[0m in \u001b[0;36m__getattr__\u001b[0;34m(self, key)\u001b[0m\n\u001b[1;32m    343\u001b[0m                 \u001b[0;34m\"dataset, remove the 'processed/' directory in the dataset's \"\u001b[0m\u001b[0;34m\u001b[0m\u001b[0;34m\u001b[0m\u001b[0m\n\u001b[1;32m    344\u001b[0m                 \"root folder and try again.\")\n\u001b[0;32m--> 345\u001b[0;31m         \u001b[0;32mreturn\u001b[0m \u001b[0mgetattr\u001b[0m\u001b[0;34m(\u001b[0m\u001b[0mself\u001b[0m\u001b[0;34m.\u001b[0m\u001b[0m_store\u001b[0m\u001b[0;34m,\u001b[0m \u001b[0mkey\u001b[0m\u001b[0;34m)\u001b[0m\u001b[0;34m\u001b[0m\u001b[0;34m\u001b[0m\u001b[0m\n\u001b[0m\u001b[1;32m    346\u001b[0m \u001b[0;34m\u001b[0m\u001b[0m\n\u001b[1;32m    347\u001b[0m     \u001b[0;32mdef\u001b[0m \u001b[0m__setattr__\u001b[0m\u001b[0;34m(\u001b[0m\u001b[0mself\u001b[0m\u001b[0;34m,\u001b[0m \u001b[0mkey\u001b[0m\u001b[0;34m:\u001b[0m \u001b[0mstr\u001b[0m\u001b[0;34m,\u001b[0m \u001b[0mvalue\u001b[0m\u001b[0;34m:\u001b[0m \u001b[0mAny\u001b[0m\u001b[0;34m)\u001b[0m\u001b[0;34m:\u001b[0m\u001b[0;34m\u001b[0m\u001b[0;34m\u001b[0m\u001b[0m\n",
      "\u001b[0;32m~/.conda/envs/juptorch/lib/python3.9/site-packages/torch_geometric/data/storage.py\u001b[0m in \u001b[0;36m__getattr__\u001b[0;34m(self, key)\u001b[0m\n\u001b[1;32m     48\u001b[0m             \u001b[0;32mreturn\u001b[0m \u001b[0mself\u001b[0m\u001b[0;34m[\u001b[0m\u001b[0mkey\u001b[0m\u001b[0;34m]\u001b[0m\u001b[0;34m\u001b[0m\u001b[0;34m\u001b[0m\u001b[0m\n\u001b[1;32m     49\u001b[0m         \u001b[0;32mexcept\u001b[0m \u001b[0mKeyError\u001b[0m\u001b[0;34m:\u001b[0m\u001b[0;34m\u001b[0m\u001b[0;34m\u001b[0m\u001b[0m\n\u001b[0;32m---> 50\u001b[0;31m             raise AttributeError(\n\u001b[0m\u001b[1;32m     51\u001b[0m                 f\"'{self.__class__.__name__}' object has no attribute '{key}'\")\n\u001b[1;32m     52\u001b[0m \u001b[0;34m\u001b[0m\u001b[0m\n",
      "\u001b[0;31mAttributeError\u001b[0m: 'GlobalStorage' object has no attribute 'num_nodes'"
     ]
    },
    {
     "data": {
      "image/png": "[encoded data removed]",
      "text/plain": [
       "<Figure size 1080x576 with 1 Axes>"
      ]
     },
     "metadata": {
      "needs_background": "light"
     },
     "output_type": "display_data"
    }
   ],
   "source": [
    "#graph 275\n",
    "\n",
    "j=12\n",
    "from matplotlib import cm\n",
    "cmap=cm.get_cmap(name='magma')\n",
    "fig,ax=plt.subplots(figsize=(15,8))\n",
    "G=tg.utils.to_networkx(dat[j])\n",
    "di=nx.betweenness_centrality(G)\n",
    "for q,key in enumerate(di.keys()):\n",
    "    di[key]=dat[j].x.numpy()[q,2]\n",
    "nx.set_node_attributes(G, di, 'n_prog')\n",
    "print('Made graph')\n",
    "# G.remove_nodes_from(list(nx.isolates(G)))\n",
    "pos=nx.planar_layout(G)\n",
    "# pos=nx.kamada_kawai_layout(G) #this one is kinda snakey but works pretty well! Slow as hell though\n",
    "if G.number_of_nodes()<2000:\n",
    "    print('drawing')\n",
    "    nx.draw(G, pos=pos,ax=ax, node_size=8, arrowsize=5, cmap=cmap)"
   ]
  },
  {
   "cell_type": "code",
   "execution_count": null,
   "id": "c0016bc1",
   "metadata": {},
   "outputs": [],
   "source": [
    "import matplotlib.pyplot as plt\n",
    "# create number for each group to allow use of colormap\n",
    "from itertools import count\n",
    "fig,ax=plt.subplots(figsize=(25,12))\n",
    "# get unique groups\n",
    "groups = set(nx.get_node_attributes(G,'n_prog').values())\n",
    "mapping = dict(zip(sorted(groups),count()))\n",
    "nodes = G.nodes()\n",
    "colors=dat[j].x.numpy()[:,2]\n",
    "sizes=(dat[j].x.numpy()[:,3]-min(dat[j].x.numpy()[:,3])+1)**2\n",
    "# drawing nodes and edges separately so we can capture collection for colobar\n",
    "pos = nx.planar_layout(G)\n",
    "ec = nx.draw_networkx_edges(G, pos, ax=ax, alpha=0.2)\n",
    "nc = nx.draw_networkx_nodes(G, pos, ax=ax, nodelist=nodes, node_color=colors, node_size=sizes, cmap=plt.cm.jet)\n",
    "plt.colorbar(nc)\n",
    "plt.axis('off')\n",
    "plt.show()"
   ]
  },
  {
   "cell_type": "code",
   "execution_count": 101,
   "id": "35f0aa3f",
   "metadata": {},
   "outputs": [
    {
     "data": {
      "text/plain": [
       "tensor([[ 5.1993, -5.1993,  7.0000,  2.3397,  2.3519],\n",
       "        [ 5.1993, -5.1993,  7.0000,  2.3397,  2.3519],\n",
       "        [ 2.5118,  5.1993, 10.0000,  2.3391,  2.3488],\n",
       "        ...,\n",
       "        [ 1.3814,  1.4216,  0.0000, -0.1524, -0.1207],\n",
       "        [ 2.1969,  2.4086,  0.0000,  0.0741,  0.1499],\n",
       "        [ 2.2900,  2.5755,  0.0000, -0.5865, -5.1993]])"
      ]
     },
     "execution_count": 101,
     "metadata": {},
     "output_type": "execute_result"
    }
   ],
   "source": [
    "dat[12].x"
   ]
  },
  {
   "cell_type": "code",
   "execution_count": 90,
   "id": "99d14c9e",
   "metadata": {},
   "outputs": [
    {
     "data": {
      "text/plain": [
       "Data(x=[64, 5], edge_index=[2, 63], edge_attr=[63], y=-0.7890210151672363)"
      ]
     },
     "execution_count": 90,
     "metadata": {},
     "output_type": "execute_result"
    }
   ],
   "source": [
    "dat[1]"
   ]
  },
  {
   "cell_type": "code",
   "execution_count": 66,
   "id": "0d27e754",
   "metadata": {},
   "outputs": [
    {
     "name": "stdout",
     "output_type": "stream",
     "text": [
      "[62310517.]\n",
      "[73469508.]\n",
      "[84968192.]\n"
     ]
    }
   ],
   "source": [
    "dis=[]\n",
    "descid=hraw[n][:,3][np.where(r[1]==hraw[n][:,1])] \n",
    "k=1\n",
    "while descid not in mergers[:,1] and descid!=[-1]: ##could add 1/k\n",
    "    k+=1\n",
    "    descid=hraw[n][:,3][np.where(descid==hraw[n][:,1])]#consider adding the number of steps it went through\n",
    "    print(descid)\n",
    "dis.append(1/k)"
   ]
  },
  {
   "cell_type": "code",
   "execution_count": 71,
   "id": "c0b3c786",
   "metadata": {},
   "outputs": [
    {
     "ename": "IndexError",
     "evalue": "index 0 is out of bounds for axis 0 with size 0",
     "output_type": "error",
     "traceback": [
      "\u001b[0;31m---------------------------------------------------------------------------\u001b[0m",
      "\u001b[0;31mIndexError\u001b[0m                                Traceback (most recent call last)",
      "\u001b[0;32m/tmp/ipykernel_8504/456098245.py\u001b[0m in \u001b[0;36m<module>\u001b[0;34m\u001b[0m\n\u001b[0;32m----> 1\u001b[0;31m \u001b[0mhraw\u001b[0m\u001b[0;34m[\u001b[0m\u001b[0mn\u001b[0m\u001b[0;34m]\u001b[0m\u001b[0;34m[\u001b[0m\u001b[0;34m:\u001b[0m\u001b[0;34m,\u001b[0m\u001b[0;36m3\u001b[0m\u001b[0;34m]\u001b[0m\u001b[0;34m[\u001b[0m\u001b[0mnp\u001b[0m\u001b[0;34m.\u001b[0m\u001b[0mwhere\u001b[0m\u001b[0;34m(\u001b[0m\u001b[0mmid\u001b[0m\u001b[0;34m==\u001b[0m\u001b[0mhraw\u001b[0m\u001b[0;34m[\u001b[0m\u001b[0mn\u001b[0m\u001b[0;34m]\u001b[0m\u001b[0;34m[\u001b[0m\u001b[0;34m:\u001b[0m\u001b[0;34m,\u001b[0m\u001b[0;36m1\u001b[0m\u001b[0;34m]\u001b[0m\u001b[0;34m)\u001b[0m\u001b[0;34m]\u001b[0m\u001b[0;34m[\u001b[0m\u001b[0;36m0\u001b[0m\u001b[0;34m]\u001b[0m\u001b[0;34m\u001b[0m\u001b[0;34m\u001b[0m\u001b[0m\n\u001b[0m",
      "\u001b[0;31mIndexError\u001b[0m: index 0 is out of bounds for axis 0 with size 0"
     ]
    }
   ],
   "source": [
    "hraw[n][:,3][np.where(mid==hraw[n][:,1])][0]"
   ]
  },
  {
   "cell_type": "code",
   "execution_count": 74,
   "id": "31ef3ffb",
   "metadata": {},
   "outputs": [
    {
     "data": {
      "text/plain": [
       "((array([18]),), 71669478.0)"
      ]
     },
     "execution_count": 74,
     "metadata": {},
     "output_type": "execute_result"
    }
   ],
   "source": [
    "np.where(r[1]==hraw[n][:,1]), mid"
   ]
  },
  {
   "cell_type": "code",
   "execution_count": 77,
   "id": "67e9fcf0",
   "metadata": {},
   "outputs": [
    {
     "data": {
      "text/plain": [
       "1123772897.0"
      ]
     },
     "execution_count": 77,
     "metadata": {},
     "output_type": "execute_result"
    }
   ],
   "source": [
    "(hraw[n][:,1][np.where(-1==hraw[n][:,3])][0])"
   ]
  }
 ],
 "metadata": {
  "kernelspec": {
   "display_name": "Python 3 (ipykernel)",
   "language": "python",
   "name": "python3"
  },
  "language_info": {
   "codemirror_mode": {
    "name": "ipython",
    "version": 3
   },
   "file_extension": ".py",
   "mimetype": "text/x-python",
   "name": "python",
   "nbconvert_exporter": "python",
   "pygments_lexer": "ipython3",
   "version": "3.9.7"
  }
 },
 "nbformat": 4,
 "nbformat_minor": 5
}
