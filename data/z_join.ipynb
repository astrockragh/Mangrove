{
 "cells": [
  {
   "cell_type": "code",
   "execution_count": 2,
   "id": "510826c9",
   "metadata": {},
   "outputs": [],
   "source": [
    "import torch, time, pickle,os\n",
    "import torch_geometric as tg\n",
    "from torch_geometric.data import Data\n",
    "import numpy as np\n",
    "import matplotlib.pyplot as plt\n",
    "import pandas as pd\n",
    "from tqdm import tqdm\n",
    "import os.path as osp\n",
    "import networkx as nx"
   ]
  },
  {
   "cell_type": "code",
   "execution_count": 3,
   "id": "9bd96393",
   "metadata": {},
   "outputs": [
    {
     "data": {
      "text/plain": [
       "['vlarge_all_4t_z1.0_standard_quant',\n",
       " 'vlarge_all_4t_z0.3_quantile_raw',\n",
       " 'vlarge_4t_quantile_raw_redshift_75_all',\n",
       " 'vlarge_all_4t_z1.0_quantile_raw',\n",
       " 'vlarge_all_4t_z0.3_None',\n",
       " 'vlarge_all_4t_z3.0_quantile_raw',\n",
       " 'vlarge_all_4t_z2.0_standard_quant',\n",
       " 'vlarge_all_4t_z0.8_quantile_raw',\n",
       " 'tvt_idx',\n",
       " 'vlarge_all_4t_z2.0_None',\n",
       " 'redshift_scan_0',\n",
       " 'testid_all_4t_z2.0_None',\n",
       " 'vlarge_all_4t_z0.0_quantile_stand',\n",
       " 'vlarge_all_multi_try1',\n",
       " 'vlarge_4t_quantile_raw_redshift_99_all',\n",
       " 'vlarge_all_4t_z2.0_quantile_raw',\n",
       " 'vlarge_all_4t_z0.0_standard_quant',\n",
       " 'vlarge_all_4t_z0.5_quantile_quant',\n",
       " 'vlarge_4t_quantile_raw_redshift_50_all',\n",
       " 'vlarge_all_4t_z2.0_quantile_stand',\n",
       " 'vlarge_all_4t_z1.0_quantile_quant',\n",
       " 'transformers',\n",
       " 'vlarge_all_4t_z0.0_standard_raw',\n",
       " 'vlarge_all_4t_quantile_raw_final',\n",
       " 'vlarge_all_4t_z0.5_standard_stand',\n",
       " 'vlarge_all_4t_z1.8_quantile_raw',\n",
       " 'vlarge_all_4t_z0.5_standard_quant',\n",
       " 'vlarge_all_4t_zall_quantile_raw_trainandtest',\n",
       " 'vlarge_all_4t_z0.0_quantile_raw',\n",
       " 'old',\n",
       " 'vlarge_all_4t_z1.0_None',\n",
       " 'vlarge_all_4t_z1.5_quantile_raw',\n",
       " 'vlarge_all_4t_z1.0_standard_stand',\n",
       " 'vlarge_all_4t_z0.8_None',\n",
       " 'vlarge_all_4t_z1.8_None',\n",
       " 'vlarge_all_4t_z2.0_standard_raw',\n",
       " 'vlarge_4t_quantile_raw_redshift_95_all',\n",
       " 'testid_all_4t_z0.0_None',\n",
       " 'vlarge_all_4t_z3.0_None',\n",
       " 'vlarge_all_4t_z0.5_standard_raw',\n",
       " 'vlarge_all_4t_z1.5_None',\n",
       " 'vlarge_all_4t_z0.0_None',\n",
       " 'vlarge_4t_quantile_raw_redshift_85_all',\n",
       " 'vlarge_all_4t_z0.5_quantile_raw',\n",
       " 'vlarge_all_4t_z1.0_standard_raw',\n",
       " 'vlarge_all_4t_quantile_raw',\n",
       " 'testt_all_4t_z0.0_None',\n",
       " 'vlarge_all_smass',\n",
       " 'vlarge_all_4t_z0.0_quantile_quant',\n",
       " 'vlarge_all_4t_z0.5_quantile_stand',\n",
       " 'vlarge_all_4t_zall_quantile_raw',\n",
       " 'vlarge_all_4t_z0.0_standard_stand',\n",
       " 'vlarge_all_4t_z1.0_quantile_stand',\n",
       " 'vlarge_all_4t_z2.0_quantile_quant',\n",
       " 'vlarge_all_4t_z2.0_standard_stand',\n",
       " 'vlarge_all_4t_z0.5_None']"
      ]
     },
     "execution_count": 3,
     "metadata": {},
     "output_type": "execute_result"
    }
   ],
   "source": [
    "os.listdir(osp.expanduser('~/../../scratch/gpfs/cj1223/GraphStorage/'))"
   ]
  },
  {
   "cell_type": "code",
   "execution_count": 4,
   "id": "f0677cf9",
   "metadata": {},
   "outputs": [],
   "source": [
    "case=f'testid_all_4t_z{0.0}_None'\n",
    "data0=pickle.load(open(f'../../../../../scratch/gpfs/cj1223/GraphStorage/{case}/data.pkl', 'rb'))\n",
    "meta0=pickle.load(open(f'../../../../../scratch/gpfs/cj1223/GraphStorage/{case}/meta.pkl', 'rb'))\n",
    "case='testid_all_4t_z2.0_None'\n",
    "data1=pickle.load(open(f'../../../../../scratch/gpfs/cj1223/GraphStorage/{case}/data.pkl', 'rb'))\n",
    "meta1=pickle.load(open(f'../../../../../scratch/gpfs/cj1223/GraphStorage/{case}/meta.pkl', 'rb'))\n"
   ]
  },
  {
   "cell_type": "code",
   "execution_count": 15,
   "id": "f6b46cf6",
   "metadata": {},
   "outputs": [],
   "source": [
    "len(np.hstack(meta0['extra']))\n",
    "ls=np.hstack(meta0['extra'])"
   ]
  },
  {
   "cell_type": "code",
   "execution_count": 21,
   "id": "7684bd6a",
   "metadata": {},
   "outputs": [],
   "source": [
    "lss = []\n",
    "for l in ls:\n",
    "    lss.append(int(l[0,0]))"
   ]
  },
  {
   "cell_type": "code",
   "execution_count": 23,
   "id": "751525fd",
   "metadata": {},
   "outputs": [],
   "source": [
    "with open(osp.expanduser(f'~/../../../scratch/gpfs/cj1223/GraphStorage/haloids.pkl'), 'wb') as handle:\n",
    "    pickle.dump(lss, handle)"
   ]
  },
  {
   "cell_type": "code",
   "execution_count": 6,
   "id": "d2d7ffbb",
   "metadata": {},
   "outputs": [],
   "source": [
    "data0.append(data1)"
   ]
  },
  {
   "cell_type": "code",
   "execution_count": 7,
   "id": "ed16a58c",
   "metadata": {},
   "outputs": [],
   "source": [
    "metaz0=np.hstack(meta0['extra'])\n",
    "metaz2=np.hstack(meta1['extra'])"
   ]
  },
  {
   "cell_type": "code",
   "execution_count": 7,
   "id": "03ebfd53",
   "metadata": {},
   "outputs": [
    {
     "name": "stderr",
     "output_type": "stream",
     "text": [
      "100%|████████████████████████████████████████████████████████████| 770/770 [00:01<00:00, 419.92it/s]\n",
      "100%|██████████████████████████████████████████████████████████| 1339/1339 [00:07<00:00, 182.15it/s]\n",
      "/tmp/ipykernel_19449/358635189.py:28: VisibleDeprecationWarning: Creating an ndarray from ragged nested sequences (which is a list-or-tuple of lists-or-tuples-or ndarrays with different lengths or shapes) is deprecated. If you meant to do this, you must specify 'dtype=object' when creating the ndarray.\n",
      "  kss, jss = np.array(kss), np.array(jss)\n"
     ]
    }
   ],
   "source": [
    "kls, jls = [], []\n",
    "kls.append(0)\n",
    "jls.append(0)\n",
    "for metaz0, metaz1 in zip(meta0['extra'], meta1['extra']):\n",
    "    kls.append(len(metaz0))\n",
    "    jls.append(len(metaz1))\n",
    "    \n",
    "# @numba.jit(nopython=True, parallel=True)\n",
    "def run(metaz0, metaz1):\n",
    "    ks, js =[],[]\n",
    "    for k in tqdm(range(len(metaz0))):\n",
    "        for j in range(len(metaz1)):\n",
    "            s=metaz1[j][0,0] in metaz0[k][:,0]\n",
    "#             s=np.any(np.in1d(metaz2[j][:,0], metaz0[k][:,0]))\n",
    "#             s=np.any(np.isin(metaz2[j][:,0], metaz0[k][:,0]))\n",
    "    \n",
    "            if s:\n",
    "                ks.append(k)\n",
    "                js.append(j)\n",
    "    return np.array(ks), np.array(js)\n",
    "\n",
    "kss, jss = [], []\n",
    "for metaz0, metaz1 in zip(meta0['extra'], meta1['extra']):\n",
    "    ks, js = run(metaz0, metaz1) \n",
    "    kss.append(ks)\n",
    "    jss.append(js)\n",
    "    \n",
    "kss, jss = np.array(kss), np.array(jss)   \n",
    "\n",
    "kss+=np.cumsum(kls)[:-1]\n",
    "jss+=np.cumsum(jls)[:-1]"
   ]
  },
  {
   "cell_type": "code",
   "execution_count": 8,
   "id": "6caae060",
   "metadata": {},
   "outputs": [
    {
     "data": {
      "text/plain": [
       "[<matplotlib.lines.Line2D at 0x2b2609a89af0>]"
      ]
     },
     "execution_count": 8,
     "metadata": {},
     "output_type": "execute_result"
    },
    {
     "data": {
      "image/png": "[encoded data removed]",
      "text/plain": [
       "<Figure size 432x288 with 1 Axes>"
      ]
     },
     "metadata": {
      "needs_background": "light"
     },
     "output_type": "display_data"
    }
   ],
   "source": [
    "plt.plot(np.hstack(kss), np.hstack(jss))"
   ]
  },
  {
   "cell_type": "code",
   "execution_count": 8,
   "id": "f237a1d4",
   "metadata": {},
   "outputs": [],
   "source": [
    "case=f'vlarge_all_4t_z0.0'\n",
    "\n",
    "## meta and data coming from different places\n",
    "\n",
    "data0=pickle.load(open(f'../../../../../scratch/gpfs/cj1223/GraphStorage/{case}_quantile_raw/data.pkl', 'rb'))\n",
    "meta0=pickle.load(open(f'../../../../../scratch/gpfs/cj1223/GraphStorage/{case}_None/meta.pkl', 'rb'))\n",
    "# metaz0=np.hstack(meta0['extra'])\n",
    "l=len(data0)"
   ]
  },
  {
   "cell_type": "code",
   "execution_count": 10,
   "id": "3fa144f7",
   "metadata": {},
   "outputs": [],
   "source": [
    "train=np.arange(l)[:int(l*0.8)]\n",
    "test=np.arange(l)[int(l*0.8):]\n",
    "\n",
    "datatrain=data0[:int(l*0.8)]\n",
    "datatest=data0[int(l*0.8):]\n",
    "\n",
    "trains=[datatrain]\n",
    "tests=[datatest]\n",
    "marg=300\n",
    "def run(metaz0, metaz1):\n",
    "    ks, js =[],[]\n",
    "    for k in range(len(metaz0)):\n",
    "        for j in range(max(0, k-marg), min(len(metaz1), k+marg)):\n",
    "#         for j in range(len(metaz1)):\n",
    "            \n",
    "#             s=metaz1[j][0,0] in metaz0[k][:,0]\n",
    "            s=np.any(np.in1d(metaz1[j][:,0], metaz0[k][:,0]))\n",
    "#             s=np.any(np.isin(metaz2[j][:,0], metaz0[k][:,0]))\n",
    "\n",
    "            if s:\n",
    "                ks.append(k)\n",
    "                js.append(j)\n",
    "    return np.array(ks), np.array(js)\n",
    "\n",
    "def find_missing(lst, ma):\n",
    "    return [x for x in range(lst[0], ma) \n",
    "                               if x not in lst]\n",
    "    "
   ]
  },
  {
   "cell_type": "code",
   "execution_count": 23,
   "id": "206d1e03",
   "metadata": {},
   "outputs": [
    {
     "name": "stderr",
     "output_type": "stream",
     "text": [
      "100%|███████████████████████████████████████████████████████████| 125/125 [1:35:21<00:00, 45.77s/it]\n",
      "100%|███████████████████████████████████████████████████████████| 125/125 [1:30:23<00:00, 43.39s/it]\n",
      "100%|███████████████████████████████████████████████████████████| 125/125 [1:18:36<00:00, 37.73s/it]\n"
     ]
    }
   ],
   "source": [
    "for z in [0.5,1.0,2.0]:\n",
    "# for z in [2.0]:\n",
    "\n",
    "    case=f'vlarge_all_4t_z{z}'\n",
    "    data1=pickle.load(open(f'../../../../../scratch/gpfs/cj1223/GraphStorage/{case}_quantile_raw/data.pkl', 'rb'))\n",
    "    meta1=pickle.load(open(f'../../../../../scratch/gpfs/cj1223/GraphStorage/{case}_None/meta.pkl', 'rb'))\n",
    "\n",
    "    kls, jls = [], []\n",
    "    kls.append(0)\n",
    "    jls.append(0)\n",
    "    for metaz0, metaz1 in zip(meta0['extra'], meta1['extra']):\n",
    "        kls.append(len(metaz0))\n",
    "        jls.append(len(metaz1))\n",
    "\n",
    "    # @numba.jit(nopython=True, parallel=True)\n",
    "\n",
    "\n",
    "    kss, jss = [], []\n",
    "    for metaz0, metaz1 in tqdm(zip(meta0['extra'], meta1['extra']), total=len(meta0['extra'])):\n",
    "        ks, js = run(metaz0, metaz1) \n",
    "        kss.append(ks)\n",
    "        jss.append(js)\n",
    "\n",
    "    kss, jss = np.array(kss, dtype=object), np.array(jss, dtype=object)   \n",
    "\n",
    "    kss+=np.cumsum(kls)[:-1]\n",
    "    jss+=np.cumsum(jls)[:-1]\n",
    "    jss=np.hstack(jss)\n",
    "    kss=np.hstack(kss)\n",
    "\n",
    "    jtrain=jss[kss<len(train)]\n",
    "    jtest=find_missing(jtrain, len(data1))\n",
    "    data1train=[data1[j] for j in jtrain]\n",
    "    data1test=[data1[j] for j in jtest]\n",
    "    trains.append(data1train)\n",
    "    tests.append(data1test)\n",
    "    q=int(0.8*(len(tests[-1])+len(trains[-1]))-len(trains[-1]))\n",
    "    trains[-1]+=tests[-1][:q]\n",
    "    tests[-1]=tests[-1][q:]"
   ]
  },
  {
   "cell_type": "code",
   "execution_count": 27,
   "id": "def21ec7",
   "metadata": {},
   "outputs": [
    {
     "name": "stdout",
     "output_type": "stream",
     "text": [
      "3.99990809668229 87046 21762\n",
      "3.9998376623376624 98556 24640\n",
      "3.999960494607514 101251 25313\n",
      "3.9998730212477778 94501 23626\n"
     ]
    }
   ],
   "source": [
    "for tr, te in zip(trains, tests):\n",
    "    print(len(tr)/len(te), len(tr), len(te))"
   ]
  },
  {
   "cell_type": "code",
   "execution_count": 28,
   "id": "8e654e02",
   "metadata": {},
   "outputs": [],
   "source": [
    "trainall=[]\n",
    "testall=[]\n",
    "for tr, te in zip(trains, tests):\n",
    "    trainall+=tr\n",
    "    testall+=te"
   ]
  },
  {
   "cell_type": "code",
   "execution_count": 30,
   "id": "b1ed7bd2",
   "metadata": {},
   "outputs": [
    {
     "data": {
      "text/plain": [
       "3.999895113330047"
      ]
     },
     "execution_count": 30,
     "metadata": {},
     "output_type": "execute_result"
    }
   ],
   "source": [
    "len(trainall)/len(testall)"
   ]
  },
  {
   "cell_type": "code",
   "execution_count": 31,
   "id": "23168aee",
   "metadata": {},
   "outputs": [
    {
     "name": "stdout",
     "output_type": "stream",
     "text": [
      "Saving dataset\n"
     ]
    }
   ],
   "source": [
    "case='vlarge_all_4t_zall_quantile_raw'\n",
    "print(\"Saving dataset\")\n",
    "if not osp.exists(osp.expanduser(f'~/../../../scratch/gpfs/cj1223/GraphStorage/{case}')):\n",
    "    os.mkdir(osp.expanduser(f'~/../../../scratch/gpfs/cj1223/GraphStorage/{case}'))\n",
    "\n",
    "with open(osp.expanduser(f'~/../../../scratch/gpfs/cj1223/GraphStorage/{case}/data_train.pkl'), 'wb') as handle:\n",
    "    pickle.dump(trainall, handle)\n",
    "with open(osp.expanduser(f'~/../../../scratch/gpfs/cj1223/GraphStorage/{case}/data_test.pkl'), 'wb') as handle:\n",
    "    pickle.dump(testall, handle)"
   ]
  },
  {
   "cell_type": "code",
   "execution_count": 33,
   "id": "9c4ab7b2",
   "metadata": {},
   "outputs": [
    {
     "data": {
      "text/plain": [
       "['vlarge_all_4t_z1.0_standard_quant',\n",
       " 'vlarge_4t_quantile_raw_redshift_75_all',\n",
       " 'vlarge_all_4t_z1.0_quantile_raw',\n",
       " 'vlarge_all_4t_z2.0_standard_quant',\n",
       " 'vlarge_all_4t_z2.0_None',\n",
       " 'redshift_scan_0',\n",
       " 'testid_all_4t_z2.0_None',\n",
       " 'vlarge_all_4t_z0.0_quantile_stand',\n",
       " 'vlarge_all_multi_try1',\n",
       " 'vlarge_4t_quantile_raw_redshift_99_all',\n",
       " 'vlarge_all_4t_z2.0_quantile_raw',\n",
       " 'vlarge_all_4t_z0.0_standard_quant',\n",
       " 'vlarge_all_4t_z0.5_quantile_quant',\n",
       " 'vlarge_4t_quantile_raw_redshift_50_all',\n",
       " 'vlarge_all_4t_z2.0_quantile_stand',\n",
       " 'vlarge_all_4t_z1.0_quantile_quant',\n",
       " 'transformers',\n",
       " 'vlarge_all_4t_z0.0_standard_raw',\n",
       " 'vlarge_all_4t_quantile_raw_final',\n",
       " 'vlarge_all_4t_z0.5_standard_stand',\n",
       " 'vlarge_all_4t_z0.5_standard_quant',\n",
       " 'vlarge_all_4t_z0.0_quantile_raw',\n",
       " 'old',\n",
       " 'vlarge_all_4t_z1.0_None',\n",
       " 'vlarge_all_4t_z1.0_standard_stand',\n",
       " 'vlarge_all_4t_z2.0_standard_raw',\n",
       " 'vlarge_4t_quantile_raw_redshift_95_all',\n",
       " 'testid_all_4t_z0.0_None',\n",
       " 'vlarge_all_4t_z0.5_standard_raw',\n",
       " 'vlarge_all_4t_z0.0_None',\n",
       " 'vlarge_4t_quantile_raw_redshift_85_all',\n",
       " 'vlarge_all_4t_z0.5_quantile_raw',\n",
       " 'vlarge_all_4t_z1.0_standard_raw',\n",
       " 'vlarge_all_4t_quantile_raw',\n",
       " 'vlarge_all_smass',\n",
       " 'vlarge_all_4t_z0.0_quantile_quant',\n",
       " 'vlarge_all_4t_z0.5_quantile_stand',\n",
       " 'vlarge_all_4t_zall_quantile_raw',\n",
       " 'vlarge_all_4t_z0.0_standard_stand',\n",
       " 'vlarge_all_4t_z1.0_quantile_stand',\n",
       " 'vlarge_all_4t_z2.0_quantile_quant',\n",
       " 'vlarge_all_4t_z2.0_standard_stand',\n",
       " 'vlarge_all_4t_z0.5_None']"
      ]
     },
     "execution_count": 33,
     "metadata": {},
     "output_type": "execute_result"
    }
   ],
   "source": [
    "os.listdir(osp.expanduser(f'~/../../../scratch/gpfs/cj1223/GraphStorage/'))"
   ]
  },
  {
   "cell_type": "code",
   "execution_count": 21,
   "id": "8cc1f844",
   "metadata": {},
   "outputs": [],
   "source": [
    "a=[[1,2,3,4,5],[1,2,3,4,5]]\n",
    "b=[[5,3,3,4,5],[9,1,3,4,5]]"
   ]
  },
  {
   "cell_type": "code",
   "execution_count": 22,
   "id": "7484c26d",
   "metadata": {},
   "outputs": [
    {
     "data": {
      "text/plain": [
       "([[5, 3, 3, 4, 5], [3, 4, 5]], [[1, 2, 3, 4, 5], [1, 2, 3, 4, 5, 9, 1]])"
      ]
     },
     "execution_count": 22,
     "metadata": {},
     "output_type": "execute_result"
    }
   ],
   "source": [
    "a[-1]+=b[-1][:2]\n",
    "b[-1]=b[-1][2:]\n",
    "b, a"
   ]
  },
  {
   "cell_type": "code",
   "execution_count": 49,
   "id": "8ca32f6e",
   "metadata": {},
   "outputs": [],
   "source": [
    "l=len(np.hstack(meta0['extra']))\n",
    "l, len(data0)\n",
    "train=np.arange(l)[:int(l*0.8)]\n",
    "test=np.arange(l)[int(l*0.8):]\n",
    "\n",
    "datatrain=data0[:int(l*0.8)]\n",
    "datatest=data0[int(l*0.8):]"
   ]
  },
  {
   "cell_type": "code",
   "execution_count": 13,
   "id": "09af608e",
   "metadata": {
    "scrolled": false
   },
   "outputs": [
    {
     "data": {
      "text/plain": [
       "[<matplotlib.lines.Line2D at 0x2b59a09ace20>]"
      ]
     },
     "execution_count": 13,
     "metadata": {},
     "output_type": "execute_result"
    },
    {
     "data": {
      "image/png": "[encoded data removed]",
      "text/plain": [
       "<Figure size 432x288 with 1 Axes>"
      ]
     },
     "metadata": {
      "needs_background": "light"
     },
     "output_type": "display_data"
    }
   ],
   "source": [
    "plt.plot(ks, js)"
   ]
  },
  {
   "cell_type": "code",
   "execution_count": 22,
   "id": "fb7401c8",
   "metadata": {},
   "outputs": [
    {
     "name": "stderr",
     "output_type": "stream",
     "text": [
      "100%|█████████████████████████████████████████████████████████| 21761/21761 [47:25<00:00,  7.65it/s]\n"
     ]
    },
    {
     "ename": "NameError",
     "evalue": "name 'find_missing' is not defined",
     "output_type": "error",
     "traceback": [
      "\u001b[0;31m---------------------------------------------------------------------------\u001b[0m",
      "\u001b[0;31mNameError\u001b[0m                                 Traceback (most recent call last)",
      "\u001b[0;32m/tmp/ipykernel_19299/1326397115.py\u001b[0m in \u001b[0;36m<module>\u001b[0;34m\u001b[0m\n\u001b[1;32m     33\u001b[0m     \u001b[0mks\u001b[0m\u001b[0;34m=\u001b[0m\u001b[0mnp\u001b[0m\u001b[0;34m.\u001b[0m\u001b[0marray\u001b[0m\u001b[0;34m(\u001b[0m\u001b[0mks\u001b[0m\u001b[0;34m)\u001b[0m\u001b[0;34m\u001b[0m\u001b[0;34m\u001b[0m\u001b[0m\n\u001b[1;32m     34\u001b[0m     \u001b[0mjtrain\u001b[0m\u001b[0;34m=\u001b[0m\u001b[0mjs\u001b[0m\u001b[0;34m[\u001b[0m\u001b[0mks\u001b[0m\u001b[0;34m<\u001b[0m\u001b[0mlen\u001b[0m\u001b[0;34m(\u001b[0m\u001b[0mtrain\u001b[0m\u001b[0;34m)\u001b[0m\u001b[0;34m]\u001b[0m\u001b[0;34m\u001b[0m\u001b[0;34m\u001b[0m\u001b[0m\n\u001b[0;32m---> 35\u001b[0;31m     \u001b[0mjtest\u001b[0m\u001b[0;34m=\u001b[0m\u001b[0mfind_missing\u001b[0m\u001b[0;34m(\u001b[0m\u001b[0mjtrain\u001b[0m\u001b[0;34m,\u001b[0m \u001b[0mlen\u001b[0m\u001b[0;34m(\u001b[0m\u001b[0mdata1\u001b[0m\u001b[0;34m)\u001b[0m\u001b[0;34m)\u001b[0m\u001b[0;34m\u001b[0m\u001b[0;34m\u001b[0m\u001b[0m\n\u001b[0m\u001b[1;32m     36\u001b[0m     \u001b[0mdata1train\u001b[0m\u001b[0;34m=\u001b[0m\u001b[0;34m[\u001b[0m\u001b[0mdata1\u001b[0m\u001b[0;34m[\u001b[0m\u001b[0mj\u001b[0m\u001b[0;34m]\u001b[0m \u001b[0;32mfor\u001b[0m \u001b[0mj\u001b[0m \u001b[0;32min\u001b[0m \u001b[0mjtrain\u001b[0m\u001b[0;34m]\u001b[0m\u001b[0;34m\u001b[0m\u001b[0;34m\u001b[0m\u001b[0m\n\u001b[1;32m     37\u001b[0m     \u001b[0mdata1test\u001b[0m\u001b[0;34m=\u001b[0m\u001b[0;34m[\u001b[0m\u001b[0mdata1\u001b[0m\u001b[0;34m[\u001b[0m\u001b[0mj\u001b[0m\u001b[0;34m]\u001b[0m \u001b[0;32mfor\u001b[0m \u001b[0mj\u001b[0m \u001b[0;32min\u001b[0m \u001b[0mjtest\u001b[0m\u001b[0;34m]\u001b[0m\u001b[0;34m\u001b[0m\u001b[0;34m\u001b[0m\u001b[0m\n",
      "\u001b[0;31mNameError\u001b[0m: name 'find_missing' is not defined"
     ]
    }
   ],
   "source": [
    "case=f'vlarge_all_4t_z0.0'\n",
    "\n",
    "## meta and data coming from different places\n",
    "\n",
    "data0=pickle.load(open(f'../../../../../scratch/gpfs/cj1223/GraphStorage/{case}_quantile_raw/data.pkl', 'rb'))\n",
    "meta0=pickle.load(open(f'../../../../../scratch/gpfs/cj1223/GraphStorage/{case}_None/meta.pkl', 'rb'))\n",
    "metaz0=np.hstack(meta0['extra'])\n",
    "l=len(metaz0)\n",
    "\n",
    "train=np.arange(l)[:int(l*0.8)]\n",
    "test=np.arange(l)[int(l*0.8):]\n",
    "\n",
    "datatrain=data0[:int(l*0.8)]\n",
    "datatest=data0[int(l*0.8):]\n",
    "marg=5000\n",
    "for z in [0.5,1.0,2.0]:\n",
    "# for z in [2.0]:\n",
    "\n",
    "    case=f'vlarge_all_4t_z{z}'\n",
    "    data1=pickle.load(open(f'../../../../../scratch/gpfs/cj1223/GraphStorage/{case}_quantile_raw/data.pkl', 'rb'))\n",
    "    meta1=pickle.load(open(f'../../../../../scratch/gpfs/cj1223/GraphStorage/{case}_None/meta.pkl', 'rb'))\n",
    "    metaz1=np.hstack(meta1['extra'])\n",
    "    ks, js =[],[]\n",
    "    for k in tqdm(range(len(metaz0)//5)):\n",
    "        for j in range(max(0, int(k*0.95)-10), min(len(metaz1), int(k*1.05)+10)):\n",
    "#             s=np.sum(np.isin(metaz1[j][:,0], metaz0[k][:,0]))/len(metaz1[j])\n",
    "            s=np.any(np.isin(metaz1[j][:,0], metaz0[k][:,0]))\n",
    "\n",
    "            if s:\n",
    "                ks.append(k)\n",
    "                js.append(j)\n",
    "    js=np.array(js)\n",
    "    ks=np.array(ks)"
   ]
  },
  {
   "cell_type": "code",
   "execution_count": 7,
   "id": "1514611a",
   "metadata": {},
   "outputs": [],
   "source": [
    "# cases = ['vlarge_all_4t_z0.0_quantile_raw', 'vlarge_all_4t_z0.5_quantile_raw', 'vlarge_all_4t_z1.0_quantile_raw', 'vlarge_all_4t_z2.0_quantile_raw']\n",
    "# metas = ['vlarge_all_4t_z0.0_None', 'vlarge_all_4t_z0.5_None', 'vlarge_all_4t_z1.0_None', 'vlarge_all_4t_z2.0_None']\n",
    "# i=0\n",
    "# case, meta=cases[i], metas[i]\n",
    "# data0=pickle.load(open(f'../../../../../scratch/gpfs/cj1223/GraphStorage/{case}/data.pkl', 'rb'))\n",
    "# meta0=pickle.load(open(f'../../../../../scratch/gpfs/cj1223/GraphStorage/{meta}/meta.pkl', 'rb'))\n",
    "# i=3\n",
    "# case, meta=cases[i], metas[i]\n",
    "# data1=pickle.load(open(f'../../../../../scratch/gpfs/cj1223/GraphStorage/{case}/data.pkl', 'rb'))\n",
    "# meta1=pickle.load(open(f'../../../../../scratch/gpfs/cj1223/GraphStorage/{meta}/meta.pkl', 'rb'))\n",
    "# sums=[]\n",
    "# ks, js =[],[]\n",
    "# for k in tqdm(range(len(meta0['extra']))):\n",
    "#     for j in range(len(meta1['extra'])):\n",
    "#         s=np.sum(np.isin(meta1['extra'][j][:,0], meta0['extra'][k][:,0]))/len(meta1['extra'][j])\n",
    "#         if s>0:\n",
    "#             sums.append(s)\n",
    "#             ks.append(k)\n",
    "#             js.append(j)\n",
    "# js=np.array(js)\n",
    "# ks=np.array(ks)"
   ]
  }
 ],
 "metadata": {
  "kernelspec": {
   "display_name": "Python 3 (ipykernel)",
   "language": "python",
   "name": "python3"
  },
  "language_info": {
   "codemirror_mode": {
    "name": "ipython",
    "version": 3
   },
   "file_extension": ".py",
   "mimetype": "text/x-python",
   "name": "python",
   "nbconvert_exporter": "python",
   "pygments_lexer": "ipython3",
   "version": "3.9.7"
  }
 },
 "nbformat": 4,
 "nbformat_minor": 5
}
