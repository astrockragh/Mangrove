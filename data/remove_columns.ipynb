{
 "cells": [
  {
   "cell_type": "code",
   "execution_count": 2,
   "id": "8e343427",
   "metadata": {},
   "outputs": [],
   "source": [
    "import torch, time, pickle,os\n",
    "import torch_geometric as tg\n",
    "from torch_geometric.data import Data\n",
    "import numpy as np\n",
    "import matplotlib.pyplot as plt\n",
    "import pandas as pd\n",
    "from tqdm import tqdm\n",
    "import os.path as osp\n",
    "import networkx as nx\n",
    "case='medium_all_smass'\n",
    "data=pickle.load(open(f'../../../../../scratch/gpfs/cj1223/GraphStorage/{case}/data.pkl', 'rb'))"
   ]
  },
  {
   "cell_type": "code",
   "execution_count": 3,
   "id": "f04085c4",
   "metadata": {},
   "outputs": [
    {
     "data": {
      "text/plain": [
       "array([ 5.1993375 , -5.1993375 ,  1.        ,  1.2592287 ,  1.0962226 ,\n",
       "       -2.2996879 ,  1.0326693 ,  1.        , -0.62872434,  1.2454846 ,\n",
       "        1.0489676 , -1.8805355 ,  0.00936915,  0.56094784,  0.8977158 ,\n",
       "       -1.1224414 ,  1.4453455 , -1.6624204 , -1.6916058 ,  1.599165  ,\n",
       "       -1.0337102 ,  1.2659826 ,  1.271338  ,  1.2628562 ,  1.3458723 ,\n",
       "        1.5284123 , -1.7298074 , -0.33883408, -1.4522499 ,  2.5099583 ,\n",
       "        2.5763304 ,  0.46119523, -1.0991035 , -0.24469742,  2.193702  ,\n",
       "        2.4985778 , -1.5102088 ,  0.7698378 ,  0.19046791, -1.7207469 ,\n",
       "        1.534223  ,  1.1068157 ,  0.3045962 ], dtype=float32)"
      ]
     },
     "execution_count": 3,
     "metadata": {},
     "output_type": "execute_result"
    }
   ],
   "source": [
    "data[0].x.numpy()[0]"
   ]
  },
  {
   "cell_type": "code",
   "execution_count": 25,
   "id": "45a9cedd",
   "metadata": {},
   "outputs": [
    {
     "name": "stderr",
     "output_type": "stream",
     "text": [
      "100%|██████████████████████████████████████████████████████| 20291/20291 [00:01<00:00, 19265.79it/s]\n"
     ]
    },
    {
     "name": "stdout",
     "output_type": "stream",
     "text": [
      "Saving dataset\n"
     ]
    }
   ],
   "source": [
    "keep=[3]\n",
    "case=f'medium_hmassonly_smass'\n",
    "dat=[]\n",
    "for d in tqdm(data, total=len(data)):\n",
    "    hals=d.x.numpy()[:,keep]\n",
    "    \n",
    "    edge_index=d.edge_index\n",
    "    x = torch.tensor(hals, dtype=torch.float)\n",
    "    y=d.y\n",
    "    graph=Data(x=x, edge_index=edge_index, edge_attr=d.edge_attr, y=y)\n",
    "    dat.append(graph)\n",
    "print(\"Saving dataset\")\n",
    "if not osp.exists(f'../../../../../scratch/gpfs/cj1223/GraphStorage/{case}'):\n",
    "    os.mkdir(f'../../../../../scratch/gpfs/cj1223/GraphStorage/{case}')\n",
    "\n",
    "with open(f'../../../../../scratch/gpfs/cj1223/GraphStorage/{case}/data.pkl', 'wb') as handle:\n",
    "    pickle.dump(dat, handle)"
   ]
  },
  {
   "cell_type": "code",
   "execution_count": 24,
   "id": "40f78d5e",
   "metadata": {},
   "outputs": [
    {
     "name": "stderr",
     "output_type": "stream",
     "text": [
      "100%|██████████████████████████████████████████████████████| 20291/20291 [00:01<00:00, 19449.47it/s]\n"
     ]
    },
    {
     "name": "stdout",
     "output_type": "stream",
     "text": [
      "Saving dataset\n"
     ]
    }
   ],
   "source": [
    "keep=[0]\n",
    "case=f'medium_scaleonly_smass'\n",
    "dat=[]\n",
    "for d in tqdm(data, total=len(data)):\n",
    "    hals=d.x.numpy()[:,keep]\n",
    "    \n",
    "    edge_index=d.edge_index\n",
    "    x = torch.tensor(hals, dtype=torch.float)\n",
    "    y=d.y\n",
    "    graph=Data(x=x, edge_index=edge_index, edge_attr=d.edge_attr, y=y)\n",
    "    dat.append(graph)\n",
    "print(\"Saving dataset\")\n",
    "if not osp.exists(f'../../../../../scratch/gpfs/cj1223/GraphStorage/{case}'):\n",
    "    os.mkdir(f'../../../../../scratch/gpfs/cj1223/GraphStorage/{case}')\n",
    "\n",
    "with open(f'../../../../../scratch/gpfs/cj1223/GraphStorage/{case}/data.pkl', 'wb') as handle:\n",
    "    pickle.dump(dat, handle)"
   ]
  },
  {
   "cell_type": "code",
   "execution_count": 6,
   "id": "aabd1a61",
   "metadata": {},
   "outputs": [
    {
     "name": "stderr",
     "output_type": "stream",
     "text": [
      "100%|████████████████████████████████████████████████████████| 20291/20291 [00:00<00:00, 23185.50it/s]\n"
     ]
    },
    {
     "name": "stdout",
     "output_type": "stream",
     "text": [
      "Saving dataset\n"
     ]
    }
   ],
   "source": [
    "keep=[0]\n",
    "case=f'medium_onlyedge_smass'\n",
    "dat=[]\n",
    "for d in tqdm(data, total=len(data)):\n",
    "    hals=d.x.numpy()[:,0]\n",
    "    hals=np.ones_like(hals)\n",
    "    edge_index=d.edge_index\n",
    "    x = torch.tensor(np.array([hals]).T, dtype=torch.float)\n",
    "    y=d.y\n",
    "    graph=Data(x=x, edge_index=edge_index, edge_attr=d.edge_attr, y=y)\n",
    "    dat.append(graph)\n",
    "print(\"Saving dataset\")\n",
    "if not osp.exists(f'../../../../../scratch/gpfs/cj1223/GraphStorage/{case}'):\n",
    "    os.mkdir(f'../../../../../scratch/gpfs/cj1223/GraphStorage/{case}')\n",
    "\n",
    "with open(f'../../../../../scratch/gpfs/cj1223/GraphStorage/{case}/data.pkl', 'wb') as handle:\n",
    "    pickle.dump(dat, handle)"
   ]
  },
  {
   "cell_type": "code",
   "execution_count": 7,
   "id": "c3223070",
   "metadata": {},
   "outputs": [
    {
     "name": "stderr",
     "output_type": "stream",
     "text": [
      "100%|████████████████████████████████████████████████████████| 20291/20291 [00:01<00:00, 17052.20it/s]\n"
     ]
    },
    {
     "name": "stdout",
     "output_type": "stream",
     "text": [
      "Saving dataset\n"
     ]
    }
   ],
   "source": [
    "keep=[0]\n",
    "case=f'medium_noinfo_smass'\n",
    "dat=[]\n",
    "for d in tqdm(data, total=len(data)):\n",
    "    hals=d.x.numpy()[:,0]\n",
    "    hals=np.ones_like(hals)\n",
    "    edge_index=d.edge_index\n",
    "    x = torch.tensor(np.array([hals]).T, dtype=torch.float)\n",
    "    y=d.y\n",
    "    graph=Data(x=x, edge_index=edge_index, y=y)\n",
    "    dat.append(graph)\n",
    "print(\"Saving dataset\")\n",
    "if not osp.exists(f'../../../../../scratch/gpfs/cj1223/GraphStorage/{case}'):\n",
    "    os.mkdir(f'../../../../../scratch/gpfs/cj1223/GraphStorage/{case}')\n",
    "\n",
    "with open(f'../../../../../scratch/gpfs/cj1223/GraphStorage/{case}/data.pkl', 'wb') as handle:\n",
    "    pickle.dump(dat, handle)"
   ]
  },
  {
   "cell_type": "code",
   "execution_count": 4,
   "id": "a0add651",
   "metadata": {},
   "outputs": [
    {
     "data": {
      "text/plain": [
       "(tensor([[1.],\n",
       "         [1.],\n",
       "         [1.],\n",
       "         [1.],\n",
       "         [1.],\n",
       "         [1.],\n",
       "         [1.],\n",
       "         [1.],\n",
       "         [1.],\n",
       "         [1.],\n",
       "         [1.],\n",
       "         [1.],\n",
       "         [1.],\n",
       "         [1.],\n",
       "         [1.],\n",
       "         [1.],\n",
       "         [1.],\n",
       "         [1.],\n",
       "         [1.],\n",
       "         [1.],\n",
       "         [1.],\n",
       "         [1.],\n",
       "         [1.],\n",
       "         [1.],\n",
       "         [1.],\n",
       "         [1.],\n",
       "         [1.],\n",
       "         [1.],\n",
       "         [1.],\n",
       "         [1.],\n",
       "         [1.],\n",
       "         [1.],\n",
       "         [1.],\n",
       "         [1.],\n",
       "         [1.],\n",
       "         [1.],\n",
       "         [1.],\n",
       "         [1.],\n",
       "         [1.],\n",
       "         [1.],\n",
       "         [1.],\n",
       "         [1.],\n",
       "         [1.],\n",
       "         [1.],\n",
       "         [1.],\n",
       "         [1.],\n",
       "         [1.],\n",
       "         [1.],\n",
       "         [1.],\n",
       "         [1.],\n",
       "         [1.],\n",
       "         [1.],\n",
       "         [1.],\n",
       "         [1.],\n",
       "         [1.],\n",
       "         [1.]]),\n",
       " torch.Size([56, 1]))"
      ]
     },
     "execution_count": 4,
     "metadata": {},
     "output_type": "execute_result"
    }
   ],
   "source": [
    "dat[0].x, np.shape(dat[0].x)"
   ]
  },
  {
   "cell_type": "code",
   "execution_count": null,
   "id": "c1a190f4",
   "metadata": {},
   "outputs": [],
   "source": []
  }
 ],
 "metadata": {
  "kernelspec": {
   "display_name": "Python 3 (ipykernel)",
   "language": "python",
   "name": "python3"
  },
  "language_info": {
   "codemirror_mode": {
    "name": "ipython",
    "version": 3
   },
   "file_extension": ".py",
   "mimetype": "text/x-python",
   "name": "python",
   "nbconvert_exporter": "python",
   "pygments_lexer": "ipython3",
   "version": "3.9.7"
  }
 },
 "nbformat": 4,
 "nbformat_minor": 5
}
