{
 "cells": [
  {
   "cell_type": "code",
   "execution_count": 2,
   "id": "0cfb0103",
   "metadata": {},
   "outputs": [],
   "source": [
    "import torch, time, pickle,os\n",
    "import torch_geometric as tg\n",
    "from torch_geometric.data import Data\n",
    "import numpy as np\n",
    "import matplotlib.pyplot as plt\n",
    "import pandas as pd\n",
    "from tqdm import tqdm\n",
    "import os.path as osp\n",
    "import networkx as nx"
   ]
  },
  {
   "cell_type": "code",
   "execution_count": 3,
   "id": "a04ae414",
   "metadata": {},
   "outputs": [],
   "source": [
    "def convert(d,p):\n",
    "    dfin=[]\n",
    "    if len(p)!=len(np.unique(p)):\n",
    "        print('Wrong order of prog/desc')\n",
    "    else:\n",
    "        no=d[0]\n",
    "        for desc in d:\n",
    "            if desc==no:\n",
    "                dfin.append(0)\n",
    "            else:\n",
    "                dfin.append(p.index(desc)+1)\n",
    "    return dfin, np.arange(1, 1+len(p))"
   ]
  },
  {
   "cell_type": "code",
   "execution_count": 4,
   "id": "05f8c193",
   "metadata": {},
   "outputs": [],
   "source": [
    "case='vlarge_all_4t_z0.0_quantile_raw'\n",
    "data=pickle.load(open(f'../../../../../scratch/gpfs/cj1223/GraphStorage/{case}/data.pkl', 'rb'))"
   ]
  },
  {
   "cell_type": "code",
   "execution_count": 8,
   "id": "3f00a488",
   "metadata": {},
   "outputs": [
    {
     "name": "stderr",
     "output_type": "stream",
     "text": [
      "100%|██████████████████████████████████████████████████████| 108808/108808 [04:06<00:00, 440.96it/s]\n"
     ]
    },
    {
     "name": "stdout",
     "output_type": "stream",
     "text": [
      "Saving dataset vlarge_4t_quantile_raw_redshift_95_all\n"
     ]
    }
   ],
   "source": [
    "mls=[]\n",
    "lss=[]\n",
    "## should probably make more robust towards deleting everything\n",
    "# for percentile in [75,85,95,99,99.99]:\n",
    "# for percentile in [50, 75, 85, 99]:\n",
    "for percentile in [95]:\n",
    "    \n",
    "    ml=[]\n",
    "    ls=[]\n",
    "    dat=[]\n",
    "    for d in tqdm(data, total=len(data)):\n",
    "#         print(d)\n",
    "        hals=d.x.numpy()\n",
    "        mask=hals[:,0]>np.percentile(hals[:,0], percentile)\n",
    "        de, pr = d.edge_index\n",
    "        ml.append(sum(mask))\n",
    "        ls.append(len(hals))\n",
    "        if np.sum(mask[1:])!=0:\n",
    "            desc, progs = convert(list(np.array(pr)[mask[1:]]), list(np.array(de)[mask[1:]]) )\n",
    "        else:\n",
    "            desc, progs=[0],[0]\n",
    "        edge_index = torch.tensor([progs, desc], dtype=torch.long)\n",
    "        if np.sum(mask)==0:\n",
    "            mask[0]=True\n",
    "        x = torch.tensor(hals[mask], dtype=torch.float)  \n",
    "        y=d.y\n",
    "        \n",
    "        if np.sum(mask)==0:\n",
    "            edge_attr=torch.tensor([1], dtype=torch.float)\n",
    "        else:\n",
    "            edge_attr=d.edge_attr[mask[1:]]\n",
    "        graph=Data(x=x, edge_index=edge_index, edge_attr=edge_attr, y=y)\n",
    "        dat.append(graph)\n",
    "    mls.append(ml)\n",
    "    lss.append(ls)\n",
    "    case=f'vlarge_4t_quantile_raw_redshift_{percentile}_all'\n",
    "    print(\"Saving dataset \"+ case)\n",
    "    if not osp.exists(f'../../../../../scratch/gpfs/cj1223/GraphStorage/{case}'):\n",
    "        os.mkdir(f'../../../../../scratch/gpfs/cj1223/GraphStorage/{case}')\n",
    "\n",
    "    with open(f'../../../../../scratch/gpfs/cj1223/GraphStorage/{case}/data.pkl', 'wb') as handle:\n",
    "        pickle.dump(dat, handle)"
   ]
  },
  {
   "cell_type": "code",
   "execution_count": 30,
   "id": "025725ef",
   "metadata": {},
   "outputs": [
    {
     "data": {
      "text/plain": [
       "(tensor([[0],\n",
       "         [0]]),\n",
       " Data(x=[1, 43], edge_index=[2, 1], edge_attr=[0], y=-1.11331307888031))"
      ]
     },
     "execution_count": 30,
     "metadata": {},
     "output_type": "execute_result"
    }
   ],
   "source": [
    "dat[0].edge_index, dat[0]"
   ]
  },
  {
   "cell_type": "code",
   "execution_count": 29,
   "id": "f5603740",
   "metadata": {},
   "outputs": [
    {
     "data": {
      "text/plain": [
       "(array([1.1422e+04, 9.7215e+04, 4.4000e+01, 4.0000e+00, 0.0000e+00,\n",
       "        5.0000e+00, 0.0000e+00, 0.0000e+00, 0.0000e+00, 4.0000e+00]),\n",
       " array([0.  , 0.05, 0.1 , 0.15, 0.2 , 0.25, 0.3 , 0.35, 0.4 , 0.45, 0.5 ]),\n",
       " <BarContainer object of 10 artists>)"
      ]
     },
     "execution_count": 29,
     "metadata": {},
     "output_type": "execute_result"
    },
    {
     "data": {
      "image/png": "[encoded data removed]",
      "text/plain": [
       "<Figure size 432x288 with 1 Axes>"
      ]
     },
     "metadata": {
      "needs_background": "light"
     },
     "output_type": "display_data"
    }
   ],
   "source": [
    "plt.hist(np.array(ml)/np.array(ls))"
   ]
  },
  {
   "cell_type": "code",
   "execution_count": 31,
   "id": "2c6cacfe",
   "metadata": {},
   "outputs": [
    {
     "data": {
      "text/plain": [
       "(array([   76., 39973., 45023., 13749.,  5476.,  2290.,  1128.,   547.,\n",
       "          282.,   150.]),\n",
       " array([0.        , 0.68741985, 1.3748397 , 2.06225955, 2.7496794 ,\n",
       "        3.43709925, 4.1245191 , 4.81193895, 5.4993588 , 6.18677865,\n",
       "        6.8741985 ]),\n",
       " <BarContainer object of 10 artists>)"
      ]
     },
     "execution_count": 31,
     "metadata": {},
     "output_type": "execute_result"
    },
    {
     "data": {
      "image/png": "[encoded data removed]",
      "text/plain": [
       "<Figure size 432x288 with 1 Axes>"
      ]
     },
     "metadata": {
      "needs_background": "light"
     },
     "output_type": "display_data"
    }
   ],
   "source": [
    "plt.hist(np.log(np.array(ml)+1))"
   ]
  }
 ],
 "metadata": {
  "kernelspec": {
   "display_name": "Python 3 (ipykernel)",
   "language": "python",
   "name": "python3"
  },
  "language_info": {
   "codemirror_mode": {
    "name": "ipython",
    "version": 3
   },
   "file_extension": ".py",
   "mimetype": "text/x-python",
   "name": "python",
   "nbconvert_exporter": "python",
   "pygments_lexer": "ipython3",
   "version": "3.9.7"
  }
 },
 "nbformat": 4,
 "nbformat_minor": 5
}
