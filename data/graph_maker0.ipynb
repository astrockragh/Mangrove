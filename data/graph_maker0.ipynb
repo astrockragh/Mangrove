{
 "cells": [
  {
   "cell_type": "code",
   "execution_count": 1,
   "id": "a63dec31",
   "metadata": {},
   "outputs": [],
   "source": [
    "import torch\n",
    "import torch_geometric as tg\n",
    "from torch_geometric.data import Data\n",
    "import numpy as np\n",
    "import matplotlib.pyplot as plt\n",
    "import pandas as pd\n",
    "from tqdm import tqdm\n",
    "import pickle\n",
    "import os.path as osp\n",
    "import networkx as nx\n",
    "from sklearn.preprocessing import RobustScaler\n",
    "path='../../../../tigress/mcranmer/merger_trees/isotrees/'"
   ]
  },
  {
   "cell_type": "code",
   "execution_count": 2,
   "id": "4d5cb00f",
   "metadata": {},
   "outputs": [
    {
     "name": "stderr",
     "output_type": "stream",
     "text": [
      "/home/cj1223/.conda/envs/juptorch/lib/python3.9/site-packages/IPython/core/interactiveshell.py:3441: DtypeWarning: Columns (0,1,2,3,4,5,6,7,8,9,10,11,12,13,14,15,16,17,18,19,20,21,22,23,24) have mixed types.Specify dtype option on import or set low_memory=False.\n",
      "  exec(code_obj, self.user_global_ns, self.user_ns)\n"
     ]
    }
   ],
   "source": [
    "pd1=pd.read_table(path+'isotree_0_0_0.dat', skiprows=0, delimiter='\\s+') # consider enforcing dtypes upon import\n",
    "raw=pd1.drop(axis=0, index=np.arange(50)).reset_index()"
   ]
  },
  {
   "cell_type": "code",
   "execution_count": 3,
   "id": "9bf6225b",
   "metadata": {},
   "outputs": [],
   "source": [
    "trees=raw[raw.isna()['A[z]']] \n",
    "halos=raw[~raw.isna()['A[z]']] "
   ]
  },
  {
   "cell_type": "code",
   "execution_count": 4,
   "id": "083343a1",
   "metadata": {},
   "outputs": [
    {
     "name": "stdout",
     "output_type": "stream",
     "text": [
      "25\n",
      "{'#scale(0)': 'float64', 'id(1)': 'int64', 'desc_scale(2)': 'float64', 'desc_id(3)': 'int64', 'num_prog(4)': 'int64', 'pid(5)': 'int64', 'upid(6)': 'int64', 'desc_pid(7)': 'int64', 'phantom(8)': 'int64', 'sam_Mvir(9)': 'float64', 'Mvir(10)': 'float64', 'Rvir(11)': 'float64', 'rs(12)': 'float64', 'vrms(13)': 'float64', 'mmp?(14)': 'int64', 'scale_of_last_MM(15)': 'float64', 'vmax(16)': 'float64', 'x(17)': 'float64', 'y(18)': 'float64', 'z(19)': 'float64', 'vx(20)': 'float64', 'vy(21)': 'float64', 'vz(22)': 'float64', 'Jx(23)': 'float64', 'Jy(24)': 'float64'}\n"
     ]
    }
   ],
   "source": [
    "f,i=\"float64\", \"int64\"\n",
    "cs=[f,i,f,i,i,i,i,i,i,f,f,f,f,f,i,f,f,f,f,f,f,f,f,f,f]\n",
    "print(len(cs))\n",
    "dicts = {}\n",
    "keys = halos.columns[1:26]\n",
    "castto = cs\n",
    "for i, key in enumerate(keys):\n",
    "        dicts[key] = castto[i]\n",
    "print(dicts)\n",
    "\n",
    "halos=halos.astype(dicts)"
   ]
  },
  {
   "cell_type": "code",
   "execution_count": 5,
   "id": "3bdef288",
   "metadata": {},
   "outputs": [
    {
     "data": {
      "text/plain": [
       "{'index': 'int64',\n",
       " '#scale(0)': 'float64',\n",
       " 'id(1)': 'int64',\n",
       " 'desc_scale(2)': 'float64',\n",
       " 'desc_id(3)': 'int64',\n",
       " 'num_prog(4)': 'int64',\n",
       " 'pid(5)': 'int64',\n",
       " 'upid(6)': 'int64',\n",
       " 'desc_pid(7)': 'int64',\n",
       " 'phantom(8)': 'int64',\n",
       " 'sam_Mvir(9)': 'float64',\n",
       " 'Mvir(10)': 'float64',\n",
       " 'Rvir(11)': 'float64',\n",
       " 'rs(12)': 'float64',\n",
       " 'vrms(13)': 'float64',\n",
       " 'mmp?(14)': 'int64',\n",
       " 'scale_of_last_MM(15)': 'float64',\n",
       " 'vmax(16)': 'float64',\n",
       " 'x(17)': 'float64',\n",
       " 'y(18)': 'float64',\n",
       " 'z(19)': 'float64',\n",
       " 'vx(20)': 'float64',\n",
       " 'vy(21)': 'float64',\n",
       " 'vz(22)': 'float64',\n",
       " 'Jx(23)': 'float64',\n",
       " 'Jy(24)': 'float64',\n",
       " 'Jz(25)': 'float64',\n",
       " 'Spin(26)': 'float64',\n",
       " 'Breadth_first_ID(27)': 'float64',\n",
       " 'Depth_first_ID(28)': 'float64',\n",
       " 'Tree_root_ID(29)': 'float64',\n",
       " 'Orig_halo_ID(30)': 'float64',\n",
       " 'Snap_idx(31)': 'float64',\n",
       " 'Next_coprogenitor_depthfirst_ID(32)': 'float64',\n",
       " 'Last_progenitor_depthfirst_ID(33)': 'float64',\n",
       " 'Last_mainleaf_depthfirst_ID(34)': 'float64',\n",
       " 'Tidal_Force(35)': 'float64',\n",
       " 'Tidal_ID(36)': 'float64',\n",
       " 'Rs_Klypin': 'float64',\n",
       " 'Mvir_all': 'float64',\n",
       " 'M200b': 'float64',\n",
       " 'M200c': 'float64',\n",
       " 'M500c': 'float64',\n",
       " 'M2500c': 'float64',\n",
       " 'Xoff': 'float64',\n",
       " 'Voff': 'float64',\n",
       " 'Spin_Bullock': 'float64',\n",
       " 'b_to_a': 'float64',\n",
       " 'c_to_a': 'float64',\n",
       " 'A[x]': 'float64',\n",
       " 'A[y]': 'float64',\n",
       " 'A[z]': 'float64',\n",
       " 'b_to_a(500c)': 'float64',\n",
       " 'c_to_a(500c)': 'float64',\n",
       " 'A[x](500c)': 'float64',\n",
       " 'A[y](500c)': 'float64',\n",
       " 'A[z](500c)': 'float64',\n",
       " 'T/|U|': 'float64',\n",
       " 'M_pe_Behroozi': 'float64',\n",
       " 'M_pe_Diemer': 'float64',\n",
       " 'Halfmass_Radius': 'float64'}"
      ]
     },
     "execution_count": 5,
     "metadata": {},
     "output_type": "execute_result"
    }
   ],
   "source": [
    "halos.dtypes.apply(lambda x: x.name).to_dict()"
   ]
  },
  {
   "cell_type": "code",
   "execution_count": 9,
   "id": "addb4010",
   "metadata": {},
   "outputs": [
    {
     "data": {
      "text/plain": [
       "Index(['id(1)', 'desc_id(3)', 'num_prog(4)', 'pid(5)', 'upid(6)',\n",
       "       'desc_pid(7)', 'phantom(8)', 'mmp?(14)', 'Breadth_first_ID(27)',\n",
       "       'Depth_first_ID(28)', 'Tree_root_ID(29)', 'Orig_halo_ID(30)',\n",
       "       'Snap_idx(31)', 'Next_coprogenitor_depthfirst_ID(32)',\n",
       "       'Last_progenitor_depthfirst_ID(33)', 'Last_mainleaf_depthfirst_ID(34)',\n",
       "       'Tidal_ID(36)'],\n",
       "      dtype='object')"
      ]
     },
     "execution_count": 9,
     "metadata": {},
     "output_type": "execute_result"
    }
   ],
   "source": [
    "is_cat=[0,1,0,1,1,1,1,1,1,0,0,0,0,0,1,0,0,0,0,0,0,0,0,0,0,0,0,1,1,1,1,1,1,1,1,0,1,0,0,0,0,0,0,0,0,0,0,0,0,0,0,0,0,0,0,0,0,0,0,0]\n",
    "is_cat=[bool(i) for i in is_cat]\n",
    "halos.columns[1:][is_cat]"
   ]
  },
  {
   "cell_type": "code",
   "execution_count": 10,
   "id": "2efd62d5",
   "metadata": {},
   "outputs": [
    {
     "data": {
      "text/plain": [
       "(60, 60)"
      ]
     },
     "execution_count": 10,
     "metadata": {},
     "output_type": "execute_result"
    }
   ],
   "source": [
    "not_include=np.array([0,1,0,1,1,1,1,1,1,1,0,0,0,0,0,0,0,0,0,0,0,0,0,0,0,0,0,0,0,0,0,0,0,0,0,0,0,0,0,0,0,0,0,0,0,0,0,0,0,\\\n",
    "0,0,0,0,0,0,0,0,0,0,0]) \n",
    "len(not_include), len(is_cat)"
   ]
  },
  {
   "cell_type": "code",
   "execution_count": null,
   "id": "14d439bf",
   "metadata": {},
   "outputs": [],
   "source": []
  },
  {
   "cell_type": "code",
   "execution_count": 8,
   "id": "fb51ac13",
   "metadata": {},
   "outputs": [
    {
     "data": {
      "text/html": [
       "<div>\n",
       "<style scoped>\n",
       "    .dataframe tbody tr th:only-of-type {\n",
       "        vertical-align: middle;\n",
       "    }\n",
       "\n",
       "    .dataframe tbody tr th {\n",
       "        vertical-align: top;\n",
       "    }\n",
       "\n",
       "    .dataframe thead th {\n",
       "        text-align: right;\n",
       "    }\n",
       "</style>\n",
       "<table border=\"1\" class=\"dataframe\">\n",
       "  <thead>\n",
       "    <tr style=\"text-align: right;\">\n",
       "      <th></th>\n",
       "      <th>index</th>\n",
       "      <th>#scale(0)</th>\n",
       "      <th>id(1)</th>\n",
       "      <th>desc_scale(2)</th>\n",
       "      <th>desc_id(3)</th>\n",
       "      <th>num_prog(4)</th>\n",
       "      <th>pid(5)</th>\n",
       "      <th>upid(6)</th>\n",
       "      <th>desc_pid(7)</th>\n",
       "      <th>phantom(8)</th>\n",
       "      <th>...</th>\n",
       "      <th>A[z]</th>\n",
       "      <th>b_to_a(500c)</th>\n",
       "      <th>c_to_a(500c)</th>\n",
       "      <th>A[x](500c)</th>\n",
       "      <th>A[y](500c)</th>\n",
       "      <th>A[z](500c)</th>\n",
       "      <th>T/|U|</th>\n",
       "      <th>M_pe_Behroozi</th>\n",
       "      <th>M_pe_Diemer</th>\n",
       "      <th>Halfmass_Radius</th>\n",
       "    </tr>\n",
       "  </thead>\n",
       "  <tbody>\n",
       "    <tr>\n",
       "      <th>1</th>\n",
       "      <td>51</td>\n",
       "      <td>1.00000</td>\n",
       "      <td>1122969403</td>\n",
       "      <td>0.00000</td>\n",
       "      <td>-1</td>\n",
       "      <td>1</td>\n",
       "      <td>-1</td>\n",
       "      <td>-1</td>\n",
       "      <td>-1</td>\n",
       "      <td>0</td>\n",
       "      <td>...</td>\n",
       "      <td>-0.59764</td>\n",
       "      <td>0.73477</td>\n",
       "      <td>0.30184</td>\n",
       "      <td>1.11307</td>\n",
       "      <td>-1.04583</td>\n",
       "      <td>-0.49679</td>\n",
       "      <td>0.6532</td>\n",
       "      <td>187100000.0</td>\n",
       "      <td>42000000.0</td>\n",
       "      <td>2.103</td>\n",
       "    </tr>\n",
       "    <tr>\n",
       "      <th>77</th>\n",
       "      <td>127</td>\n",
       "      <td>0.22267</td>\n",
       "      <td>224373864</td>\n",
       "      <td>0.23348</td>\n",
       "      <td>239928539</td>\n",
       "      <td>0</td>\n",
       "      <td>-1</td>\n",
       "      <td>-1</td>\n",
       "      <td>-1</td>\n",
       "      <td>0</td>\n",
       "      <td>...</td>\n",
       "      <td>-0.00127</td>\n",
       "      <td>0.32347</td>\n",
       "      <td>0.10709</td>\n",
       "      <td>-1.23475</td>\n",
       "      <td>3.00947</td>\n",
       "      <td>0.56882</td>\n",
       "      <td>0.4277</td>\n",
       "      <td>77130000.0</td>\n",
       "      <td>66000000.0</td>\n",
       "      <td>5.831</td>\n",
       "    </tr>\n",
       "    <tr>\n",
       "      <th>79</th>\n",
       "      <td>129</td>\n",
       "      <td>1.00000</td>\n",
       "      <td>1122969405</td>\n",
       "      <td>0.00000</td>\n",
       "      <td>-1</td>\n",
       "      <td>1</td>\n",
       "      <td>-1</td>\n",
       "      <td>-1</td>\n",
       "      <td>-1</td>\n",
       "      <td>0</td>\n",
       "      <td>...</td>\n",
       "      <td>1.10749</td>\n",
       "      <td>0.51338</td>\n",
       "      <td>0.29335</td>\n",
       "      <td>0.13340</td>\n",
       "      <td>-1.03493</td>\n",
       "      <td>1.12428</td>\n",
       "      <td>0.7950</td>\n",
       "      <td>461200000.0</td>\n",
       "      <td>96000000.0</td>\n",
       "      <td>1.775</td>\n",
       "    </tr>\n",
       "    <tr>\n",
       "      <th>157</th>\n",
       "      <td>207</td>\n",
       "      <td>0.19968</td>\n",
       "      <td>193544526</td>\n",
       "      <td>0.21237</td>\n",
       "      <td>208880422</td>\n",
       "      <td>0</td>\n",
       "      <td>-1</td>\n",
       "      <td>-1</td>\n",
       "      <td>-1</td>\n",
       "      <td>0</td>\n",
       "      <td>...</td>\n",
       "      <td>2.27255</td>\n",
       "      <td>0.00000</td>\n",
       "      <td>0.00000</td>\n",
       "      <td>0.00000</td>\n",
       "      <td>0.00000</td>\n",
       "      <td>0.00000</td>\n",
       "      <td>1.1908</td>\n",
       "      <td>87750000.0</td>\n",
       "      <td>42000000.0</td>\n",
       "      <td>6.245</td>\n",
       "    </tr>\n",
       "    <tr>\n",
       "      <th>159</th>\n",
       "      <td>209</td>\n",
       "      <td>1.00000</td>\n",
       "      <td>1122969406</td>\n",
       "      <td>0.00000</td>\n",
       "      <td>-1</td>\n",
       "      <td>1</td>\n",
       "      <td>-1</td>\n",
       "      <td>-1</td>\n",
       "      <td>-1</td>\n",
       "      <td>0</td>\n",
       "      <td>...</td>\n",
       "      <td>1.23813</td>\n",
       "      <td>0.53427</td>\n",
       "      <td>0.27390</td>\n",
       "      <td>0.27341</td>\n",
       "      <td>-1.07682</td>\n",
       "      <td>1.28791</td>\n",
       "      <td>0.7505</td>\n",
       "      <td>522500000.0</td>\n",
       "      <td>132000000.0</td>\n",
       "      <td>3.081</td>\n",
       "    </tr>\n",
       "    <tr>\n",
       "      <th>...</th>\n",
       "      <td>...</td>\n",
       "      <td>...</td>\n",
       "      <td>...</td>\n",
       "      <td>...</td>\n",
       "      <td>...</td>\n",
       "      <td>...</td>\n",
       "      <td>...</td>\n",
       "      <td>...</td>\n",
       "      <td>...</td>\n",
       "      <td>...</td>\n",
       "      <td>...</td>\n",
       "      <td>...</td>\n",
       "      <td>...</td>\n",
       "      <td>...</td>\n",
       "      <td>...</td>\n",
       "      <td>...</td>\n",
       "      <td>...</td>\n",
       "      <td>...</td>\n",
       "      <td>...</td>\n",
       "      <td>...</td>\n",
       "      <td>...</td>\n",
       "    </tr>\n",
       "    <tr>\n",
       "      <th>4884306</th>\n",
       "      <td>4884356</td>\n",
       "      <td>0.17654</td>\n",
       "      <td>149198635</td>\n",
       "      <td>0.18423</td>\n",
       "      <td>163898522</td>\n",
       "      <td>0</td>\n",
       "      <td>-1</td>\n",
       "      <td>-1</td>\n",
       "      <td>-1</td>\n",
       "      <td>0</td>\n",
       "      <td>...</td>\n",
       "      <td>-0.31706</td>\n",
       "      <td>0.00000</td>\n",
       "      <td>0.00000</td>\n",
       "      <td>0.00000</td>\n",
       "      <td>0.00000</td>\n",
       "      <td>0.00000</td>\n",
       "      <td>0.8992</td>\n",
       "      <td>60570000.0</td>\n",
       "      <td>78000000.0</td>\n",
       "      <td>6.684</td>\n",
       "    </tr>\n",
       "    <tr>\n",
       "      <th>4884308</th>\n",
       "      <td>4884358</td>\n",
       "      <td>1.00000</td>\n",
       "      <td>1123353042</td>\n",
       "      <td>0.00000</td>\n",
       "      <td>-1</td>\n",
       "      <td>1</td>\n",
       "      <td>-1</td>\n",
       "      <td>-1</td>\n",
       "      <td>-1</td>\n",
       "      <td>0</td>\n",
       "      <td>...</td>\n",
       "      <td>5.01811</td>\n",
       "      <td>0.00000</td>\n",
       "      <td>0.00000</td>\n",
       "      <td>0.00000</td>\n",
       "      <td>0.00000</td>\n",
       "      <td>0.00000</td>\n",
       "      <td>0.6915</td>\n",
       "      <td>55270000.0</td>\n",
       "      <td>36000000.0</td>\n",
       "      <td>5.294</td>\n",
       "    </tr>\n",
       "    <tr>\n",
       "      <th>4884311</th>\n",
       "      <td>4884361</td>\n",
       "      <td>0.96738</td>\n",
       "      <td>1094241437</td>\n",
       "      <td>0.97659</td>\n",
       "      <td>1103958763</td>\n",
       "      <td>0</td>\n",
       "      <td>-1</td>\n",
       "      <td>-1</td>\n",
       "      <td>-1</td>\n",
       "      <td>0</td>\n",
       "      <td>...</td>\n",
       "      <td>2.06892</td>\n",
       "      <td>0.00000</td>\n",
       "      <td>0.00000</td>\n",
       "      <td>0.00000</td>\n",
       "      <td>0.00000</td>\n",
       "      <td>0.00000</td>\n",
       "      <td>0.8065</td>\n",
       "      <td>79540000.0</td>\n",
       "      <td>36000000.0</td>\n",
       "      <td>6.211</td>\n",
       "    </tr>\n",
       "    <tr>\n",
       "      <th>4884313</th>\n",
       "      <td>4884363</td>\n",
       "      <td>1.00000</td>\n",
       "      <td>1123353044</td>\n",
       "      <td>0.00000</td>\n",
       "      <td>-1</td>\n",
       "      <td>1</td>\n",
       "      <td>-1</td>\n",
       "      <td>-1</td>\n",
       "      <td>-1</td>\n",
       "      <td>0</td>\n",
       "      <td>...</td>\n",
       "      <td>-0.94453</td>\n",
       "      <td>0.70965</td>\n",
       "      <td>0.17492</td>\n",
       "      <td>-1.43828</td>\n",
       "      <td>0.50951</td>\n",
       "      <td>1.58835</td>\n",
       "      <td>0.5536</td>\n",
       "      <td>198900000.0</td>\n",
       "      <td>24000000.0</td>\n",
       "      <td>3.573</td>\n",
       "    </tr>\n",
       "    <tr>\n",
       "      <th>4884353</th>\n",
       "      <td>4884403</td>\n",
       "      <td>0.58820</td>\n",
       "      <td>708820372</td>\n",
       "      <td>0.59662</td>\n",
       "      <td>720303756</td>\n",
       "      <td>0</td>\n",
       "      <td>-1</td>\n",
       "      <td>-1</td>\n",
       "      <td>-1</td>\n",
       "      <td>0</td>\n",
       "      <td>...</td>\n",
       "      <td>-0.29987</td>\n",
       "      <td>0.56892</td>\n",
       "      <td>0.20679</td>\n",
       "      <td>0.31871</td>\n",
       "      <td>1.91386</td>\n",
       "      <td>-0.15039</td>\n",
       "      <td>0.6768</td>\n",
       "      <td>168700000.0</td>\n",
       "      <td>30000000.0</td>\n",
       "      <td>2.532</td>\n",
       "    </tr>\n",
       "  </tbody>\n",
       "</table>\n",
       "<p>267177 rows × 61 columns</p>\n",
       "</div>"
      ],
      "text/plain": [
       "           index  #scale(0)       id(1)  desc_scale(2)  desc_id(3)  \\\n",
       "1             51    1.00000  1122969403        0.00000          -1   \n",
       "77           127    0.22267   224373864        0.23348   239928539   \n",
       "79           129    1.00000  1122969405        0.00000          -1   \n",
       "157          207    0.19968   193544526        0.21237   208880422   \n",
       "159          209    1.00000  1122969406        0.00000          -1   \n",
       "...          ...        ...         ...            ...         ...   \n",
       "4884306  4884356    0.17654   149198635        0.18423   163898522   \n",
       "4884308  4884358    1.00000  1123353042        0.00000          -1   \n",
       "4884311  4884361    0.96738  1094241437        0.97659  1103958763   \n",
       "4884313  4884363    1.00000  1123353044        0.00000          -1   \n",
       "4884353  4884403    0.58820   708820372        0.59662   720303756   \n",
       "\n",
       "         num_prog(4)  pid(5)  upid(6)  desc_pid(7)  phantom(8)  ...     A[z]  \\\n",
       "1                  1      -1       -1           -1           0  ... -0.59764   \n",
       "77                 0      -1       -1           -1           0  ... -0.00127   \n",
       "79                 1      -1       -1           -1           0  ...  1.10749   \n",
       "157                0      -1       -1           -1           0  ...  2.27255   \n",
       "159                1      -1       -1           -1           0  ...  1.23813   \n",
       "...              ...     ...      ...          ...         ...  ...      ...   \n",
       "4884306            0      -1       -1           -1           0  ... -0.31706   \n",
       "4884308            1      -1       -1           -1           0  ...  5.01811   \n",
       "4884311            0      -1       -1           -1           0  ...  2.06892   \n",
       "4884313            1      -1       -1           -1           0  ... -0.94453   \n",
       "4884353            0      -1       -1           -1           0  ... -0.29987   \n",
       "\n",
       "         b_to_a(500c)  c_to_a(500c)  A[x](500c)  A[y](500c)  A[z](500c)  \\\n",
       "1             0.73477       0.30184     1.11307    -1.04583    -0.49679   \n",
       "77            0.32347       0.10709    -1.23475     3.00947     0.56882   \n",
       "79            0.51338       0.29335     0.13340    -1.03493     1.12428   \n",
       "157           0.00000       0.00000     0.00000     0.00000     0.00000   \n",
       "159           0.53427       0.27390     0.27341    -1.07682     1.28791   \n",
       "...               ...           ...         ...         ...         ...   \n",
       "4884306       0.00000       0.00000     0.00000     0.00000     0.00000   \n",
       "4884308       0.00000       0.00000     0.00000     0.00000     0.00000   \n",
       "4884311       0.00000       0.00000     0.00000     0.00000     0.00000   \n",
       "4884313       0.70965       0.17492    -1.43828     0.50951     1.58835   \n",
       "4884353       0.56892       0.20679     0.31871     1.91386    -0.15039   \n",
       "\n",
       "          T/|U|  M_pe_Behroozi  M_pe_Diemer  Halfmass_Radius  \n",
       "1        0.6532    187100000.0   42000000.0            2.103  \n",
       "77       0.4277     77130000.0   66000000.0            5.831  \n",
       "79       0.7950    461200000.0   96000000.0            1.775  \n",
       "157      1.1908     87750000.0   42000000.0            6.245  \n",
       "159      0.7505    522500000.0  132000000.0            3.081  \n",
       "...         ...            ...          ...              ...  \n",
       "4884306  0.8992     60570000.0   78000000.0            6.684  \n",
       "4884308  0.6915     55270000.0   36000000.0            5.294  \n",
       "4884311  0.8065     79540000.0   36000000.0            6.211  \n",
       "4884313  0.5536    198900000.0   24000000.0            3.573  \n",
       "4884353  0.6768    168700000.0   30000000.0            2.532  \n",
       "\n",
       "[267177 rows x 61 columns]"
      ]
     },
     "execution_count": 8,
     "metadata": {},
     "output_type": "execute_result"
    }
   ],
   "source": [
    "halos[np.logical_or(halos['desc_id(3)'] == -1,halos['num_prog(4)']!=1)]"
   ]
  },
  {
   "cell_type": "code",
   "execution_count": 9,
   "id": "98964995",
   "metadata": {},
   "outputs": [
    {
     "name": "stderr",
     "output_type": "stream",
     "text": [
      "100%|█████████████████████████████████████████████████████| 48505/48505 [00:00<00:00, 440576.82it/s]\n"
     ]
    }
   ],
   "source": [
    "spli=np.split(np.array(halos)[:,1:50], np.array(trees.iloc[1:].index)-np.arange(1,len(trees.index)))\n",
    "splits=[]\n",
    "for s in tqdm(spli):\n",
    "    if np.log10(s[0,10])>10:\n",
    "        splits.append(s)\n",
    "splits=np.array(splits, dtype=object)"
   ]
  },
  {
   "cell_type": "code",
   "execution_count": 10,
   "id": "e0f4f008",
   "metadata": {},
   "outputs": [
    {
     "name": "stderr",
     "output_type": "stream",
     "text": [
      "100%|██████████████████████████████████████████████████████████| 770/770 [00:00<00:00, 10857.34it/s]\n"
     ]
    }
   ],
   "source": [
    "split=[]\n",
    "for tree in tqdm(splits):\n",
    "    s=tree[np.logical_or(tree[:,3] == -1,tree[:,4]!=1)]\n",
    "    split.append(s)\n",
    "split=np.array(split, dtype=object)"
   ]
  },
  {
   "cell_type": "markdown",
   "id": "63482947",
   "metadata": {},
   "source": [
    "## SAM outputs\n",
    "### First one with galprop "
   ]
  },
  {
   "cell_type": "code",
   "execution_count": 11,
   "id": "8eaa25ea",
   "metadata": {},
   "outputs": [],
   "source": [
    "samp='~/../../../tigress/mcranmer/merger_trees/samout/'\n",
    "ex='0_0_0/'\n",
    "ex+='galprop_0-99.dat'\n",
    "pdc=pd.read_table(samp+ex, skiprows=0, delimiter=',', nrows=41, header=None)\n",
    "newcols=pdc.iloc[:,0]\n",
    "pds=pd.read_table(samp+ex, skiprows=41, delimiter='\\s+', header=None)\n",
    "pds.columns=np.array(newcols)"
   ]
  },
  {
   "cell_type": "code",
   "execution_count": 12,
   "id": "4c9fd3ee",
   "metadata": {},
   "outputs": [],
   "source": [
    "pd0=pds[pds[pds.columns[3]]==0.00] # subhaloes\n",
    "pdcen=pd0[(pd0[pds.columns[1]]==pd0[pds.columns[2]])] ##central haloes"
   ]
  },
  {
   "cell_type": "code",
   "execution_count": 13,
   "id": "f2a29162",
   "metadata": {},
   "outputs": [],
   "source": [
    "rhalid=np.array(pdcen[pds.columns[2]])\n",
    "halwgal=[]\n",
    "ids=[]\n",
    "out=[]\n",
    "for i, tree in enumerate(split):\n",
    "    if tree[0,1] in rhalid:\n",
    "#         halwgal.append(np.hstack([tree[:,[0,2]],tree[:,9:]]))\n",
    "        halwgal.append(tree)\n",
    "        ids.append(i)\n",
    "        index=np.where(rhalid==tree[0,1])\n",
    "        out.append(np.array(pdcen.iloc[index])[0][8])"
   ]
  },
  {
   "cell_type": "code",
   "execution_count": 14,
   "id": "304cbc76",
   "metadata": {},
   "outputs": [],
   "source": [
    "hraw=np.array(splits[ids], dtype=object) ###onl"
   ]
  },
  {
   "cell_type": "code",
   "execution_count": 15,
   "id": "4d43cdbd",
   "metadata": {},
   "outputs": [],
   "source": [
    "def convert(d,p):\n",
    "    dfin=[]\n",
    "    if len(p)!=len(np.unique(p)):\n",
    "        print('Wrong order of prog/desc')\n",
    "    else:\n",
    "        no=d[0]\n",
    "        for desc in d:\n",
    "            if desc==no:\n",
    "                dfin.append(0)\n",
    "            else:\n",
    "                dfin.append(p.index(desc)+1)\n",
    "    return dfin, np.arange(1, 1+len(p))"
   ]
  },
  {
   "cell_type": "code",
   "execution_count": 16,
   "id": "a742651b",
   "metadata": {},
   "outputs": [
    {
     "name": "stderr",
     "output_type": "stream",
     "text": [
      "100%|█████████████████████████████████████████████████████████████| 769/769 [00:40<00:00, 19.17it/s]\n"
     ]
    }
   ],
   "source": [
    "hals=[]\n",
    "# hals1=[]\n",
    "pr,de=[],[]\n",
    "for i in tqdm(range(len(halwgal))):\n",
    "    h=halwgal[i]\n",
    "    roots=h[h[:,4]==0]\n",
    "#     mergers=h[np.logical_and(h[:,4]>1,h[:,3]!=-1)] #remove self-loop, is broken since some roots go directly to final\n",
    "    mergers=h[h[:,4]>1]\n",
    "    final=h[h[:,3]==-1]\n",
    "    pro, des=[],[]\n",
    "    for r in roots: #tqdm(roots, total=len(roots))\n",
    "        descid=hraw[i][:,3][np.where(r[1]==hraw[i][:,1])]\n",
    "        while descid not in mergers[:,1]:\n",
    "            descid=hraw[i][:,3][np.where(descid==hraw[i][:,1])] #consider adding the number of steps it went through\n",
    "        pro.append(r[1])\n",
    "        des.append(descid[0])\n",
    "    m=mergers[mergers[:, 0].argsort()] #sort by redshift, starting at early times\n",
    "    mdes,mpro=list(m[:,1][1:]), list(m[:,1])\n",
    "    des+=mdes\n",
    "    pro+=mpro\n",
    "    des.append(final[:,1][0])\n",
    "    des,pro=convert(des[::-1],pro[::-1])\n",
    "    hal2=np.vstack([final,np.flip(m,axis=0).copy(),np.flip(roots,axis=0).copy()])\n",
    "    ###mask the columns, consider adding in the extra columns after 35\n",
    "    hal2=hal2[:,[0,2,4,5,6,8,9,10,11,12,13,14,15,16,17,18,19,20,21,22,23,24,25,35]] \n",
    "    ##apply transformation here, remove columns not desired\n",
    "    ## consider RobustScaler or Quantile_Transformer, need to be fitted on the full dataset first\n",
    "    hals.append(hal2)\n",
    "    pr.append([int(p) for p in pro])\n",
    "    de.append([int(d) for d in des])\n",
    "hals=np.array(hals,dtype=object)"
   ]
  },
  {
   "cell_type": "code",
   "execution_count": 17,
   "id": "f421d6d3",
   "metadata": {},
   "outputs": [
    {
     "name": "stderr",
     "output_type": "stream",
     "text": [
      "100%|███████████████████████████████████████████████████████████| 769/769 [00:00<00:00, 1874.33it/s]\n"
     ]
    }
   ],
   "source": [
    "dat=[]\n",
    "for n in tqdm(range(len(out))):\n",
    "    edge_index = torch.tensor([pr[n],de[n]], dtype=torch.long)\n",
    "    x = torch.tensor(hals[n], dtype=torch.float)\n",
    "\n",
    "    y=torch.tensor(out[n], dtype=torch.float)\n",
    "    graph=Data(x=x, edge_index=edge_index, y=y)\n",
    "    dat.append(graph)"
   ]
  },
  {
   "cell_type": "code",
   "execution_count": 19,
   "id": "cf70c5d7",
   "metadata": {},
   "outputs": [
    {
     "name": "stdout",
     "output_type": "stream",
     "text": [
      "Made graph\n",
      "drawing\n"
     ]
    },
    {
     "data": {
      "image/png": "[encoded data removed]",
      "text/plain": [
       "<Figure size 1080x576 with 1 Axes>"
      ]
     },
     "metadata": {},
     "output_type": "display_data"
    }
   ],
   "source": [
    "j=0\n",
    "from matplotlib import cm\n",
    "cmap=cm.get_cmap(name='magma')\n",
    "fig,ax=plt.subplots(figsize=(15,8))\n",
    "G=tg.utils.to_networkx(dat[j]) #, node_attrs=dat[j].x\n",
    "print('Made graph')\n",
    "# G.remove_nodes_from(list(nx.isolates(G)))\n",
    "pos=nx.planar_layout(G)\n",
    "# pos=nx.kamada_kawai_layout(G) #this one is kinda snakey but works pretty well! Slow as hell though\n",
    "if G.number_of_nodes()<2000:\n",
    "    print('drawing')\n",
    "    nx.draw(G, pos=pos,ax=ax, node_size=8, arrowsize=5, cmap=cmap)"
   ]
  },
  {
   "cell_type": "code",
   "execution_count": 85,
   "id": "33c3f020",
   "metadata": {},
   "outputs": [
    {
     "data": {
      "text/plain": [
       "array([1., 3., 3., 4., 2., 4., 5., 3., 3., 3., 2., 3., 3., 3., 5., 2., 5.,\n",
       "       4., 3., 3., 2., 5., 4., 4., 5., 5., 3., 4., 4., 3., 4., 5., 2., 2.,\n",
       "       3., 3., 4., 3., 3., 4., 3., 5., 4., 4., 3., 3., 4., 3., 4., 3., 5.,\n",
       "       3., 3., 4., 3., 3., 3., 4., 2., 3., 4., 4., 4., 4., 4., 4., 3., 4.,\n",
       "       4., 4., 3., 3., 4., 5., 4., 3., 3., 3., 3., 4., 5., 3., 3., 4., 3.,\n",
       "       3., 3., 4., 4., 4., 4., 3., 4., 4., 3., 3., 4., 4., 3., 1., 1., 1.,\n",
       "       1., 1., 1., 1., 1., 1., 1., 1., 1., 1., 1., 1., 1., 1., 1., 1., 1.,\n",
       "       1., 1., 1., 1., 1., 1., 1., 1., 1., 1., 1., 1., 1., 1., 1., 1., 1.,\n",
       "       1., 1., 1., 1., 1., 1., 1., 1., 1., 1., 1., 1., 1., 1., 1., 1., 1.,\n",
       "       1., 1., 1., 1., 1., 1., 1., 1., 1., 1., 1., 1., 1., 1., 1., 1., 1.,\n",
       "       1., 1., 1., 1., 1., 1., 1., 1., 1., 1., 1., 1., 1., 1., 1., 1., 1.,\n",
       "       1., 1., 1., 1., 1., 1., 1., 1., 1., 1., 1., 1., 1., 1., 1., 1., 1.,\n",
       "       1., 1., 1., 1., 1., 1., 1., 1., 1., 1., 1., 1., 1., 1., 1., 1., 1.,\n",
       "       1., 1., 1., 1., 1., 1., 1., 1., 1., 1., 1., 1., 1., 1., 1., 1., 1.,\n",
       "       1., 1., 1., 1., 1., 1., 1., 1., 1., 1., 1., 1.])"
      ]
     },
     "execution_count": 85,
     "metadata": {},
     "output_type": "execute_result"
    }
   ],
   "source": [
    "np.array(list(nx.degree_centrality(G).values()))*(G.number_of_nodes()-1)"
   ]
  },
  {
   "cell_type": "code",
   "execution_count": 38,
   "id": "d80c655f",
   "metadata": {},
   "outputs": [
    {
     "data": {
      "text/plain": [
       "(30, 30, 30)"
      ]
     },
     "execution_count": 38,
     "metadata": {},
     "output_type": "execute_result"
    }
   ],
   "source": [
    "# So 0 is the beginning haloes that do not have any progenitor (starting IDs)\n",
    "np.sum(halwgal[0][:,4]!=1)-np.sum(halwgal[0][:,4]>1), np.sum(halwgal[0][:,4]==0), len(np.unique(halwgal[0][:,34]))"
   ]
  },
  {
   "cell_type": "code",
   "execution_count": 43,
   "id": "3531b4b9",
   "metadata": {},
   "outputs": [
    {
     "data": {
      "text/plain": [
       "array([ True,  True,  True,  True,  True,  True,  True,  True,  True,\n",
       "        True,  True,  True,  True,  True,  True,  True,  True,  True,\n",
       "        True,  True,  True,  True,  True,  True,  True,  True,  True,\n",
       "        True,  True,  True])"
      ]
     },
     "execution_count": 43,
     "metadata": {},
     "output_type": "execute_result"
    }
   ],
   "source": [
    "#     depth_first_id masked by being first   ==       unique    lastmainleaf_depth_id\n",
    "np.sort(halwgal[0][:,28][halwgal[0][:,4]==0])==np.sort(np.unique(halwgal[0][:,34])) ## so these are the same"
   ]
  },
  {
   "cell_type": "code",
   "execution_count": 70,
   "id": "1c37a65c",
   "metadata": {},
   "outputs": [
    {
     "data": {
      "text/plain": [
       "array([2.63207726e+08, 2.63207731e+08, 2.63207748e+08, 2.63207739e+08,\n",
       "       2.63207756e+08, 2.63207762e+08, 2.63207766e+08, 2.63207772e+08,\n",
       "       2.63207779e+08, 2.63207795e+08, 2.63207803e+08, 2.63207817e+08,\n",
       "       2.63207903e+08, 2.63207910e+08, 2.63207851e+08, 2.63207838e+08,\n",
       "       2.63207871e+08, 2.63207937e+08, 2.63208021e+08, 2.63207984e+08,\n",
       "       2.63207959e+08, 2.63208025e+08, 2.46902737e+08, 2.63208067e+08,\n",
       "       2.63208071e+08, 2.63208092e+08, 2.63208099e+08, 6.55192520e+07,\n",
       "       2.63208158e+08, 8.86031305e+08])"
      ]
     },
     "execution_count": 70,
     "metadata": {},
     "output_type": "execute_result"
    }
   ],
   "source": [
    "halwgal[0][:,28][halwgal[0][:,4]==0]"
   ]
  },
  {
   "cell_type": "code",
   "execution_count": 72,
   "id": "ba9239a6",
   "metadata": {},
   "outputs": [
    {
     "data": {
      "text/plain": [
       "array([2.63207631e+08, 2.63207632e+08, 2.63207637e+08, 2.63207658e+08,\n",
       "       2.63207663e+08, 2.63207670e+08, 2.63207671e+08, 2.63207673e+08,\n",
       "       2.63207674e+08, 2.63207675e+08, 2.63207685e+08, 2.63207686e+08,\n",
       "       2.63207698e+08, 2.63207699e+08, 2.63207700e+08, 2.63207706e+08,\n",
       "       2.63207707e+08, 2.63207708e+08, 2.63207711e+08, 2.63207717e+08,\n",
       "       2.63207718e+08, 2.63207720e+08, 2.63207722e+08, 2.63207726e+08,\n",
       "       2.63207729e+08, 2.63207731e+08, 2.63207748e+08, 2.63207739e+08,\n",
       "       2.63207756e+08, 2.63207762e+08, 2.63207766e+08, 2.63207772e+08,\n",
       "       2.63207779e+08, 2.63207781e+08, 2.63207795e+08, 2.63207803e+08,\n",
       "       2.63207817e+08, 2.63207890e+08, 2.63207903e+08, 2.63207910e+08,\n",
       "       2.63207851e+08, 2.63207838e+08, 2.63207871e+08, 2.63207937e+08,\n",
       "       2.63208021e+08, 2.63207984e+08, 2.63207959e+08, 2.63208025e+08,\n",
       "       2.46902737e+08, 2.63208067e+08, 2.63208071e+08, 2.63208092e+08,\n",
       "       2.63208099e+08, 6.55192520e+07, 2.63208158e+08, 8.86031305e+08])"
      ]
     },
     "execution_count": 72,
     "metadata": {},
     "output_type": "execute_result"
    }
   ],
   "source": [
    "hal[0][:,28]"
   ]
  },
  {
   "cell_type": "code",
   "execution_count": null,
   "id": "6510d2f2",
   "metadata": {},
   "outputs": [],
   "source": [
    "# so the idea would be to connect all the num_prog(4)==0's to all num_prog>1 if desc_id(3)!=-1"
   ]
  },
  {
   "cell_type": "code",
   "execution_count": 63,
   "id": "062adaa1",
   "metadata": {},
   "outputs": [
    {
     "name": "stderr",
     "output_type": "stream",
     "text": [
      "  0%|                                                                       | 0/769 [00:00<?, ?it/s]\n"
     ]
    },
    {
     "ename": "ValueError",
     "evalue": "719904704 is not in list",
     "output_type": "error",
     "traceback": [
      "\u001b[0;31m---------------------------------------------------------------------------\u001b[0m",
      "\u001b[0;31mValueError\u001b[0m                                Traceback (most recent call last)",
      "\u001b[0;32m/tmp/ipykernel_18670/1545911862.py\u001b[0m in \u001b[0;36m<module>\u001b[0;34m\u001b[0m\n\u001b[1;32m     22\u001b[0m     \u001b[0mdeid\u001b[0m\u001b[0;34m.\u001b[0m\u001b[0mappend\u001b[0m\u001b[0;34m(\u001b[0m\u001b[0mdes\u001b[0m\u001b[0;34m)\u001b[0m\u001b[0;34m\u001b[0m\u001b[0;34m\u001b[0m\u001b[0m\n\u001b[1;32m     23\u001b[0m     \u001b[0mprid\u001b[0m\u001b[0;34m.\u001b[0m\u001b[0mappend\u001b[0m\u001b[0;34m(\u001b[0m\u001b[0mpro\u001b[0m\u001b[0;34m)\u001b[0m\u001b[0;34m\u001b[0m\u001b[0;34m\u001b[0m\u001b[0m\n\u001b[0;32m---> 24\u001b[0;31m     \u001b[0mdesg\u001b[0m\u001b[0;34m,\u001b[0m \u001b[0mprog\u001b[0m \u001b[0;34m=\u001b[0m \u001b[0mconvert\u001b[0m\u001b[0;34m(\u001b[0m\u001b[0mdes\u001b[0m\u001b[0;34m,\u001b[0m\u001b[0mpro\u001b[0m\u001b[0;34m)\u001b[0m \u001b[0;31m#it needs to map halo 0,1,2,3 so on, not the true halo id\u001b[0m\u001b[0;34m\u001b[0m\u001b[0;34m\u001b[0m\u001b[0m\n\u001b[0m\u001b[1;32m     25\u001b[0m     \u001b[0mde\u001b[0m\u001b[0;34m.\u001b[0m\u001b[0mappend\u001b[0m\u001b[0;34m(\u001b[0m\u001b[0mdesg\u001b[0m\u001b[0;34m)\u001b[0m\u001b[0;34m\u001b[0m\u001b[0;34m\u001b[0m\u001b[0m\n\u001b[1;32m     26\u001b[0m     \u001b[0mpr\u001b[0m\u001b[0;34m.\u001b[0m\u001b[0mappend\u001b[0m\u001b[0;34m(\u001b[0m\u001b[0mprog\u001b[0m\u001b[0;34m)\u001b[0m\u001b[0;34m\u001b[0m\u001b[0;34m\u001b[0m\u001b[0m\n",
      "\u001b[0;32m/tmp/ipykernel_18670/1545911862.py\u001b[0m in \u001b[0;36mconvert\u001b[0;34m(d, p)\u001b[0m\n\u001b[1;32m      9\u001b[0m                 \u001b[0mdfin\u001b[0m\u001b[0;34m.\u001b[0m\u001b[0mappend\u001b[0m\u001b[0;34m(\u001b[0m\u001b[0;36m0\u001b[0m\u001b[0;34m)\u001b[0m\u001b[0;34m\u001b[0m\u001b[0;34m\u001b[0m\u001b[0m\n\u001b[1;32m     10\u001b[0m             \u001b[0;32melse\u001b[0m\u001b[0;34m:\u001b[0m\u001b[0;34m\u001b[0m\u001b[0;34m\u001b[0m\u001b[0m\n\u001b[0;32m---> 11\u001b[0;31m                 \u001b[0mdfin\u001b[0m\u001b[0;34m.\u001b[0m\u001b[0mappend\u001b[0m\u001b[0;34m(\u001b[0m\u001b[0mp\u001b[0m\u001b[0;34m.\u001b[0m\u001b[0mindex\u001b[0m\u001b[0;34m(\u001b[0m\u001b[0mdesc\u001b[0m\u001b[0;34m)\u001b[0m\u001b[0;34m+\u001b[0m\u001b[0;36m1\u001b[0m\u001b[0;34m)\u001b[0m\u001b[0;34m\u001b[0m\u001b[0;34m\u001b[0m\u001b[0m\n\u001b[0m\u001b[1;32m     12\u001b[0m     \u001b[0;32mreturn\u001b[0m \u001b[0mdfin\u001b[0m\u001b[0;34m,\u001b[0m \u001b[0mnp\u001b[0m\u001b[0;34m.\u001b[0m\u001b[0marange\u001b[0m\u001b[0;34m(\u001b[0m\u001b[0;36m1\u001b[0m\u001b[0;34m,\u001b[0m \u001b[0;36m1\u001b[0m\u001b[0;34m+\u001b[0m\u001b[0mlen\u001b[0m\u001b[0;34m(\u001b[0m\u001b[0mp\u001b[0m\u001b[0;34m)\u001b[0m\u001b[0;34m)\u001b[0m\u001b[0;34m\u001b[0m\u001b[0;34m\u001b[0m\u001b[0m\n\u001b[1;32m     13\u001b[0m \u001b[0;34m\u001b[0m\u001b[0m\n",
      "\u001b[0;31mValueError\u001b[0m: 719904704 is not in list"
     ]
    }
   ],
   "source": [
    "def convert(d,p):\n",
    "    dfin=[]\n",
    "    if len(p)!=len(np.unique(p)):\n",
    "        print('Wrong order of prog/desc')\n",
    "    else:\n",
    "        no=d[0]\n",
    "        for desc in d:\n",
    "            if desc==no:\n",
    "                dfin.append(0)\n",
    "            else:\n",
    "                dfin.append(p.index(desc)+1)\n",
    "    return dfin, np.arange(1, 1+len(p))\n",
    "\n",
    "deid, prid=[], [] ## making to and from list, list of descendants from list of progenitors in pytorch required style\n",
    "de, pr = [], []\n",
    "for k in tqdm(range(len(hal))):\n",
    "    des, pro=[], []\n",
    "    for i, desc in enumerate(hal[k][:,3]):\n",
    "        if desc in hal[k][:i,1]:\n",
    "            des.append(int(desc))\n",
    "            pro.append(int(hal[k][i,1]))\n",
    "    deid.append(des)\n",
    "    prid.append(pro)\n",
    "    desg, prog = convert(des,pro) #it needs to map halo 0,1,2,3 so on, not the true halo id\n",
    "    de.append(desg)\n",
    "    pr.append(prog)"
   ]
  },
  {
   "cell_type": "code",
   "execution_count": 19,
   "id": "b7ebc3ba",
   "metadata": {},
   "outputs": [
    {
     "data": {
      "text/plain": [
       "199472"
      ]
     },
     "execution_count": 19,
     "metadata": {},
     "output_type": "execute_result"
    }
   ],
   "source": [
    "len(halwgal[8])"
   ]
  },
  {
   "cell_type": "code",
   "execution_count": 20,
   "id": "06b1605c",
   "metadata": {},
   "outputs": [
    {
     "name": "stderr",
     "output_type": "stream",
     "text": [
      "  3%|█▋                                                              | 2/76 [00:15<10:44,  8.71s/it]"
     ]
    },
    {
     "name": "stdout",
     "output_type": "stream",
     "text": [
      "1\n"
     ]
    },
    {
     "name": "stderr",
     "output_type": "stream",
     "text": [
      " 11%|██████▋                                                         | 8/76 [01:08<10:14,  9.04s/it]"
     ]
    },
    {
     "name": "stdout",
     "output_type": "stream",
     "text": [
      "8\n"
     ]
    },
    {
     "name": "stderr",
     "output_type": "stream",
     "text": [
      " 17%|██████████▊                                                    | 13/76 [01:14<03:28,  3.32s/it]"
     ]
    },
    {
     "name": "stdout",
     "output_type": "stream",
     "text": [
      "13\n"
     ]
    },
    {
     "name": "stderr",
     "output_type": "stream",
     "text": [
      "\r",
      " 20%|████████████▍                                                  | 15/76 [02:12<13:47, 13.57s/it]"
     ]
    },
    {
     "name": "stdout",
     "output_type": "stream",
     "text": [
      "16\n"
     ]
    },
    {
     "name": "stderr",
     "output_type": "stream",
     "text": [
      "\r",
      " 24%|██████████████▉                                                | 18/76 [02:13<07:10,  7.42s/it]"
     ]
    },
    {
     "name": "stdout",
     "output_type": "stream",
     "text": [
      "17\n"
     ]
    },
    {
     "name": "stderr",
     "output_type": "stream",
     "text": [
      " 32%|███████████████████▉                                           | 24/76 [02:19<01:55,  2.22s/it]"
     ]
    },
    {
     "name": "stdout",
     "output_type": "stream",
     "text": [
      "24\n"
     ]
    },
    {
     "name": "stderr",
     "output_type": "stream",
     "text": [
      " 36%|██████████████████████▍                                        | 27/76 [03:55<19:03, 23.35s/it]"
     ]
    },
    {
     "name": "stdout",
     "output_type": "stream",
     "text": [
      "26\n"
     ]
    },
    {
     "name": "stderr",
     "output_type": "stream",
     "text": [
      " 41%|█████████████████████████▋                                     | 31/76 [04:40<10:19, 13.78s/it]"
     ]
    },
    {
     "name": "stdout",
     "output_type": "stream",
     "text": [
      "28\n",
      "29\n"
     ]
    },
    {
     "name": "stderr",
     "output_type": "stream",
     "text": [
      " 46%|█████████████████████████████                                  | 35/76 [04:59<04:11,  6.12s/it]"
     ]
    },
    {
     "name": "stdout",
     "output_type": "stream",
     "text": [
      "35\n"
     ]
    },
    {
     "name": "stderr",
     "output_type": "stream",
     "text": [
      "\r",
      " 49%|██████████████████████████████▋                                | 37/76 [06:12<12:40, 19.50s/it]"
     ]
    },
    {
     "name": "stdout",
     "output_type": "stream",
     "text": [
      "37\n",
      "38\n"
     ]
    },
    {
     "name": "stderr",
     "output_type": "stream",
     "text": [
      " 55%|██████████████████████████████████▊                            | 42/76 [06:17<04:00,  7.08s/it]"
     ]
    },
    {
     "name": "stdout",
     "output_type": "stream",
     "text": [
      "42\n"
     ]
    },
    {
     "name": "stderr",
     "output_type": "stream",
     "text": [
      " 61%|██████████████████████████████████████▏                        | 46/76 [07:13<05:51, 11.71s/it]"
     ]
    },
    {
     "name": "stdout",
     "output_type": "stream",
     "text": [
      "44\n",
      "46\n",
      "47\n"
     ]
    },
    {
     "name": "stderr",
     "output_type": "stream",
     "text": [
      " 72%|█████████████████████████████████████████████▌                 | 55/76 [07:45<01:28,  4.19s/it]"
     ]
    },
    {
     "name": "stdout",
     "output_type": "stream",
     "text": [
      "51\n",
      "52\n",
      "53\n"
     ]
    },
    {
     "name": "stderr",
     "output_type": "stream",
     "text": [
      " 75%|███████████████████████████████████████████████▎               | 57/76 [10:59<09:04, 28.66s/it]"
     ]
    },
    {
     "name": "stdout",
     "output_type": "stream",
     "text": [
      "55\n"
     ]
    },
    {
     "name": "stderr",
     "output_type": "stream",
     "text": [
      " 78%|████████████████████████████████████████████████▉              | 59/76 [11:51<07:20, 25.94s/it]"
     ]
    },
    {
     "name": "stdout",
     "output_type": "stream",
     "text": [
      "59\n"
     ]
    },
    {
     "name": "stderr",
     "output_type": "stream",
     "text": [
      "\r",
      " 80%|██████████████████████████████████████████████████▌            | 61/76 [11:52<03:55, 15.68s/it]"
     ]
    },
    {
     "name": "stdout",
     "output_type": "stream",
     "text": [
      "60\n"
     ]
    },
    {
     "name": "stderr",
     "output_type": "stream",
     "text": [
      "\r",
      " 82%|███████████████████████████████████████████████████▍           | 62/76 [14:44<11:45, 50.37s/it]"
     ]
    },
    {
     "name": "stdout",
     "output_type": "stream",
     "text": [
      "61\n"
     ]
    },
    {
     "name": "stderr",
     "output_type": "stream",
     "text": [
      " 88%|██████████████████████████████████████████████████████▋       | 67/76 [26:12<16:50, 112.32s/it]"
     ]
    },
    {
     "name": "stdout",
     "output_type": "stream",
     "text": [
      "66\n"
     ]
    },
    {
     "name": "stderr",
     "output_type": "stream",
     "text": [
      "\r",
      " 89%|████████████████████████████████████████████████████████▎      | 68/76 [26:46<11:58, 89.83s/it]"
     ]
    },
    {
     "name": "stdout",
     "output_type": "stream",
     "text": [
      "67\n"
     ]
    },
    {
     "name": "stderr",
     "output_type": "stream",
     "text": [
      "\r",
      " 91%|█████████████████████████████████████████████████████████▏     | 69/76 [27:43<09:22, 80.31s/it]"
     ]
    },
    {
     "name": "stdout",
     "output_type": "stream",
     "text": [
      "68\n"
     ]
    },
    {
     "name": "stderr",
     "output_type": "stream",
     "text": [
      " 97%|█████████████████████████████████████████████████████████████▎ | 74/76 [31:36<01:41, 50.98s/it]"
     ]
    },
    {
     "name": "stdout",
     "output_type": "stream",
     "text": [
      "73\n"
     ]
    },
    {
     "name": "stderr",
     "output_type": "stream",
     "text": [
      "100%|███████████████████████████████████████████████████████████████| 76/76 [32:45<00:00, 25.87s/it]"
     ]
    },
    {
     "name": "stdout",
     "output_type": "stream",
     "text": [
      "75\n"
     ]
    },
    {
     "name": "stderr",
     "output_type": "stream",
     "text": [
      "\n"
     ]
    }
   ],
   "source": [
    "from torch_geometric.data import Data\n",
    "import networkx as nx\n",
    "import torch_geometric\n",
    "import time\n",
    "dat=[]\n",
    "ts=[]\n",
    "ls=[]\n",
    "err=[]\n",
    "long=[]\n",
    "ln=[]\n",
    "a=0\n",
    "for n in tqdm(range(len(out)//10)):\n",
    "    l=len(halwgal[n])\n",
    "    if l<10000:\n",
    "        start=time.time()\n",
    "        edge_index = torch.tensor([pr[n],de[n]], dtype=torch.long)\n",
    "        x = torch.tensor(halwgal[n], dtype=torch.float)\n",
    "\n",
    "        y=torch.tensor(out[n], dtype=torch.float)\n",
    "        graph=Data(x=x, edge_index=edge_index, y=y, dtype=torch.float)\n",
    "        mask=np.array(tg.utils.to_scipy_sparse_matrix(graph.edge_index).sum(axis=0))[0]!=1\n",
    "        prm=pr[n][~mask[1:]]\n",
    "        dem=np.array(de[n])[~mask[1:]]\n",
    "        G=tg.utils.to_networkx(graph)\n",
    "        for i in range(len(prm)):\n",
    "            try:\n",
    "                G=nx.contracted_edge(G,(prm[i],dem[i]), self_loops=0)\n",
    "            except:\n",
    "                continue\n",
    "        gl=list(G.nodes)\n",
    "        x1=halwgal[n][gl]\n",
    "        progs, descs=[],[]\n",
    "        for p, d in list(G.edges): \n",
    "            progs.append(p)\n",
    "            descs.append(d)\n",
    "        try:\n",
    "            d2,p2=convert(descs,progs)\n",
    "            edge_index = torch.tensor([p2,d2], dtype=torch.long)\n",
    "            x2 = torch.tensor(x1, dtype=torch.float)\n",
    "            dat.append(Data(x=x2, edge_index=edge_index, y=y, dtype=torch.float))\n",
    "        except:\n",
    "            print(n)\n",
    "            a+=1\n",
    "            err.append(n)\n",
    "        stop=time.time()\n",
    "        ts.append(stop-start)\n",
    "        ls.append(l)\n",
    "    else:\n",
    "        print(n)\n",
    "        a+=1\n",
    "        long.append(l)\n",
    "        ln.append(n)"
   ]
  },
  {
   "cell_type": "code",
   "execution_count": 21,
   "id": "70672b55",
   "metadata": {},
   "outputs": [
    {
     "data": {
      "text/plain": [
       "[<matplotlib.lines.Line2D at 0x2b0b11583a90>]"
      ]
     },
     "execution_count": 21,
     "metadata": {},
     "output_type": "execute_result"
    },
    {
     "data": {
      "image/png": "[encoded data removed]",
      "text/plain": [
       "<Figure size 432x288 with 1 Axes>"
      ]
     },
     "metadata": {
      "needs_background": "light"
     },
     "output_type": "display_data"
    }
   ],
   "source": [
    "plt.plot(ls,ts, 'bo')\n",
    "x=np.arange(max(ls))\n",
    "plt.plot(x,np.array(x)**2/3e5)"
   ]
  },
  {
   "cell_type": "code",
   "execution_count": 27,
   "id": "b199f36f",
   "metadata": {},
   "outputs": [
    {
     "data": {
      "text/plain": [
       "37.03703703703704"
      ]
     },
     "execution_count": 27,
     "metadata": {},
     "output_type": "execute_result"
    }
   ],
   "source": [
    "np.array(2e5)**2/3e5/3600"
   ]
  },
  {
   "cell_type": "code",
   "execution_count": 29,
   "id": "61590839",
   "metadata": {},
   "outputs": [
    {
     "name": "stderr",
     "output_type": "stream",
     "text": [
      "100%|███████████████████████████████████████████████████████████| 769/769 [00:00<00:00, 1472.77it/s]\n"
     ]
    }
   ],
   "source": [
    "dat2=[]\n",
    "for n in tqdm(range(len(out))):\n",
    "    l=len(halwgal[n])\n",
    "    start=time.time()\n",
    "    edge_index = torch.tensor([pr[n],de[n]], dtype=torch.long)\n",
    "    x = torch.tensor(halwgal[n], dtype=torch.float)\n",
    "\n",
    "    y=torch.tensor(out[n], dtype=torch.float)\n",
    "    graph=Data(x=x, edge_index=edge_index, y=y, dtype=torch.float)\n",
    "    dat2.append(graph)\n",
    "#     mask=np.array(tg.utils.to_scipy_sparse_matrix(graph.edge_index).sum(axis=0))[0]!=1\n",
    "#     prm=pr[n][~mask[1:]]\n",
    "#     dem=np.array(de[n])[~mask[1:]]\n",
    "#     G=tg.utils.to_networkx(graph)\n",
    "#     for i in range(len(prm)):\n",
    "#         try:\n",
    "#             G=nx.contracted_edge(G,(prm[i],dem[i]), self_loops=0)\n",
    "#         except:\n",
    "#             continue\n",
    "#     gl=list(G.nodes)\n",
    "#     x1=halwgal[n][gl]\n",
    "#     progs, descs=[],[]\n",
    "#     for p, d in list(G.edges): \n",
    "#         progs.append(p)\n",
    "#         descs.append(d)\n",
    "#     try:\n",
    "#         d2,p2=convert(descs,progs)\n",
    "#         edge_index = torch.tensor([p2,d2], dtype=torch.long)\n",
    "#         x2 = torch.tensor(x1, dtype=torch.float)\n",
    "#         dat.append(Data(x=x2, edge_index=edge_index, y=y, dtype=torch.float))\n",
    "#     except:\n",
    "#         print(n)\n",
    "#         a+=1\n",
    "#         err.append(n)\n",
    "#     stop=time.time()\n",
    "#     ts.append(stop-start)\n",
    "#     ls.append(l)"
   ]
  },
  {
   "cell_type": "code",
   "execution_count": 36,
   "id": "e663613b",
   "metadata": {},
   "outputs": [
    {
     "ename": "TypeError",
     "evalue": "contracted_nodes() missing 1 required positional argument: 'v'",
     "output_type": "error",
     "traceback": [
      "\u001b[0;31m---------------------------------------------------------------------------\u001b[0m",
      "\u001b[0;31mTypeError\u001b[0m                                 Traceback (most recent call last)",
      "\u001b[0;32m/tmp/ipykernel_7961/3161828389.py\u001b[0m in \u001b[0;36m<module>\u001b[0;34m\u001b[0m\n\u001b[1;32m      8\u001b[0m \u001b[0;32mfor\u001b[0m \u001b[0mi\u001b[0m \u001b[0;32min\u001b[0m \u001b[0mrange\u001b[0m\u001b[0;34m(\u001b[0m\u001b[0mlen\u001b[0m\u001b[0;34m(\u001b[0m\u001b[0mprm\u001b[0m\u001b[0;34m)\u001b[0m\u001b[0;34m)\u001b[0m\u001b[0;34m:\u001b[0m\u001b[0;34m\u001b[0m\u001b[0;34m\u001b[0m\u001b[0m\n\u001b[1;32m      9\u001b[0m         \u001b[0medges\u001b[0m\u001b[0;34m.\u001b[0m\u001b[0mappend\u001b[0m\u001b[0;34m(\u001b[0m\u001b[0;34m(\u001b[0m\u001b[0mprm\u001b[0m\u001b[0;34m[\u001b[0m\u001b[0mi\u001b[0m\u001b[0;34m]\u001b[0m\u001b[0;34m,\u001b[0m\u001b[0mdem\u001b[0m\u001b[0;34m[\u001b[0m\u001b[0mi\u001b[0m\u001b[0;34m]\u001b[0m\u001b[0;34m)\u001b[0m\u001b[0;34m)\u001b[0m\u001b[0;34m\u001b[0m\u001b[0;34m\u001b[0m\u001b[0m\n\u001b[0;32m---> 10\u001b[0;31m \u001b[0mG\u001b[0m\u001b[0;34m=\u001b[0m\u001b[0mnx\u001b[0m\u001b[0;34m.\u001b[0m\u001b[0mcontracted_nodes\u001b[0m\u001b[0;34m(\u001b[0m\u001b[0mG\u001b[0m\u001b[0;34m,\u001b[0m\u001b[0medges\u001b[0m\u001b[0;34m[\u001b[0m\u001b[0;36m0\u001b[0m\u001b[0;34m]\u001b[0m\u001b[0;34m,\u001b[0m \u001b[0mself_loops\u001b[0m\u001b[0;34m=\u001b[0m\u001b[0;36m0\u001b[0m\u001b[0;34m)\u001b[0m\u001b[0;34m\u001b[0m\u001b[0;34m\u001b[0m\u001b[0m\n\u001b[0m",
      "\u001b[0;31mTypeError\u001b[0m: contracted_nodes() missing 1 required positional argument: 'v'"
     ]
    }
   ],
   "source": [
    "n=1\n",
    "graph=dat2[n]\n",
    "mask=np.array(tg.utils.to_scipy_sparse_matrix(graph.edge_index).sum(axis=0))[0]!=1\n",
    "prm=pr[n][~mask[1:]]\n",
    "dem=np.array(de[n])[~mask[1:]]\n",
    "G=tg.utils.to_networkx(graph)\n",
    "edges=[]\n",
    "for i in range(len(prm)):\n",
    "        edges.append((prm[i],dem[i]))\n",
    "G=nx.contracted_nodes(G,edges[0], self_loops=0)            \n"
   ]
  },
  {
   "cell_type": "code",
   "execution_count": 37,
   "id": "f8fc3fdd",
   "metadata": {},
   "outputs": [
    {
     "data": {
      "image/png": "[encoded data removed]",
      "text/plain": [
       "<Figure size 432x288 with 1 Axes>"
      ]
     },
     "metadata": {},
     "output_type": "display_data"
    }
   ],
   "source": [
    "n=1\n",
    "graph=dat2[n]\n",
    "G=tg.utils.to_networkx(graph)\n",
    "g=nx.condensation(G)\n",
    "nx.draw(g)"
   ]
  },
  {
   "cell_type": "code",
   "execution_count": 40,
   "id": "1945e235",
   "metadata": {},
   "outputs": [
    {
     "data": {
      "text/plain": [
       "(2193, 2193)"
      ]
     },
     "execution_count": 40,
     "metadata": {},
     "output_type": "execute_result"
    }
   ],
   "source": [
    "g.number_of_nodes(), G.number_of_nodes()"
   ]
  },
  {
   "cell_type": "code",
   "execution_count": null,
   "id": "a63ace95",
   "metadata": {},
   "outputs": [],
   "source": [
    "savepath=path='../../../../tigress/cj1223/graph_merge/'\n",
    "pickle.dump(dat, open(osp.join(savepath, f\"data_0.dat\"), 'wb'))\n",
    "pickle.dump(dat, f\"data_0.dat\", 'wb'))"
   ]
  },
  {
   "cell_type": "code",
   "execution_count": null,
   "id": "652bc8f9",
   "metadata": {},
   "outputs": [],
   "source": [
    "data=pickle.load(open(osp.join(savepath, f\"data_0.dat\"), 'rb'))\n",
    "data=pickle.load(open(f\"data_0.dat\", 'rb'))"
   ]
  },
  {
   "cell_type": "code",
   "execution_count": null,
   "id": "e283b562",
   "metadata": {},
   "outputs": [],
   "source": [
    "def convert(d,p):\n",
    "    dfin=[]\n",
    "    if len(p)!=len(np.unique(p)):\n",
    "        print('Wrong order of prog/desc')\n",
    "    else:\n",
    "        no=d[0]\n",
    "        for desc in d:\n",
    "            if desc==no:\n",
    "                dfin.append(0)\n",
    "            else:\n",
    "                dfin.append(p.index(desc)+1)\n",
    "    return dfin, np.arange(1, 1+len(p))"
   ]
  },
  {
   "cell_type": "code",
   "execution_count": null,
   "id": "5c15ef9b",
   "metadata": {},
   "outputs": [],
   "source": [
    "n=8\n",
    "dat=dat2\n",
    "mask=np.array(tg.utils.to_scipy_sparse_matrix(dat[n].edge_index).sum(axis=0))[0]!=1\n",
    "prm=pr[n][~mask[1:]]\n",
    "dem=np.array(de[n])[~mask[1:]]\n",
    "G=tg.utils.to_networkx(dat[n])\n",
    "for i in range(len(prm)):\n",
    "    try:\n",
    "        G=nx.contracted_edge(G,(prm[i],dem[i]), self_loops=0)\n",
    "    except:\n",
    "        continue\n",
    "        print(i)"
   ]
  },
  {
   "cell_type": "code",
   "execution_count": 58,
   "id": "7292b92b",
   "metadata": {},
   "outputs": [
    {
     "data": {
      "image/png": "[encoded data removed]",
      "text/plain": [
       "<Figure size 1080x576 with 1 Axes>"
      ]
     },
     "metadata": {},
     "output_type": "display_data"
    }
   ],
   "source": [
    "fig,ax=plt.subplots(figsize=(15,8))\n",
    "pos=nx.planar_layout(G)\n",
    "# G.remove_edges_from(nx.selfloop_edges(G))\n",
    "# pos=nx.bipartite_layout(g, nodes=np.arange(0,100))\n",
    "nx.draw(G, pos=pos, ax=ax, node_size=10)"
   ]
  },
  {
   "cell_type": "code",
   "execution_count": 49,
   "id": "582a74ef",
   "metadata": {},
   "outputs": [],
   "source": [
    "# nx.get_node_attributes(G)\n",
    "# for n, d in G.nodes.items():\n",
    "#     print(n,d)"
   ]
  },
  {
   "cell_type": "code",
   "execution_count": 50,
   "id": "db6de44b",
   "metadata": {},
   "outputs": [
    {
     "data": {
      "text/plain": [
       "(83, True)"
      ]
     },
     "execution_count": 50,
     "metadata": {},
     "output_type": "execute_result"
    }
   ],
   "source": [
    "G.number_of_nodes(), nx.is_connected(G.to_undirected())"
   ]
  },
  {
   "cell_type": "code",
   "execution_count": 51,
   "id": "1f25c466",
   "metadata": {},
   "outputs": [],
   "source": [
    "gl=list(G.nodes)\n",
    "x1=halwgal[n][gl]\n",
    "progs, descs=[],[]\n",
    "for p, d in list(G.edges): \n",
    "    progs.append(p)\n",
    "    descs.append(d)\n",
    "d2,p2=convert(descs,progs)\n",
    "edge_index = torch.tensor([p2,d2], dtype=torch.long)\n",
    "x2 = torch.tensor(x1, dtype=torch.float)\n",
    "graph=Data(x=x2, edge_index=edge_index, y=y, dtype=torch.float)"
   ]
  },
  {
   "cell_type": "code",
   "execution_count": null,
   "id": "de90b700",
   "metadata": {},
   "outputs": [],
   "source": [
    "G=torch_geometric.utils.to_networkx(graph)\n",
    "fig,ax=plt.subplots(figsize=(15,8))\n",
    "pos=nx.planar_layout(G)\n",
    "# G.remove_edges_from(nx.selfloop_edges(G))\n",
    "# pos=nx.bipartite_layout(g, nodes=np.arange(0,100))\n",
    "nx.draw(G, pos=pos, ax=ax, node_size=10)"
   ]
  },
  {
   "cell_type": "code",
   "execution_count": null,
   "id": "88f3166b",
   "metadata": {},
   "outputs": [],
   "source": [
    "graph.x"
   ]
  },
  {
   "cell_type": "code",
   "execution_count": null,
   "id": "d985db42",
   "metadata": {},
   "outputs": [],
   "source": [
    "nx.is_connected(G.to_undirected())"
   ]
  },
  {
   "cell_type": "code",
   "execution_count": null,
   "id": "a31a790e",
   "metadata": {},
   "outputs": [],
   "source": [
    "fig.savefig('graph.png')"
   ]
  },
  {
   "cell_type": "code",
   "execution_count": null,
   "id": "d5c2d695",
   "metadata": {},
   "outputs": [],
   "source": [
    "p, e = graph.edge_index\n",
    "u,N=np.unique(e,return_counts=1)"
   ]
  },
  {
   "cell_type": "code",
   "execution_count": null,
   "id": "22074c3c",
   "metadata": {},
   "outputs": [],
   "source": [
    "pd.Series(np.array(e)).is_unique"
   ]
  },
  {
   "cell_type": "code",
   "execution_count": null,
   "id": "1519b8d9",
   "metadata": {},
   "outputs": [],
   "source": [
    "# mask1=np.unique(de[8], return_counts=True)[1]==1\n",
    "k=0\n",
    "mask=np.array(tg.utils.to_scipy_sparse_matrix(dat[k].edge_index).sum(axis=0))[0]!=1\n",
    "mask1=torch.tensor(mask, dtype=torch.bool)\n",
    "np.shape(tg.utils.subgraph(mask1, dat[k].edge_index, relabel_nodes=1)[0]), np.sum(mask)"
   ]
  },
  {
   "cell_type": "code",
   "execution_count": 17,
   "id": "281acecc",
   "metadata": {},
   "outputs": [],
   "source": [
    "datm=[]\n",
    "for n in range(len(out)):\n",
    "    edge_index = torch.tensor([pr[n],de[n]], dtype=torch.long)\n",
    "    x = torch.tensor(halwgal[n], dtype=torch.float)\n",
    "\n",
    "    y=torch.tensor(out[n], dtype=torch.float)\n",
    "    graph=Data(x=x, edge_index=edge_index, y=y, dtype=torch.float)\n",
    "    mask=torch.tensor(np.log10(halwgal[n][:,10])>9, dtype=torch.bool)\n",
    "    edge=tg.utils.subgraph(mask, graph.edge_index, relabel_nodes=1)[0]\n",
    "    graph=Data(x=x[mask], edge_index=edge, y=y, dtype=torch.float)\n",
    "    datm.append(graph)"
   ]
  },
  {
   "cell_type": "code",
   "execution_count": 18,
   "id": "d280113b",
   "metadata": {},
   "outputs": [
    {
     "data": {
      "text/plain": [
       "(116, tensor(117), 246)"
      ]
     },
     "execution_count": 18,
     "metadata": {},
     "output_type": "execute_result"
    }
   ],
   "source": [
    "n=-1\n",
    "graph=dat[n]\n",
    "mask=torch.tensor(np.log10(halwgal[n][:,10])>9, dtype=torch.bool)\n",
    "edge=tg.utils.subgraph(mask, graph.edge_index, relabel_nodes=1)\n",
    "len(edge[0][0]), torch.sum(mask), len(mask)"
   ]
  },
  {
   "cell_type": "code",
   "execution_count": 19,
   "id": "cab0212a",
   "metadata": {},
   "outputs": [],
   "source": [
    "date=[]\n",
    "a=0\n",
    "for n in range(len(out)):\n",
    "    edge_index = torch.tensor([pr[n],de[n]], dtype=torch.long)\n",
    "    x = torch.tensor(halwgal[n], dtype=torch.float)\n",
    "\n",
    "    y=torch.tensor(out[n], dtype=torch.float)\n",
    "    graph=Data(x=x, edge_index=edge_index, y=y, dtype=torch.float)\n",
    "    mask1=np.array(tg.utils.to_scipy_sparse_matrix(graph.edge_index).sum(axis=0))[0]!=1\n",
    "    mask1=torch.tensor(mask1, dtype=torch.bool)\n",
    "    edge=tg.utils.subgraph(mask1, graph.edge_index, relabel_nodes=1)[0]\n",
    "    graph=Data(x=x[mask1], edge_index=edge, y=y, dtype=torch.float)\n",
    "    date.append(graph)"
   ]
  },
  {
   "cell_type": "code",
   "execution_count": null,
   "id": "b0c76eca",
   "metadata": {},
   "outputs": [],
   "source": [
    "import networkx as nx\n",
    "import torch_geometric\n",
    "a,b,c=0,0,0\n",
    "for n in tqdm(range(len(dat))):\n",
    "    g = torch_geometric.utils.to_networkx(dat[n], to_undirected=1)\n",
    "    a+=int(nx.is_connected(g))\n",
    "    g = torch_geometric.utils.to_networkx(datm[n], to_undirected=1)\n",
    "    b+=int(nx.is_connected(g))\n",
    "    g = torch_geometric.utils.to_networkx(date[n], to_undirected=1)\n",
    "    c+=int(nx.is_connected(g))\n",
    "    \n",
    "# g.number_of_nodes()\n",
    "a,b,c"
   ]
  },
  {
   "cell_type": "code",
   "execution_count": null,
   "id": "16ad14ae",
   "metadata": {},
   "outputs": [],
   "source": [
    "savepath=path='../../../../tigress/cj1223/graph_merge/'\n",
    "pickle.dump(dat, open(osp.join(savepath, f\"data_1.dat\"), 'wb'))"
   ]
  },
  {
   "cell_type": "code",
   "execution_count": null,
   "id": "df165be3",
   "metadata": {},
   "outputs": [],
   "source": [
    "import torch, pickle, os\n",
    "import torch_geometric as tg\n",
    "from torch_geometric.data import Data\n",
    "import numpy as np\n",
    "import matplotlib.pyplot as plt\n",
    "import pandas as pd\n",
    "from tqdm import tqdm\n",
    "from torch_geometric.data import Dataset, Data\n",
    "import os.path as osp\n",
    "\n",
    "class MTrees(Dataset):\n",
    "    def __init__(self, case='test',root='../../../../tigress/cj1223/graph_merge/', ndat=1, ncube=1,  transform=None, pre_transform=None, \n",
    "                 load_path='../../../../tigress/mcranmer/merger_trees/',\n",
    "                ):\n",
    "        \n",
    "        self.ndat=ndat\n",
    "        self.ncube=ncube\n",
    "        self.load_path=load_path\n",
    "        self.root=root\n",
    "        self.case=case\n",
    "        super().__init__(root, transform, pre_transform)\n",
    "    \n",
    "    ### Implement a method to remove and redo dataset ### \n",
    "    \n",
    "    @property\n",
    "    def raw_dir(self):\n",
    "        return self.load_path\n",
    "    \n",
    "    @property\n",
    "    def raw_file_names(self):\n",
    "        return [osp.join(self.root,self.case,'processed','data_'+str(x)+'.dat') for x in range(self.ndat)]\n",
    "\n",
    "    @property\n",
    "    def processed_file_names(self):\n",
    "        return [osp.join(self.root,self.case,'processed','data_'+str(x)+'.dat') for x in range(self.ndat)]\n",
    "\n",
    "    def download(self):\n",
    "        # Download to `self.raw_dir`.\n",
    "        self.check_folder()\n",
    "        loadhalo, loadgal=[], []\n",
    "        for i in range(self.ncube):\n",
    "            for j in range(self.ncube):\n",
    "                for k in range(self.ncube):\n",
    "                    loadhalo.append(self.load_path+f'isotrees/isotree_{i}_{j}_{k}.dat')\n",
    "                    loadgal.append(self.load_path+f'/samout/{i}_{j}_{k}/galprop_0-99.dat')\n",
    "        print('Got filenames')\n",
    "        return loadhalo, loadgal\n",
    "    \n",
    "    def check_folder(self):\n",
    "        cpath=osp.join(self.root, self.case)\n",
    "        if not osp.exists(cpath):\n",
    "            os.makedirs(cpath)\n",
    "            print('Folder made')\n",
    "        else:\n",
    "            print(self.case+' case folder already exist')\n",
    "        \n",
    "    def process(self):\n",
    "        m=0    \n",
    "        halopaths, galpaths = self.download()\n",
    "        for hp, gp in tqdm(zip(halopaths, galpaths), total=len(galpaths)):\n",
    "            \n",
    "            print(f'Importing data {hp}')\n",
    "            pd1=pd.read_table(hp, skiprows=0, delimiter='\\s+') # may want to just import target, can't enforce dtype\n",
    "            raw=pd1.drop(axis=0, index=np.arange(50)).reset_index()\n",
    "            trees=raw[raw.isna()['A[z]']] \n",
    "            halos=raw[~raw.isna()['A[z]']] \n",
    "            ##### I might be able to shorten this a bit #####\n",
    "            f,i=\"float64\", \"int64\"\n",
    "            cs=[f,i,f,i,i,i,i,i,i,f,f,f,f,f,i,f,f,f,f,f,f,f,f,f,f,f]\n",
    "            dicts = {}\n",
    "            keys = halos.columns[1:26]\n",
    "            castto = cs\n",
    "            for i, key in enumerate(keys):\n",
    "                    dicts[key] = castto[i]\n",
    "\n",
    "            halos=halos.astype(dicts)\n",
    "            \n",
    "            ###### End ####\n",
    "            print('Splitting data')\n",
    "            spli=np.split(np.array(halos)[:,1:50], np.array(trees.iloc[1:].index)-np.arange(1,len(trees.index)))\n",
    "            split=[]\n",
    "            for s in tqdm(spli):\n",
    "                if np.log10(s[0,10])>10:\n",
    "                    split.append(s)\n",
    "            split=np.array(split, dtype=object)\n",
    "\n",
    "            #### Start making adjacency ####\n",
    "            def convert(d,p):\n",
    "                dfin=[]\n",
    "                if len(p)!=len(np.unique(p)):\n",
    "                    print('Wrong order of prog/desc')\n",
    "                else:\n",
    "                    no=d[0]\n",
    "                    for desc in d:\n",
    "                        if desc==no:\n",
    "                            dfin.append(0)\n",
    "                        else:\n",
    "                            dfin.append(p.index(desc)+1)\n",
    "                return dfin, np.arange(1, 1+len(p))\n",
    "            ####\n",
    "            print('Creating adjacency matrix')\n",
    "            de, pr = [], []\n",
    "            for k in tqdm(range(len(split))):\n",
    "                des, pro=[], []\n",
    "                for i, desc in enumerate(split[k][:,3]):\n",
    "                    if desc in split[k][:i,1]:\n",
    "                        des.append(int(desc))\n",
    "                        pro.append(int(split[k][i,1]))\n",
    "                desg, prog = convert(des,pro) #it needs to map halo 0,1,2,3 so on, not the true halo id\n",
    "                de.append(desg)\n",
    "                pr.append(prog)\n",
    "            print(f'Adjacency matrix {m} completed')\n",
    "            print(f'Loading targets')\n",
    "            ##getting the galaxy output\n",
    "            pdc=pd.read_table(gp, skiprows=0, delimiter=',', nrows=41, header=None)\n",
    "            newcols=pdc.iloc[:,0]\n",
    "            pds=pd.read_table(gp, skiprows=41, delimiter='\\s+', header=None) # may want to just import target\n",
    "            pds.columns=np.array(newcols)\n",
    "            pd0=pds[pds[pds.columns[3]]==0.00] # subhaloes\n",
    "            pdcen=pd0[(pd0[pds.columns[1]]==pd0[pds.columns[2]])] ##central haloes\n",
    "            \n",
    "            rhalid=np.array(pdcen[pds.columns[2]])\n",
    "            halwgal=[]\n",
    "            ids=[]\n",
    "            out=[]\n",
    "            print('Matching targets and data')\n",
    "            for i, tree in enumerate(split):\n",
    "                if tree[0,1] in rhalid:\n",
    "                    halwgal.append(np.hstack([tree[:,[0,2]],tree[:,9:]])) #redo class so that data columns can be chosen upon initialization\n",
    "                    ids.append(np.array(tree[0,1]))\n",
    "                    index=np.where(rhalid==tree[0,1])\n",
    "                    out.append(np.array(pdcen.iloc[index])[0][8]) #redo class so that target column(s) can be chosen upon initialization\n",
    "            halwgal=np.array(halwgal, dtype=object)\n",
    "            ids=np.array(ids)\n",
    "            out=np.log10(np.array(out))\n",
    "            dat=[]\n",
    "            for n in range(len(out)):\n",
    "                edge_index = torch.tensor([pr[n],\n",
    "                                           de[n]], dtype=torch.long)\n",
    "                x = torch.tensor(halwgal[n], dtype=torch.float)\n",
    "\n",
    "                y=torch.tensor(out[n], dtype=torch.float)\n",
    "                dat.append(Data(x=x, edge_index=edge_index, y=y, dtype=torch.float))\n",
    "            print('Saving dataset')\n",
    "            torch.save(dat, osp.join(self.root, self.case, f'data_{m}.pt'))\n",
    "            m+=1\n",
    "            \n",
    "    def len(self):\n",
    "        return len(self.processed_file_names)\n",
    "    \n",
    "    def get(self, i):\n",
    "        print(\"Reading data\")\n",
    "        data = torch.load(dat, osp.join(self.root, self.case, f'data_{i}.pt'))\n",
    "        return data"
   ]
  },
  {
   "cell_type": "code",
   "execution_count": null,
   "id": "68fb6a3b",
   "metadata": {},
   "outputs": [],
   "source": [
    "data=MTrees()"
   ]
  },
  {
   "cell_type": "code",
   "execution_count": null,
   "id": "2b8adda7",
   "metadata": {},
   "outputs": [],
   "source": [
    "torch.cuda.is_available()\n",
    "# device = torch.device('cuda')\n",
    "# data = data.to(device)"
   ]
  },
  {
   "cell_type": "code",
   "execution_count": null,
   "id": "be9886fe",
   "metadata": {},
   "outputs": [],
   "source": [
    "from torch_geometric.loader import DataLoader\n",
    "\n",
    "loader = DataLoader(data, batch_size=32)"
   ]
  },
  {
   "cell_type": "code",
   "execution_count": null,
   "id": "be736e18",
   "metadata": {},
   "outputs": [],
   "source": [
    "for batch in loader:\n",
    "    print(batch)"
   ]
  },
  {
   "cell_type": "code",
   "execution_count": null,
   "id": "5d246daa",
   "metadata": {},
   "outputs": [],
   "source": [
    "# Define our GCN class as a pytorch Module\n",
    "class GCN(torch.nn.Module):\n",
    "    def __init__(self, hidden_channels):\n",
    "        super(GCN, self).__init__()\n",
    "        # We inherit from pytorch geometric's GCN class, and we initialize three layers\n",
    "        self.conv1 = GCNConv(dataset.num_node_features, hidden_channels)\n",
    "        self.conv2 = GCNConv(hidden_channels, hidden_channels)\n",
    "        self.conv3 = GCNConv(hidden_channels, hidden_channels)\n",
    "        # Our final linear layer will define our output\n",
    "        self.lin = Linear(hidden_channels, dataset.num_classes)\n",
    "        \n",
    "    def forward(self, x, edge_index, batch):\n",
    "      # 1. Obtain node embeddings \n",
    "      x = self.conv1(x, edge_index)\n",
    "      x = x.relu()\n",
    "      x = self.conv2(x, edge_index)\n",
    "      x = x.relu()\n",
    "      x = self.conv3(x, edge_index)   \n",
    " \n",
    "      # 2. Readout layer\n",
    "      x = global_mean_pool(x, batch)  # [batch_size, hidden_channels]\n",
    " \n",
    "      # 3. Apply a final classifier\n",
    "      x = F.dropout(x, p=0.5, training=self.training)\n",
    "      x = self.lin(x)\n",
    "      return x\n",
    "    \n",
    "model = GCN(hidden_channels=64)"
   ]
  },
  {
   "cell_type": "code",
   "execution_count": 13,
   "id": "39cdad32",
   "metadata": {},
   "outputs": [],
   "source": [
    "# def convert(d,p):\n",
    "#     dfin=[]\n",
    "#     if len(p)!=len(np.unique(p)):\n",
    "#         print('Wrong order of prog/desc')\n",
    "#     else:\n",
    "#         no=d[0]\n",
    "#         for desc in d:\n",
    "#             if desc==no:\n",
    "#                 dfin.append(0)\n",
    "#             else:\n",
    "#                 dfin.append(p.index(desc)+1)\n",
    "#     return dfin, np.arange(1, 1+len(p))\n",
    "\n",
    "# deid, prid=[], [] ## making to and from list, list of descendants from list of progenitors in pytorch required style\n",
    "# de, pr = [], []\n",
    "# for k in tqdm(range(len(split))):\n",
    "#     des, pro=[], []\n",
    "#     for i, desc in enumerate(split[k][:,3]):\n",
    "#         if desc in split[k][:i,1]:\n",
    "#             des.append(int(desc))\n",
    "#             pro.append(int(split[k][i,1]))\n",
    "#     deid.append(des)\n",
    "#     prid.append(pro)\n",
    "#     desg, prog = convert(des,pro) #it needs to map halo 0,1,2,3 so on, not the true halo id\n",
    "#     de.append(desg)\n",
    "#     pr.append(prog)\n",
    "    "
   ]
  }
 ],
 "metadata": {
  "kernelspec": {
   "display_name": "Python 3 (ipykernel)",
   "language": "python",
   "name": "python3"
  },
  "language_info": {
   "codemirror_mode": {
    "name": "ipython",
    "version": 3
   },
   "file_extension": ".py",
   "mimetype": "text/x-python",
   "name": "python",
   "nbconvert_exporter": "python",
   "pygments_lexer": "ipython3",
   "version": "3.9.7"
  }
 },
 "nbformat": 4,
 "nbformat_minor": 5
}
