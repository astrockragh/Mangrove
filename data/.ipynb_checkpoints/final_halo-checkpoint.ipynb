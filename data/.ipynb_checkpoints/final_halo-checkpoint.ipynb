{
 "cells": [
  {
   "cell_type": "code",
   "execution_count": null,
   "id": "8e343427",
   "metadata": {},
   "outputs": [],
   "source": [
    "import torch, time, pickle,os\n",
    "import torch_geometric as tg\n",
    "from torch_geometric.data import Data\n",
    "import numpy as np\n",
    "import matplotlib.pyplot as plt\n",
    "import pandas as pd\n",
    "from tqdm import tqdm\n",
    "import os.path as osp\n",
    "import networkx as nx\n",
    "case=f'vlarge_all_allt_z0.0_quantile_raw_rm'\n",
    "data=pickle.load(open(f'../../../../../scratch/gpfs/cj1223/GraphStorage/{case}/data.pkl', 'rb'))"
   ]
  },
  {
   "cell_type": "code",
   "execution_count": null,
   "id": "45a9cedd",
   "metadata": {},
   "outputs": [],
   "source": [
    "case=f'vlarge_all_t_quantile_raw_rm_final'\n",
    "dat=[]\n",
    "for d in tqdm(data, total=len(data)):\n",
    "    hals=d.x.numpy()[0]\n",
    "    \n",
    "    desc, progs=[0],[0]\n",
    "    edge_index = torch.tensor([progs, desc], dtype=torch.long)\n",
    "    x = torch.tensor([hals], dtype=torch.float)\n",
    "    y=d.y\n",
    "    graph=Data(x=x, edge_index=edge_index, y=y)\n",
    "    dat.append(graph)\n",
    "print(\"Saving dataset\")\n",
    "if not osp.exists(f'../../../../../scratch/gpfs/cj1223/GraphStorage/{case}'):\n",
    "    os.mkdir(f'../../../../../scratch/gpfs/cj1223/GraphStorage/{case}')\n",
    "\n",
    "with open(f'../../../../../scratch/gpfs/cj1223/GraphStorage/{case}/data.pkl', 'wb') as handle:\n",
    "    pickle.dump(dat, handle)"
   ]
  },
  {
   "cell_type": "code",
   "execution_count": null,
   "id": "5aed1386",
   "metadata": {},
   "outputs": [],
   "source": [
    "import os\n",
    "os.listdir('../../../../../scratch/gpfs/cj1223/GraphStorage/')"
   ]
  },
  {
   "cell_type": "code",
   "execution_count": 5,
   "id": "f6b2bf42",
   "metadata": {},
   "outputs": [
    {
     "data": {
      "text/plain": [
       "tensor([-1.1133,  1.5726, -0.6220, -2.8989])"
      ]
     },
     "execution_count": 5,
     "metadata": {},
     "output_type": "execute_result"
    }
   ],
   "source": [
    "dat[0].y"
   ]
  }
 ],
 "metadata": {
  "kernelspec": {
   "display_name": "Python 3 (ipykernel)",
   "language": "python",
   "name": "python3"
  },
  "language_info": {
   "codemirror_mode": {
    "name": "ipython",
    "version": 3
   },
   "file_extension": ".py",
   "mimetype": "text/x-python",
   "name": "python",
   "nbconvert_exporter": "python",
   "pygments_lexer": "ipython3",
   "version": "3.9.7"
  }
 },
 "nbformat": 4,
 "nbformat_minor": 5
}
