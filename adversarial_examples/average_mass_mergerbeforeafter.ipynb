{
 "cells": [
  {
   "cell_type": "code",
   "execution_count": 4,
   "id": "a556f73c",
   "metadata": {},
   "outputs": [],
   "source": [
    "import torch, time, pickle,os\n",
    "import torch_geometric as tg\n",
    "from torch_geometric.data import Data\n",
    "import numpy as np\n",
    "import matplotlib.pyplot as plt\n",
    "import pandas as pd\n",
    "from tqdm import tqdm\n",
    "import os.path as osp\n",
    "import networkx as nx"
   ]
  },
  {
   "cell_type": "code",
   "execution_count": 5,
   "id": "899a18ac",
   "metadata": {},
   "outputs": [],
   "source": [
    "def convert(d,p):\n",
    "    dfin=[]\n",
    "    if len(p)!=len(np.unique(p)):\n",
    "        print('Wrong order of prog/desc')\n",
    "    else:\n",
    "        no=d[0]\n",
    "        for desc in d:\n",
    "            if desc==no:\n",
    "                dfin.append(0)\n",
    "            else:\n",
    "                dfin.append(p.index(desc)+1)\n",
    "    return dfin, np.arange(1, 1+len(p))"
   ]
  },
  {
   "cell_type": "code",
   "execution_count": 8,
   "id": "6fac7f35",
   "metadata": {},
   "outputs": [],
   "source": [
    "#should it be log for output\n",
    "def graphs_beforeafter(tcols=[0,2,4,5,6,7,8,10,22], target=8, save=False, lim=10.5, case='test', transform='quantile', maxs=[1,1,1]):\n",
    "    ##all the requirements\n",
    "    dat=[]\n",
    "    tcols=np.array(tcols)\n",
    "    raw_path='~/../../../tigress/mcranmer/merger_trees/isotrees/'\n",
    "    target_path='~/../../../tigress/mcranmer/merger_trees/samout/'\n",
    "    transform_path=f'../../../../../scratch/gpfs/cj1223/GraphStorage/transformers/{transform}_allfeat.pkl'\n",
    "    scaler=pickle.load(open(transform_path, 'rb'))\n",
    "    not_include=np.array([0,1,0,1,0,1,1,1,1,1,0,0,0,0,0,0,0,0,0,0,0,0,0,0,0,0,0,0,0,0,0,0,0,0,0,0,0,0,0,0,0,0,0,0,0,0,0,0,0,\\\n",
    "        0,0,0,0,0,0,0,0,0,0,0])  ##needs update\n",
    "    is_cat=[0,1,0,1,1,1,1,1,1,0,0,0,0,0,1,0,0,0,0,0,0,0,0,0,0,0,0,1,1,1,1,1,1,1,1,0,1,0,0,0,0,0,0,0,0,0,0,0,0,\\\n",
    "        0,0,0,0,0,0,0,0,0,0,0]\n",
    "    is_cat=np.array([bool(i) for i in is_cat])\n",
    "    icols=np.array([1,3]) #index columns\n",
    "    load_cols=np.sort(np.concatenate([tcols,icols]))\n",
    "    not_include=not_include[load_cols] \n",
    "    print(f'Loading {maxs[0]*maxs[1]*maxs[2]} isotrees')\n",
    "    for i in range(0, maxs[0]):\n",
    "            for j in range(0,maxs[1]):\n",
    "                for k in range(0, maxs[2]):\n",
    "                    ###Start loading\n",
    "                    start=time.time()\n",
    "                    print(f'Loading isotree {i}_{j}_{k}')\n",
    "\n",
    "                    pd1=pd.read_table(raw_path+f'isotree_{i}_{j}_{k}.dat', skiprows=0, delimiter='\\s+', usecols=load_cols)\n",
    "                    print(f'isotree {i}_{j}_{k} loaded, restructuring')\n",
    "\n",
    "                    raw=pd1.drop(axis=0, index=np.arange(50)).reset_index()\n",
    "                    del pd1\n",
    "\n",
    "                    trees=raw[raw.isna()['desc_id(3)']] \n",
    "                    halos=raw[~raw.isna()['desc_id(3)']]\n",
    "                    del raw\n",
    "                    \n",
    "                    ##########################################\n",
    "                    ### End loading, begin dtype changing  ###\n",
    "                    ##########################################\n",
    "                    \n",
    "                    mask=halos.dtypes.values[1:]=='O'\n",
    "\n",
    "                    f,it=\"float64\", \"int64\"\n",
    "                    map1=[]\n",
    "                    map2=[]\n",
    "                    q=0\n",
    "                    for l in load_cols:\n",
    "                        q+=1\n",
    "                        if l<25:\n",
    "                            map1.append(l)\n",
    "                            map2.append(q)\n",
    "                    map1=np.array(map1)\n",
    "                    map2=np.array(map2)\n",
    "\n",
    "                    castto=np.array([f,it,f,it,it,it,it,it,it,f,f,f,f,f,it,f,f,f,f,f,f,f,f,f,f])\n",
    "\n",
    "                    castto=castto[map1]\n",
    "                    dicts = {}\n",
    "                    keys = halos.columns[map2]\n",
    "                    for d, key in enumerate(keys):\n",
    "                            dicts[key] = castto[d]\n",
    "\n",
    "                    halos=halos.astype(dicts)\n",
    "                    \n",
    "                    ###################################################\n",
    "                    ### end dtype, begin inital hardcoded scaling   ###\n",
    "                    ###################################################\n",
    "                    \n",
    "                    hard=[0,2,15]\n",
    "                    def logit(x):\n",
    "                        return np.log10((x+0.001)/(1.01-x))\n",
    "                    ##logit transform the hards\n",
    "                    for h in hard:\n",
    "                        if h in tcols:\n",
    "                            h1=np.where(load_cols==h)[0][0]+1\n",
    "                            halos[halos.columns[h1]]=logit(halos[halos.columns[h1]])\n",
    "\n",
    "                    log=[10,38, 39, 40, 41, 42]\n",
    "\n",
    "                    def logt(x):\n",
    "                        return np.log10(x+1)\n",
    "                    for l in log:\n",
    "                        if l in tcols:\n",
    "                            l1=np.where(load_cols==l)[0][0]+1\n",
    "                            halos[halos.columns[l1]]=logt(halos[halos.columns[l1]])\n",
    "                    \n",
    "                    ###################################################\n",
    "                    ### Begin scaling and splitting to trees.       ###\n",
    "                    ###################################################\n",
    "\n",
    "                    scale_cols=np.array(tcols[~is_cat[tcols]])\n",
    "                    \n",
    "                    print(f'Splitting to tree and scaling')\n",
    "                    spli=np.split(np.array(halos)[:,1:], np.array(trees.iloc[1:].index)-np.arange(1,len(trees.index)))\n",
    "                    splits=[]\n",
    "                    for s in spli:\n",
    "                        if s[0,np.where(load_cols==10)[0][0]]>lim:\n",
    "                            splits.append(s)\n",
    "                    splits=np.array(splits, dtype=object)\n",
    "                    split=[]\n",
    "                    idx=[]\n",
    "                    for m, tree in enumerate(splits):\n",
    "                        s=tree[np.logical_or(tree[:,3] == -1,tree[:,4]!=1)]\n",
    "                        if len(s)>20000:\n",
    "                            print(len(s))\n",
    "                        else:\n",
    "                            for n in scale_cols:\n",
    "                                n1=np.where(load_cols==n)[0][0]\n",
    "                                s[:,n1]=scaler[n].transform(s[:,n1].reshape(-1,1)).reshape(np.shape(s[:,n1]))\n",
    "\n",
    "                            split.append(s)\n",
    "                            idx.append(m)\n",
    "                    split=np.array(split, dtype=object)\n",
    "                    print('Split done')\n",
    "\n",
    "                    halwgal=split\n",
    "                    hraw=np.array(splits[idx], dtype=object)\n",
    "                    \n",
    "                    ###################################################\n",
    "                    ### Making the actual merger tree       ###\n",
    "                    ###################################################\n",
    "                    \n",
    "                    hals=[]\n",
    "                    out=[]\n",
    "                    pr,de=[],[]\n",
    "                    discards=[]\n",
    "                    print('Making merger tree')\n",
    "                    for n in tqdm(range(len(halwgal))):\n",
    "                        h=halwgal[n]\n",
    "                        roots=h[h[:,4]==0]\n",
    "                        mergers=h[h[:,4]>1]\n",
    "                        final=h[h[:,3]==-1]\n",
    "                        pro, des=[],[]\n",
    "                        discarded=[]\n",
    "                        for mid in mergers[:,1]:\n",
    "                            k=1 ## counts number of contracted edges\n",
    "                            ##descendant ID of raw where the id of the merger is\n",
    "                            descid=hraw[n][:,3][np.where(mid==hraw[n][:,1])]\n",
    "                            while descid not in mergers[:,1] and descid!=-1: \n",
    "                                k+=1\n",
    "                                descid=hraw[n][:,3][np.where(descid==hraw[n][:,1])]\n",
    "                            pro.append(mid)\n",
    "                            if descid!=-1:\n",
    "                                des.append(descid[0])\n",
    "                            else:\n",
    "                                des.append(hraw[n][:,3][np.where(mid==hraw[n][:,1])][0])\n",
    "                            discarded.append(1/k) ## adding 1/k so it stays bounded\n",
    "\n",
    "                        for r in roots:\n",
    "                            descid=hraw[n][:,3][np.where(r[1]==hraw[n][:,1])] \n",
    "                            k=1\n",
    "                            while descid not in mergers[:,1] and descid!=[-1]: ##could add 1/k\n",
    "                                k+=1\n",
    "                                descid=hraw[n][:,3][np.where(descid==hraw[n][:,1])]#consider adding the number of steps it went through\n",
    "                            pro.append(r[1])\n",
    "                            if descid!=-1:\n",
    "                                des.append(descid[0])\n",
    "                            else:\n",
    "                                des.append(hraw[n][:,3][np.where(r[1]==hraw[n][:,1])][0])\n",
    "                            discarded.append(1/k) \n",
    "                        discards.append(np.array(discarded))\n",
    "                        des,pro=convert(des, pro)\n",
    "                        hal2=np.vstack([final,mergers,roots])\n",
    "                        if n==0:\n",
    "                            ##choose columns to carry forward\n",
    "                            fcols=[i for i in range(len(hal2[0])) if not_include[i]==0] \n",
    "                            mask=np.array([bool(i) for i in not_include])\n",
    "                            idcols=load_cols[~mask]\n",
    "                            mass_id=np.where(np.array(idcols)==10)[0][0]\n",
    "                            fcols=np.array(fcols)\n",
    "                        hal2=hal2[:,fcols] ##take away id's and such\n",
    "                        hals.append(hal2)\n",
    "                        froms=[int(p) for p in pro]\n",
    "                        tos=[int(d) for d in des]\n",
    "                        pr.append(froms)\n",
    "                        de.append(tos)\n",
    "                        av=0\n",
    "                        for n in np.unique(tos):\n",
    "                            m_f=hal2[n, mass_id]\n",
    "                            m_in=hal2[np.array(froms)[np.where(tos==n)], mass_id]\n",
    "                            av+=abs(m_f - np.sum(m_in))\n",
    "                    #     avs.append(av) \n",
    "                        out.append(np.log10(av)) ## should log be right???\n",
    "                    hals=np.array(hals,dtype=object)\n",
    "                    out=np.array(out)\n",
    "                    for n in tqdm(range(len(out))):\n",
    "                        edge_index = torch.tensor([pr[n],de[n]], dtype=torch.long)\n",
    "                        x = torch.tensor(hals[n], dtype=torch.float)\n",
    "\n",
    "                        y=torch.tensor(out[n], dtype=torch.float)\n",
    "                        edge_attr=torch.tensor(discards[n], dtype=torch.float)\n",
    "                        graph=Data(x=x, edge_index=edge_index, edge_attr=edge_attr, y=y)\n",
    "                        dat.append(graph)\n",
    "                    stop=time.time()\n",
    "                    print(f'Done with tree. \\n Time elapsed {stop-start} s')\n",
    "    if save:\n",
    "        print(\"Saving dataset\")\n",
    "        if not osp.exists(f'../../../../../scratch/gpfs/cj1223/GraphStorage/{case}'):\n",
    "            os.mkdir(f'../../../../../scratch/gpfs/cj1223/GraphStorage/{case}')\n",
    "\n",
    "        with open(f'../../../../../scratch/gpfs/cj1223/GraphStorage/{case}/data.pkl', 'wb') as handle:\n",
    "            pickle.dump(dat, handle)\n",
    "    return dat\n"
   ]
  },
  {
   "cell_type": "code",
   "execution_count": 17,
   "id": "a420ef51",
   "metadata": {},
   "outputs": [
    {
     "name": "stdout",
     "output_type": "stream",
     "text": [
      "Loading 18 isotrees\n",
      "Loading isotree 0_0_0\n"
     ]
    },
    {
     "name": "stderr",
     "output_type": "stream",
     "text": [
      "/tmp/ipykernel_31873/3639148610.py:4: DtypeWarning: Columns (0,1,2,3,4,5,6,7,8,10,11,12,13,14,15,16,17,18,19,20,21,22,23,24) have mixed types.Specify dtype option on import or set low_memory=False.\n",
      "  dat =graphs_beforeafter(tcols=all_cols, maxs=[2,3,3], lim=10, save=1, case='medium_beforeafter')\n"
     ]
    },
    {
     "name": "stdout",
     "output_type": "stream",
     "text": [
      "isotree 0_0_0 loaded, restructuring\n",
      "Splitting to tree and scaling\n",
      "Split done\n",
      "Making merger tree\n"
     ]
    },
    {
     "name": "stderr",
     "output_type": "stream",
     "text": [
      "100%|█████████████████████████████████████████████████████████████| 770/770 [01:11<00:00, 10.84it/s]\n",
      "100%|██████████████████████████████████████████████████████████| 770/770 [00:00<00:00, 14406.92it/s]\n"
     ]
    },
    {
     "name": "stdout",
     "output_type": "stream",
     "text": [
      "Done with tree. \n",
      " Time elapsed 153.25742173194885 s\n",
      "Loading isotree 0_0_1\n"
     ]
    },
    {
     "name": "stderr",
     "output_type": "stream",
     "text": [
      "/tmp/ipykernel_31873/3639148610.py:4: DtypeWarning: Columns (0,1,2,3,4,5,6,7,8,10,11,12,13,14,15,16,17,18,19,20,21,22,23,24) have mixed types.Specify dtype option on import or set low_memory=False.\n",
      "  dat =graphs_beforeafter(tcols=all_cols, maxs=[2,3,3], lim=10, save=1, case='medium_beforeafter')\n"
     ]
    },
    {
     "name": "stdout",
     "output_type": "stream",
     "text": [
      "isotree 0_0_1 loaded, restructuring\n",
      "Splitting to tree and scaling\n",
      "Split done\n",
      "Making merger tree\n"
     ]
    },
    {
     "name": "stderr",
     "output_type": "stream",
     "text": [
      "100%|███████████████████████████████████████████████████████████| 1339/1339 [03:50<00:00,  5.82it/s]\n",
      "100%|████████████████████████████████████████████████████████| 1339/1339 [00:00<00:00, 11098.76it/s]\n"
     ]
    },
    {
     "name": "stdout",
     "output_type": "stream",
     "text": [
      "Done with tree. \n",
      " Time elapsed 425.0885524749756 s\n",
      "Loading isotree 0_0_2\n"
     ]
    },
    {
     "name": "stderr",
     "output_type": "stream",
     "text": [
      "/tmp/ipykernel_31873/3639148610.py:4: DtypeWarning: Columns (0,1,2,3,4,5,6,7,8,10,11,12,13,14,15,16,17,18,19,20,21,22,23,24) have mixed types.Specify dtype option on import or set low_memory=False.\n",
      "  dat =graphs_beforeafter(tcols=all_cols, maxs=[2,3,3], lim=10, save=1, case='medium_beforeafter')\n"
     ]
    },
    {
     "name": "stdout",
     "output_type": "stream",
     "text": [
      "isotree 0_0_2 loaded, restructuring\n",
      "Splitting to tree and scaling\n",
      "72404\n",
      "60368\n",
      "26084\n",
      "29167\n",
      "Split done\n",
      "Making merger tree\n"
     ]
    },
    {
     "name": "stderr",
     "output_type": "stream",
     "text": [
      "100%|███████████████████████████████████████████████████████████| 1474/1474 [03:33<00:00,  6.91it/s]\n",
      "100%|█████████████████████████████████████████████████████████| 1474/1474 [00:00<00:00, 6302.02it/s]\n"
     ]
    },
    {
     "name": "stdout",
     "output_type": "stream",
     "text": [
      "Done with tree. \n",
      " Time elapsed 481.29556107521057 s\n",
      "Loading isotree 0_1_0\n"
     ]
    },
    {
     "name": "stderr",
     "output_type": "stream",
     "text": [
      "/tmp/ipykernel_31873/3639148610.py:4: DtypeWarning: Columns (0,1,2,3,4,5,6,7,8,10,11,12,13,14,15,16,17,18,19,20,21,22,23,24) have mixed types.Specify dtype option on import or set low_memory=False.\n",
      "  dat =graphs_beforeafter(tcols=all_cols, maxs=[2,3,3], lim=10, save=1, case='medium_beforeafter')\n"
     ]
    },
    {
     "name": "stdout",
     "output_type": "stream",
     "text": [
      "isotree 0_1_0 loaded, restructuring\n",
      "Splitting to tree and scaling\n",
      "70472\n",
      "Split done\n",
      "Making merger tree\n"
     ]
    },
    {
     "name": "stderr",
     "output_type": "stream",
     "text": [
      "100%|███████████████████████████████████████████████████████████| 1129/1129 [03:13<00:00,  5.83it/s]\n",
      "100%|████████████████████████████████████████████████████████| 1129/1129 [00:00<00:00, 11032.27it/s]\n"
     ]
    },
    {
     "name": "stdout",
     "output_type": "stream",
     "text": [
      "Done with tree. \n",
      " Time elapsed 376.74906158447266 s\n",
      "Loading isotree 0_1_1\n"
     ]
    },
    {
     "name": "stderr",
     "output_type": "stream",
     "text": [
      "/tmp/ipykernel_31873/3639148610.py:4: DtypeWarning: Columns (0,1,2,3,4,5,6,7,8,10,11,12,13,14,15,16,17,18,19,20,21,22,23,24) have mixed types.Specify dtype option on import or set low_memory=False.\n",
      "  dat =graphs_beforeafter(tcols=all_cols, maxs=[2,3,3], lim=10, save=1, case='medium_beforeafter')\n"
     ]
    },
    {
     "name": "stdout",
     "output_type": "stream",
     "text": [
      "isotree 0_1_1 loaded, restructuring\n",
      "Splitting to tree and scaling\n",
      "70115\n",
      "52207\n",
      "43321\n",
      "25280\n",
      "381538\n",
      "Split done\n",
      "Making merger tree\n"
     ]
    },
    {
     "name": "stderr",
     "output_type": "stream",
     "text": [
      "100%|███████████████████████████████████████████████████████████| 1935/1935 [03:22<00:00,  9.55it/s]\n",
      "100%|████████████████████████████████████████████████████████| 1935/1935 [00:00<00:00, 11319.66it/s]\n"
     ]
    },
    {
     "name": "stdout",
     "output_type": "stream",
     "text": [
      "Done with tree. \n",
      " Time elapsed 653.696807384491 s\n",
      "Loading isotree 0_1_2\n"
     ]
    },
    {
     "name": "stderr",
     "output_type": "stream",
     "text": [
      "/tmp/ipykernel_31873/3639148610.py:4: DtypeWarning: Columns (0,1,2,3,4,5,6,7,8,10,11,12,13,14,15,16,17,18,19,20,21,22,23,24) have mixed types.Specify dtype option on import or set low_memory=False.\n",
      "  dat =graphs_beforeafter(tcols=all_cols, maxs=[2,3,3], lim=10, save=1, case='medium_beforeafter')\n"
     ]
    },
    {
     "name": "stdout",
     "output_type": "stream",
     "text": [
      "isotree 0_1_2 loaded, restructuring\n",
      "Splitting to tree and scaling\n",
      "Split done\n",
      "Making merger tree\n"
     ]
    },
    {
     "name": "stderr",
     "output_type": "stream",
     "text": [
      "100%|█████████████████████████████████████████████████████████████| 605/605 [00:20<00:00, 29.31it/s]\n",
      "100%|██████████████████████████████████████████████████████████| 605/605 [00:00<00:00, 13840.47it/s]\n"
     ]
    },
    {
     "name": "stdout",
     "output_type": "stream",
     "text": [
      "Done with tree. \n",
      " Time elapsed 105.32913327217102 s\n",
      "Loading isotree 0_2_0\n"
     ]
    },
    {
     "name": "stderr",
     "output_type": "stream",
     "text": [
      "/tmp/ipykernel_31873/3639148610.py:4: DtypeWarning: Columns (0,1,2,3,4,5,6,7,8,10,11,12,13,14,15,16,17,18,19,20,21,22,23,24) have mixed types.Specify dtype option on import or set low_memory=False.\n",
      "  dat =graphs_beforeafter(tcols=all_cols, maxs=[2,3,3], lim=10, save=1, case='medium_beforeafter')\n"
     ]
    },
    {
     "name": "stdout",
     "output_type": "stream",
     "text": [
      "isotree 0_2_0 loaded, restructuring\n",
      "Splitting to tree and scaling\n",
      "Split done\n",
      "Making merger tree\n"
     ]
    },
    {
     "name": "stderr",
     "output_type": "stream",
     "text": [
      "100%|███████████████████████████████████████████████████████████| 1176/1176 [03:29<00:00,  5.61it/s]\n",
      "100%|████████████████████████████████████████████████████████| 1176/1176 [00:00<00:00, 12075.58it/s]\n"
     ]
    },
    {
     "name": "stdout",
     "output_type": "stream",
     "text": [
      "Done with tree. \n",
      " Time elapsed 393.26124334335327 s\n",
      "Loading isotree 0_2_1\n"
     ]
    },
    {
     "name": "stderr",
     "output_type": "stream",
     "text": [
      "/tmp/ipykernel_31873/3639148610.py:4: DtypeWarning: Columns (0,1,2,3,4,5,6,7,8,10,11,12,13,14,15,16,17,18,19,20,21,22,23,24) have mixed types.Specify dtype option on import or set low_memory=False.\n",
      "  dat =graphs_beforeafter(tcols=all_cols, maxs=[2,3,3], lim=10, save=1, case='medium_beforeafter')\n"
     ]
    },
    {
     "name": "stdout",
     "output_type": "stream",
     "text": [
      "isotree 0_2_1 loaded, restructuring\n",
      "Splitting to tree and scaling\n",
      "50415\n",
      "Split done\n",
      "Making merger tree\n"
     ]
    },
    {
     "name": "stderr",
     "output_type": "stream",
     "text": [
      "100%|███████████████████████████████████████████████████████████| 1289/1289 [02:54<00:00,  7.40it/s]\n",
      "100%|█████████████████████████████████████████████████████████| 1289/1289 [00:00<00:00, 5363.63it/s]\n"
     ]
    },
    {
     "name": "stdout",
     "output_type": "stream",
     "text": [
      "Done with tree. \n",
      " Time elapsed 400.48172211647034 s\n",
      "Loading isotree 0_2_2\n"
     ]
    },
    {
     "name": "stderr",
     "output_type": "stream",
     "text": [
      "/tmp/ipykernel_31873/3639148610.py:4: DtypeWarning: Columns (0,1,2,3,4,5,6,7,8,10,11,12,13,14,15,16,17,18,19,20,21,22,23,24) have mixed types.Specify dtype option on import or set low_memory=False.\n",
      "  dat =graphs_beforeafter(tcols=all_cols, maxs=[2,3,3], lim=10, save=1, case='medium_beforeafter')\n"
     ]
    },
    {
     "name": "stdout",
     "output_type": "stream",
     "text": [
      "isotree 0_2_2 loaded, restructuring\n",
      "Splitting to tree and scaling\n",
      "43429\n",
      "Split done\n",
      "Making merger tree\n"
     ]
    },
    {
     "name": "stderr",
     "output_type": "stream",
     "text": [
      "100%|█████████████████████████████████████████████████████████████| 807/807 [01:06<00:00, 12.06it/s]\n",
      "100%|██████████████████████████████████████████████████████████| 807/807 [00:00<00:00, 13780.54it/s]\n"
     ]
    },
    {
     "name": "stdout",
     "output_type": "stream",
     "text": [
      "Done with tree. \n",
      " Time elapsed 216.85549449920654 s\n",
      "Loading isotree 1_0_0\n"
     ]
    },
    {
     "name": "stderr",
     "output_type": "stream",
     "text": [
      "/tmp/ipykernel_31873/3639148610.py:4: DtypeWarning: Columns (0,1,2,3,4,5,6,7,8,10,11,12,13,14,15,16,17,18,19,20,21,22,23,24) have mixed types.Specify dtype option on import or set low_memory=False.\n",
      "  dat =graphs_beforeafter(tcols=all_cols, maxs=[2,3,3], lim=10, save=1, case='medium_beforeafter')\n"
     ]
    },
    {
     "name": "stdout",
     "output_type": "stream",
     "text": [
      "isotree 1_0_0 loaded, restructuring\n",
      "Splitting to tree and scaling\n",
      "148608\n",
      "24297\n",
      "20509\n",
      "Split done\n",
      "Making merger tree\n"
     ]
    },
    {
     "name": "stderr",
     "output_type": "stream",
     "text": [
      "100%|███████████████████████████████████████████████████████████| 1811/1811 [04:59<00:00,  6.06it/s]\n",
      "100%|████████████████████████████████████████████████████████| 1811/1811 [00:00<00:00, 11530.72it/s]\n"
     ]
    },
    {
     "name": "stdout",
     "output_type": "stream",
     "text": [
      "Done with tree. \n",
      " Time elapsed 677.8992803096771 s\n",
      "Loading isotree 1_0_1\n"
     ]
    },
    {
     "name": "stderr",
     "output_type": "stream",
     "text": [
      "/tmp/ipykernel_31873/3639148610.py:4: DtypeWarning: Columns (0,1,2,3,4,5,6,7,8,10,11,12,13,14,15,16,17,18,19,20,21,22,23,24) have mixed types.Specify dtype option on import or set low_memory=False.\n",
      "  dat =graphs_beforeafter(tcols=all_cols, maxs=[2,3,3], lim=10, save=1, case='medium_beforeafter')\n"
     ]
    },
    {
     "name": "stdout",
     "output_type": "stream",
     "text": [
      "isotree 1_0_1 loaded, restructuring\n",
      "Splitting to tree and scaling\n",
      "48501\n",
      "36387\n",
      "36580\n",
      "Split done\n",
      "Making merger tree\n"
     ]
    },
    {
     "name": "stderr",
     "output_type": "stream",
     "text": [
      "100%|███████████████████████████████████████████████████████████| 1101/1101 [02:11<00:00,  8.36it/s]\n",
      "100%|████████████████████████████████████████████████████████| 1101/1101 [00:00<00:00, 11958.93it/s]\n"
     ]
    },
    {
     "name": "stdout",
     "output_type": "stream",
     "text": [
      "Done with tree. \n",
      " Time elapsed 364.7756426334381 s\n",
      "Loading isotree 1_0_2\n"
     ]
    },
    {
     "name": "stderr",
     "output_type": "stream",
     "text": [
      "/tmp/ipykernel_31873/3639148610.py:4: DtypeWarning: Columns (0,1,2,3,4,5,6,7,8,10,11,12,13,14,15,16,17,18,19,20,21,22,23,24) have mixed types.Specify dtype option on import or set low_memory=False.\n",
      "  dat =graphs_beforeafter(tcols=all_cols, maxs=[2,3,3], lim=10, save=1, case='medium_beforeafter')\n"
     ]
    },
    {
     "name": "stdout",
     "output_type": "stream",
     "text": [
      "isotree 1_0_2 loaded, restructuring\n",
      "Splitting to tree and scaling\n",
      "Split done\n",
      "Making merger tree\n"
     ]
    },
    {
     "name": "stderr",
     "output_type": "stream",
     "text": [
      "100%|█████████████████████████████████████████████████████████████| 668/668 [00:48<00:00, 13.89it/s]\n",
      "100%|██████████████████████████████████████████████████████████| 668/668 [00:00<00:00, 15372.60it/s]\n"
     ]
    },
    {
     "name": "stdout",
     "output_type": "stream",
     "text": [
      "Done with tree. \n",
      " Time elapsed 148.70369935035706 s\n",
      "Loading isotree 1_1_0\n"
     ]
    },
    {
     "name": "stderr",
     "output_type": "stream",
     "text": [
      "/tmp/ipykernel_31873/3639148610.py:4: DtypeWarning: Columns (0,1,2,3,4,5,6,7,8,10,11,12,13,14,15,16,17,18,19,20,21,22,23,24) have mixed types.Specify dtype option on import or set low_memory=False.\n",
      "  dat =graphs_beforeafter(tcols=all_cols, maxs=[2,3,3], lim=10, save=1, case='medium_beforeafter')\n"
     ]
    },
    {
     "name": "stdout",
     "output_type": "stream",
     "text": [
      "isotree 1_1_0 loaded, restructuring\n",
      "Splitting to tree and scaling\n",
      "Split done\n",
      "Making merger tree\n"
     ]
    },
    {
     "name": "stderr",
     "output_type": "stream",
     "text": [
      "100%|█████████████████████████████████████████████████████████████| 899/899 [01:35<00:00,  9.40it/s]\n",
      "100%|██████████████████████████████████████████████████████████| 899/899 [00:00<00:00, 12219.34it/s]\n"
     ]
    },
    {
     "name": "stdout",
     "output_type": "stream",
     "text": [
      "Done with tree. \n",
      " Time elapsed 232.79126739501953 s\n",
      "Loading isotree 1_1_1\n"
     ]
    },
    {
     "name": "stderr",
     "output_type": "stream",
     "text": [
      "/tmp/ipykernel_31873/3639148610.py:4: DtypeWarning: Columns (0,1,2,3,4,5,6,7,8,10,11,12,13,14,15,16,17,18,19,20,21,22,23,24) have mixed types.Specify dtype option on import or set low_memory=False.\n",
      "  dat =graphs_beforeafter(tcols=all_cols, maxs=[2,3,3], lim=10, save=1, case='medium_beforeafter')\n"
     ]
    },
    {
     "name": "stdout",
     "output_type": "stream",
     "text": [
      "isotree 1_1_1 loaded, restructuring\n",
      "Splitting to tree and scaling\n",
      "Split done\n",
      "Making merger tree\n"
     ]
    },
    {
     "name": "stderr",
     "output_type": "stream",
     "text": [
      "100%|███████████████████████████████████████████████████████████| 1033/1033 [02:16<00:00,  7.57it/s]\n",
      "100%|████████████████████████████████████████████████████████| 1033/1033 [00:00<00:00, 10408.80it/s]\n"
     ]
    },
    {
     "name": "stdout",
     "output_type": "stream",
     "text": [
      "Done with tree. \n",
      " Time elapsed 305.2985770702362 s\n",
      "Loading isotree 1_1_2\n"
     ]
    },
    {
     "name": "stderr",
     "output_type": "stream",
     "text": [
      "/tmp/ipykernel_31873/3639148610.py:4: DtypeWarning: Columns (0,1,2,3,4,5,6,7,8,10,11,12,13,14,15,16,17,18,19,20,21,22,23,24) have mixed types.Specify dtype option on import or set low_memory=False.\n",
      "  dat =graphs_beforeafter(tcols=all_cols, maxs=[2,3,3], lim=10, save=1, case='medium_beforeafter')\n"
     ]
    },
    {
     "name": "stdout",
     "output_type": "stream",
     "text": [
      "isotree 1_1_2 loaded, restructuring\n",
      "Splitting to tree and scaling\n",
      "51944\n",
      "Split done\n",
      "Making merger tree\n"
     ]
    },
    {
     "name": "stderr",
     "output_type": "stream",
     "text": [
      "100%|███████████████████████████████████████████████████████████| 1286/1286 [02:55<00:00,  7.34it/s]\n",
      "100%|█████████████████████████████████████████████████████████| 1286/1286 [00:00<00:00, 4370.64it/s]\n"
     ]
    },
    {
     "name": "stdout",
     "output_type": "stream",
     "text": [
      "Done with tree. \n",
      " Time elapsed 410.2476408481598 s\n",
      "Loading isotree 1_2_0\n"
     ]
    },
    {
     "name": "stderr",
     "output_type": "stream",
     "text": [
      "/tmp/ipykernel_31873/3639148610.py:4: DtypeWarning: Columns (0,1,2,3,4,5,6,7,8,10,11,12,13,14,15,16,17,18,19,20,21,22,23,24) have mixed types.Specify dtype option on import or set low_memory=False.\n",
      "  dat =graphs_beforeafter(tcols=all_cols, maxs=[2,3,3], lim=10, save=1, case='medium_beforeafter')\n"
     ]
    },
    {
     "name": "stdout",
     "output_type": "stream",
     "text": [
      "isotree 1_2_0 loaded, restructuring\n",
      "Splitting to tree and scaling\n",
      "Split done\n",
      "Making merger tree\n"
     ]
    },
    {
     "name": "stderr",
     "output_type": "stream",
     "text": [
      "100%|█████████████████████████████████████████████████████████████| 664/664 [00:48<00:00, 13.64it/s]\n",
      "100%|██████████████████████████████████████████████████████████| 664/664 [00:00<00:00, 13426.24it/s]\n"
     ]
    },
    {
     "name": "stdout",
     "output_type": "stream",
     "text": [
      "Done with tree. \n",
      " Time elapsed 150.06435990333557 s\n",
      "Loading isotree 1_2_1\n"
     ]
    },
    {
     "name": "stderr",
     "output_type": "stream",
     "text": [
      "/tmp/ipykernel_31873/3639148610.py:4: DtypeWarning: Columns (0,1,2,3,4,5,6,7,8,10,11,12,13,14,15,16,17,18,19,20,21,22,23,24) have mixed types.Specify dtype option on import or set low_memory=False.\n",
      "  dat =graphs_beforeafter(tcols=all_cols, maxs=[2,3,3], lim=10, save=1, case='medium_beforeafter')\n"
     ]
    },
    {
     "name": "stdout",
     "output_type": "stream",
     "text": [
      "isotree 1_2_1 loaded, restructuring\n",
      "Splitting to tree and scaling\n",
      "Split done\n",
      "Making merger tree\n"
     ]
    },
    {
     "name": "stderr",
     "output_type": "stream",
     "text": [
      "100%|█████████████████████████████████████████████████████████████| 509/509 [00:09<00:00, 53.36it/s]\n",
      "100%|██████████████████████████████████████████████████████████| 509/509 [00:00<00:00, 21867.71it/s]\n"
     ]
    },
    {
     "name": "stdout",
     "output_type": "stream",
     "text": [
      "Done with tree. \n",
      " Time elapsed 79.75178837776184 s\n",
      "Loading isotree 1_2_2\n"
     ]
    },
    {
     "name": "stderr",
     "output_type": "stream",
     "text": [
      "/tmp/ipykernel_31873/3639148610.py:4: DtypeWarning: Columns (0,1,2,3,4,5,6,7,8,10,11,12,13,14,15,16,17,18,19,20,21,22,23,24) have mixed types.Specify dtype option on import or set low_memory=False.\n",
      "  dat =graphs_beforeafter(tcols=all_cols, maxs=[2,3,3], lim=10, save=1, case='medium_beforeafter')\n"
     ]
    },
    {
     "name": "stdout",
     "output_type": "stream",
     "text": [
      "isotree 1_2_2 loaded, restructuring\n",
      "Splitting to tree and scaling\n",
      "33451\n",
      "225562\n",
      "133989\n",
      "Split done\n",
      "Making merger tree\n"
     ]
    },
    {
     "name": "stderr",
     "output_type": "stream",
     "text": [
      "100%|███████████████████████████████████████████████████████████| 1816/1816 [01:32<00:00, 19.64it/s]\n",
      "100%|████████████████████████████████████████████████████████| 1816/1816 [00:00<00:00, 14082.44it/s]\n"
     ]
    },
    {
     "name": "stdout",
     "output_type": "stream",
     "text": [
      "Done with tree. \n",
      " Time elapsed 480.8077611923218 s\n",
      "Saving dataset\n"
     ]
    }
   ],
   "source": [
    "all_cols=np.array([0,2,4,5,6,7,8,10,11,12,13,14,15,16,17,18,19,20,21,22,23,24,25,35]+list(range(37,60)))\n",
    "# all_cols=np.array([0,2,4,6,7,8,10,11,12,13,14,15,16,17,18,19,22,23,25,35]+list(range(37,60)))\n",
    "\n",
    "dat =graphs_beforeafter(tcols=all_cols, maxs=[2,3,3], lim=10, save=1, case='medium_beforeafter')"
   ]
  },
  {
   "cell_type": "markdown",
   "id": "27435b86",
   "metadata": {},
   "source": [
    "### I think this is just due to total amount of nodes"
   ]
  },
  {
   "cell_type": "code",
   "execution_count": 10,
   "id": "67345683",
   "metadata": {},
   "outputs": [],
   "source": [
    "avs=[]\n",
    "ys=[]\n",
    "ls=[]\n",
    "for i in range(len(dat)):\n",
    "    g=dat[i]\n",
    "    ys.append(g.y.numpy())\n",
    "    prog, desc=g.edge_index #from, to\n",
    "    x=g.x\n",
    "    av=0\n",
    "    for n in np.unique(desc):\n",
    "        m_f=x[n, 3]\n",
    "        m_in=x[prog[np.where(desc==n)], 3]\n",
    "    #     print(m_f, m_in, np.sum(m_in.numpy()))\n",
    "        av+=abs(m_f.numpy() - np.sum(m_in.numpy()))\n",
    "    ls.append(len(x))\n",
    "    avs.append(av) "
   ]
  },
  {
   "cell_type": "code",
   "execution_count": 11,
   "id": "34c2e61e",
   "metadata": {},
   "outputs": [
    {
     "data": {
      "text/plain": [
       "(array([118., 325., 163.,  90.,  39.,  15.,  11.,   4.,   4.,   1.]),\n",
       " array([1.14612804, 1.4554001 , 1.76467216, 2.07394423, 2.38321629,\n",
       "        2.69248836, 3.00176042, 3.31103249, 3.62030455, 3.92957662,\n",
       "        4.23884868]),\n",
       " <BarContainer object of 10 artists>)"
      ]
     },
     "execution_count": 11,
     "metadata": {},
     "output_type": "execute_result"
    },
    {
     "data": {
      "image/png": "[encoded data removed]",
      "text/plain": [
       "<Figure size 432x288 with 1 Axes>"
      ]
     },
     "metadata": {
      "needs_background": "light"
     },
     "output_type": "display_data"
    }
   ],
   "source": [
    "plt.hist(np.log10(ls))"
   ]
  },
  {
   "cell_type": "code",
   "execution_count": 12,
   "id": "65dd10a7",
   "metadata": {},
   "outputs": [
    {
     "data": {
      "text/plain": [
       "(array([  3.,  92., 306., 206.,  97.,  38.,  16.,   7.,   4.,   1.]),\n",
       " array([0.30687099, 0.67474772, 1.04262445, 1.41050118, 1.77837791,\n",
       "        2.14625464, 2.51413137, 2.8820081 , 3.24988483, 3.61776156,\n",
       "        3.98563829]),\n",
       " <BarContainer object of 10 artists>)"
      ]
     },
     "execution_count": 12,
     "metadata": {},
     "output_type": "execute_result"
    },
    {
     "data": {
      "image/png": "[encoded data removed]",
      "text/plain": [
       "<Figure size 432x288 with 1 Axes>"
      ]
     },
     "metadata": {
      "needs_background": "light"
     },
     "output_type": "display_data"
    }
   ],
   "source": [
    "plt.hist(np.log10(avs))"
   ]
  },
  {
   "cell_type": "code",
   "execution_count": 13,
   "id": "d88d5039",
   "metadata": {},
   "outputs": [
    {
     "data": {
      "text/plain": [
       "[<matplotlib.lines.Line2D at 0x2b61aa8347f0>]"
      ]
     },
     "execution_count": 13,
     "metadata": {},
     "output_type": "execute_result"
    },
    {
     "data": {
      "image/png": "[encoded data removed]",
      "text/plain": [
       "<Figure size 432x288 with 1 Axes>"
      ]
     },
     "metadata": {
      "needs_background": "light"
     },
     "output_type": "display_data"
    }
   ],
   "source": [
    "plt.plot(np.log10(ls),np.log10(avs), 'ro')"
   ]
  },
  {
   "cell_type": "code",
   "execution_count": 14,
   "id": "1c38fc44",
   "metadata": {},
   "outputs": [
    {
     "data": {
      "text/plain": [
       "[<matplotlib.lines.Line2D at 0x2b61aa44f0a0>]"
      ]
     },
     "execution_count": 14,
     "metadata": {},
     "output_type": "execute_result"
    },
    {
     "data": {
      "image/png": "[encoded data removed]",
      "text/plain": [
       "<Figure size 432x288 with 1 Axes>"
      ]
     },
     "metadata": {
      "needs_background": "light"
     },
     "output_type": "display_data"
    }
   ],
   "source": [
    "plt.plot(np.log10(ls),ys, 'ro')"
   ]
  },
  {
   "cell_type": "markdown",
   "id": "0d0348ca",
   "metadata": {},
   "source": [
    "### Magnitude due to total amount of nodes, up or down is pretty random"
   ]
  },
  {
   "cell_type": "code",
   "execution_count": 15,
   "id": "6cff38f6",
   "metadata": {},
   "outputs": [],
   "source": [
    "avs=[]\n",
    "ls=[]\n",
    "for i in range(len(dat)):\n",
    "    g=dat[i]\n",
    "    prog, desc=g.edge_index #from, to\n",
    "    x=g.x\n",
    "    av=0\n",
    "    for n in np.unique(desc):\n",
    "        m_f=x[n, 3]\n",
    "        m_in=x[prog[np.where(desc==n)], 3]\n",
    "    #     print(m_f, m_in, np.sum(m_in.numpy()))\n",
    "        av+=m_f.numpy() - np.sum(m_in.numpy())\n",
    "    ls.append(len(x))\n",
    "    avs.append(av)"
   ]
  },
  {
   "cell_type": "code",
   "execution_count": 16,
   "id": "9f4e230e",
   "metadata": {},
   "outputs": [
    {
     "data": {
      "text/plain": [
       "[<matplotlib.lines.Line2D at 0x2b61aa9efaf0>]"
      ]
     },
     "execution_count": 16,
     "metadata": {},
     "output_type": "execute_result"
    },
    {
     "data": {
      "image/png": "[encoded data removed]",
      "text/plain": [
       "<Figure size 432x288 with 1 Axes>"
      ]
     },
     "metadata": {
      "needs_background": "light"
     },
     "output_type": "display_data"
    }
   ],
   "source": [
    "plt.plot(ls,avs, 'ro')"
   ]
  },
  {
   "cell_type": "markdown",
   "id": "0a3591c8",
   "metadata": {},
   "source": [
    "## Make better plotting (make pos, edge_length)"
   ]
  },
  {
   "cell_type": "code",
   "execution_count": null,
   "id": "bef78d7c",
   "metadata": {},
   "outputs": [],
   "source": [
    "j=0\n",
    "from matplotlib import cm\n",
    "cmap=cm.get_cmap(name='magma')\n",
    "fig,ax=plt.subplots(figsize=(15,8))\n",
    "G=tg.utils.to_networkx(dat[j])\n",
    "di=nx.betweenness_centrality(G)\n",
    "for q,key in enumerate(di.keys()):\n",
    "    di[key]=dat[j].x.numpy()[q,2]\n",
    "nx.set_node_attributes(G, di, 'n_prog')\n",
    "print('Made graph')\n",
    "# G.remove_nodes_from(list(nx.isolates(G)))\n",
    "pos=nx.planar_layout(G)\n",
    "# pos=nx.kamada_kawai_layout(G) #this one is kinda snakey but works pretty well! Slow as hell though\n",
    "if G.number_of_nodes()<2000:\n",
    "    print('drawing')\n",
    "    nx.draw(G, pos=pos,ax=ax, node_size=8, arrowsize=5, cmap=cmap)"
   ]
  },
  {
   "cell_type": "code",
   "execution_count": null,
   "id": "cb697ad6",
   "metadata": {},
   "outputs": [],
   "source": [
    "import matplotlib.pyplot as plt\n",
    "# create number for each group to allow use of colormap\n",
    "from itertools import count\n",
    "fig,ax=plt.subplots(figsize=(20,8))\n",
    "# get unique groups\n",
    "groups = set(nx.get_node_attributes(G,'n_prog').values())\n",
    "mapping = dict(zip(sorted(groups),count()))\n",
    "nodes = G.nodes()\n",
    "colors=dat[j].x.numpy()[:,2]\n",
    "sizes=(dat[j].x.numpy()[:,3]-min(dat[j].x.numpy()[:,3])+2)**2/10\n",
    "# drawing nodes and edges separately so we can capture collection for colobar\n",
    "pos = nx.planar_layout(G)\n",
    "pos[min(pos.keys())]=(pos[min(pos.keys())]*np.array([-0.75,1.1]))*1.1\n",
    "# pos[max(pos.keys())]=pos[max(pos.keys())]*np.array([0.9,-0.9])\n",
    "ec = nx.draw_networkx_edges(G, pos,arrowsize=10, ax=ax, alpha=0.4)\n",
    "nc = nx.draw_networkx_nodes(G, pos, ax=ax, nodelist=nodes, node_color=colors, node_size=sizes, cmap=plt.cm.jet)\n",
    "plt.colorbar(nc)\n",
    "plt.axis('off')\n",
    "plt.show()"
   ]
  }
 ],
 "metadata": {
  "kernelspec": {
   "display_name": "Python 3 (ipykernel)",
   "language": "python",
   "name": "python3"
  },
  "language_info": {
   "codemirror_mode": {
    "name": "ipython",
    "version": 3
   },
   "file_extension": ".py",
   "mimetype": "text/x-python",
   "name": "python",
   "nbconvert_exporter": "python",
   "pygments_lexer": "ipython3",
   "version": "3.9.7"
  }
 },
 "nbformat": 4,
 "nbformat_minor": 5
}
