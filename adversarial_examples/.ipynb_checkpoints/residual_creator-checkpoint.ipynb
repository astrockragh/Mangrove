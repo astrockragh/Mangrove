{
 "cells": [
  {
   "cell_type": "code",
   "execution_count": 1,
   "id": "d66e1867",
   "metadata": {},
   "outputs": [],
   "source": [
    "import torch, time, pickle,os\n",
    "import torch_geometric as tg\n",
    "from torch_geometric.data import Data\n",
    "import numpy as np\n",
    "import matplotlib.pyplot as plt\n",
    "import pandas as pd\n",
    "from tqdm import tqdm\n",
    "import os.path as osp\n",
    "import networkx as nx"
   ]
  },
  {
   "cell_type": "code",
   "execution_count": 2,
   "id": "39fd66ea",
   "metadata": {},
   "outputs": [],
   "source": [
    "def convert(d,p):\n",
    "    dfin=[]\n",
    "    if len(p)!=len(np.unique(p)):\n",
    "        print('Wrong order of prog/desc')\n",
    "    else:\n",
    "        no=d[0]\n",
    "        for desc in d:\n",
    "            if desc==no:\n",
    "                dfin.append(0)\n",
    "            else:\n",
    "                dfin.append(p.index(desc)+1)\n",
    "    return dfin, np.arange(1, 1+len(p))"
   ]
  },
  {
   "cell_type": "code",
   "execution_count": 3,
   "id": "8a5e54c2",
   "metadata": {},
   "outputs": [],
   "source": [
    "medf=pickle.load(open(f'median_log10Mstellar_quantile.pkl', 'rb'))"
   ]
  },
  {
   "cell_type": "code",
   "execution_count": 4,
   "id": "caf20e89",
   "metadata": {},
   "outputs": [],
   "source": [
    "def create_graphs(tcols=[0,2,4,5,6,7,8,10,28], target=8, lim=10.5, save=False, case='test', transform='quantile', maxs=[1,1,1]):\n",
    "    dat=[]\n",
    "    tcols=np.array(tcols)\n",
    "    raw_path='~/../../../tigress/mcranmer/merger_trees/isotrees/'\n",
    "    target_path='~/../../../tigress/mcranmer/merger_trees/samout/'\n",
    "    transform_path=f'../../../../../scratch/gpfs/cj1223/GraphStorage/transformers/{transform}_allfeat.pkl'\n",
    "    scaler=pickle.load(open(transform_path, 'rb'))\n",
    "    not_include=np.array([0,1,0,1,0,1,1,1,1,0,0,0,0,0,0,0,0,0,0,0,0,0,0,0,0,0,0,0,0,0,0,0,0,0,0,0,0,0,0,0,0,0,0,0,0,0,0,0,0,\\\n",
    "        0,0,0,0,0,0,0,0,0,0,0]) \n",
    "    is_cat=[0,1,0,1,1,1,1,1,1,0,0,0,0,0,1,0,0,0,0,0,0,0,0,0,0,0,0,1,1,1,1,1,1,1,1,0,1,0,0,0,0,0,0,0,0,0,0,0,0,\\\n",
    "        0,0,0,0,0,0,0,0,0,0,0]\n",
    "    is_cat=np.array([bool(i) for i in is_cat])\n",
    "    icols=np.array([1,3])\n",
    "    load_cols=np.sort(np.concatenate([tcols,icols])) # maybe do np.unique\n",
    "    not_include=not_include[load_cols]\n",
    "    \n",
    "    for i in range(0, maxs[0]):\n",
    "        for j in range(0,maxs[1]):\n",
    "            for k in range(0, maxs[2]):\n",
    "                start=time.time()\n",
    "                print(f'Loading isotree {i}_{j}_{k}')\n",
    "                pd1=pd.read_table(raw_path+f'isotree_{i}_{j}_{k}.dat', skiprows=0, delimiter='\\s+', usecols=load_cols)\n",
    "                print(f'isotree {i}_{j}_{k} loaded, restructuring')\n",
    "                \n",
    "                raw=pd1.drop(axis=0, index=np.arange(50)).reset_index()\n",
    "                del pd1\n",
    "                \n",
    "                trees=raw[raw.isna()['desc_id(3)']] \n",
    "                halos=raw[~raw.isna()['desc_id(3)']]\n",
    "                del raw\n",
    "                \n",
    "                ##########################################\n",
    "                ### End loading, begin dtype changing  ###\n",
    "                ##########################################\n",
    "                \n",
    "                mask=halos.dtypes.values[1:]=='O'\n",
    "\n",
    "                f,it=\"float64\", \"int64\"\n",
    "                map1=[]\n",
    "                map2=[]\n",
    "                q=0\n",
    "                for l in load_cols:\n",
    "                    q+=1\n",
    "                    if l<25:\n",
    "                        map1.append(l)\n",
    "                        map2.append(q)\n",
    "                map1=np.array(map1)\n",
    "                map2=np.array(map2)\n",
    "\n",
    "                castto=np.array([f,it,f,it,it,it,it,it,it,f,f,f,f,f,it,f,f,f,f,f,f,f,f,f,f])\n",
    "\n",
    "                castto=castto[map1]\n",
    "                dicts = {}\n",
    "                keys = halos.columns[map2]\n",
    "                for d, key in enumerate(keys):\n",
    "                        dicts[key] = castto[d]\n",
    "\n",
    "                halos=halos.astype(dicts)\n",
    "                \n",
    "                ###################################################\n",
    "                ### end dtype, begin inital hardcoded scaling   ###\n",
    "                ###################################################\n",
    "                \n",
    "                ## initial scaling\n",
    "                hard=[0,2,15]\n",
    "                def logit(x):\n",
    "                    return np.log10((x+0.001)/(1.01-x))\n",
    "                ##logit transform the hards\n",
    "                for h in hard:\n",
    "                    if h in tcols:\n",
    "                        h1=np.where(load_cols==h)[0][0]+1\n",
    "                        halos[halos.columns[h1]]=logit(halos[halos.columns[h1]])\n",
    "\n",
    "                log=[10,38, 39, 40, 41, 42]\n",
    "                #simple log for the rest\n",
    "                def logt(x):\n",
    "                    return np.log10(x+1)\n",
    "                for l in log:\n",
    "                    if l in tcols:\n",
    "                        l1=np.where(load_cols==l)[0][0]+1\n",
    "                        halos[halos.columns[l1]]=logt(halos[halos.columns[l1]])\n",
    "\n",
    "                scale_cols=np.array(tcols[~is_cat[tcols]])\n",
    "\n",
    "                print(f'Splitting to tree and scaling')\n",
    "                spli=np.split(np.array(halos)[:,1:], np.array(trees.iloc[1:].index)-np.arange(1,len(trees.index)))\n",
    "                del halos\n",
    "                splits=[]\n",
    "                for s in spli:\n",
    "                    if s[0,np.where(load_cols==10)[0][0]]>lim:\n",
    "                        splits.append(s)\n",
    "                splits=np.array(splits, dtype=object)\n",
    "                split=[]\n",
    "                \n",
    "                for tree in splits:\n",
    "                    s=tree[np.logical_or(tree[:,3] == -1,tree[:,4]!=1)]\n",
    "                    for n in scale_cols:\n",
    "                        n1=np.where(load_cols==n)[0][0]\n",
    "                        s[:,n1]=scaler[n].transform(s[:,n1].reshape(-1,1)).reshape(np.shape(s[:,n1]))\n",
    "                    split.append(s)\n",
    "                split=np.array(split, dtype=object)\n",
    "                print('Split done')\n",
    "                print('Loading targets')\n",
    "                ex=f'{i}_{j}_{k}/galprop_0-99.dat'\n",
    "                pdc=pd.read_table(target_path+ex, skiprows=0, delimiter=',', nrows=41, header=None)\n",
    "                newcols=pdc.iloc[:,0]\n",
    "                pds=pd.read_table(target_path+ex, skiprows=41, delimiter='\\s+', header=None)\n",
    "                pds.columns=np.array(newcols)\n",
    "                pd0=pds[pds[pds.columns[3]]==0.00] # subhaloes\n",
    "                pdcen=pd0[(pd0[pds.columns[1]]==pd0[pds.columns[2]])] ##central haloes\n",
    "\n",
    "                rhalid=np.array(pdcen[pds.columns[2]])\n",
    "                del pd0\n",
    "                del pds\n",
    "                halwgal=[]\n",
    "                ids=[]\n",
    "                out=[]\n",
    "                M_h=[]\n",
    "                for idx, tree in enumerate(split): #split up into tree\n",
    "                    if tree[0,1] in rhalid:\n",
    "                        if len(tree)>20000:\n",
    "                            print(len(tree))\n",
    "                        else:\n",
    "                            M_h.append(tree[0,np.where(load_cols==10)[0][0]])\n",
    "                            halwgal.append(tree)\n",
    "                            ids.append(idx)\n",
    "                            index=np.where(rhalid==tree[0,1])\n",
    "                            out.append(np.array(pdcen.iloc[index])[0][target]) ## target variable\n",
    "                del pdcen\n",
    "                M_h=np.array(M_h)\n",
    "                hraw=np.array(splits[ids], dtype=object)\n",
    "                hals=[]\n",
    "                pr,de=[],[]\n",
    "                discards=[]\n",
    "                print('Making merger tree')\n",
    "                for n in tqdm(range(len(halwgal))):\n",
    "                    h=halwgal[n]\n",
    "                    roots=h[h[:,4]==0]\n",
    "                    mergers=h[h[:,4]>1]\n",
    "                    final=h[h[:,3]==-1]\n",
    "                    pro, des=[],[]\n",
    "                    discarded=[]\n",
    "                    for mid in mergers[:,1]:\n",
    "                        k=1\n",
    "                        descid=hraw[n][:,3][np.where(mid==hraw[n][:,1])] ##descendant ID of raw where the id of the merger is\n",
    "                        while descid not in mergers[:,1] and descid!=-1: \n",
    "                            k+=1\n",
    "                            descid=hraw[n][:,3][np.where(descid==hraw[n][:,1])]\n",
    "                        pro.append(mid)\n",
    "                        if descid!=-1:\n",
    "                            des.append(descid[0])\n",
    "                        else:\n",
    "                            des.append(hraw[n][:,3][np.where(mid==hraw[n][:,1])][0])\n",
    "                        discarded.append(1/k) \n",
    "\n",
    "                    for r in roots:\n",
    "                        descid=hraw[n][:,3][np.where(r[1]==hraw[n][:,1])] \n",
    "                        k=1\n",
    "                        while descid not in mergers[:,1] and descid!=[-1]: ##could add 1/k\n",
    "                            k+=1\n",
    "                            descid=hraw[n][:,3][np.where(descid==hraw[n][:,1])]#consider adding the number of steps it went through\n",
    "                        pro.append(r[1])\n",
    "                        if descid!=-1:\n",
    "                            des.append(descid[0])\n",
    "                        else:\n",
    "                            des.append(hraw[n][:,3][np.where(r[1]==hraw[n][:,1])][0])\n",
    "                        discarded.append(1/k) \n",
    "\n",
    "                    discards.append(np.array(discarded))\n",
    "                    des,pro=convert(des, pro)\n",
    "                    hal2=np.vstack([final,mergers,roots])\n",
    "                    global mass_index\n",
    "                    if n==0:\n",
    "                        fcols=[i for i in range(len(hal2[0])) if not_include[i]==0] ##choose non-id cols to carry forward\n",
    "                        mask=np.array([bool(i) for i in not_include])\n",
    "                        idcols=load_cols[~mask] ##choose non-id cols to carry forward\n",
    "                        mass_id=np.where(np.array(idcols)==10)[0][0]\n",
    "                    hal2=hal2[:,fcols] ##take away id's\n",
    "                    hals.append(hal2)\n",
    "                    pr.append([int(p) for p in pro])\n",
    "                    de.append([int(d) for d in des])\n",
    "                    discards.append(discarded)\n",
    "                hals=np.array(hals,dtype=object)\n",
    "                \n",
    "                ##here we make the scatter\n",
    "                M_s=np.log10(out)\n",
    "                out=M_s-medf(M_h)\n",
    "                for n in tqdm(range(len(out))):\n",
    "                    edge_index = torch.tensor([pr[n],de[n]], dtype=torch.long)\n",
    "                    x = torch.tensor(hals[n], dtype=torch.float)\n",
    "                    y=torch.tensor(out[n], dtype=torch.float)\n",
    "                    edge_attr=torch.tensor(discards[n], dtype=torch.float)\n",
    "                    graph=Data(x=x, edge_index=edge_index, edge_attr=edge_attr, y=y)\n",
    "                    dat.append(graph)\n",
    "                stop=time.time()\n",
    "                print(f'Done with tree. \\n Time elapsed {stop-start} s')\n",
    "    \n",
    "    if save:\n",
    "        print(\"Saving dataset\")\n",
    "        if not osp.exists(f'../../../../../scratch/gpfs/cj1223/GraphStorage/{case}'):\n",
    "            os.mkdir(f'../../../../../scratch/gpfs/cj1223/GraphStorage/{case}')\n",
    "\n",
    "        with open(f'../../../../../scratch/gpfs/cj1223/GraphStorage/{case}/data.pkl', 'wb') as handle:\n",
    "            pickle.dump(dat, handle)\n",
    "\n",
    "\n",
    "    return dat"
   ]
  },
  {
   "cell_type": "code",
   "execution_count": 5,
   "id": "76f685d7",
   "metadata": {},
   "outputs": [
    {
     "name": "stdout",
     "output_type": "stream",
     "text": [
      "Loading isotree 0_0_0\n"
     ]
    },
    {
     "name": "stderr",
     "output_type": "stream",
     "text": [
      "/tmp/ipykernel_29286/26384137.py:4: DtypeWarning: Columns (0,1,2,3,4,5,6,7,8,10,11,12,13,14,15,16,17,18,19,20,21,22,23,24) have mixed types.Specify dtype option on import or set low_memory=False.\n",
      "  dat=create_graphs(tcols=all_cols, maxs=[1,2,2], lim=10, save=1, case='med_all_residual')\n"
     ]
    },
    {
     "name": "stdout",
     "output_type": "stream",
     "text": [
      "isotree 0_0_0 loaded, restructuring\n",
      "Splitting to tree and scaling\n",
      "Split done\n",
      "Loading targets\n",
      "Making merger tree\n"
     ]
    },
    {
     "name": "stderr",
     "output_type": "stream",
     "text": [
      "100%|█████████████████████████████████████████████████████████████| 769/769 [01:41<00:00,  7.59it/s]\n",
      "100%|███████████████████████████████████████████████████████████| 769/769 [00:00<00:00, 4565.71it/s]\n"
     ]
    },
    {
     "name": "stdout",
     "output_type": "stream",
     "text": [
      "Done with tree. \n",
      " Time elapsed 289.05513310432434 s\n",
      "Loading isotree 0_0_1\n"
     ]
    },
    {
     "name": "stderr",
     "output_type": "stream",
     "text": [
      "/tmp/ipykernel_29286/26384137.py:4: DtypeWarning: Columns (0,1,2,3,4,5,6,7,8,10,11,12,13,14,15,16,17,18,19,20,21,22,23,24) have mixed types.Specify dtype option on import or set low_memory=False.\n",
      "  dat=create_graphs(tcols=all_cols, maxs=[1,2,2], lim=10, save=1, case='med_all_residual')\n"
     ]
    },
    {
     "name": "stdout",
     "output_type": "stream",
     "text": [
      "isotree 0_0_1 loaded, restructuring\n",
      "Splitting to tree and scaling\n",
      "Split done\n",
      "Loading targets\n",
      "Making merger tree\n"
     ]
    },
    {
     "name": "stderr",
     "output_type": "stream",
     "text": [
      "100%|███████████████████████████████████████████████████████████| 1338/1338 [05:24<00:00,  4.12it/s]\n",
      "100%|█████████████████████████████████████████████████████████| 1338/1338 [00:00<00:00, 4400.70it/s]\n"
     ]
    },
    {
     "name": "stdout",
     "output_type": "stream",
     "text": [
      "Done with tree. \n",
      " Time elapsed 703.2840404510498 s\n",
      "Loading isotree 0_1_0\n"
     ]
    },
    {
     "name": "stderr",
     "output_type": "stream",
     "text": [
      "/tmp/ipykernel_29286/26384137.py:4: DtypeWarning: Columns (0,1,2,3,4,5,6,7,8,10,11,12,13,14,15,16,17,18,19,20,21,22,23,24) have mixed types.Specify dtype option on import or set low_memory=False.\n",
      "  dat=create_graphs(tcols=all_cols, maxs=[1,2,2], lim=10, save=1, case='med_all_residual')\n"
     ]
    },
    {
     "name": "stdout",
     "output_type": "stream",
     "text": [
      "isotree 0_1_0 loaded, restructuring\n",
      "Splitting to tree and scaling\n",
      "Split done\n",
      "Loading targets\n",
      "70472\n",
      "Making merger tree\n"
     ]
    },
    {
     "name": "stderr",
     "output_type": "stream",
     "text": [
      "100%|███████████████████████████████████████████████████████████| 1127/1127 [03:50<00:00,  4.89it/s]\n",
      "100%|█████████████████████████████████████████████████████████| 1127/1127 [00:00<00:00, 4369.03it/s]\n"
     ]
    },
    {
     "name": "stdout",
     "output_type": "stream",
     "text": [
      "Done with tree. \n",
      " Time elapsed 487.38381361961365 s\n",
      "Loading isotree 0_1_1\n"
     ]
    },
    {
     "name": "stderr",
     "output_type": "stream",
     "text": [
      "/tmp/ipykernel_29286/26384137.py:4: DtypeWarning: Columns (0,1,2,3,4,5,6,7,8,10,11,12,13,14,15,16,17,18,19,20,21,22,23,24) have mixed types.Specify dtype option on import or set low_memory=False.\n",
      "  dat=create_graphs(tcols=all_cols, maxs=[1,2,2], lim=10, save=1, case='med_all_residual')\n"
     ]
    },
    {
     "name": "stdout",
     "output_type": "stream",
     "text": [
      "isotree 0_1_1 loaded, restructuring\n",
      "Splitting to tree and scaling\n",
      "Split done\n",
      "Loading targets\n",
      "70115\n",
      "52207\n",
      "43321\n",
      "25280\n",
      "381538\n",
      "Making merger tree\n"
     ]
    },
    {
     "name": "stderr",
     "output_type": "stream",
     "text": [
      "100%|███████████████████████████████████████████████████████████| 1932/1932 [04:53<00:00,  6.58it/s]\n",
      "100%|█████████████████████████████████████████████████████████| 1932/1932 [00:00<00:00, 4509.59it/s]\n"
     ]
    },
    {
     "name": "stdout",
     "output_type": "stream",
     "text": [
      "Done with tree. \n",
      " Time elapsed 992.4761333465576 s\n",
      "Saving dataset\n"
     ]
    }
   ],
   "source": [
    "all_cols=np.array([0,2,4,5,6,7,8,10,11,12,13,14,15,16,17,18,19,20,21,22,23,24,25,35]+list(range(37,60)))\n",
    "# all_cols=np.array([0,2,4,6,7,8,10,11,12,13,14,15,16,17,18,19,22,23,25,35]+list(range(37,60)))\n",
    "\n",
    "dat=create_graphs(tcols=all_cols, maxs=[1,2,2], lim=10, save=1, case='med_all_residual')"
   ]
  },
  {
   "cell_type": "code",
   "execution_count": 8,
   "id": "9c045626",
   "metadata": {},
   "outputs": [],
   "source": [
    "Ms, ys, ls=[],[],[]\n",
    "for d in dat:\n",
    "    ys.append(d.y.numpy())\n",
    "    Ms.append(d.x.numpy()[0,3])    \n",
    "    ls.append(len(d.x.numpy()))    "
   ]
  },
  {
   "cell_type": "code",
   "execution_count": 9,
   "id": "942868b6",
   "metadata": {},
   "outputs": [
    {
     "data": {
      "text/plain": [
       "[<matplotlib.lines.Line2D at 0x2b4d8a52c670>]"
      ]
     },
     "execution_count": 9,
     "metadata": {},
     "output_type": "execute_result"
    },
    {
     "data": {
      "image/png": "[encoded data removed]",
      "text/plain": [
       "<Figure size 432x288 with 1 Axes>"
      ]
     },
     "metadata": {
      "needs_background": "light"
     },
     "output_type": "display_data"
    }
   ],
   "source": [
    "plt.plot(Ms,ys,'ro')"
   ]
  },
  {
   "cell_type": "code",
   "execution_count": null,
   "id": "8aee7b73",
   "metadata": {},
   "outputs": [],
   "source": []
  }
 ],
 "metadata": {
  "kernelspec": {
   "display_name": "Python 3 (ipykernel)",
   "language": "python",
   "name": "python3"
  },
  "language_info": {
   "codemirror_mode": {
    "name": "ipython",
    "version": 3
   },
   "file_extension": ".py",
   "mimetype": "text/x-python",
   "name": "python",
   "nbconvert_exporter": "python",
   "pygments_lexer": "ipython3",
   "version": "3.9.7"
  }
 },
 "nbformat": 4,
 "nbformat_minor": 5
}
