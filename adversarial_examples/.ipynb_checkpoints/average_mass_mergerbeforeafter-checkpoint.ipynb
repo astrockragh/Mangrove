{
 "cells": [
  {
   "cell_type": "code",
   "execution_count": 1,
   "id": "a556f73c",
   "metadata": {},
   "outputs": [],
   "source": [
    "import torch, time, pickle,os\n",
    "import torch_geometric as tg\n",
    "from torch_geometric.data import Data\n",
    "import numpy as np\n",
    "import matplotlib.pyplot as plt\n",
    "import pandas as pd\n",
    "from tqdm import tqdm\n",
    "import os.path as osp\n",
    "import networkx as nx"
   ]
  },
  {
   "cell_type": "code",
   "execution_count": 2,
   "id": "899a18ac",
   "metadata": {},
   "outputs": [],
   "source": [
    "def convert(d,p):\n",
    "    dfin=[]\n",
    "    if len(p)!=len(np.unique(p)):\n",
    "        print('Wrong order of prog/desc')\n",
    "    else:\n",
    "        no=d[0]\n",
    "        for desc in d:\n",
    "            if desc==no:\n",
    "                dfin.append(0)\n",
    "            else:\n",
    "                dfin.append(p.index(desc)+1)\n",
    "    return dfin, np.arange(1, 1+len(p))"
   ]
  },
  {
   "cell_type": "code",
   "execution_count": 3,
   "id": "6fac7f35",
   "metadata": {},
   "outputs": [],
   "source": [
    "#should it be log for output\n",
    "def graphs_beforeafter(tcols=[0,2,4,5,6,7,8,10,22], target=8, save=False, lim=10.5, case='test', transform='quantile', maxs=[1,1,1]):\n",
    "    ##all the requirements\n",
    "    dat=[]\n",
    "    tcols=np.array(tcols)\n",
    "    raw_path='~/../../../tigress/mcranmer/merger_trees/isotrees/'\n",
    "    target_path='~/../../../tigress/mcranmer/merger_trees/samout/'\n",
    "    transform_path=f'../../../../../scratch/gpfs/cj1223/GraphStorage/transformers/{transform}_allfeat.pkl'\n",
    "    scaler=pickle.load(open(transform_path, 'rb'))\n",
    "    not_include=np.array([0,1,0,1,0,1,1,1,1,1,0,0,0,0,0,0,0,0,0,0,0,0,0,0,0,0,0,0,0,0,0,0,0,0,0,0,0,0,0,0,0,0,0,0,0,0,0,0,0,\\\n",
    "        0,0,0,0,0,0,0,0,0,0,0])  ##needs update\n",
    "    is_cat=[0,1,0,1,1,1,1,1,1,0,0,0,0,0,1,0,0,0,0,0,0,0,0,0,0,0,0,1,1,1,1,1,1,1,1,0,1,0,0,0,0,0,0,0,0,0,0,0,0,\\\n",
    "        0,0,0,0,0,0,0,0,0,0,0]\n",
    "    is_cat=np.array([bool(i) for i in is_cat])\n",
    "    icols=np.array([1,3]) #index columns\n",
    "    load_cols=np.sort(np.concatenate([tcols,icols]))\n",
    "    not_include=not_include[load_cols] \n",
    "    print(f'Loading {maxs[0]*maxs[1]*maxs[2]} isotrees')\n",
    "    for i in range(0, maxs[0]):\n",
    "            for j in range(0,maxs[1]):\n",
    "                for k in range(0, maxs[2]):\n",
    "                    ###Start loading\n",
    "                    start=time.time()\n",
    "                    print(f'Loading isotree {i}_{j}_{k}')\n",
    "\n",
    "                    pd1=pd.read_table(raw_path+f'isotree_{i}_{j}_{k}.dat', skiprows=0, delimiter='\\s+', usecols=load_cols)\n",
    "                    print(f'isotree {i}_{j}_{k} loaded, restructuring')\n",
    "\n",
    "                    raw=pd1.drop(axis=0, index=np.arange(50)).reset_index()\n",
    "                    del pd1\n",
    "\n",
    "                    trees=raw[raw.isna()['desc_id(3)']] \n",
    "                    halos=raw[~raw.isna()['desc_id(3)']]\n",
    "                    del raw\n",
    "                    \n",
    "                    ##########################################\n",
    "                    ### End loading, begin dtype changing  ###\n",
    "                    ##########################################\n",
    "                    \n",
    "                    mask=halos.dtypes.values[1:]=='O'\n",
    "\n",
    "                    f,it=\"float64\", \"int64\"\n",
    "                    map1=[]\n",
    "                    map2=[]\n",
    "                    q=0\n",
    "                    for l in load_cols:\n",
    "                        q+=1\n",
    "                        if l<25:\n",
    "                            map1.append(l)\n",
    "                            map2.append(q)\n",
    "                    map1=np.array(map1)\n",
    "                    map2=np.array(map2)\n",
    "\n",
    "                    castto=np.array([f,it,f,it,it,it,it,it,it,f,f,f,f,f,it,f,f,f,f,f,f,f,f,f,f])\n",
    "\n",
    "                    castto=castto[map1]\n",
    "                    dicts = {}\n",
    "                    keys = halos.columns[map2]\n",
    "                    for d, key in enumerate(keys):\n",
    "                            dicts[key] = castto[d]\n",
    "\n",
    "                    halos=halos.astype(dicts)\n",
    "                    \n",
    "                    ###################################################\n",
    "                    ### end dtype, begin inital hardcoded scaling   ###\n",
    "                    ###################################################\n",
    "                    \n",
    "                    hard=[0,2,15]\n",
    "                    def logit(x):\n",
    "                        return np.log10((x+0.001)/(1.01-x))\n",
    "                    ##logit transform the hards\n",
    "                    for h in hard:\n",
    "                        if h in tcols:\n",
    "                            h1=np.where(load_cols==h)[0][0]+1\n",
    "                            halos[halos.columns[h1]]=logit(halos[halos.columns[h1]])\n",
    "\n",
    "                    log=[10,38, 39, 40, 41, 42]\n",
    "\n",
    "                    def logt(x):\n",
    "                        return np.log10(x+1)\n",
    "                    for l in log:\n",
    "                        if l in tcols:\n",
    "                            l1=np.where(load_cols==l)[0][0]+1\n",
    "                            halos[halos.columns[l1]]=logt(halos[halos.columns[l1]])\n",
    "                    \n",
    "                    ###################################################\n",
    "                    ### Begin scaling and splitting to trees.       ###\n",
    "                    ###################################################\n",
    "\n",
    "                    scale_cols=np.array(tcols[~is_cat[tcols]])\n",
    "                    \n",
    "                    print(f'Splitting to tree and scaling')\n",
    "                    spli=np.split(np.array(halos)[:,1:], np.array(trees.iloc[1:].index)-np.arange(1,len(trees.index)))\n",
    "                    splits=[]\n",
    "                    for s in spli:\n",
    "                        if s[0,np.where(load_cols==10)[0][0]]>lim:\n",
    "                            splits.append(s)\n",
    "                    splits=np.array(splits, dtype=object)\n",
    "                    split=[]\n",
    "                    idx=[]\n",
    "                    for m, tree in enumerate(splits):\n",
    "                        s=tree[np.logical_or(tree[:,3] == -1,tree[:,4]!=1)]\n",
    "                        if len(s)>20000:\n",
    "                            print(len(s))\n",
    "                        else:\n",
    "                            for n in scale_cols:\n",
    "                                n1=np.where(load_cols==n)[0][0]\n",
    "                                s[:,n1]=scaler[n].transform(s[:,n1].reshape(-1,1)).reshape(np.shape(s[:,n1]))\n",
    "\n",
    "                            split.append(s)\n",
    "                            idx.append(m)\n",
    "                    split=np.array(split, dtype=object)\n",
    "                    print('Split done')\n",
    "\n",
    "                    halwgal=split\n",
    "                    hraw=np.array(splits[idx], dtype=object)\n",
    "                    \n",
    "                    ###################################################\n",
    "                    ### Making the actual merger tree       ###\n",
    "                    ###################################################\n",
    "                    \n",
    "                    hals=[]\n",
    "                    out=[]\n",
    "                    pr,de=[],[]\n",
    "                    discards=[]\n",
    "                    print('Making merger tree')\n",
    "                    for n in tqdm(range(len(halwgal))):\n",
    "                        h=halwgal[n]\n",
    "                        roots=h[h[:,4]==0]\n",
    "                        mergers=h[h[:,4]>1]\n",
    "                        final=h[h[:,3]==-1]\n",
    "                        pro, des=[],[]\n",
    "                        discarded=[]\n",
    "                        for mid in mergers[:,1]:\n",
    "                            k=1 ## counts number of contracted edges\n",
    "                            ##descendant ID of raw where the id of the merger is\n",
    "                            descid=hraw[n][:,3][np.where(mid==hraw[n][:,1])]\n",
    "                            while descid not in mergers[:,1] and descid!=-1: \n",
    "                                k+=1\n",
    "                                descid=hraw[n][:,3][np.where(descid==hraw[n][:,1])]\n",
    "                            pro.append(mid)\n",
    "                            if descid!=-1:\n",
    "                                des.append(descid[0])\n",
    "                            else:\n",
    "                                des.append(hraw[n][:,3][np.where(mid==hraw[n][:,1])][0])\n",
    "                            discarded.append(1/k) ## adding 1/k so it stays bounded\n",
    "\n",
    "                        for r in roots:\n",
    "                            descid=hraw[n][:,3][np.where(r[1]==hraw[n][:,1])] \n",
    "                            k=1\n",
    "                            while descid not in mergers[:,1] and descid!=[-1]: ##could add 1/k\n",
    "                                k+=1\n",
    "                                descid=hraw[n][:,3][np.where(descid==hraw[n][:,1])]#consider adding the number of steps it went through\n",
    "                            pro.append(r[1])\n",
    "                            if descid!=-1:\n",
    "                                des.append(descid[0])\n",
    "                            else:\n",
    "                                des.append(hraw[n][:,3][np.where(r[1]==hraw[n][:,1])][0])\n",
    "                            discarded.append(1/k) \n",
    "                        discards.append(np.array(discarded))\n",
    "                        des,pro=convert(des, pro)\n",
    "                        hal2=np.vstack([final,mergers,roots])\n",
    "                        if n==0:\n",
    "                            ##choose columns to carry forward\n",
    "                            fcols=[i for i in range(len(hal2[0])) if not_include[i]==0] \n",
    "                            mask=np.array([bool(i) for i in not_include])\n",
    "                            idcols=load_cols[~mask]\n",
    "                            mass_id=np.where(np.array(idcols)==10)[0][0]\n",
    "                            fcols=np.array(fcols)\n",
    "                        hal2=hal2[:,fcols] ##take away id's and such\n",
    "                        hals.append(hal2)\n",
    "                        froms=[int(p) for p in pro]\n",
    "                        tos=[int(d) for d in des]\n",
    "                        pr.append(froms)\n",
    "                        de.append(tos)\n",
    "                        av=0\n",
    "                        for n in np.unique(tos):\n",
    "                            m_f=hal2[n, mass_id]\n",
    "                            m_in=hal2[np.array(froms)[np.where(tos==n)], mass_id]\n",
    "                            av+=abs(m_f - np.sum(m_in))\n",
    "                    #     avs.append(av) \n",
    "                        out.append(np.log10(av)) ## should log be right???\n",
    "                    hals=np.array(hals,dtype=object)\n",
    "                    out=np.array(out)\n",
    "                    for n in tqdm(range(len(out))):\n",
    "                        edge_index = torch.tensor([pr[n],de[n]], dtype=torch.long)\n",
    "                        x = torch.tensor(hals[n], dtype=torch.float)\n",
    "\n",
    "                        y=torch.tensor(out[n], dtype=torch.float)\n",
    "                        edge_attr=torch.tensor(discards[n], dtype=torch.float)\n",
    "                        graph=Data(x=x, edge_index=edge_index, edge_attr=edge_attr, y=y)\n",
    "                        dat.append(graph)\n",
    "                    stop=time.time()\n",
    "                    print(f'Done with tree. \\n Time elapsed {stop-start} s')\n",
    "    datm, dats, datb=[], [], []\n",
    "    for d in dat:\n",
    "        if len(d.x.numpy())<30:\n",
    "            dats.append(d)\n",
    "        elif len(d.x.numpy())>250:\n",
    "            datb.append(d)\n",
    "        else:\n",
    "            datm.append(d)\n",
    "    sizes=[dats, datm, datb]\n",
    "    if save:\n",
    "        print(\"Saving dataset\")\n",
    "        if not osp.exists(f'../../../../../scratch/gpfs/cj1223/GraphStorage/{case}'):\n",
    "            os.mkdir(f'../../../../../scratch/gpfs/cj1223/GraphStorage/{case}')\n",
    "\n",
    "        with open(f'../../../../../scratch/gpfs/cj1223/GraphStorage/{case}/data.pkl', 'wb') as handle:\n",
    "            pickle.dump(dat, handle)\n",
    "\n",
    "            strs=['small','medium', 'big']\n",
    "            for siz, sts in zip(sizes, strs):\n",
    "                with open(f'../../../../../scratch/gpfs/cj1223/GraphStorage/{case}/data_{sts}.pkl', 'wb') as handle:\n",
    "                    pickle.dump(np.array(siz), handle)\n",
    "    return dat, sizes\n"
   ]
  },
  {
   "cell_type": "code",
   "execution_count": 4,
   "id": "a420ef51",
   "metadata": {},
   "outputs": [
    {
     "name": "stdout",
     "output_type": "stream",
     "text": [
      "Loading 9  isotrees\n",
      "Loading isotree 0_0_0\n"
     ]
    },
    {
     "name": "stderr",
     "output_type": "stream",
     "text": [
      "/tmp/ipykernel_27989/3461313226.py:4: DtypeWarning: Columns (0,1,2,3,4,5,6,7,8,10,11,12,13,14,15,16,17,18,19,20,21,22,23,24) have mixed types.Specify dtype option on import or set low_memory=False.\n",
      "  dat, sizes=graphs_beforeafter(tcols=all_cols, maxs=[1,3,3], lim=10, save=1, case='medium_beforeafter')\n"
     ]
    },
    {
     "name": "stdout",
     "output_type": "stream",
     "text": [
      "isotree 0_0_0 loaded, restructuring\n",
      "Splitting to tree and scaling\n",
      "Split done\n",
      "Making merger tree\n"
     ]
    },
    {
     "name": "stderr",
     "output_type": "stream",
     "text": [
      "100%|█████████████████████████████████████████████████████████████| 770/770 [01:06<00:00, 11.61it/s]\n",
      "100%|██████████████████████████████████████████████████████████| 770/770 [00:00<00:00, 14982.99it/s]\n"
     ]
    },
    {
     "name": "stdout",
     "output_type": "stream",
     "text": [
      "Done with tree. \n",
      " Time elapsed 141.63116025924683 s\n",
      "Loading isotree 0_0_1\n"
     ]
    },
    {
     "name": "stderr",
     "output_type": "stream",
     "text": [
      "/tmp/ipykernel_27989/3461313226.py:4: DtypeWarning: Columns (0,1,2,3,4,5,6,7,8,10,11,12,13,14,15,16,17,18,19,20,21,22,23,24) have mixed types.Specify dtype option on import or set low_memory=False.\n",
      "  dat, sizes=graphs_beforeafter(tcols=all_cols, maxs=[1,3,3], lim=10, save=1, case='medium_beforeafter')\n"
     ]
    },
    {
     "name": "stdout",
     "output_type": "stream",
     "text": [
      "isotree 0_0_1 loaded, restructuring\n",
      "Splitting to tree and scaling\n",
      "Split done\n",
      "Making merger tree\n"
     ]
    },
    {
     "name": "stderr",
     "output_type": "stream",
     "text": [
      "100%|███████████████████████████████████████████████████████████| 1339/1339 [03:36<00:00,  6.18it/s]\n",
      "100%|████████████████████████████████████████████████████████| 1339/1339 [00:00<00:00, 11212.79it/s]\n"
     ]
    },
    {
     "name": "stdout",
     "output_type": "stream",
     "text": [
      "Done with tree. \n",
      " Time elapsed 418.4934730529785 s\n",
      "Loading isotree 0_0_2\n"
     ]
    },
    {
     "name": "stderr",
     "output_type": "stream",
     "text": [
      "/tmp/ipykernel_27989/3461313226.py:4: DtypeWarning: Columns (0,1,2,3,4,5,6,7,8,10,11,12,13,14,15,16,17,18,19,20,21,22,23,24) have mixed types.Specify dtype option on import or set low_memory=False.\n",
      "  dat, sizes=graphs_beforeafter(tcols=all_cols, maxs=[1,3,3], lim=10, save=1, case='medium_beforeafter')\n"
     ]
    },
    {
     "name": "stdout",
     "output_type": "stream",
     "text": [
      "isotree 0_0_2 loaded, restructuring\n",
      "Splitting to tree and scaling\n",
      "72404\n",
      "60368\n",
      "26084\n",
      "29167\n",
      "Split done\n",
      "Making merger tree\n"
     ]
    },
    {
     "name": "stderr",
     "output_type": "stream",
     "text": [
      "100%|███████████████████████████████████████████████████████████| 1474/1474 [03:22<00:00,  7.30it/s]\n",
      "100%|█████████████████████████████████████████████████████████| 1474/1474 [00:00<00:00, 6727.98it/s]\n"
     ]
    },
    {
     "name": "stdout",
     "output_type": "stream",
     "text": [
      "Done with tree. \n",
      " Time elapsed 404.4072370529175 s\n",
      "Loading isotree 0_1_0\n"
     ]
    },
    {
     "name": "stderr",
     "output_type": "stream",
     "text": [
      "/tmp/ipykernel_27989/3461313226.py:4: DtypeWarning: Columns (0,1,2,3,4,5,6,7,8,10,11,12,13,14,15,16,17,18,19,20,21,22,23,24) have mixed types.Specify dtype option on import or set low_memory=False.\n",
      "  dat, sizes=graphs_beforeafter(tcols=all_cols, maxs=[1,3,3], lim=10, save=1, case='medium_beforeafter')\n"
     ]
    },
    {
     "name": "stdout",
     "output_type": "stream",
     "text": [
      "isotree 0_1_0 loaded, restructuring\n",
      "Splitting to tree and scaling\n",
      "70472\n",
      "Split done\n",
      "Making merger tree\n"
     ]
    },
    {
     "name": "stderr",
     "output_type": "stream",
     "text": [
      "100%|███████████████████████████████████████████████████████████| 1129/1129 [03:03<00:00,  6.15it/s]\n",
      "100%|████████████████████████████████████████████████████████| 1129/1129 [00:00<00:00, 10952.20it/s]\n"
     ]
    },
    {
     "name": "stdout",
     "output_type": "stream",
     "text": [
      "Done with tree. \n",
      " Time elapsed 317.5025222301483 s\n",
      "Loading isotree 0_1_1\n"
     ]
    },
    {
     "name": "stderr",
     "output_type": "stream",
     "text": [
      "/tmp/ipykernel_27989/3461313226.py:4: DtypeWarning: Columns (0,1,2,3,4,5,6,7,8,10,11,12,13,14,15,16,17,18,19,20,21,22,23,24) have mixed types.Specify dtype option on import or set low_memory=False.\n",
      "  dat, sizes=graphs_beforeafter(tcols=all_cols, maxs=[1,3,3], lim=10, save=1, case='medium_beforeafter')\n"
     ]
    },
    {
     "name": "stdout",
     "output_type": "stream",
     "text": [
      "isotree 0_1_1 loaded, restructuring\n",
      "Splitting to tree and scaling\n",
      "70115\n",
      "52207\n",
      "43321\n",
      "25280\n",
      "381538\n",
      "Split done\n",
      "Making merger tree\n"
     ]
    },
    {
     "name": "stderr",
     "output_type": "stream",
     "text": [
      "100%|███████████████████████████████████████████████████████████| 1935/1935 [03:07<00:00, 10.29it/s]\n",
      "100%|████████████████████████████████████████████████████████| 1935/1935 [00:00<00:00, 11421.50it/s]\n"
     ]
    },
    {
     "name": "stdout",
     "output_type": "stream",
     "text": [
      "Done with tree. \n",
      " Time elapsed 499.8832767009735 s\n",
      "Loading isotree 0_1_2\n"
     ]
    },
    {
     "name": "stderr",
     "output_type": "stream",
     "text": [
      "/tmp/ipykernel_27989/3461313226.py:4: DtypeWarning: Columns (0,1,2,3,4,5,6,7,8,10,11,12,13,14,15,16,17,18,19,20,21,22,23,24) have mixed types.Specify dtype option on import or set low_memory=False.\n",
      "  dat, sizes=graphs_beforeafter(tcols=all_cols, maxs=[1,3,3], lim=10, save=1, case='medium_beforeafter')\n"
     ]
    },
    {
     "name": "stdout",
     "output_type": "stream",
     "text": [
      "isotree 0_1_2 loaded, restructuring\n",
      "Splitting to tree and scaling\n",
      "Split done\n",
      "Making merger tree\n"
     ]
    },
    {
     "name": "stderr",
     "output_type": "stream",
     "text": [
      "100%|█████████████████████████████████████████████████████████████| 605/605 [00:18<00:00, 33.26it/s]\n",
      "100%|██████████████████████████████████████████████████████████| 605/605 [00:00<00:00, 16778.10it/s]\n"
     ]
    },
    {
     "name": "stdout",
     "output_type": "stream",
     "text": [
      "Done with tree. \n",
      " Time elapsed 97.28754878044128 s\n",
      "Loading isotree 0_2_0\n"
     ]
    },
    {
     "name": "stderr",
     "output_type": "stream",
     "text": [
      "/tmp/ipykernel_27989/3461313226.py:4: DtypeWarning: Columns (0,1,2,3,4,5,6,7,8,10,11,12,13,14,15,16,17,18,19,20,21,22,23,24) have mixed types.Specify dtype option on import or set low_memory=False.\n",
      "  dat, sizes=graphs_beforeafter(tcols=all_cols, maxs=[1,3,3], lim=10, save=1, case='medium_beforeafter')\n"
     ]
    },
    {
     "name": "stdout",
     "output_type": "stream",
     "text": [
      "isotree 0_2_0 loaded, restructuring\n",
      "Splitting to tree and scaling\n",
      "Split done\n",
      "Making merger tree\n"
     ]
    },
    {
     "name": "stderr",
     "output_type": "stream",
     "text": [
      "100%|███████████████████████████████████████████████████████████| 1176/1176 [03:21<00:00,  5.85it/s]\n",
      "100%|████████████████████████████████████████████████████████| 1176/1176 [00:00<00:00, 11053.92it/s]\n"
     ]
    },
    {
     "name": "stdout",
     "output_type": "stream",
     "text": [
      "Done with tree. \n",
      " Time elapsed 366.96021485328674 s\n",
      "Loading isotree 0_2_1\n"
     ]
    },
    {
     "name": "stderr",
     "output_type": "stream",
     "text": [
      "/tmp/ipykernel_27989/3461313226.py:4: DtypeWarning: Columns (0,1,2,3,4,5,6,7,8,10,11,12,13,14,15,16,17,18,19,20,21,22,23,24) have mixed types.Specify dtype option on import or set low_memory=False.\n",
      "  dat, sizes=graphs_beforeafter(tcols=all_cols, maxs=[1,3,3], lim=10, save=1, case='medium_beforeafter')\n"
     ]
    },
    {
     "name": "stdout",
     "output_type": "stream",
     "text": [
      "isotree 0_2_1 loaded, restructuring\n",
      "Splitting to tree and scaling\n",
      "50415\n",
      "Split done\n",
      "Making merger tree\n"
     ]
    },
    {
     "name": "stderr",
     "output_type": "stream",
     "text": [
      "100%|███████████████████████████████████████████████████████████| 1289/1289 [02:43<00:00,  7.91it/s]\n",
      "100%|█████████████████████████████████████████████████████████| 1289/1289 [00:00<00:00, 5587.89it/s]\n"
     ]
    },
    {
     "name": "stdout",
     "output_type": "stream",
     "text": [
      "Done with tree. \n",
      " Time elapsed 371.21220421791077 s\n",
      "Loading isotree 0_2_2\n"
     ]
    },
    {
     "name": "stderr",
     "output_type": "stream",
     "text": [
      "/tmp/ipykernel_27989/3461313226.py:4: DtypeWarning: Columns (0,1,2,3,4,5,6,7,8,10,11,12,13,14,15,16,17,18,19,20,21,22,23,24) have mixed types.Specify dtype option on import or set low_memory=False.\n",
      "  dat, sizes=graphs_beforeafter(tcols=all_cols, maxs=[1,3,3], lim=10, save=1, case='medium_beforeafter')\n"
     ]
    },
    {
     "name": "stdout",
     "output_type": "stream",
     "text": [
      "isotree 0_2_2 loaded, restructuring\n",
      "Splitting to tree and scaling\n",
      "43429\n",
      "Split done\n",
      "Making merger tree\n"
     ]
    },
    {
     "name": "stderr",
     "output_type": "stream",
     "text": [
      "100%|█████████████████████████████████████████████████████████████| 807/807 [01:02<00:00, 13.00it/s]\n",
      "100%|██████████████████████████████████████████████████████████| 807/807 [00:00<00:00, 13021.73it/s]\n"
     ]
    },
    {
     "name": "stdout",
     "output_type": "stream",
     "text": [
      "Done with tree. \n",
      " Time elapsed 193.21232748031616 s\n",
      "Saving dataset\n"
     ]
    },
    {
     "name": "stderr",
     "output_type": "stream",
     "text": [
      "/tmp/ipykernel_27989/3866062503.py:213: VisibleDeprecationWarning: Creating an ndarray from ragged nested sequences (which is a list-or-tuple of lists-or-tuples-or ndarrays with different lengths or shapes) is deprecated. If you meant to do this, you must specify 'dtype=object' when creating the ndarray.\n",
      "  pickle.dump(np.array(siz), handle)\n"
     ]
    }
   ],
   "source": [
    "all_cols=np.array([0,2,4,5,6,7,8,10,11,12,13,14,15,16,17,18,19,20,21,22,23,24,25,35]+list(range(37,60)))\n",
    "# all_cols=np.array([0,2,4,6,7,8,10,11,12,13,14,15,16,17,18,19,22,23,25,35]+list(range(37,60)))\n",
    "\n",
    "dat, sizes=graphs_beforeafter(tcols=all_cols, maxs=[1,3,3], lim=10, save=1, case='medium_beforeafter')"
   ]
  },
  {
   "cell_type": "markdown",
   "id": "27435b86",
   "metadata": {},
   "source": [
    "### I think this is just due to total amount of nodes"
   ]
  },
  {
   "cell_type": "code",
   "execution_count": 5,
   "id": "67345683",
   "metadata": {},
   "outputs": [],
   "source": [
    "avs=[]\n",
    "ys=[]\n",
    "ls=[]\n",
    "for i in range(len(dat)):\n",
    "    g=dat[i]\n",
    "    ys.append(g.y.numpy())\n",
    "    prog, desc=g.edge_index #from, to\n",
    "    x=g.x\n",
    "    av=0\n",
    "    for n in np.unique(desc):\n",
    "        m_f=x[n, 3]\n",
    "        m_in=x[prog[np.where(desc==n)], 3]\n",
    "    #     print(m_f, m_in, np.sum(m_in.numpy()))\n",
    "        av+=abs(m_f.numpy() - np.sum(m_in.numpy()))\n",
    "    ls.append(len(x))\n",
    "    avs.append(av) "
   ]
  },
  {
   "cell_type": "code",
   "execution_count": 6,
   "id": "34c2e61e",
   "metadata": {},
   "outputs": [
    {
     "data": {
      "text/plain": [
       "(array([1.000e+00, 3.790e+02, 4.548e+03, 3.149e+03, 1.379e+03, 6.220e+02,\n",
       "        2.620e+02, 1.010e+02, 5.000e+01, 3.300e+01]),\n",
       " array([0.60205999, 0.97172402, 1.34138805, 1.71105208, 2.08071611,\n",
       "        2.45038014, 2.82004417, 3.1897082 , 3.55937222, 3.92903625,\n",
       "        4.29870028]),\n",
       " <BarContainer object of 10 artists>)"
      ]
     },
     "execution_count": 6,
     "metadata": {},
     "output_type": "execute_result"
    },
    {
     "data": {
      "image/png": "[encoded data removed]",
      "text/plain": [
       "<Figure size 432x288 with 1 Axes>"
      ]
     },
     "metadata": {
      "needs_background": "light"
     },
     "output_type": "display_data"
    }
   ],
   "source": [
    "plt.hist(np.log10(ls))"
   ]
  },
  {
   "cell_type": "code",
   "execution_count": 7,
   "id": "65dd10a7",
   "metadata": {},
   "outputs": [
    {
     "data": {
      "text/plain": [
       "(array([   7.,  307., 3182., 3976., 1764.,  757.,  327.,  119.,   52.,\n",
       "          33.]),\n",
       " array([0.07570525, 0.47523172, 0.8747582 , 1.27428467, 1.67381115,\n",
       "        2.07333762, 2.4728641 , 2.87239058, 3.27191705, 3.67144353,\n",
       "        4.07097   ]),\n",
       " <BarContainer object of 10 artists>)"
      ]
     },
     "execution_count": 7,
     "metadata": {},
     "output_type": "execute_result"
    },
    {
     "data": {
      "image/png": "[encoded data removed]",
      "text/plain": [
       "<Figure size 432x288 with 1 Axes>"
      ]
     },
     "metadata": {
      "needs_background": "light"
     },
     "output_type": "display_data"
    }
   ],
   "source": [
    "plt.hist(np.log10(avs))"
   ]
  },
  {
   "cell_type": "code",
   "execution_count": 8,
   "id": "d88d5039",
   "metadata": {},
   "outputs": [
    {
     "data": {
      "text/plain": [
       "[<matplotlib.lines.Line2D at 0x2b1511ced520>]"
      ]
     },
     "execution_count": 8,
     "metadata": {},
     "output_type": "execute_result"
    },
    {
     "data": {
      "image/png": "[encoded data removed]",
      "text/plain": [
       "<Figure size 432x288 with 1 Axes>"
      ]
     },
     "metadata": {
      "needs_background": "light"
     },
     "output_type": "display_data"
    }
   ],
   "source": [
    "plt.plot(np.log10(ls),np.log10(avs), 'ro')"
   ]
  },
  {
   "cell_type": "code",
   "execution_count": 9,
   "id": "1c38fc44",
   "metadata": {},
   "outputs": [
    {
     "data": {
      "text/plain": [
       "[<matplotlib.lines.Line2D at 0x2b184afe82b0>]"
      ]
     },
     "execution_count": 9,
     "metadata": {},
     "output_type": "execute_result"
    },
    {
     "data": {
      "image/png": "[encoded data removed]",
      "text/plain": [
       "<Figure size 432x288 with 1 Axes>"
      ]
     },
     "metadata": {
      "needs_background": "light"
     },
     "output_type": "display_data"
    }
   ],
   "source": [
    "plt.plot(np.log10(ls),ys, 'ro')"
   ]
  },
  {
   "cell_type": "markdown",
   "id": "0d0348ca",
   "metadata": {},
   "source": [
    "### Magnitude due to total amount of nodes, up or down is pretty random"
   ]
  },
  {
   "cell_type": "code",
   "execution_count": 42,
   "id": "6cff38f6",
   "metadata": {},
   "outputs": [],
   "source": [
    "avs=[]\n",
    "ls=[]\n",
    "for i in range(len(dat)):\n",
    "    g=dat[i]\n",
    "    prog, desc=g.edge_index #from, to\n",
    "    x=g.x\n",
    "    av=0\n",
    "    for n in np.unique(desc):\n",
    "        m_f=x[n, 3]\n",
    "        m_in=x[prog[np.where(desc==n)], 3]\n",
    "    #     print(m_f, m_in, np.sum(m_in.numpy()))\n",
    "        av+=m_f.numpy() - np.sum(m_in.numpy())\n",
    "    ls.append(len(x))\n",
    "    avs.append(av)"
   ]
  },
  {
   "cell_type": "code",
   "execution_count": 45,
   "id": "9f4e230e",
   "metadata": {},
   "outputs": [
    {
     "data": {
      "text/plain": [
       "[<matplotlib.lines.Line2D at 0x2b718a7613a0>]"
      ]
     },
     "execution_count": 45,
     "metadata": {},
     "output_type": "execute_result"
    },
    {
     "data": {
      "image/png": "[encoded data removed]",
      "text/plain": [
       "<Figure size 432x288 with 1 Axes>"
      ]
     },
     "metadata": {
      "needs_background": "light"
     },
     "output_type": "display_data"
    }
   ],
   "source": [
    "plt.plot(ls,avs, 'ro')"
   ]
  },
  {
   "cell_type": "markdown",
   "id": "0a3591c8",
   "metadata": {},
   "source": [
    "## Make better plotting (make pos, edge_length)"
   ]
  },
  {
   "cell_type": "code",
   "execution_count": null,
   "id": "bef78d7c",
   "metadata": {},
   "outputs": [],
   "source": [
    "j=0\n",
    "from matplotlib import cm\n",
    "cmap=cm.get_cmap(name='magma')\n",
    "fig,ax=plt.subplots(figsize=(15,8))\n",
    "G=tg.utils.to_networkx(dat[j])\n",
    "di=nx.betweenness_centrality(G)\n",
    "for q,key in enumerate(di.keys()):\n",
    "    di[key]=dat[j].x.numpy()[q,2]\n",
    "nx.set_node_attributes(G, di, 'n_prog')\n",
    "print('Made graph')\n",
    "# G.remove_nodes_from(list(nx.isolates(G)))\n",
    "pos=nx.planar_layout(G)\n",
    "# pos=nx.kamada_kawai_layout(G) #this one is kinda snakey but works pretty well! Slow as hell though\n",
    "if G.number_of_nodes()<2000:\n",
    "    print('drawing')\n",
    "    nx.draw(G, pos=pos,ax=ax, node_size=8, arrowsize=5, cmap=cmap)"
   ]
  },
  {
   "cell_type": "code",
   "execution_count": null,
   "id": "cb697ad6",
   "metadata": {},
   "outputs": [],
   "source": [
    "import matplotlib.pyplot as plt\n",
    "# create number for each group to allow use of colormap\n",
    "from itertools import count\n",
    "fig,ax=plt.subplots(figsize=(20,8))\n",
    "# get unique groups\n",
    "groups = set(nx.get_node_attributes(G,'n_prog').values())\n",
    "mapping = dict(zip(sorted(groups),count()))\n",
    "nodes = G.nodes()\n",
    "colors=dat[j].x.numpy()[:,2]\n",
    "sizes=(dat[j].x.numpy()[:,3]-min(dat[j].x.numpy()[:,3])+2)**2/10\n",
    "# drawing nodes and edges separately so we can capture collection for colobar\n",
    "pos = nx.planar_layout(G)\n",
    "pos[min(pos.keys())]=(pos[min(pos.keys())]*np.array([-0.75,1.1]))*1.1\n",
    "# pos[max(pos.keys())]=pos[max(pos.keys())]*np.array([0.9,-0.9])\n",
    "ec = nx.draw_networkx_edges(G, pos,arrowsize=10, ax=ax, alpha=0.4)\n",
    "nc = nx.draw_networkx_nodes(G, pos, ax=ax, nodelist=nodes, node_color=colors, node_size=sizes, cmap=plt.cm.jet)\n",
    "plt.colorbar(nc)\n",
    "plt.axis('off')\n",
    "plt.show()"
   ]
  }
 ],
 "metadata": {
  "kernelspec": {
   "display_name": "Python 3 (ipykernel)",
   "language": "python",
   "name": "python3"
  },
  "language_info": {
   "codemirror_mode": {
    "name": "ipython",
    "version": 3
   },
   "file_extension": ".py",
   "mimetype": "text/x-python",
   "name": "python",
   "nbconvert_exporter": "python",
   "pygments_lexer": "ipython3",
   "version": "3.9.7"
  }
 },
 "nbformat": 4,
 "nbformat_minor": 5
}
