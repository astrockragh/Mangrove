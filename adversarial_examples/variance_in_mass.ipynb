{
 "cells": [
  {
   "cell_type": "code",
   "execution_count": 1,
   "id": "a556f73c",
   "metadata": {},
   "outputs": [],
   "source": [
    "import torch, time, pickle,os\n",
    "import torch_geometric as tg\n",
    "from torch_geometric.data import Data\n",
    "import numpy as np\n",
    "import matplotlib.pyplot as plt\n",
    "import pandas as pd\n",
    "from tqdm import tqdm\n",
    "import os.path as osp\n",
    "import networkx as nx"
   ]
  },
  {
   "cell_type": "code",
   "execution_count": 2,
   "id": "899a18ac",
   "metadata": {},
   "outputs": [],
   "source": [
    "def convert(d,p):\n",
    "    dfin=[]\n",
    "    if len(p)!=len(np.unique(p)):\n",
    "        print('Wrong order of prog/desc')\n",
    "    else:\n",
    "        no=d[0]\n",
    "        for desc in d:\n",
    "            if desc==no:\n",
    "                dfin.append(0)\n",
    "            else:\n",
    "                dfin.append(p.index(desc)+1)\n",
    "    return dfin, np.arange(1, 1+len(p))"
   ]
  },
  {
   "cell_type": "code",
   "execution_count": 3,
   "id": "6fac7f35",
   "metadata": {},
   "outputs": [],
   "source": [
    "def graph_variance(tcols=[0,2,4,5,6,7,8,10,28], target=8, save=False, lim=10.5, case='test', transform='quantile', maxs=[1,1,1]):\n",
    "    dat=[]\n",
    "    tcols=np.array(tcols)\n",
    "    raw_path='~/../../../tigress/mcranmer/merger_trees/isotrees/'\n",
    "    target_path='~/../../../tigress/mcranmer/merger_trees/samout/'\n",
    "    transform_path=f'../../../../../scratch/gpfs/cj1223/GraphStorage/transformers/{transform}_allfeat.pkl'\n",
    "    scaler=pickle.load(open(transform_path, 'rb'))\n",
    "    global not_include\n",
    "    not_include=np.array([0,1,0,1,0,1,1,1,1,1,0,0,0,0,0,0,0,0,0,0,0,0,0,0,0,0,0,0,0,0,0,0,0,0,0,0,0,0,0,0,0,0,0,0,0,0,0,0,0,\\\n",
    "        0,0,0,0,0,0,0,0,0,0,0]) \n",
    "    is_cat=[0,1,0,1,1,1,1,1,1,0,0,0,0,0,1,0,0,0,0,0,0,0,0,0,0,0,0,1,1,1,1,1,1,1,1,0,1,0,0,0,0,0,0,0,0,0,0,0,0,\\\n",
    "        0,0,0,0,0,0,0,0,0,0,0]\n",
    "    is_cat=np.array([bool(i) for i in is_cat])\n",
    "    icols=np.array([1,3])\n",
    "    load_cols=np.sort(np.concatenate([tcols,icols]))\n",
    "    not_include=not_include[load_cols]\n",
    "    for i in range(0, maxs[0]):\n",
    "        for j in range(0,maxs[1]):\n",
    "            for k in range(0, maxs[2]):\n",
    "                \n",
    "                start=time.time()\n",
    "                \n",
    "                print(f'Loading isotree {i}_{j}_{k}')\n",
    "\n",
    "                pd1=pd.read_table(raw_path+f'isotree_{i}_{j}_{k}.dat', skiprows=0, delimiter='\\s+', usecols=load_cols)\n",
    "                print(f'isotree {i}_{j}_{k} loaded, restructuring')\n",
    "\n",
    "                raw=pd1.drop(axis=0, index=np.arange(50)).reset_index()\n",
    "                del pd1\n",
    "\n",
    "                trees=raw[raw.isna()['desc_id(3)']] \n",
    "                halos=raw[~raw.isna()['desc_id(3)']]\n",
    "                del raw\n",
    "\n",
    "                mask=halos.dtypes.values[1:]=='O'\n",
    "\n",
    "                f,it=\"float64\", \"int64\"\n",
    "                map1=[]\n",
    "                map2=[]\n",
    "                q=0\n",
    "                for l in load_cols:\n",
    "                    q+=1\n",
    "                    if l<25:\n",
    "                        map1.append(l)\n",
    "                        map2.append(q)\n",
    "                map1=np.array(map1)\n",
    "                map2=np.array(map2)\n",
    "\n",
    "                castto=np.array([f,it,f,it,it,it,it,it,it,f,f,f,f,f,it,f,f,f,f,f,f,f,f,f,f])\n",
    "\n",
    "                castto=castto[map1]\n",
    "                dicts = {}\n",
    "                keys = halos.columns[map2]\n",
    "                for d, key in enumerate(keys):\n",
    "                        dicts[key] = castto[d]\n",
    "\n",
    "                halos=halos.astype(dicts)\n",
    "\n",
    "                ## initial scaling\n",
    "                hard=[0,2,15]\n",
    "                def logit(x):\n",
    "                    return np.log10((x+0.001)/(1.01-x))\n",
    "                ##logit transform the hards\n",
    "                for h in hard:\n",
    "                    if h in tcols:\n",
    "                        h1=np.where(load_cols==h)[0][0]+1\n",
    "                        halos[halos.columns[h1]]=logit(halos[halos.columns[h1]])\n",
    "\n",
    "                log=[10,38, 39, 40, 41, 42]\n",
    "\n",
    "                def logt(x):\n",
    "                    return np.log10(x+1)\n",
    "                for l in log:\n",
    "                    if l in tcols:\n",
    "                        l1=np.where(load_cols==l)[0][0]+1\n",
    "                        halos[halos.columns[l1]]=logt(halos[halos.columns[l1]])\n",
    "\n",
    "                scale_cols=np.array(tcols[~is_cat[tcols]])\n",
    "\n",
    "                print(f'Splitting to tree and scaling')\n",
    "                spli=np.split(np.array(halos)[:,1:], np.array(trees.iloc[1:].index)-np.arange(1,len(trees.index)))\n",
    "                splits=[]\n",
    "                for s in spli:\n",
    "                    if s[0,np.where(load_cols==10)[0][0]]>lim:\n",
    "                        splits.append(s)\n",
    "                splits=np.array(splits, dtype=object)\n",
    "                split=[]\n",
    "                idx=[]\n",
    "                ## split to only roots (tree[:,4]=0), mergers (tree[:,4]>1) or the final halo (tree[:,3] == -1)\n",
    "                for m, tree in enumerate(splits):\n",
    "                    s=tree[np.logical_or(tree[:,3] == -1,tree[:,4]!=1)]\n",
    "                    if len(s)>20000:\n",
    "                        print(len(s))\n",
    "                    else:\n",
    "                        for n in scale_cols:\n",
    "                            n1=np.where(load_cols==n)[0][0]\n",
    "                            s[:,n1]=scaler[n].transform(s[:,n1].reshape(-1,1)).reshape(np.shape(s[:,n1]))\n",
    "\n",
    "                        split.append(s)\n",
    "                        idx.append(m)\n",
    "                split=np.array(split, dtype=object)\n",
    "                print('Split done')\n",
    "\n",
    "                halwgal=split\n",
    "                hraw=np.array(splits[idx], dtype=object)\n",
    "                hals=[]\n",
    "                out=[]\n",
    "                pr,de=[],[]\n",
    "                discards=[]\n",
    "                print('Making merger tree')\n",
    "                for n in tqdm(range(len(halwgal))):\n",
    "                    h=halwgal[n]\n",
    "                    roots=h[h[:,4]==0]\n",
    "                    mergers=h[h[:,4]>1]\n",
    "                    final=h[h[:,3]==-1]\n",
    "                    pro, des=[],[]\n",
    "                    discarded=[]\n",
    "                    for mid in mergers[:,1]:\n",
    "                        k=1\n",
    "                        descid=hraw[n][:,3][np.where(mid==hraw[n][:,1])] ##descendant ID of raw where the id of the merger is\n",
    "                        while descid not in mergers[:,1] and descid!=-1: \n",
    "                            k+=1\n",
    "                            descid=hraw[n][:,3][np.where(descid==hraw[n][:,1])]\n",
    "                        pro.append(mid)\n",
    "                        if descid!=-1:\n",
    "                            des.append(descid[0])\n",
    "                        else:\n",
    "                            des.append(hraw[n][:,3][np.where(mid==hraw[n][:,1])][0])\n",
    "                        discarded.append(1/k)\n",
    "\n",
    "                    for r in roots:\n",
    "                        descid=hraw[n][:,3][np.where(r[1]==hraw[n][:,1])] \n",
    "                        k=1\n",
    "                        while descid not in mergers[:,1] and descid!=[-1]: ##could add 1/k\n",
    "                            k+=1\n",
    "                            descid=hraw[n][:,3][np.where(descid==hraw[n][:,1])]#consider adding the number of steps it went through\n",
    "                        pro.append(r[1])\n",
    "                        if descid!=-1:\n",
    "                            des.append(descid[0])\n",
    "                        else:\n",
    "                            des.append(hraw[n][:,3][np.where(r[1]==hraw[n][:,1])][0])\n",
    "                        discarded.append(1/k) \n",
    "\n",
    "                    discards.append(np.array(discarded))\n",
    "                    des,pro=convert(des, pro)\n",
    "                    hal2=np.vstack([final,mergers,roots])\n",
    "                    global mass_index\n",
    "                    if n==0:\n",
    "                        fcols=[i for i in range(len(hal2[0])) if not_include[i]==0] ##choose non-id cols to carry forward\n",
    "                        mask=np.array([bool(i) for i in not_include])\n",
    "                        idcols=load_cols[~mask] ##choose non-id cols to carry forward\n",
    "                        mass_id=np.where(np.array(idcols)==10)[0][0]\n",
    "                    hal2=hal2[:,fcols] ##take away id's\n",
    "                    hals.append(hal2)\n",
    "\n",
    "                    out.append(np.std(hal2[:,mass_id])) ###target\n",
    "                    pr.append([int(p) for p in pro])\n",
    "                    de.append([int(d) for d in des])\n",
    "                \n",
    "                hals=np.array(hals, dtype=object)\n",
    "                for n in tqdm(range(len(out))):\n",
    "                    edge_index = torch.tensor([pr[n],de[n]], dtype=torch.long)\n",
    "                    x = torch.tensor(hals[n], dtype=torch.float)\n",
    "\n",
    "                    y=torch.tensor(out[n], dtype=torch.float)\n",
    "                    edge_attr=torch.tensor(discards[n], dtype=torch.float)\n",
    "                    graph=Data(x=x, edge_index=edge_index, edge_attr=edge_attr, y=y)\n",
    "                    dat.append(graph)\n",
    "                stop=time.time()\n",
    "                print(f'Done with tree. \\n Time elapsed {stop-start} s')\n",
    "                print(\"Saving dataset\")\n",
    "    datm, dats, datb=[], [], []\n",
    "    for d in dat:\n",
    "        if len(d.x.numpy())<30:\n",
    "            dats.append(d)\n",
    "        elif len(d.x.numpy())>250:\n",
    "            datb.append(d)\n",
    "        else:\n",
    "            datm.append(d)\n",
    "    sizes=[dats, datm, datb]\n",
    "    if save:\n",
    "        if not osp.exists(f'../../../../../scratch/gpfs/cj1223/GraphStorage/{case}'):\n",
    "            os.mkdir(f'../../../../../scratch/gpfs/cj1223/GraphStorage/{case}')\n",
    "\n",
    "        with open(f'../../../../../scratch/gpfs/cj1223/GraphStorage/{case}/data.pkl', 'wb') as handle:\n",
    "            pickle.dump(dat, handle)\n",
    "\n",
    "        strs=['small','medium', 'big']\n",
    "        for siz, sts in zip(sizes, strs):\n",
    "            with open(f'../../../../../scratch/gpfs/cj1223/GraphStorage/{case}/data_{sts}.pkl', 'wb') as handle:\n",
    "                pickle.dump(np.array(siz), handle)\n",
    "\n",
    "    return dat, sizes"
   ]
  },
  {
   "cell_type": "code",
   "execution_count": 4,
   "id": "6b200789",
   "metadata": {},
   "outputs": [
    {
     "name": "stdout",
     "output_type": "stream",
     "text": [
      "Loading isotree 0_0_0\n"
     ]
    },
    {
     "name": "stderr",
     "output_type": "stream",
     "text": [
      "/tmp/ipykernel_4141/3961725145.py:4: DtypeWarning: Columns (0,1,2,3,4,5,6,7,8,10,11,12,13,14,15,16,17,18,19,20,21,22,23,24) have mixed types.Specify dtype option on import or set low_memory=False.\n",
      "  dat, sizes=graph_variance(tcols=all_cols, maxs=[2,3,3], lim=10, save=1, case='medium_all_variance')\n"
     ]
    },
    {
     "name": "stdout",
     "output_type": "stream",
     "text": [
      "isotree 0_0_0 loaded, restructuring\n",
      "Splitting to tree and scaling\n",
      "Split done\n",
      "Making merger tree\n"
     ]
    },
    {
     "name": "stderr",
     "output_type": "stream",
     "text": [
      "100%|█████████████████████████████████████████████████████████████| 770/770 [00:57<00:00, 13.33it/s]\n",
      "100%|██████████████████████████████████████████████████████████| 770/770 [00:00<00:00, 14646.91it/s]\n"
     ]
    },
    {
     "name": "stdout",
     "output_type": "stream",
     "text": [
      "Done with tree. \n",
      " Time elapsed 137.2288794517517 s\n",
      "Saving dataset\n",
      "Loading isotree 0_0_1\n"
     ]
    },
    {
     "name": "stderr",
     "output_type": "stream",
     "text": [
      "/tmp/ipykernel_4141/3961725145.py:4: DtypeWarning: Columns (0,1,2,3,4,5,6,7,8,10,11,12,13,14,15,16,17,18,19,20,21,22,23,24) have mixed types.Specify dtype option on import or set low_memory=False.\n",
      "  dat, sizes=graph_variance(tcols=all_cols, maxs=[2,3,3], lim=10, save=1, case='medium_all_variance')\n"
     ]
    },
    {
     "name": "stdout",
     "output_type": "stream",
     "text": [
      "isotree 0_0_1 loaded, restructuring\n",
      "Splitting to tree and scaling\n",
      "Split done\n",
      "Making merger tree\n"
     ]
    },
    {
     "name": "stderr",
     "output_type": "stream",
     "text": [
      "100%|███████████████████████████████████████████████████████████| 1339/1339 [03:01<00:00,  7.36it/s]\n",
      "100%|█████████████████████████████████████████████████████████| 1339/1339 [00:00<00:00, 9357.96it/s]\n"
     ]
    },
    {
     "name": "stdout",
     "output_type": "stream",
     "text": [
      "Done with tree. \n",
      " Time elapsed 333.57345390319824 s\n",
      "Saving dataset\n",
      "Loading isotree 0_0_2\n"
     ]
    },
    {
     "name": "stderr",
     "output_type": "stream",
     "text": [
      "/tmp/ipykernel_4141/3961725145.py:4: DtypeWarning: Columns (0,1,2,3,4,5,6,7,8,10,11,12,13,14,15,16,17,18,19,20,21,22,23,24) have mixed types.Specify dtype option on import or set low_memory=False.\n",
      "  dat, sizes=graph_variance(tcols=all_cols, maxs=[2,3,3], lim=10, save=1, case='medium_all_variance')\n"
     ]
    },
    {
     "name": "stdout",
     "output_type": "stream",
     "text": [
      "isotree 0_0_2 loaded, restructuring\n",
      "Splitting to tree and scaling\n",
      "72404\n",
      "60368\n",
      "26084\n",
      "29167\n",
      "Split done\n",
      "Making merger tree\n"
     ]
    },
    {
     "name": "stderr",
     "output_type": "stream",
     "text": [
      "100%|███████████████████████████████████████████████████████████| 1474/1474 [02:49<00:00,  8.67it/s]\n",
      "100%|█████████████████████████████████████████████████████████| 1474/1474 [00:00<00:00, 5679.90it/s]\n"
     ]
    },
    {
     "name": "stdout",
     "output_type": "stream",
     "text": [
      "Done with tree. \n",
      " Time elapsed 386.1320631504059 s\n",
      "Saving dataset\n",
      "Loading isotree 0_1_0\n"
     ]
    },
    {
     "name": "stderr",
     "output_type": "stream",
     "text": [
      "/tmp/ipykernel_4141/3961725145.py:4: DtypeWarning: Columns (0,1,2,3,4,5,6,7,8,10,11,12,13,14,15,16,17,18,19,20,21,22,23,24) have mixed types.Specify dtype option on import or set low_memory=False.\n",
      "  dat, sizes=graph_variance(tcols=all_cols, maxs=[2,3,3], lim=10, save=1, case='medium_all_variance')\n"
     ]
    },
    {
     "name": "stdout",
     "output_type": "stream",
     "text": [
      "isotree 0_1_0 loaded, restructuring\n",
      "Splitting to tree and scaling\n",
      "70472\n",
      "Split done\n",
      "Making merger tree\n"
     ]
    },
    {
     "name": "stderr",
     "output_type": "stream",
     "text": [
      "100%|███████████████████████████████████████████████████████████| 1129/1129 [02:30<00:00,  7.49it/s]\n",
      "100%|█████████████████████████████████████████████████████████| 1129/1129 [00:00<00:00, 8212.26it/s]\n"
     ]
    },
    {
     "name": "stdout",
     "output_type": "stream",
     "text": [
      "Done with tree. \n",
      " Time elapsed 320.0610990524292 s\n",
      "Saving dataset\n",
      "Loading isotree 0_1_1\n"
     ]
    },
    {
     "name": "stderr",
     "output_type": "stream",
     "text": [
      "/tmp/ipykernel_4141/3961725145.py:4: DtypeWarning: Columns (0,1,2,3,4,5,6,7,8,10,11,12,13,14,15,16,17,18,19,20,21,22,23,24) have mixed types.Specify dtype option on import or set low_memory=False.\n",
      "  dat, sizes=graph_variance(tcols=all_cols, maxs=[2,3,3], lim=10, save=1, case='medium_all_variance')\n"
     ]
    },
    {
     "name": "stdout",
     "output_type": "stream",
     "text": [
      "isotree 0_1_1 loaded, restructuring\n",
      "Splitting to tree and scaling\n",
      "70115\n",
      "52207\n",
      "43321\n",
      "25280\n",
      "381538\n",
      "Split done\n",
      "Making merger tree\n"
     ]
    },
    {
     "name": "stderr",
     "output_type": "stream",
     "text": [
      "100%|███████████████████████████████████████████████████████████| 1935/1935 [02:49<00:00, 11.44it/s]\n",
      "100%|█████████████████████████████████████████████████████████| 1935/1935 [00:00<00:00, 9204.95it/s]\n"
     ]
    },
    {
     "name": "stdout",
     "output_type": "stream",
     "text": [
      "Done with tree. \n",
      " Time elapsed 654.4528889656067 s\n",
      "Saving dataset\n",
      "Loading isotree 0_1_2\n"
     ]
    },
    {
     "name": "stderr",
     "output_type": "stream",
     "text": [
      "/tmp/ipykernel_4141/3961725145.py:4: DtypeWarning: Columns (0,1,2,3,4,5,6,7,8,10,11,12,13,14,15,16,17,18,19,20,21,22,23,24) have mixed types.Specify dtype option on import or set low_memory=False.\n",
      "  dat, sizes=graph_variance(tcols=all_cols, maxs=[2,3,3], lim=10, save=1, case='medium_all_variance')\n"
     ]
    },
    {
     "name": "stdout",
     "output_type": "stream",
     "text": [
      "isotree 0_1_2 loaded, restructuring\n",
      "Splitting to tree and scaling\n",
      "Split done\n",
      "Making merger tree\n"
     ]
    },
    {
     "name": "stderr",
     "output_type": "stream",
     "text": [
      "100%|█████████████████████████████████████████████████████████████| 605/605 [00:20<00:00, 29.99it/s]\n",
      "100%|██████████████████████████████████████████████████████████| 605/605 [00:00<00:00, 13709.02it/s]\n"
     ]
    },
    {
     "name": "stdout",
     "output_type": "stream",
     "text": [
      "Done with tree. \n",
      " Time elapsed 114.2507553100586 s\n",
      "Saving dataset\n",
      "Loading isotree 0_2_0\n"
     ]
    },
    {
     "name": "stderr",
     "output_type": "stream",
     "text": [
      "/tmp/ipykernel_4141/3961725145.py:4: DtypeWarning: Columns (0,1,2,3,4,5,6,7,8,10,11,12,13,14,15,16,17,18,19,20,21,22,23,24) have mixed types.Specify dtype option on import or set low_memory=False.\n",
      "  dat, sizes=graph_variance(tcols=all_cols, maxs=[2,3,3], lim=10, save=1, case='medium_all_variance')\n"
     ]
    },
    {
     "name": "stdout",
     "output_type": "stream",
     "text": [
      "isotree 0_2_0 loaded, restructuring\n",
      "Splitting to tree and scaling\n",
      "Split done\n",
      "Making merger tree\n"
     ]
    },
    {
     "name": "stderr",
     "output_type": "stream",
     "text": [
      "100%|███████████████████████████████████████████████████████████| 1176/1176 [02:43<00:00,  7.21it/s]\n",
      "100%|█████████████████████████████████████████████████████████| 1176/1176 [00:00<00:00, 9478.20it/s]\n"
     ]
    },
    {
     "name": "stdout",
     "output_type": "stream",
     "text": [
      "Done with tree. \n",
      " Time elapsed 374.3413145542145 s\n",
      "Saving dataset\n",
      "Loading isotree 0_2_1\n"
     ]
    },
    {
     "name": "stderr",
     "output_type": "stream",
     "text": [
      "/tmp/ipykernel_4141/3961725145.py:4: DtypeWarning: Columns (0,1,2,3,4,5,6,7,8,10,11,12,13,14,15,16,17,18,19,20,21,22,23,24) have mixed types.Specify dtype option on import or set low_memory=False.\n",
      "  dat, sizes=graph_variance(tcols=all_cols, maxs=[2,3,3], lim=10, save=1, case='medium_all_variance')\n"
     ]
    },
    {
     "name": "stdout",
     "output_type": "stream",
     "text": [
      "isotree 0_2_1 loaded, restructuring\n",
      "Splitting to tree and scaling\n",
      "50415\n",
      "Split done\n",
      "Making merger tree\n"
     ]
    },
    {
     "name": "stderr",
     "output_type": "stream",
     "text": [
      "100%|███████████████████████████████████████████████████████████| 1289/1289 [02:20<00:00,  9.15it/s]\n",
      "100%|█████████████████████████████████████████████████████████| 1289/1289 [00:00<00:00, 9551.69it/s]\n"
     ]
    },
    {
     "name": "stdout",
     "output_type": "stream",
     "text": [
      "Done with tree. \n",
      " Time elapsed 374.18507146835327 s\n",
      "Saving dataset\n",
      "Loading isotree 0_2_2\n"
     ]
    },
    {
     "name": "stderr",
     "output_type": "stream",
     "text": [
      "/tmp/ipykernel_4141/3961725145.py:4: DtypeWarning: Columns (0,1,2,3,4,5,6,7,8,10,11,12,13,14,15,16,17,18,19,20,21,22,23,24) have mixed types.Specify dtype option on import or set low_memory=False.\n",
      "  dat, sizes=graph_variance(tcols=all_cols, maxs=[2,3,3], lim=10, save=1, case='medium_all_variance')\n"
     ]
    },
    {
     "name": "stdout",
     "output_type": "stream",
     "text": [
      "isotree 0_2_2 loaded, restructuring\n",
      "Splitting to tree and scaling\n",
      "43429\n",
      "Split done\n",
      "Making merger tree\n"
     ]
    },
    {
     "name": "stderr",
     "output_type": "stream",
     "text": [
      "100%|█████████████████████████████████████████████████████████████| 807/807 [00:57<00:00, 13.94it/s]\n",
      "100%|██████████████████████████████████████████████████████████| 807/807 [00:00<00:00, 10120.11it/s]\n"
     ]
    },
    {
     "name": "stdout",
     "output_type": "stream",
     "text": [
      "Done with tree. \n",
      " Time elapsed 211.4480493068695 s\n",
      "Saving dataset\n",
      "Loading isotree 1_0_0\n"
     ]
    },
    {
     "name": "stderr",
     "output_type": "stream",
     "text": [
      "/tmp/ipykernel_4141/3961725145.py:4: DtypeWarning: Columns (0,1,2,3,4,5,6,7,8,10,11,12,13,14,15,16,17,18,19,20,21,22,23,24) have mixed types.Specify dtype option on import or set low_memory=False.\n",
      "  dat, sizes=graph_variance(tcols=all_cols, maxs=[2,3,3], lim=10, save=1, case='medium_all_variance')\n"
     ]
    },
    {
     "name": "stdout",
     "output_type": "stream",
     "text": [
      "isotree 1_0_0 loaded, restructuring\n",
      "Splitting to tree and scaling\n",
      "148608\n",
      "24297\n",
      "20509\n",
      "Split done\n",
      "Making merger tree\n"
     ]
    },
    {
     "name": "stderr",
     "output_type": "stream",
     "text": [
      "100%|███████████████████████████████████████████████████████████| 1811/1811 [03:53<00:00,  7.76it/s]\n",
      "100%|█████████████████████████████████████████████████████████| 1811/1811 [00:00<00:00, 9265.61it/s]\n"
     ]
    },
    {
     "name": "stdout",
     "output_type": "stream",
     "text": [
      "Done with tree. \n",
      " Time elapsed 620.7381269931793 s\n",
      "Saving dataset\n",
      "Loading isotree 1_0_1\n"
     ]
    },
    {
     "name": "stderr",
     "output_type": "stream",
     "text": [
      "/tmp/ipykernel_4141/3961725145.py:4: DtypeWarning: Columns (0,1,2,3,4,5,6,7,8,10,11,12,13,14,15,16,17,18,19,20,21,22,23,24) have mixed types.Specify dtype option on import or set low_memory=False.\n",
      "  dat, sizes=graph_variance(tcols=all_cols, maxs=[2,3,3], lim=10, save=1, case='medium_all_variance')\n"
     ]
    },
    {
     "name": "stdout",
     "output_type": "stream",
     "text": [
      "isotree 1_0_1 loaded, restructuring\n",
      "Splitting to tree and scaling\n",
      "48501\n",
      "36387\n",
      "36580\n",
      "Split done\n",
      "Making merger tree\n"
     ]
    },
    {
     "name": "stderr",
     "output_type": "stream",
     "text": [
      "100%|███████████████████████████████████████████████████████████| 1101/1101 [01:46<00:00, 10.31it/s]\n",
      "100%|█████████████████████████████████████████████████████████| 1101/1101 [00:00<00:00, 9695.52it/s]\n"
     ]
    },
    {
     "name": "stdout",
     "output_type": "stream",
     "text": [
      "Done with tree. \n",
      " Time elapsed 342.6323575973511 s\n",
      "Saving dataset\n",
      "Loading isotree 1_0_2\n"
     ]
    },
    {
     "name": "stderr",
     "output_type": "stream",
     "text": [
      "/tmp/ipykernel_4141/3961725145.py:4: DtypeWarning: Columns (0,1,2,3,4,5,6,7,8,10,11,12,13,14,15,16,17,18,19,20,21,22,23,24) have mixed types.Specify dtype option on import or set low_memory=False.\n",
      "  dat, sizes=graph_variance(tcols=all_cols, maxs=[2,3,3], lim=10, save=1, case='medium_all_variance')\n"
     ]
    },
    {
     "name": "stdout",
     "output_type": "stream",
     "text": [
      "isotree 1_0_2 loaded, restructuring\n",
      "Splitting to tree and scaling\n",
      "Split done\n",
      "Making merger tree\n"
     ]
    },
    {
     "name": "stderr",
     "output_type": "stream",
     "text": [
      "100%|█████████████████████████████████████████████████████████████| 668/668 [00:41<00:00, 16.21it/s]\n",
      "100%|██████████████████████████████████████████████████████████| 668/668 [00:00<00:00, 11090.42it/s]\n"
     ]
    },
    {
     "name": "stdout",
     "output_type": "stream",
     "text": [
      "Done with tree. \n",
      " Time elapsed 152.8999946117401 s\n",
      "Saving dataset\n",
      "Loading isotree 1_1_0\n"
     ]
    },
    {
     "name": "stderr",
     "output_type": "stream",
     "text": [
      "/tmp/ipykernel_4141/3961725145.py:4: DtypeWarning: Columns (0,1,2,3,4,5,6,7,8,10,11,12,13,14,15,16,17,18,19,20,21,22,23,24) have mixed types.Specify dtype option on import or set low_memory=False.\n",
      "  dat, sizes=graph_variance(tcols=all_cols, maxs=[2,3,3], lim=10, save=1, case='medium_all_variance')\n"
     ]
    },
    {
     "name": "stdout",
     "output_type": "stream",
     "text": [
      "isotree 1_1_0 loaded, restructuring\n",
      "Splitting to tree and scaling\n",
      "Split done\n",
      "Making merger tree\n"
     ]
    },
    {
     "name": "stderr",
     "output_type": "stream",
     "text": [
      "100%|█████████████████████████████████████████████████████████████| 899/899 [01:18<00:00, 11.42it/s]\n",
      "100%|██████████████████████████████████████████████████████████| 899/899 [00:00<00:00, 10344.03it/s]\n"
     ]
    },
    {
     "name": "stdout",
     "output_type": "stream",
     "text": [
      "Done with tree. \n",
      " Time elapsed 227.52488923072815 s\n",
      "Saving dataset\n",
      "Loading isotree 1_1_1\n"
     ]
    },
    {
     "name": "stderr",
     "output_type": "stream",
     "text": [
      "/tmp/ipykernel_4141/3961725145.py:4: DtypeWarning: Columns (0,1,2,3,4,5,6,7,8,10,11,12,13,14,15,16,17,18,19,20,21,22,23,24) have mixed types.Specify dtype option on import or set low_memory=False.\n",
      "  dat, sizes=graph_variance(tcols=all_cols, maxs=[2,3,3], lim=10, save=1, case='medium_all_variance')\n"
     ]
    },
    {
     "name": "stdout",
     "output_type": "stream",
     "text": [
      "isotree 1_1_1 loaded, restructuring\n",
      "Splitting to tree and scaling\n",
      "Split done\n",
      "Making merger tree\n"
     ]
    },
    {
     "name": "stderr",
     "output_type": "stream",
     "text": [
      "100%|███████████████████████████████████████████████████████████| 1033/1033 [01:50<00:00,  9.34it/s]\n",
      "100%|█████████████████████████████████████████████████████████| 1033/1033 [00:00<00:00, 8013.00it/s]\n"
     ]
    },
    {
     "name": "stdout",
     "output_type": "stream",
     "text": [
      "Done with tree. \n",
      " Time elapsed 306.497652053833 s\n",
      "Saving dataset\n",
      "Loading isotree 1_1_2\n"
     ]
    },
    {
     "name": "stderr",
     "output_type": "stream",
     "text": [
      "/tmp/ipykernel_4141/3961725145.py:4: DtypeWarning: Columns (0,1,2,3,4,5,6,7,8,10,11,12,13,14,15,16,17,18,19,20,21,22,23,24) have mixed types.Specify dtype option on import or set low_memory=False.\n",
      "  dat, sizes=graph_variance(tcols=all_cols, maxs=[2,3,3], lim=10, save=1, case='medium_all_variance')\n"
     ]
    },
    {
     "name": "stdout",
     "output_type": "stream",
     "text": [
      "isotree 1_1_2 loaded, restructuring\n",
      "Splitting to tree and scaling\n",
      "51944\n",
      "Split done\n",
      "Making merger tree\n"
     ]
    },
    {
     "name": "stderr",
     "output_type": "stream",
     "text": [
      "100%|███████████████████████████████████████████████████████████| 1286/1286 [02:20<00:00,  9.15it/s]\n",
      "100%|█████████████████████████████████████████████████████████| 1286/1286 [00:00<00:00, 4562.50it/s]\n"
     ]
    },
    {
     "name": "stdout",
     "output_type": "stream",
     "text": [
      "Done with tree. \n",
      " Time elapsed 405.7639148235321 s\n",
      "Saving dataset\n",
      "Loading isotree 1_2_0\n"
     ]
    },
    {
     "name": "stderr",
     "output_type": "stream",
     "text": [
      "/tmp/ipykernel_4141/3961725145.py:4: DtypeWarning: Columns (0,1,2,3,4,5,6,7,8,10,11,12,13,14,15,16,17,18,19,20,21,22,23,24) have mixed types.Specify dtype option on import or set low_memory=False.\n",
      "  dat, sizes=graph_variance(tcols=all_cols, maxs=[2,3,3], lim=10, save=1, case='medium_all_variance')\n"
     ]
    },
    {
     "name": "stdout",
     "output_type": "stream",
     "text": [
      "isotree 1_2_0 loaded, restructuring\n",
      "Splitting to tree and scaling\n",
      "Split done\n",
      "Making merger tree\n"
     ]
    },
    {
     "name": "stderr",
     "output_type": "stream",
     "text": [
      "100%|█████████████████████████████████████████████████████████████| 664/664 [00:42<00:00, 15.66it/s]\n",
      "100%|██████████████████████████████████████████████████████████| 664/664 [00:00<00:00, 11208.89it/s]\n"
     ]
    },
    {
     "name": "stdout",
     "output_type": "stream",
     "text": [
      "Done with tree. \n",
      " Time elapsed 160.79481983184814 s\n",
      "Saving dataset\n",
      "Loading isotree 1_2_1\n"
     ]
    },
    {
     "name": "stderr",
     "output_type": "stream",
     "text": [
      "/tmp/ipykernel_4141/3961725145.py:4: DtypeWarning: Columns (0,1,2,3,4,5,6,7,8,10,11,12,13,14,15,16,17,18,19,20,21,22,23,24) have mixed types.Specify dtype option on import or set low_memory=False.\n",
      "  dat, sizes=graph_variance(tcols=all_cols, maxs=[2,3,3], lim=10, save=1, case='medium_all_variance')\n"
     ]
    },
    {
     "name": "stdout",
     "output_type": "stream",
     "text": [
      "isotree 1_2_1 loaded, restructuring\n",
      "Splitting to tree and scaling\n",
      "Split done\n",
      "Making merger tree\n"
     ]
    },
    {
     "name": "stderr",
     "output_type": "stream",
     "text": [
      "100%|█████████████████████████████████████████████████████████████| 509/509 [00:10<00:00, 49.31it/s]\n",
      "100%|██████████████████████████████████████████████████████████| 509/509 [00:00<00:00, 15313.06it/s]\n"
     ]
    },
    {
     "name": "stdout",
     "output_type": "stream",
     "text": [
      "Done with tree. \n",
      " Time elapsed 90.31139779090881 s\n",
      "Saving dataset\n",
      "Loading isotree 1_2_2\n"
     ]
    },
    {
     "name": "stderr",
     "output_type": "stream",
     "text": [
      "/tmp/ipykernel_4141/3961725145.py:4: DtypeWarning: Columns (0,1,2,3,4,5,6,7,8,10,11,12,13,14,15,16,17,18,19,20,21,22,23,24) have mixed types.Specify dtype option on import or set low_memory=False.\n",
      "  dat, sizes=graph_variance(tcols=all_cols, maxs=[2,3,3], lim=10, save=1, case='medium_all_variance')\n"
     ]
    },
    {
     "name": "stdout",
     "output_type": "stream",
     "text": [
      "isotree 1_2_2 loaded, restructuring\n",
      "Splitting to tree and scaling\n",
      "33451\n",
      "225562\n",
      "133989\n",
      "Split done\n",
      "Making merger tree\n"
     ]
    },
    {
     "name": "stderr",
     "output_type": "stream",
     "text": [
      "100%|███████████████████████████████████████████████████████████| 1816/1816 [01:25<00:00, 21.36it/s]\n",
      "100%|████████████████████████████████████████████████████████| 1816/1816 [00:00<00:00, 10212.93it/s]\n"
     ]
    },
    {
     "name": "stdout",
     "output_type": "stream",
     "text": [
      "Done with tree. \n",
      " Time elapsed 514.9570362567902 s\n",
      "Saving dataset\n"
     ]
    },
    {
     "name": "stderr",
     "output_type": "stream",
     "text": [
      "/tmp/ipykernel_4141/1918234335.py:191: VisibleDeprecationWarning: Creating an ndarray from ragged nested sequences (which is a list-or-tuple of lists-or-tuples-or ndarrays with different lengths or shapes) is deprecated. If you meant to do this, you must specify 'dtype=object' when creating the ndarray.\n",
      "  pickle.dump(np.array(siz), handle)\n"
     ]
    }
   ],
   "source": [
    "all_cols=np.array([0,2,4,5,6,7,8,10,11,12,13,14,15,16,17,18,19,20,21,22,23,24,25,35]+list(range(37,60)))\n",
    "# all_cols=np.array([0,2,4,6,7,8,10,11,12,13,14,15,16,17,18,19,22,23,25,35]+list(range(37,60)))\n",
    "\n",
    "dat, sizes=graph_variance(tcols=all_cols, maxs=[2,3,3], lim=10, save=1, case='medium_all_variance')"
   ]
  },
  {
   "cell_type": "code",
   "execution_count": null,
   "id": "794785c4",
   "metadata": {},
   "outputs": [],
   "source": [
    "ys=[]\n",
    "xs=[]\n",
    "y2=[]\n",
    "ea=[]\n",
    "ls=[]\n",
    "for d in dat:\n",
    "    ys.append(d.y.numpy())\n",
    "    xs.append(d.x.numpy())\n",
    "    ls.append(len(d.x.numpy())-1)\n",
    "    y2.append(np.std(d.x.numpy()[:,2]))\n",
    "    ea.append(len(d.edge_attr))"
   ]
  },
  {
   "cell_type": "code",
   "execution_count": null,
   "id": "50ac173c",
   "metadata": {},
   "outputs": [],
   "source": [
    "plt.plot(np.vstack(ls),np.vstack(y2), 'ro')"
   ]
  },
  {
   "cell_type": "code",
   "execution_count": 42,
   "id": "5605099a",
   "metadata": {},
   "outputs": [
    {
     "name": "stdout",
     "output_type": "stream",
     "text": [
      "Made graph\n",
      "drawing\n"
     ]
    },
    {
     "data": {
      "image/png": "[encoded data removed]",
      "text/plain": [
       "<Figure size 1080x576 with 1 Axes>"
      ]
     },
     "metadata": {},
     "output_type": "display_data"
    }
   ],
   "source": [
    "j=0\n",
    "from matplotlib import cm\n",
    "cmap=cm.get_cmap(name='magma')\n",
    "fig,ax=plt.subplots(figsize=(15,8))\n",
    "d=dat[j]\n",
    "d.num_nodes=dat[j].x.shape[0]\n",
    "G=tg.utils.to_networkx(d)\n",
    "di=nx.betweenness_centrality(G)\n",
    "for q,key in enumerate(di.keys()):\n",
    "    di[key]=dat[j].x.numpy()[q,2]\n",
    "nx.set_node_attributes(G, di, 'n_prog')\n",
    "print('Made graph')\n",
    "# G.remove_nodes_from(list(nx.isolates(G)))\n",
    "pos=nx.planar_layout(G)\n",
    "# pos=nx.kamada_kawai_layout(G) #this one is kinda snakey but works pretty well! Slow as hell though\n",
    "if G.number_of_nodes()<2000:\n",
    "    print('drawing')\n",
    "    nx.draw(G, pos=pos,ax=ax, node_size=8, arrowsize=5, cmap=cmap)"
   ]
  },
  {
   "cell_type": "code",
   "execution_count": 41,
   "id": "2b135f93",
   "metadata": {},
   "outputs": [
    {
     "data": {
      "image/png": "[encoded data removed]",
      "text/plain": [
       "<Figure size 1440x576 with 2 Axes>"
      ]
     },
     "metadata": {
      "needs_background": "light"
     },
     "output_type": "display_data"
    }
   ],
   "source": [
    "import matplotlib.pyplot as plt\n",
    "# create number for each group to allow use of colormap\n",
    "from itertools import count\n",
    "fig,ax=plt.subplots(figsize=(20,8))\n",
    "# get unique groups\n",
    "groups = set(nx.get_node_attributes(G,'n_prog').values())\n",
    "mapping = dict(zip(sorted(groups),count()))\n",
    "nodes = G.nodes()\n",
    "colors=dat[j].x.numpy()[:,2]\n",
    "sizes=(dat[j].x.numpy()[:,3]-min(dat[j].x.numpy()[:,3])+2)**2/10\n",
    "# drawing nodes and edges separately so we can capture collection for colobar\n",
    "pos = nx.planar_layout(G)\n",
    "pos[min(pos.keys())]=(pos[min(pos.keys())]*np.array([-0.75,1.1]))*1.1\n",
    "# pos[max(pos.keys())]=pos[max(pos.keys())]*np.array([0.9,-0.9])\n",
    "ec = nx.draw_networkx_edges(G, pos,arrowsize=10, ax=ax, alpha=0.4)\n",
    "nc = nx.draw_networkx_nodes(G, pos, ax=ax, nodelist=nodes, node_color=colors, node_size=sizes, cmap=plt.cm.jet)\n",
    "plt.colorbar(nc)\n",
    "plt.axis('off')\n",
    "plt.show()"
   ]
  },
  {
   "cell_type": "code",
   "execution_count": 24,
   "id": "abcc14aa",
   "metadata": {},
   "outputs": [],
   "source": [
    "pos[min(pos.keys())]=pos[min(pos.keys())]*np.array([0.9,-0.9])\n",
    "pos[max(pos.keys())]=pos[max(pos.keys())]*np.array([-0.9,0.9])"
   ]
  },
  {
   "cell_type": "code",
   "execution_count": 45,
   "id": "016b5063",
   "metadata": {},
   "outputs": [
    {
     "data": {
      "text/plain": [
       "array([ 5.1993375 ,  2.5117912 ,  2.2899878 ,  1.792374  ,  1.6896701 ,\n",
       "        1.5417962 ,  1.521525  ,  1.4752693 ,  1.4532796 ,  1.4319708 ,\n",
       "        1.1844468 ,  1.1570615 ,  0.77483284,  0.7364425 ,  0.69431055,\n",
       "        0.3884302 ,  0.324254  ,  0.2536062 ,  0.04643572, -0.44453385,\n",
       "       -0.5642668 , -0.75466424, -0.97748655, -1.1047469 ,  0.18547964,\n",
       "       -0.11315218, -1.5542696 , -1.3620783 , -1.8050231 , -2.183092  ,\n",
       "       -1.5542696 , -1.1047469 , -0.8625437 , -1.1047469 , -0.5642668 ,\n",
       "       -1.1047469 , -0.11315218, -0.5642668 , -1.5542696 , -0.6642872 ,\n",
       "       -0.03387984, -0.8625437 , -0.44453385, -0.5642668 , -0.5642668 ,\n",
       "        0.324254  ,  0.45424896,  1.3310177 , -1.1047469 , -0.2769978 ,\n",
       "        1.4532796 ,  1.0685216 ,  1.5843543 ,  1.0685216 ,  2.1440108 ,\n",
       "        1.9264032 ], dtype=float32)"
      ]
     },
     "execution_count": 45,
     "metadata": {},
     "output_type": "execute_result"
    }
   ],
   "source": [
    "dat[j].x.numpy()[:,0]"
   ]
  },
  {
   "cell_type": "code",
   "execution_count": null,
   "id": "ae74d2e1",
   "metadata": {},
   "outputs": [],
   "source": [
    "xs=[]\n",
    "ls=[]\n",
    "ys=[]\n",
    "for d in dat:\n",
    "    xs.append(d.x.numpy())\n",
    "    ys.append(d.y.numpy())\n",
    "    ls.append(len(d.x.numpy()))\n",
    "xs=np.vstack(xs)"
   ]
  },
  {
   "cell_type": "code",
   "execution_count": 135,
   "id": "825c451f",
   "metadata": {},
   "outputs": [
    {
     "data": {
      "text/plain": [
       "array([ 34. , 235.2])"
      ]
     },
     "execution_count": 135,
     "metadata": {},
     "output_type": "execute_result"
    },
    {
     "data": {
      "image/png": "[encoded data removed]",
      "text/plain": [
       "<Figure size 432x288 with 1 Axes>"
      ]
     },
     "metadata": {
      "needs_background": "light"
     },
     "output_type": "display_data"
    }
   ],
   "source": [
    "plt.hist(ls)\n",
    "np.quantile(ls, [0.25,0.9])"
   ]
  },
  {
   "cell_type": "code",
   "execution_count": 60,
   "id": "651525f8",
   "metadata": {},
   "outputs": [
    {
     "ename": "NameError",
     "evalue": "name 'ls' is not defined",
     "output_type": "error",
     "traceback": [
      "\u001b[0;31m---------------------------------------------------------------------------\u001b[0m",
      "\u001b[0;31mNameError\u001b[0m                                 Traceback (most recent call last)",
      "\u001b[0;32m/tmp/ipykernel_19277/605989902.py\u001b[0m in \u001b[0;36m<module>\u001b[0;34m\u001b[0m\n\u001b[0;32m----> 1\u001b[0;31m \u001b[0mplt\u001b[0m\u001b[0;34m.\u001b[0m\u001b[0mplot\u001b[0m\u001b[0;34m(\u001b[0m\u001b[0mls\u001b[0m\u001b[0;34m,\u001b[0m\u001b[0mys\u001b[0m\u001b[0;34m)\u001b[0m\u001b[0;34m\u001b[0m\u001b[0;34m\u001b[0m\u001b[0m\n\u001b[0m",
      "\u001b[0;31mNameError\u001b[0m: name 'ls' is not defined"
     ]
    }
   ],
   "source": [
    "plt.plot(ls,ys)"
   ]
  }
 ],
 "metadata": {
  "kernelspec": {
   "display_name": "Python 3 (ipykernel)",
   "language": "python",
   "name": "python3"
  },
  "language_info": {
   "codemirror_mode": {
    "name": "ipython",
    "version": 3
   },
   "file_extension": ".py",
   "mimetype": "text/x-python",
   "name": "python",
   "nbconvert_exporter": "python",
   "pygments_lexer": "ipython3",
   "version": "3.9.7"
  }
 },
 "nbformat": 4,
 "nbformat_minor": 5
}
